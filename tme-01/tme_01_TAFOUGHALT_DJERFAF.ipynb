{
  "cells": [
    {
      "cell_type": "markdown",
      "metadata": {
        "id": "JyS95fMeN6EN"
      },
      "source": [
        "IA & Data science (LU3IN0226) -- 2022-2023\n",
        "--------\n",
        "*&copy; Equipe pédagogique: Christophe Marsala, Olivier Schwander, Jean-Noël Vittaut.*\n"
      ]
    },
    {
      "cell_type": "markdown",
      "metadata": {
        "id": "SrSo1wYwN6EX"
      },
      "source": [
        "<font size=\"+1\" color=\"RED\">**[Q]**</font> **Indiquer dans la boîte ci-dessous vos noms et prénoms :**"
      ]
    },
    {
      "cell_type": "markdown",
      "metadata": {
        "id": "sCb11jstN6Eb"
      },
      "source": [
        "**Anyes TAFOUGHALT**\n",
        "\n",
        "**Ilyes DJERFAF**"
      ]
    },
    {
      "cell_type": "markdown",
      "metadata": {
        "id": "NdRSN5RiN6Ed"
      },
      "source": [
        "<font color=\"RED\" size=\"+1\">**[Q]**</font> **Renommer ce fichier ipython**\n",
        "\n",
        "Tout en haut de cette page, cliquer sur <tt>tme-01</tt> et rajouter à la suite de <tt>tme-01</tt> les noms des membres du binômes séparés par un tiret.\n",
        "\n",
        "Par exemple, pour le binôme Luke Skywalker et Han Solo, le nom de fichier devient : <pre>tme-01-Skywalker-Solo</pre>\n",
        "\n",
        "Penser à sauvegarder fréquemment le fichier en cours de travail :\n",
        "- soit en cliquant sur l'icône \"disquette\"\n",
        "- soit par la combinaison de touches [Ctrl]-S"
      ]
    },
    {
      "cell_type": "markdown",
      "metadata": {
        "id": "_e0CidnlN6Ee"
      },
      "source": [
        "<font color=\"RED\" size=\"+1\">IMPORTANT: soumission de votre fichier final</font>\n",
        "\n",
        "**Nom à donner au fichier à poster** : *Nom1_Nom2.ipynb* \n",
        "- *Nom1* et *Nom2* : noms des membres du binôme\n",
        "- ne pas compresser ou faire une archive: il faut rendre le fichier ipython tel quel, éventuellement, si vous avez d'autres fichiers vous les rendez séparément.\n",
        "\n",
        "**Echancier pour la soumission de votre compte-rendu:**\n",
        "- le compte-rendu d'une séance doit être remis obligatoirement <font color=\"RED\">avant le début de la séance suivante</font>.\n",
        "\n",
        "**Le compte-rendu est soumis sur la page Moodle.**"
      ]
    },
    {
      "cell_type": "markdown",
      "metadata": {
        "id": "y4t6CSx5N6Ef"
      },
      "source": [
        "## Semaine 1: structures de données\n"
      ]
    },
    {
      "cell_type": "markdown",
      "metadata": {
        "id": "VLmM9guKN6Eg"
      },
      "source": [
        "## Présentation ##\n",
        "\n",
        "### Objectifs de ce TME 1\n",
        "\n",
        "Le travail à réaliser est le suivant :\n",
        "- apprendre à utiliser jupyter notebook (cf doc: <https://docs.jupyter.org/en/latest/>).\n",
        "- se documenter sur les structures de données qui seront utilisées pour programmer tout au long du semestre: numpy et pandas.\n",
        "- implémenter des premières fonctions qui seront utiles ce semestre."
      ]
    },
    {
      "cell_type": "markdown",
      "metadata": {
        "id": "yQ49-SWGN6Eh"
      },
      "source": [
        "## Apprendre à utiliser jupyter notebook\n",
        "\n",
        "Ce document est dynamique: il est composé de \"boîtes\" qui peuvent être \"compilées\" par la commande \"Run Cells\" du menu \"Cell\" (ou bien en cliquant sur l'icône >| ou par la combinaison des touches [SHIFT][ENTREE]).\n",
        "\n",
        "Il y a **2 types principaux** de boîtes :\n",
        "- les boîtes \"Markdown\": tout ce qui est tapé dans ces boîtes est du texte qui sera rendu \"joliment\" après avoir été compilé. On peut y écrire des commandes en Latex pour définir des équations, et il reconnaît certaines balises HTML. En cliquant 2 fois dans une boîte Markdown compilée, on a accès à son contenu et on peut alors le modifier.\n",
        "- les boîtes \"Code\": dans ces boîtes, on écrit du code Python. La compilation de la boîte produit l'exécution de ce code Python et produit une boîte \"Out\" dans laquelle le résultat de la dernière commande est affiché. On peut y écrire tout code Python valide. Ce type de boîtes se reconnaît par \"In [n]\" inscrit à côté de leur coin haut gauche (\"n\" est un entier).\n",
        "\n",
        "Le type d'une boîte peut être modifié à l'aide du menu en haut de la page (juste au dessus du texte).\n",
        "\n",
        "L'icône \"+\" permet de créer une nouvelle boîte juste en dessous de la boîte active.\n",
        "\n",
        "L'icône avec les ciseaux permet d'effacer la boîte active (attention ! c'est **irréversible !**).\n",
        "\n",
        "Pour en savoir plus :\n",
        "- http://ipython.org/\n",
        "\n",
        "Vous pouvez aussi vous référer à la documentation Python:\n",
        "- https://www.python.org/\n",
        "\n",
        "\n",
        "Dans ce qui suit, les boîtes Markdown commençant par <font color=\"RED\" size=\"+1\">**[Q]**</font> posent des questions auxquelles il faut répondre dans la boîte qui suit directement (éventuellement, en créant des nouvelles boîtes de type \"Code\" ou \"Markdown\", à votre convenance).\n",
        "Certaines des boîtes \"Code\" à remplir sont suivies d'une sortie \"Out[.]:\" qui montre un exemple de résultat attendu. \n",
        "\n",
        "N'hésitez pas à créer de nouvelles boîtes \"Code\" ou \"Markdown\" dans ce document si vous en avez besoin (cela est même conseillé !).\n"
      ]
    },
    {
      "cell_type": "code",
      "execution_count": 1,
      "metadata": {
        "colab": {
          "base_uri": "https://localhost:8080/"
        },
        "id": "yhwLD3unN6El",
        "outputId": "df96778e-abc7-4fcf-9a7f-80c0f925ebcd"
      },
      "outputs": [
        {
          "name": "stdout",
          "output_type": "stream",
          "text": [
            "Un essai quelconque :\n"
          ]
        },
        {
          "data": {
            "text/plain": [
              "5"
            ]
          },
          "execution_count": 1,
          "metadata": {},
          "output_type": "execute_result"
        }
      ],
      "source": [
        "# exemple de boîte de code :\n",
        "#    --> sélectionner cette boîte (en cliquant à l'intérieur)\n",
        "#    --> effectuer \"Run Cells\" du Menu \"Cell\" (ou bien cliquer sur l'icône >|)\n",
        "# \n",
        "\n",
        "print(\"Un essai quelconque :\")\n",
        "2+3\n"
      ]
    },
    {
      "cell_type": "code",
      "execution_count": 2,
      "metadata": {
        "colab": {
          "base_uri": "https://localhost:8080/"
        },
        "id": "lLv9oASYN6Es",
        "outputId": "7403f5b1-bfeb-4a05-c75e-57c67b12538d"
      },
      "outputs": [
        {
          "name": "stdout",
          "output_type": "stream",
          "text": [
            "Version Python:  3.8.10 (default, Nov 14 2022, 12:59:47) \n",
            "[GCC 9.4.0]\n"
          ]
        }
      ],
      "source": [
        "import sys\n",
        "print(\"Version Python: \", sys.version)\n",
        "# Attention : la sortie dépend de votre ordinateur...\n"
      ]
    },
    {
      "cell_type": "markdown",
      "metadata": {
        "id": "OmQiAxvmN6Et"
      },
      "source": [
        "<font color=\"RED\" size=\"+1\">**[Q]**</font> Dans la boîte \"Code\" suivante, donner les instructions Python pour effectuer le calcul : \n",
        "$$-\\frac{1}{3}\\log_2(\\frac{1}{3})-\\frac{2}{3}\\log_2(\\frac{2}{3})$$\n",
        "\n",
        "Dont la valeur à trouver est :\n",
        "    0.9182958340544896"
      ]
    },
    {
      "cell_type": "code",
      "execution_count": 3,
      "metadata": {
        "colab": {
          "base_uri": "https://localhost:8080/"
        },
        "id": "6JYp1Wi8N6Eu",
        "outputId": "6a089bf4-ac48-4f46-ebd6-676965b9ed1c"
      },
      "outputs": [
        {
          "data": {
            "text/plain": [
              "0.9182958340544896"
            ]
          },
          "execution_count": 3,
          "metadata": {},
          "output_type": "execute_result"
        }
      ],
      "source": [
        "import math\n",
        "-1/3 * math.log2(1/3) - 2/3 * math.log2(2/3)"
      ]
    },
    {
      "cell_type": "markdown",
      "metadata": {
        "id": "pDo2pkAlN6Ew"
      },
      "source": [
        "<div class=\"alert alert-block alert-danger\">\n",
        "<font style=\"BACKGROUND-COLOR: lightgray\" color='red'> Important</font> :\n",
        "en lisant le texte d'un fichier jupyter sur votre ordinateur, pensez bien à exécuter les boîtes \"Code\" dans l'ordre de leur apparition. Toute la page se comporte comme une session Python unique et il pour exécuter certaines boîtes il est nécessaire que les précédentes aient été exécutées au préalable.\n",
        "    \n",
        "De même, vous pouvez réinitialiser complètement la session en cliquant sur Noyau et redémarrer.\n",
        "</div>"
      ]
    },
    {
      "cell_type": "markdown",
      "metadata": {
        "id": "EMok8ZuXN6Ex"
      },
      "source": [
        "<font color=\"RED\" size=\"+1\">**[Q]**</font> Dans la boîte \"Code\" suivante, écrire la fonction <tt>calcul</tt> qui, étant donné un réel $x$ de [0,1] rend la valeur du calcul $$-x\\log_2(x)-(1-x)\\log_2(1-x)$$ si $x\\not= 0$ et $x \\not= 1$ ou la valeur $0.0$ sinon."
      ]
    },
    {
      "cell_type": "code",
      "execution_count": 4,
      "metadata": {
        "id": "sPoLnBs-N6Ey"
      },
      "outputs": [],
      "source": [
        "def calcul(x):\n",
        "    if x == 0 or x == 1:\n",
        "        return 0\n",
        "    elif x < 0 or x > 1:\n",
        "        raise ValueError(\"Input must be between 0 and 1\")\n",
        "    else:\n",
        "        return - x * math.log2(x) - (1 - x) * math.log2(1 - x)"
      ]
    },
    {
      "cell_type": "code",
      "execution_count": 5,
      "metadata": {
        "colab": {
          "base_uri": "https://localhost:8080/"
        },
        "id": "5xAWcho4N6Ez",
        "outputId": "4d9f932c-7609-4c24-cc95-46e56625a329"
      },
      "outputs": [
        {
          "data": {
            "text/plain": [
              "0"
            ]
          },
          "execution_count": 5,
          "metadata": {},
          "output_type": "execute_result"
        }
      ],
      "source": [
        "calcul(0.0)"
      ]
    },
    {
      "cell_type": "code",
      "execution_count": 6,
      "metadata": {
        "colab": {
          "base_uri": "https://localhost:8080/"
        },
        "id": "3uet5KfCN6E0",
        "outputId": "bfb0fe27-3a8d-41dc-e56e-9712b46950c6"
      },
      "outputs": [
        {
          "data": {
            "text/plain": [
              "0.9182958340544896"
            ]
          },
          "execution_count": 6,
          "metadata": {},
          "output_type": "execute_result"
        }
      ],
      "source": [
        "calcul(1/3)"
      ]
    },
    {
      "cell_type": "code",
      "execution_count": 7,
      "metadata": {
        "colab": {
          "base_uri": "https://localhost:8080/"
        },
        "id": "7FHr-vakN6E1",
        "outputId": "e004bc8e-e0a4-4b62-865a-cf07c4165f16"
      },
      "outputs": [
        {
          "data": {
            "text/plain": [
              "1.0"
            ]
          },
          "execution_count": 7,
          "metadata": {},
          "output_type": "execute_result"
        }
      ],
      "source": [
        "calcul(0.5)"
      ]
    },
    {
      "cell_type": "markdown",
      "metadata": {
        "id": "S3x37XBWN6E3"
      },
      "source": [
        "## Documentation\n",
        "\n",
        "\n",
        "Dans un premier temps, et c'est un des objectifs de cette séance, vous devez prendre en main les libraries **numpy**, **pandas** et **matplotlib**:\n",
        "\n",
        "- Numpy = <http://scipy.github.io/old-wiki/pages/Tentative_NumPy_Tutorial>\n",
        "  ou bien <https://realpython.com/numpy-tutorial/>\n",
        "- Pandas = http://pandas.pydata.org/pandas-docs/stable/10min.html\n",
        "- Matplotlib = https://matplotlib.org/stable/index.html\n",
        "\n",
        "Lisez ces pages et pratiquez ces tutoriaux afin de bien vous familiariser avec ces outils."
      ]
    },
    {
      "cell_type": "markdown",
      "metadata": {
        "id": "upzFjvGwN6E5"
      },
      "source": [
        "<font color=\"RED\" size=\"+1\">**[Q]**</font> Donner dans la boîte suivante les grandes caractéristiques de chacunes de ces 3 librairies: A quoi servent-elles ? Que permettent-elles de représenter ? Quelle est leur utilité et leurs spécificités ? etc. etc.\n",
        "\n",
        "Donner des exemples de leurs utilisations spécifiques."
      ]
    },
    {
      "cell_type": "markdown",
      "metadata": {
        "id": "Y-tPOCFqXwiS"
      },
      "source": [
        "* **NumPy** est une librairie pour la manipulation de tableaux numériques en\n",
        "Python. Elle permet de faire des calculs mathématiques avancés sur des tableaux de données, tels que des calculs de matrices, de statistiques, etc.\n",
        "\n",
        "* **Matplotlib** est une librairie de visualisation de données en Python. Elle permet de créer des graphiques de toutes sortes, comme des histogrammes, des courbes, des nuages de points, etc. Elle est souvent utilisée pour visualiser des données scientifiques ou pour créer des graphiques.\n",
        "\n",
        "* **Pandas** est une librairie de manipulation de données en Python. Elle permet de manipuler des données dans des structures de données de tableaux (DataFrame) et de séries (Series) similaires à celles d'un tableur. Elle est utilisée pour l'analyse de données, la nettoyage de données, la transformation de données et la manipulation de données en grande quantité."
      ]
    },
    {
      "cell_type": "markdown",
      "metadata": {
        "id": "MpgL7hJrN6E7"
      },
      "source": [
        "<div class=\"alert alert-block alert-info\">\n",
        "    Pour utiliser les 3 librairies précédentes, vous devrez d'abord les importer dans Jupyter par les commandes données dans la boite suivante.\n",
        "\n",
        "Si une librairie n'est pas installée, une erreur peut se produire lors de son import. Il est alors nécessaire de l'installer. Par exemple, pour la librairie pandas sur les machines de la PPTI:\n",
        "- dans un terminal, exécuter la commande:\n",
        "    \n",
        "        pip install --user -U --proxy http://proxy:3128 pandas\n",
        "\n",
        "(le proxy n'est nécessaire que pour les salles machines, vous n'avez pas à l'utiliser sur vos machines personnelles).\n",
        "- une fois la librairie installée, il est nécessaire de relancer le noyau Python de Jupyter:\n",
        "    dans le menu de Jupyter tout en haut de la page, choisir \"<tt>Kernel -> restart</tt>\"\n",
        "</div>\n"
      ]
    },
    {
      "cell_type": "code",
      "execution_count": 8,
      "metadata": {
        "id": "V9mI9VUoN6E8"
      },
      "outputs": [],
      "source": [
        "import numpy as np\n",
        "import pandas as pd\n",
        "from datetime import datetime as dt\n",
        "import matplotlib.pyplot as plt\n",
        "%matplotlib inline  "
      ]
    },
    {
      "cell_type": "markdown",
      "metadata": {
        "id": "-4uCPABMN6E9"
      },
      "source": [
        "## Programmation et expérimentation ##\n",
        "\n",
        "Le jeu de données (ou *dataset*) qui sera utilisé dans cette séance pour valider vos fonctions correspond à des données concernant des prix dans différents états d'Amérique du Nord. \n",
        "\n",
        "\n",
        "La référence de ce dataset est disponible ici : <https://github.com/amitkaps/weed/blob/master/1-Acquire.ipynb>\n",
        "\n",
        "Ces données sont aussi fournies dans le fichier <tt>data-01.zip</tt> à télécharger sur le site Moodle.\n",
        "\n",
        "Elles se composent de trois fichiers:\n",
        "* <tt>\"data-01/Weed_Price.csv\"</tt>: prix par date et par état (pour trois qualités différentes)\n",
        "* <tt>\"data-01/Demographics_State.csv\"</tt>: informations démographiques sur chaque état\n",
        "* <tt>\"data-01/Population_State.csv\"</tt>: population de chaque état\n",
        "\n",
        "La première étape est de télécharger ces fichiers dans des dataframes pandas.\n",
        "\n",
        "Comme ce sont des fichiers <a href=\"https://fr.wikipedia.org/wiki/Comma-separated_values\"><tt>CSV</tt></a>, on utilise la librairie Pandas qui contient une fonction de lecture de ce type de fichiers."
      ]
    },
    {
      "cell_type": "code",
      "execution_count": 11,
      "metadata": {
        "id": "8YiRdDMtN6E-"
      },
      "outputs": [],
      "source": [
        "# Chargement des fichiers de données :\n",
        "\n",
        "prices_pd = pd.read_csv(\"data-01/Weed_Price.csv\", parse_dates=[-1])\n",
        "demography_pd = pd.read_csv(\"data-01/Demographics_State.csv\")\n",
        "population_pd = pd.read_csv(\"data-01/Population_State.csv\")"
      ]
    },
    {
      "cell_type": "markdown",
      "metadata": {
        "id": "VNtB1KrwN6E_"
      },
      "source": [
        "<font color=\"RED\" size=\"+1\">**[Q]**</font> **Des dataframes**\n",
        "Commencer par regarder la documentation de la fonction <tt>read_csv</tt> de la librairie Pandas. Que rend cette fonction (quel est le type de ce qui est rendu) ?"
      ]
    },
    {
      "cell_type": "markdown",
      "metadata": {
        "id": "rEsuHTaaN6FA"
      },
      "source": [
        "**La fonction read_csv() permet de lire un fichier CSV (Comma Separated Values) et de retourner un DataFrame. Un DataFrame est un tableau à 2 dimensions (une matrice) qui contient des lignes et des colonnes de données. Les colonnes ont des noms et les lignes ont des index et chaque ligne représente le même tuple.**"
      ]
    },
    {
      "cell_type": "markdown",
      "metadata": {
        "id": "7mtaudS2N6FA"
      },
      "source": [
        "<font color=\"RED\" size=\"+1\">**[Q]**</font> **Des dataframes**\n",
        "\n",
        "Les dataframes Pandas permettent de stocker ensemble des données dont les valeurs peuvent être différentes. Cela peut s'apparenter à une feuille Excel (ou Libreoffice) : chaque ligne correspond à une même donnée (un \"exemple\") et contient dans chaque colonne des valeurs qui peuvent être de différents types.\n",
        "\n",
        "Examiner le type des trois variables qui viennent d'être définies. Pour cela, utiliser la fonction <tt>type</tt> de Python: par exemple <tt>type(prices_pd)</tt>."
      ]
    },
    {
      "cell_type": "code",
      "execution_count": 12,
      "metadata": {
        "colab": {
          "base_uri": "https://localhost:8080/"
        },
        "id": "0_hot-3uN6FB",
        "outputId": "e2e0d616-9d63-40eb-f7f7-61a226fbe943"
      },
      "outputs": [
        {
          "data": {
            "text/plain": [
              "pandas.core.frame.DataFrame"
            ]
          },
          "execution_count": 12,
          "metadata": {},
          "output_type": "execute_result"
        }
      ],
      "source": [
        "# type de prices_pd:\n",
        "type(prices_pd)"
      ]
    },
    {
      "cell_type": "code",
      "execution_count": 13,
      "metadata": {
        "colab": {
          "base_uri": "https://localhost:8080/"
        },
        "id": "RM8F_R_sN6FC",
        "outputId": "651eb63b-fcd9-49a7-9bf1-0b2b684f3451"
      },
      "outputs": [
        {
          "data": {
            "text/plain": [
              "pandas.core.frame.DataFrame"
            ]
          },
          "execution_count": 13,
          "metadata": {},
          "output_type": "execute_result"
        }
      ],
      "source": [
        "# type de demography_pd\n",
        "type(demography_pd)\n"
      ]
    },
    {
      "cell_type": "code",
      "execution_count": 14,
      "metadata": {
        "colab": {
          "base_uri": "https://localhost:8080/"
        },
        "id": "fUiRZgyEN6FE",
        "outputId": "2c250380-ca83-4f9d-f10a-a93359cfbd2d"
      },
      "outputs": [
        {
          "data": {
            "text/plain": [
              "pandas.core.frame.DataFrame"
            ]
          },
          "execution_count": 14,
          "metadata": {},
          "output_type": "execute_result"
        }
      ],
      "source": [
        "# type de population_pd\n",
        "type(population_pd)\n"
      ]
    },
    {
      "cell_type": "markdown",
      "metadata": {
        "id": "0zRpiUBPN6FG"
      },
      "source": [
        "**Important**: chaque fois que vous utilisez une commande, regardez le type du résultat obtenu (liste, DataFrame, Series, array,...) cela vous permettra de savoir ce que vous pouvez appliquer sur ce résultat."
      ]
    },
    {
      "cell_type": "markdown",
      "metadata": {
        "id": "60pdI0VaN6FH"
      },
      "source": [
        "<font color=\"RED\" size=\"+1\">**[Q]**</font> **En savoir plus sur les données...**\n",
        "\n",
        "* Commencer par se familiariser avec les données en les visualisant et en affichant des exemples de lignes ou de colonnes que ces DataFrames contiennent. Pour cela, manipuler les fonctions des librairies que vous venez de découvrir (par exemple, <tt>head()</tt>, <tt>tail()</tt>, ...)."
      ]
    },
    {
      "cell_type": "code",
      "execution_count": 15,
      "metadata": {
        "colab": {
          "base_uri": "https://localhost:8080/",
          "height": 520
        },
        "id": "wrrb_iuAN6FI",
        "outputId": "bf74ec6f-5b9d-44bf-d919-6c6c2999ee13"
      },
      "outputs": [
        {
          "data": {
            "text/html": [
              "\n",
              "  <div id=\"df-e8659ae3-8067-48b0-999a-78b821947f66\">\n",
              "    <div class=\"colab-df-container\">\n",
              "      <div>\n",
              "<style scoped>\n",
              "    .dataframe tbody tr th:only-of-type {\n",
              "        vertical-align: middle;\n",
              "    }\n",
              "\n",
              "    .dataframe tbody tr th {\n",
              "        vertical-align: top;\n",
              "    }\n",
              "\n",
              "    .dataframe thead th {\n",
              "        text-align: right;\n",
              "    }\n",
              "</style>\n",
              "<table border=\"1\" class=\"dataframe\">\n",
              "  <thead>\n",
              "    <tr style=\"text-align: right;\">\n",
              "      <th></th>\n",
              "      <th>State</th>\n",
              "      <th>HighQ</th>\n",
              "      <th>HighQN</th>\n",
              "      <th>MedQ</th>\n",
              "      <th>MedQN</th>\n",
              "      <th>LowQ</th>\n",
              "      <th>LowQN</th>\n",
              "      <th>date</th>\n",
              "    </tr>\n",
              "  </thead>\n",
              "  <tbody>\n",
              "    <tr>\n",
              "      <th>0</th>\n",
              "      <td>Alabama</td>\n",
              "      <td>339.06</td>\n",
              "      <td>1042</td>\n",
              "      <td>198.64</td>\n",
              "      <td>933</td>\n",
              "      <td>149.49</td>\n",
              "      <td>123</td>\n",
              "      <td>2014-01-01</td>\n",
              "    </tr>\n",
              "    <tr>\n",
              "      <th>1</th>\n",
              "      <td>Alaska</td>\n",
              "      <td>288.75</td>\n",
              "      <td>252</td>\n",
              "      <td>260.60</td>\n",
              "      <td>297</td>\n",
              "      <td>388.58</td>\n",
              "      <td>26</td>\n",
              "      <td>2014-01-01</td>\n",
              "    </tr>\n",
              "    <tr>\n",
              "      <th>2</th>\n",
              "      <td>Arizona</td>\n",
              "      <td>303.31</td>\n",
              "      <td>1941</td>\n",
              "      <td>209.35</td>\n",
              "      <td>1625</td>\n",
              "      <td>189.45</td>\n",
              "      <td>222</td>\n",
              "      <td>2014-01-01</td>\n",
              "    </tr>\n",
              "    <tr>\n",
              "      <th>3</th>\n",
              "      <td>Arkansas</td>\n",
              "      <td>361.85</td>\n",
              "      <td>576</td>\n",
              "      <td>185.62</td>\n",
              "      <td>544</td>\n",
              "      <td>125.87</td>\n",
              "      <td>112</td>\n",
              "      <td>2014-01-01</td>\n",
              "    </tr>\n",
              "    <tr>\n",
              "      <th>4</th>\n",
              "      <td>California</td>\n",
              "      <td>248.78</td>\n",
              "      <td>12096</td>\n",
              "      <td>193.56</td>\n",
              "      <td>12812</td>\n",
              "      <td>192.92</td>\n",
              "      <td>778</td>\n",
              "      <td>2014-01-01</td>\n",
              "    </tr>\n",
              "    <tr>\n",
              "      <th>5</th>\n",
              "      <td>Colorado</td>\n",
              "      <td>236.31</td>\n",
              "      <td>2161</td>\n",
              "      <td>195.29</td>\n",
              "      <td>1728</td>\n",
              "      <td>213.50</td>\n",
              "      <td>128</td>\n",
              "      <td>2014-01-01</td>\n",
              "    </tr>\n",
              "    <tr>\n",
              "      <th>6</th>\n",
              "      <td>Connecticut</td>\n",
              "      <td>347.90</td>\n",
              "      <td>1294</td>\n",
              "      <td>273.97</td>\n",
              "      <td>1316</td>\n",
              "      <td>257.36</td>\n",
              "      <td>91</td>\n",
              "      <td>2014-01-01</td>\n",
              "    </tr>\n",
              "    <tr>\n",
              "      <th>7</th>\n",
              "      <td>Delaware</td>\n",
              "      <td>373.18</td>\n",
              "      <td>347</td>\n",
              "      <td>226.25</td>\n",
              "      <td>273</td>\n",
              "      <td>199.88</td>\n",
              "      <td>34</td>\n",
              "      <td>2014-01-01</td>\n",
              "    </tr>\n",
              "    <tr>\n",
              "      <th>8</th>\n",
              "      <td>District of Columbia</td>\n",
              "      <td>352.26</td>\n",
              "      <td>433</td>\n",
              "      <td>295.67</td>\n",
              "      <td>349</td>\n",
              "      <td>213.72</td>\n",
              "      <td>39</td>\n",
              "      <td>2014-01-01</td>\n",
              "    </tr>\n",
              "    <tr>\n",
              "      <th>9</th>\n",
              "      <td>Florida</td>\n",
              "      <td>306.43</td>\n",
              "      <td>6506</td>\n",
              "      <td>220.03</td>\n",
              "      <td>5237</td>\n",
              "      <td>158.26</td>\n",
              "      <td>514</td>\n",
              "      <td>2014-01-01</td>\n",
              "    </tr>\n",
              "    <tr>\n",
              "      <th>10</th>\n",
              "      <td>Georgia</td>\n",
              "      <td>332.21</td>\n",
              "      <td>3099</td>\n",
              "      <td>213.52</td>\n",
              "      <td>2269</td>\n",
              "      <td>153.45</td>\n",
              "      <td>229</td>\n",
              "      <td>2014-01-01</td>\n",
              "    </tr>\n",
              "    <tr>\n",
              "      <th>11</th>\n",
              "      <td>Hawaii</td>\n",
              "      <td>310.96</td>\n",
              "      <td>328</td>\n",
              "      <td>270.38</td>\n",
              "      <td>350</td>\n",
              "      <td>160.46</td>\n",
              "      <td>25</td>\n",
              "      <td>2014-01-01</td>\n",
              "    </tr>\n",
              "    <tr>\n",
              "      <th>12</th>\n",
              "      <td>Idaho</td>\n",
              "      <td>276.05</td>\n",
              "      <td>315</td>\n",
              "      <td>254.96</td>\n",
              "      <td>445</td>\n",
              "      <td>132.61</td>\n",
              "      <td>20</td>\n",
              "      <td>2014-01-01</td>\n",
              "    </tr>\n",
              "    <tr>\n",
              "      <th>13</th>\n",
              "      <td>Illinois</td>\n",
              "      <td>359.74</td>\n",
              "      <td>4008</td>\n",
              "      <td>287.23</td>\n",
              "      <td>3644</td>\n",
              "      <td>181.25</td>\n",
              "      <td>329</td>\n",
              "      <td>2014-01-01</td>\n",
              "    </tr>\n",
              "    <tr>\n",
              "      <th>14</th>\n",
              "      <td>Indiana</td>\n",
              "      <td>336.80</td>\n",
              "      <td>1665</td>\n",
              "      <td>206.24</td>\n",
              "      <td>1446</td>\n",
              "      <td>154.05</td>\n",
              "      <td>248</td>\n",
              "      <td>2014-01-01</td>\n",
              "    </tr>\n",
              "  </tbody>\n",
              "</table>\n",
              "</div>\n",
              "      <button class=\"colab-df-convert\" onclick=\"convertToInteractive('df-e8659ae3-8067-48b0-999a-78b821947f66')\"\n",
              "              title=\"Convert this dataframe to an interactive table.\"\n",
              "              style=\"display:none;\">\n",
              "        \n",
              "  <svg xmlns=\"http://www.w3.org/2000/svg\" height=\"24px\"viewBox=\"0 0 24 24\"\n",
              "       width=\"24px\">\n",
              "    <path d=\"M0 0h24v24H0V0z\" fill=\"none\"/>\n",
              "    <path d=\"M18.56 5.44l.94 2.06.94-2.06 2.06-.94-2.06-.94-.94-2.06-.94 2.06-2.06.94zm-11 1L8.5 8.5l.94-2.06 2.06-.94-2.06-.94L8.5 2.5l-.94 2.06-2.06.94zm10 10l.94 2.06.94-2.06 2.06-.94-2.06-.94-.94-2.06-.94 2.06-2.06.94z\"/><path d=\"M17.41 7.96l-1.37-1.37c-.4-.4-.92-.59-1.43-.59-.52 0-1.04.2-1.43.59L10.3 9.45l-7.72 7.72c-.78.78-.78 2.05 0 2.83L4 21.41c.39.39.9.59 1.41.59.51 0 1.02-.2 1.41-.59l7.78-7.78 2.81-2.81c.8-.78.8-2.07 0-2.86zM5.41 20L4 18.59l7.72-7.72 1.47 1.35L5.41 20z\"/>\n",
              "  </svg>\n",
              "      </button>\n",
              "      \n",
              "  <style>\n",
              "    .colab-df-container {\n",
              "      display:flex;\n",
              "      flex-wrap:wrap;\n",
              "      gap: 12px;\n",
              "    }\n",
              "\n",
              "    .colab-df-convert {\n",
              "      background-color: #E8F0FE;\n",
              "      border: none;\n",
              "      border-radius: 50%;\n",
              "      cursor: pointer;\n",
              "      display: none;\n",
              "      fill: #1967D2;\n",
              "      height: 32px;\n",
              "      padding: 0 0 0 0;\n",
              "      width: 32px;\n",
              "    }\n",
              "\n",
              "    .colab-df-convert:hover {\n",
              "      background-color: #E2EBFA;\n",
              "      box-shadow: 0px 1px 2px rgba(60, 64, 67, 0.3), 0px 1px 3px 1px rgba(60, 64, 67, 0.15);\n",
              "      fill: #174EA6;\n",
              "    }\n",
              "\n",
              "    [theme=dark] .colab-df-convert {\n",
              "      background-color: #3B4455;\n",
              "      fill: #D2E3FC;\n",
              "    }\n",
              "\n",
              "    [theme=dark] .colab-df-convert:hover {\n",
              "      background-color: #434B5C;\n",
              "      box-shadow: 0px 1px 3px 1px rgba(0, 0, 0, 0.15);\n",
              "      filter: drop-shadow(0px 1px 2px rgba(0, 0, 0, 0.3));\n",
              "      fill: #FFFFFF;\n",
              "    }\n",
              "  </style>\n",
              "\n",
              "      <script>\n",
              "        const buttonEl =\n",
              "          document.querySelector('#df-e8659ae3-8067-48b0-999a-78b821947f66 button.colab-df-convert');\n",
              "        buttonEl.style.display =\n",
              "          google.colab.kernel.accessAllowed ? 'block' : 'none';\n",
              "\n",
              "        async function convertToInteractive(key) {\n",
              "          const element = document.querySelector('#df-e8659ae3-8067-48b0-999a-78b821947f66');\n",
              "          const dataTable =\n",
              "            await google.colab.kernel.invokeFunction('convertToInteractive',\n",
              "                                                     [key], {});\n",
              "          if (!dataTable) return;\n",
              "\n",
              "          const docLinkHtml = 'Like what you see? Visit the ' +\n",
              "            '<a target=\"_blank\" href=https://colab.research.google.com/notebooks/data_table.ipynb>data table notebook</a>'\n",
              "            + ' to learn more about interactive tables.';\n",
              "          element.innerHTML = '';\n",
              "          dataTable['output_type'] = 'display_data';\n",
              "          await google.colab.output.renderOutput(dataTable, element);\n",
              "          const docLink = document.createElement('div');\n",
              "          docLink.innerHTML = docLinkHtml;\n",
              "          element.appendChild(docLink);\n",
              "        }\n",
              "      </script>\n",
              "    </div>\n",
              "  </div>\n",
              "  "
            ],
            "text/plain": [
              "                   State   HighQ  HighQN    MedQ  MedQN    LowQ  LowQN  \\\n",
              "0                Alabama  339.06    1042  198.64    933  149.49    123   \n",
              "1                 Alaska  288.75     252  260.60    297  388.58     26   \n",
              "2                Arizona  303.31    1941  209.35   1625  189.45    222   \n",
              "3               Arkansas  361.85     576  185.62    544  125.87    112   \n",
              "4             California  248.78   12096  193.56  12812  192.92    778   \n",
              "5               Colorado  236.31    2161  195.29   1728  213.50    128   \n",
              "6            Connecticut  347.90    1294  273.97   1316  257.36     91   \n",
              "7               Delaware  373.18     347  226.25    273  199.88     34   \n",
              "8   District of Columbia  352.26     433  295.67    349  213.72     39   \n",
              "9                Florida  306.43    6506  220.03   5237  158.26    514   \n",
              "10               Georgia  332.21    3099  213.52   2269  153.45    229   \n",
              "11                Hawaii  310.96     328  270.38    350  160.46     25   \n",
              "12                 Idaho  276.05     315  254.96    445  132.61     20   \n",
              "13              Illinois  359.74    4008  287.23   3644  181.25    329   \n",
              "14               Indiana  336.80    1665  206.24   1446  154.05    248   \n",
              "\n",
              "         date  \n",
              "0  2014-01-01  \n",
              "1  2014-01-01  \n",
              "2  2014-01-01  \n",
              "3  2014-01-01  \n",
              "4  2014-01-01  \n",
              "5  2014-01-01  \n",
              "6  2014-01-01  \n",
              "7  2014-01-01  \n",
              "8  2014-01-01  \n",
              "9  2014-01-01  \n",
              "10 2014-01-01  \n",
              "11 2014-01-01  \n",
              "12 2014-01-01  \n",
              "13 2014-01-01  \n",
              "14 2014-01-01  "
            ]
          },
          "execution_count": 15,
          "metadata": {},
          "output_type": "execute_result"
        }
      ],
      "source": [
        "# 15 premières lignes de prices_pd\n",
        "prices_pd.head(15)\n"
      ]
    },
    {
      "cell_type": "code",
      "execution_count": 16,
      "metadata": {
        "colab": {
          "base_uri": "https://localhost:8080/",
          "height": 269
        },
        "id": "uxo7JdErN6FK",
        "outputId": "6d361ebb-a4c0-4de6-c5ed-cd7408d48863"
      },
      "outputs": [
        {
          "data": {
            "text/html": [
              "\n",
              "  <div id=\"df-86018ba8-ae46-401a-b95e-38cea742b459\">\n",
              "    <div class=\"colab-df-container\">\n",
              "      <div>\n",
              "<style scoped>\n",
              "    .dataframe tbody tr th:only-of-type {\n",
              "        vertical-align: middle;\n",
              "    }\n",
              "\n",
              "    .dataframe tbody tr th {\n",
              "        vertical-align: top;\n",
              "    }\n",
              "\n",
              "    .dataframe thead th {\n",
              "        text-align: right;\n",
              "    }\n",
              "</style>\n",
              "<table border=\"1\" class=\"dataframe\">\n",
              "  <thead>\n",
              "    <tr style=\"text-align: right;\">\n",
              "      <th></th>\n",
              "      <th>State</th>\n",
              "      <th>HighQ</th>\n",
              "      <th>HighQN</th>\n",
              "      <th>MedQ</th>\n",
              "      <th>MedQN</th>\n",
              "      <th>LowQ</th>\n",
              "      <th>LowQN</th>\n",
              "      <th>date</th>\n",
              "    </tr>\n",
              "  </thead>\n",
              "  <tbody>\n",
              "    <tr>\n",
              "      <th>22892</th>\n",
              "      <td>Utah</td>\n",
              "      <td>290.42</td>\n",
              "      <td>959</td>\n",
              "      <td>238.08</td>\n",
              "      <td>1055</td>\n",
              "      <td>NaN</td>\n",
              "      <td>62</td>\n",
              "      <td>2014-12-31</td>\n",
              "    </tr>\n",
              "    <tr>\n",
              "      <th>22893</th>\n",
              "      <td>Vermont</td>\n",
              "      <td>371.23</td>\n",
              "      <td>357</td>\n",
              "      <td>308.86</td>\n",
              "      <td>367</td>\n",
              "      <td>NaN</td>\n",
              "      <td>32</td>\n",
              "      <td>2014-12-31</td>\n",
              "    </tr>\n",
              "    <tr>\n",
              "      <th>22894</th>\n",
              "      <td>Virginia</td>\n",
              "      <td>364.98</td>\n",
              "      <td>3513</td>\n",
              "      <td>293.12</td>\n",
              "      <td>3079</td>\n",
              "      <td>NaN</td>\n",
              "      <td>284</td>\n",
              "      <td>2014-12-31</td>\n",
              "    </tr>\n",
              "    <tr>\n",
              "      <th>22895</th>\n",
              "      <td>Washington</td>\n",
              "      <td>233.05</td>\n",
              "      <td>3337</td>\n",
              "      <td>189.92</td>\n",
              "      <td>3562</td>\n",
              "      <td>NaN</td>\n",
              "      <td>160</td>\n",
              "      <td>2014-12-31</td>\n",
              "    </tr>\n",
              "    <tr>\n",
              "      <th>22896</th>\n",
              "      <td>West Virginia</td>\n",
              "      <td>359.35</td>\n",
              "      <td>551</td>\n",
              "      <td>224.03</td>\n",
              "      <td>545</td>\n",
              "      <td>NaN</td>\n",
              "      <td>60</td>\n",
              "      <td>2014-12-31</td>\n",
              "    </tr>\n",
              "    <tr>\n",
              "      <th>22897</th>\n",
              "      <td>Wisconsin</td>\n",
              "      <td>350.52</td>\n",
              "      <td>2244</td>\n",
              "      <td>272.71</td>\n",
              "      <td>2221</td>\n",
              "      <td>NaN</td>\n",
              "      <td>167</td>\n",
              "      <td>2014-12-31</td>\n",
              "    </tr>\n",
              "    <tr>\n",
              "      <th>22898</th>\n",
              "      <td>Wyoming</td>\n",
              "      <td>322.27</td>\n",
              "      <td>131</td>\n",
              "      <td>351.86</td>\n",
              "      <td>197</td>\n",
              "      <td>NaN</td>\n",
              "      <td>12</td>\n",
              "      <td>2014-12-31</td>\n",
              "    </tr>\n",
              "  </tbody>\n",
              "</table>\n",
              "</div>\n",
              "      <button class=\"colab-df-convert\" onclick=\"convertToInteractive('df-86018ba8-ae46-401a-b95e-38cea742b459')\"\n",
              "              title=\"Convert this dataframe to an interactive table.\"\n",
              "              style=\"display:none;\">\n",
              "        \n",
              "  <svg xmlns=\"http://www.w3.org/2000/svg\" height=\"24px\"viewBox=\"0 0 24 24\"\n",
              "       width=\"24px\">\n",
              "    <path d=\"M0 0h24v24H0V0z\" fill=\"none\"/>\n",
              "    <path d=\"M18.56 5.44l.94 2.06.94-2.06 2.06-.94-2.06-.94-.94-2.06-.94 2.06-2.06.94zm-11 1L8.5 8.5l.94-2.06 2.06-.94-2.06-.94L8.5 2.5l-.94 2.06-2.06.94zm10 10l.94 2.06.94-2.06 2.06-.94-2.06-.94-.94-2.06-.94 2.06-2.06.94z\"/><path d=\"M17.41 7.96l-1.37-1.37c-.4-.4-.92-.59-1.43-.59-.52 0-1.04.2-1.43.59L10.3 9.45l-7.72 7.72c-.78.78-.78 2.05 0 2.83L4 21.41c.39.39.9.59 1.41.59.51 0 1.02-.2 1.41-.59l7.78-7.78 2.81-2.81c.8-.78.8-2.07 0-2.86zM5.41 20L4 18.59l7.72-7.72 1.47 1.35L5.41 20z\"/>\n",
              "  </svg>\n",
              "      </button>\n",
              "      \n",
              "  <style>\n",
              "    .colab-df-container {\n",
              "      display:flex;\n",
              "      flex-wrap:wrap;\n",
              "      gap: 12px;\n",
              "    }\n",
              "\n",
              "    .colab-df-convert {\n",
              "      background-color: #E8F0FE;\n",
              "      border: none;\n",
              "      border-radius: 50%;\n",
              "      cursor: pointer;\n",
              "      display: none;\n",
              "      fill: #1967D2;\n",
              "      height: 32px;\n",
              "      padding: 0 0 0 0;\n",
              "      width: 32px;\n",
              "    }\n",
              "\n",
              "    .colab-df-convert:hover {\n",
              "      background-color: #E2EBFA;\n",
              "      box-shadow: 0px 1px 2px rgba(60, 64, 67, 0.3), 0px 1px 3px 1px rgba(60, 64, 67, 0.15);\n",
              "      fill: #174EA6;\n",
              "    }\n",
              "\n",
              "    [theme=dark] .colab-df-convert {\n",
              "      background-color: #3B4455;\n",
              "      fill: #D2E3FC;\n",
              "    }\n",
              "\n",
              "    [theme=dark] .colab-df-convert:hover {\n",
              "      background-color: #434B5C;\n",
              "      box-shadow: 0px 1px 3px 1px rgba(0, 0, 0, 0.15);\n",
              "      filter: drop-shadow(0px 1px 2px rgba(0, 0, 0, 0.3));\n",
              "      fill: #FFFFFF;\n",
              "    }\n",
              "  </style>\n",
              "\n",
              "      <script>\n",
              "        const buttonEl =\n",
              "          document.querySelector('#df-86018ba8-ae46-401a-b95e-38cea742b459 button.colab-df-convert');\n",
              "        buttonEl.style.display =\n",
              "          google.colab.kernel.accessAllowed ? 'block' : 'none';\n",
              "\n",
              "        async function convertToInteractive(key) {\n",
              "          const element = document.querySelector('#df-86018ba8-ae46-401a-b95e-38cea742b459');\n",
              "          const dataTable =\n",
              "            await google.colab.kernel.invokeFunction('convertToInteractive',\n",
              "                                                     [key], {});\n",
              "          if (!dataTable) return;\n",
              "\n",
              "          const docLinkHtml = 'Like what you see? Visit the ' +\n",
              "            '<a target=\"_blank\" href=https://colab.research.google.com/notebooks/data_table.ipynb>data table notebook</a>'\n",
              "            + ' to learn more about interactive tables.';\n",
              "          element.innerHTML = '';\n",
              "          dataTable['output_type'] = 'display_data';\n",
              "          await google.colab.output.renderOutput(dataTable, element);\n",
              "          const docLink = document.createElement('div');\n",
              "          docLink.innerHTML = docLinkHtml;\n",
              "          element.appendChild(docLink);\n",
              "        }\n",
              "      </script>\n",
              "    </div>\n",
              "  </div>\n",
              "  "
            ],
            "text/plain": [
              "               State   HighQ  HighQN    MedQ  MedQN  LowQ  LowQN       date\n",
              "22892           Utah  290.42     959  238.08   1055   NaN     62 2014-12-31\n",
              "22893        Vermont  371.23     357  308.86    367   NaN     32 2014-12-31\n",
              "22894       Virginia  364.98    3513  293.12   3079   NaN    284 2014-12-31\n",
              "22895     Washington  233.05    3337  189.92   3562   NaN    160 2014-12-31\n",
              "22896  West Virginia  359.35     551  224.03    545   NaN     60 2014-12-31\n",
              "22897      Wisconsin  350.52    2244  272.71   2221   NaN    167 2014-12-31\n",
              "22898        Wyoming  322.27     131  351.86    197   NaN     12 2014-12-31"
            ]
          },
          "execution_count": 16,
          "metadata": {},
          "output_type": "execute_result"
        }
      ],
      "source": [
        "# 7 dernières lignes de prices_pd\n",
        "prices_pd.tail(7)\n"
      ]
    },
    {
      "cell_type": "markdown",
      "metadata": {
        "id": "ax0ziGysN6FL"
      },
      "source": [
        "<font color=\"RED\" size=\"+1\">**[Q]**</font> **Sélection de lignes et colonnes..**\n",
        "\n",
        "En utilisant les mécanismes de sélection qu'offrent les dataframes (slicing,...), donner les commandes permettant d'obtenir:\n",
        "1) seulement les lignes qui concernent l'état \"Hawaii\".\n",
        "\n",
        "2) seulement les valeurs des colonnes \"date\", \"HighQ\", et \"MedQ\", dans cet ordre, qui concernent les lignes de l'état \"Hawaii\".\n"
      ]
    },
    {
      "cell_type": "code",
      "execution_count": 17,
      "metadata": {
        "colab": {
          "base_uri": "https://localhost:8080/",
          "height": 424
        },
        "id": "XexneTkfN6FN",
        "outputId": "e5d8bc91-cc7e-4af2-c57d-e09c4a9bf09a"
      },
      "outputs": [
        {
          "data": {
            "text/html": [
              "\n",
              "  <div id=\"df-98c7c293-6899-4200-a7a3-7cbba73f35ef\">\n",
              "    <div class=\"colab-df-container\">\n",
              "      <div>\n",
              "<style scoped>\n",
              "    .dataframe tbody tr th:only-of-type {\n",
              "        vertical-align: middle;\n",
              "    }\n",
              "\n",
              "    .dataframe tbody tr th {\n",
              "        vertical-align: top;\n",
              "    }\n",
              "\n",
              "    .dataframe thead th {\n",
              "        text-align: right;\n",
              "    }\n",
              "</style>\n",
              "<table border=\"1\" class=\"dataframe\">\n",
              "  <thead>\n",
              "    <tr style=\"text-align: right;\">\n",
              "      <th></th>\n",
              "      <th>State</th>\n",
              "      <th>HighQ</th>\n",
              "      <th>HighQN</th>\n",
              "      <th>MedQ</th>\n",
              "      <th>MedQN</th>\n",
              "      <th>LowQ</th>\n",
              "      <th>LowQN</th>\n",
              "      <th>date</th>\n",
              "    </tr>\n",
              "  </thead>\n",
              "  <tbody>\n",
              "    <tr>\n",
              "      <th>11</th>\n",
              "      <td>Hawaii</td>\n",
              "      <td>310.96</td>\n",
              "      <td>328</td>\n",
              "      <td>270.38</td>\n",
              "      <td>350</td>\n",
              "      <td>160.46</td>\n",
              "      <td>25</td>\n",
              "      <td>2014-01-01</td>\n",
              "    </tr>\n",
              "    <tr>\n",
              "      <th>62</th>\n",
              "      <td>Hawaii</td>\n",
              "      <td>307.64</td>\n",
              "      <td>452</td>\n",
              "      <td>263.45</td>\n",
              "      <td>522</td>\n",
              "      <td>NaN</td>\n",
              "      <td>30</td>\n",
              "      <td>2015-01-01</td>\n",
              "    </tr>\n",
              "    <tr>\n",
              "      <th>113</th>\n",
              "      <td>Hawaii</td>\n",
              "      <td>307.76</td>\n",
              "      <td>338</td>\n",
              "      <td>272.99</td>\n",
              "      <td>370</td>\n",
              "      <td>162.11</td>\n",
              "      <td>26</td>\n",
              "      <td>2014-02-01</td>\n",
              "    </tr>\n",
              "    <tr>\n",
              "      <th>164</th>\n",
              "      <td>Hawaii</td>\n",
              "      <td>306.34</td>\n",
              "      <td>464</td>\n",
              "      <td>261.94</td>\n",
              "      <td>542</td>\n",
              "      <td>NaN</td>\n",
              "      <td>30</td>\n",
              "      <td>2015-02-01</td>\n",
              "    </tr>\n",
              "    <tr>\n",
              "      <th>215</th>\n",
              "      <td>Hawaii</td>\n",
              "      <td>307.96</td>\n",
              "      <td>353</td>\n",
              "      <td>274.35</td>\n",
              "      <td>382</td>\n",
              "      <td>167.62</td>\n",
              "      <td>27</td>\n",
              "      <td>2014-03-01</td>\n",
              "    </tr>\n",
              "    <tr>\n",
              "      <th>...</th>\n",
              "      <td>...</td>\n",
              "      <td>...</td>\n",
              "      <td>...</td>\n",
              "      <td>...</td>\n",
              "      <td>...</td>\n",
              "      <td>...</td>\n",
              "      <td>...</td>\n",
              "      <td>...</td>\n",
              "    </tr>\n",
              "    <tr>\n",
              "      <th>22655</th>\n",
              "      <td>Hawaii</td>\n",
              "      <td>309.64</td>\n",
              "      <td>408</td>\n",
              "      <td>265.58</td>\n",
              "      <td>455</td>\n",
              "      <td>174.23</td>\n",
              "      <td>29</td>\n",
              "      <td>2014-07-31</td>\n",
              "    </tr>\n",
              "    <tr>\n",
              "      <th>22706</th>\n",
              "      <td>Hawaii</td>\n",
              "      <td>310.00</td>\n",
              "      <td>417</td>\n",
              "      <td>267.17</td>\n",
              "      <td>467</td>\n",
              "      <td>NaN</td>\n",
              "      <td>29</td>\n",
              "      <td>2014-08-31</td>\n",
              "    </tr>\n",
              "    <tr>\n",
              "      <th>22757</th>\n",
              "      <td>Hawaii</td>\n",
              "      <td>310.97</td>\n",
              "      <td>426</td>\n",
              "      <td>267.10</td>\n",
              "      <td>482</td>\n",
              "      <td>NaN</td>\n",
              "      <td>29</td>\n",
              "      <td>2014-10-31</td>\n",
              "    </tr>\n",
              "    <tr>\n",
              "      <th>22808</th>\n",
              "      <td>Hawaii</td>\n",
              "      <td>310.96</td>\n",
              "      <td>328</td>\n",
              "      <td>270.38</td>\n",
              "      <td>350</td>\n",
              "      <td>160.46</td>\n",
              "      <td>25</td>\n",
              "      <td>2013-12-31</td>\n",
              "    </tr>\n",
              "    <tr>\n",
              "      <th>22859</th>\n",
              "      <td>Hawaii</td>\n",
              "      <td>307.64</td>\n",
              "      <td>452</td>\n",
              "      <td>263.45</td>\n",
              "      <td>522</td>\n",
              "      <td>NaN</td>\n",
              "      <td>30</td>\n",
              "      <td>2014-12-31</td>\n",
              "    </tr>\n",
              "  </tbody>\n",
              "</table>\n",
              "<p>449 rows × 8 columns</p>\n",
              "</div>\n",
              "      <button class=\"colab-df-convert\" onclick=\"convertToInteractive('df-98c7c293-6899-4200-a7a3-7cbba73f35ef')\"\n",
              "              title=\"Convert this dataframe to an interactive table.\"\n",
              "              style=\"display:none;\">\n",
              "        \n",
              "  <svg xmlns=\"http://www.w3.org/2000/svg\" height=\"24px\"viewBox=\"0 0 24 24\"\n",
              "       width=\"24px\">\n",
              "    <path d=\"M0 0h24v24H0V0z\" fill=\"none\"/>\n",
              "    <path d=\"M18.56 5.44l.94 2.06.94-2.06 2.06-.94-2.06-.94-.94-2.06-.94 2.06-2.06.94zm-11 1L8.5 8.5l.94-2.06 2.06-.94-2.06-.94L8.5 2.5l-.94 2.06-2.06.94zm10 10l.94 2.06.94-2.06 2.06-.94-2.06-.94-.94-2.06-.94 2.06-2.06.94z\"/><path d=\"M17.41 7.96l-1.37-1.37c-.4-.4-.92-.59-1.43-.59-.52 0-1.04.2-1.43.59L10.3 9.45l-7.72 7.72c-.78.78-.78 2.05 0 2.83L4 21.41c.39.39.9.59 1.41.59.51 0 1.02-.2 1.41-.59l7.78-7.78 2.81-2.81c.8-.78.8-2.07 0-2.86zM5.41 20L4 18.59l7.72-7.72 1.47 1.35L5.41 20z\"/>\n",
              "  </svg>\n",
              "      </button>\n",
              "      \n",
              "  <style>\n",
              "    .colab-df-container {\n",
              "      display:flex;\n",
              "      flex-wrap:wrap;\n",
              "      gap: 12px;\n",
              "    }\n",
              "\n",
              "    .colab-df-convert {\n",
              "      background-color: #E8F0FE;\n",
              "      border: none;\n",
              "      border-radius: 50%;\n",
              "      cursor: pointer;\n",
              "      display: none;\n",
              "      fill: #1967D2;\n",
              "      height: 32px;\n",
              "      padding: 0 0 0 0;\n",
              "      width: 32px;\n",
              "    }\n",
              "\n",
              "    .colab-df-convert:hover {\n",
              "      background-color: #E2EBFA;\n",
              "      box-shadow: 0px 1px 2px rgba(60, 64, 67, 0.3), 0px 1px 3px 1px rgba(60, 64, 67, 0.15);\n",
              "      fill: #174EA6;\n",
              "    }\n",
              "\n",
              "    [theme=dark] .colab-df-convert {\n",
              "      background-color: #3B4455;\n",
              "      fill: #D2E3FC;\n",
              "    }\n",
              "\n",
              "    [theme=dark] .colab-df-convert:hover {\n",
              "      background-color: #434B5C;\n",
              "      box-shadow: 0px 1px 3px 1px rgba(0, 0, 0, 0.15);\n",
              "      filter: drop-shadow(0px 1px 2px rgba(0, 0, 0, 0.3));\n",
              "      fill: #FFFFFF;\n",
              "    }\n",
              "  </style>\n",
              "\n",
              "      <script>\n",
              "        const buttonEl =\n",
              "          document.querySelector('#df-98c7c293-6899-4200-a7a3-7cbba73f35ef button.colab-df-convert');\n",
              "        buttonEl.style.display =\n",
              "          google.colab.kernel.accessAllowed ? 'block' : 'none';\n",
              "\n",
              "        async function convertToInteractive(key) {\n",
              "          const element = document.querySelector('#df-98c7c293-6899-4200-a7a3-7cbba73f35ef');\n",
              "          const dataTable =\n",
              "            await google.colab.kernel.invokeFunction('convertToInteractive',\n",
              "                                                     [key], {});\n",
              "          if (!dataTable) return;\n",
              "\n",
              "          const docLinkHtml = 'Like what you see? Visit the ' +\n",
              "            '<a target=\"_blank\" href=https://colab.research.google.com/notebooks/data_table.ipynb>data table notebook</a>'\n",
              "            + ' to learn more about interactive tables.';\n",
              "          element.innerHTML = '';\n",
              "          dataTable['output_type'] = 'display_data';\n",
              "          await google.colab.output.renderOutput(dataTable, element);\n",
              "          const docLink = document.createElement('div');\n",
              "          docLink.innerHTML = docLinkHtml;\n",
              "          element.appendChild(docLink);\n",
              "        }\n",
              "      </script>\n",
              "    </div>\n",
              "  </div>\n",
              "  "
            ],
            "text/plain": [
              "        State   HighQ  HighQN    MedQ  MedQN    LowQ  LowQN       date\n",
              "11     Hawaii  310.96     328  270.38    350  160.46     25 2014-01-01\n",
              "62     Hawaii  307.64     452  263.45    522     NaN     30 2015-01-01\n",
              "113    Hawaii  307.76     338  272.99    370  162.11     26 2014-02-01\n",
              "164    Hawaii  306.34     464  261.94    542     NaN     30 2015-02-01\n",
              "215    Hawaii  307.96     353  274.35    382  167.62     27 2014-03-01\n",
              "...       ...     ...     ...     ...    ...     ...    ...        ...\n",
              "22655  Hawaii  309.64     408  265.58    455  174.23     29 2014-07-31\n",
              "22706  Hawaii  310.00     417  267.17    467     NaN     29 2014-08-31\n",
              "22757  Hawaii  310.97     426  267.10    482     NaN     29 2014-10-31\n",
              "22808  Hawaii  310.96     328  270.38    350  160.46     25 2013-12-31\n",
              "22859  Hawaii  307.64     452  263.45    522     NaN     30 2014-12-31\n",
              "\n",
              "[449 rows x 8 columns]"
            ]
          },
          "execution_count": 17,
          "metadata": {},
          "output_type": "execute_result"
        }
      ],
      "source": [
        "# Les lignes concernant l'état \"Hawaii\"\n",
        "prices_pd.loc[prices_pd['State'] == 'Hawaii']\n"
      ]
    },
    {
      "cell_type": "code",
      "execution_count": 18,
      "metadata": {
        "colab": {
          "base_uri": "https://localhost:8080/",
          "height": 424
        },
        "id": "UspU0uBbN6FP",
        "outputId": "df2c51a0-1d75-4373-ce07-702b97b6c490"
      },
      "outputs": [
        {
          "data": {
            "text/html": [
              "\n",
              "  <div id=\"df-73dc8f57-424b-499c-a97c-e65504bfa10f\">\n",
              "    <div class=\"colab-df-container\">\n",
              "      <div>\n",
              "<style scoped>\n",
              "    .dataframe tbody tr th:only-of-type {\n",
              "        vertical-align: middle;\n",
              "    }\n",
              "\n",
              "    .dataframe tbody tr th {\n",
              "        vertical-align: top;\n",
              "    }\n",
              "\n",
              "    .dataframe thead th {\n",
              "        text-align: right;\n",
              "    }\n",
              "</style>\n",
              "<table border=\"1\" class=\"dataframe\">\n",
              "  <thead>\n",
              "    <tr style=\"text-align: right;\">\n",
              "      <th></th>\n",
              "      <th>date</th>\n",
              "      <th>HighQ</th>\n",
              "      <th>MedQ</th>\n",
              "    </tr>\n",
              "  </thead>\n",
              "  <tbody>\n",
              "    <tr>\n",
              "      <th>11</th>\n",
              "      <td>2014-01-01</td>\n",
              "      <td>310.96</td>\n",
              "      <td>270.38</td>\n",
              "    </tr>\n",
              "    <tr>\n",
              "      <th>62</th>\n",
              "      <td>2015-01-01</td>\n",
              "      <td>307.64</td>\n",
              "      <td>263.45</td>\n",
              "    </tr>\n",
              "    <tr>\n",
              "      <th>113</th>\n",
              "      <td>2014-02-01</td>\n",
              "      <td>307.76</td>\n",
              "      <td>272.99</td>\n",
              "    </tr>\n",
              "    <tr>\n",
              "      <th>164</th>\n",
              "      <td>2015-02-01</td>\n",
              "      <td>306.34</td>\n",
              "      <td>261.94</td>\n",
              "    </tr>\n",
              "    <tr>\n",
              "      <th>215</th>\n",
              "      <td>2014-03-01</td>\n",
              "      <td>307.96</td>\n",
              "      <td>274.35</td>\n",
              "    </tr>\n",
              "    <tr>\n",
              "      <th>...</th>\n",
              "      <td>...</td>\n",
              "      <td>...</td>\n",
              "      <td>...</td>\n",
              "    </tr>\n",
              "    <tr>\n",
              "      <th>22655</th>\n",
              "      <td>2014-07-31</td>\n",
              "      <td>309.64</td>\n",
              "      <td>265.58</td>\n",
              "    </tr>\n",
              "    <tr>\n",
              "      <th>22706</th>\n",
              "      <td>2014-08-31</td>\n",
              "      <td>310.00</td>\n",
              "      <td>267.17</td>\n",
              "    </tr>\n",
              "    <tr>\n",
              "      <th>22757</th>\n",
              "      <td>2014-10-31</td>\n",
              "      <td>310.97</td>\n",
              "      <td>267.10</td>\n",
              "    </tr>\n",
              "    <tr>\n",
              "      <th>22808</th>\n",
              "      <td>2013-12-31</td>\n",
              "      <td>310.96</td>\n",
              "      <td>270.38</td>\n",
              "    </tr>\n",
              "    <tr>\n",
              "      <th>22859</th>\n",
              "      <td>2014-12-31</td>\n",
              "      <td>307.64</td>\n",
              "      <td>263.45</td>\n",
              "    </tr>\n",
              "  </tbody>\n",
              "</table>\n",
              "<p>449 rows × 3 columns</p>\n",
              "</div>\n",
              "      <button class=\"colab-df-convert\" onclick=\"convertToInteractive('df-73dc8f57-424b-499c-a97c-e65504bfa10f')\"\n",
              "              title=\"Convert this dataframe to an interactive table.\"\n",
              "              style=\"display:none;\">\n",
              "        \n",
              "  <svg xmlns=\"http://www.w3.org/2000/svg\" height=\"24px\"viewBox=\"0 0 24 24\"\n",
              "       width=\"24px\">\n",
              "    <path d=\"M0 0h24v24H0V0z\" fill=\"none\"/>\n",
              "    <path d=\"M18.56 5.44l.94 2.06.94-2.06 2.06-.94-2.06-.94-.94-2.06-.94 2.06-2.06.94zm-11 1L8.5 8.5l.94-2.06 2.06-.94-2.06-.94L8.5 2.5l-.94 2.06-2.06.94zm10 10l.94 2.06.94-2.06 2.06-.94-2.06-.94-.94-2.06-.94 2.06-2.06.94z\"/><path d=\"M17.41 7.96l-1.37-1.37c-.4-.4-.92-.59-1.43-.59-.52 0-1.04.2-1.43.59L10.3 9.45l-7.72 7.72c-.78.78-.78 2.05 0 2.83L4 21.41c.39.39.9.59 1.41.59.51 0 1.02-.2 1.41-.59l7.78-7.78 2.81-2.81c.8-.78.8-2.07 0-2.86zM5.41 20L4 18.59l7.72-7.72 1.47 1.35L5.41 20z\"/>\n",
              "  </svg>\n",
              "      </button>\n",
              "      \n",
              "  <style>\n",
              "    .colab-df-container {\n",
              "      display:flex;\n",
              "      flex-wrap:wrap;\n",
              "      gap: 12px;\n",
              "    }\n",
              "\n",
              "    .colab-df-convert {\n",
              "      background-color: #E8F0FE;\n",
              "      border: none;\n",
              "      border-radius: 50%;\n",
              "      cursor: pointer;\n",
              "      display: none;\n",
              "      fill: #1967D2;\n",
              "      height: 32px;\n",
              "      padding: 0 0 0 0;\n",
              "      width: 32px;\n",
              "    }\n",
              "\n",
              "    .colab-df-convert:hover {\n",
              "      background-color: #E2EBFA;\n",
              "      box-shadow: 0px 1px 2px rgba(60, 64, 67, 0.3), 0px 1px 3px 1px rgba(60, 64, 67, 0.15);\n",
              "      fill: #174EA6;\n",
              "    }\n",
              "\n",
              "    [theme=dark] .colab-df-convert {\n",
              "      background-color: #3B4455;\n",
              "      fill: #D2E3FC;\n",
              "    }\n",
              "\n",
              "    [theme=dark] .colab-df-convert:hover {\n",
              "      background-color: #434B5C;\n",
              "      box-shadow: 0px 1px 3px 1px rgba(0, 0, 0, 0.15);\n",
              "      filter: drop-shadow(0px 1px 2px rgba(0, 0, 0, 0.3));\n",
              "      fill: #FFFFFF;\n",
              "    }\n",
              "  </style>\n",
              "\n",
              "      <script>\n",
              "        const buttonEl =\n",
              "          document.querySelector('#df-73dc8f57-424b-499c-a97c-e65504bfa10f button.colab-df-convert');\n",
              "        buttonEl.style.display =\n",
              "          google.colab.kernel.accessAllowed ? 'block' : 'none';\n",
              "\n",
              "        async function convertToInteractive(key) {\n",
              "          const element = document.querySelector('#df-73dc8f57-424b-499c-a97c-e65504bfa10f');\n",
              "          const dataTable =\n",
              "            await google.colab.kernel.invokeFunction('convertToInteractive',\n",
              "                                                     [key], {});\n",
              "          if (!dataTable) return;\n",
              "\n",
              "          const docLinkHtml = 'Like what you see? Visit the ' +\n",
              "            '<a target=\"_blank\" href=https://colab.research.google.com/notebooks/data_table.ipynb>data table notebook</a>'\n",
              "            + ' to learn more about interactive tables.';\n",
              "          element.innerHTML = '';\n",
              "          dataTable['output_type'] = 'display_data';\n",
              "          await google.colab.output.renderOutput(dataTable, element);\n",
              "          const docLink = document.createElement('div');\n",
              "          docLink.innerHTML = docLinkHtml;\n",
              "          element.appendChild(docLink);\n",
              "        }\n",
              "      </script>\n",
              "    </div>\n",
              "  </div>\n",
              "  "
            ],
            "text/plain": [
              "            date   HighQ    MedQ\n",
              "11    2014-01-01  310.96  270.38\n",
              "62    2015-01-01  307.64  263.45\n",
              "113   2014-02-01  307.76  272.99\n",
              "164   2015-02-01  306.34  261.94\n",
              "215   2014-03-01  307.96  274.35\n",
              "...          ...     ...     ...\n",
              "22655 2014-07-31  309.64  265.58\n",
              "22706 2014-08-31  310.00  267.17\n",
              "22757 2014-10-31  310.97  267.10\n",
              "22808 2013-12-31  310.96  270.38\n",
              "22859 2014-12-31  307.64  263.45\n",
              "\n",
              "[449 rows x 3 columns]"
            ]
          },
          "execution_count": 18,
          "metadata": {},
          "output_type": "execute_result"
        }
      ],
      "source": [
        "# Les valeurs de la colonne \"date\", \"HighQ\", \"MedQ\" ne concernant que les lignes de l'état \"Hawaii\" \n",
        "prices_pd[[\"date\", \"HighQ\", \"MedQ\"]].loc[prices_pd['State'] == 'Hawaii']\n"
      ]
    },
    {
      "cell_type": "markdown",
      "metadata": {
        "id": "P2GUoM56N6FR"
      },
      "source": [
        "Les types des données peuvent être récupérés à travers la méthode <tt>dtypes</tt>:"
      ]
    },
    {
      "cell_type": "code",
      "execution_count": 19,
      "metadata": {
        "colab": {
          "base_uri": "https://localhost:8080/"
        },
        "id": "Vc-ZNLLlN6FT",
        "outputId": "3b2697b0-eea7-4e98-9c29-47faab06815c"
      },
      "outputs": [
        {
          "data": {
            "text/plain": [
              "State             object\n",
              "HighQ            float64\n",
              "HighQN             int64\n",
              "MedQ             float64\n",
              "MedQN              int64\n",
              "LowQ             float64\n",
              "LowQN              int64\n",
              "date      datetime64[ns]\n",
              "dtype: object"
            ]
          },
          "execution_count": 19,
          "metadata": {},
          "output_type": "execute_result"
        }
      ],
      "source": [
        "prices_pd.dtypes"
      ]
    },
    {
      "cell_type": "markdown",
      "metadata": {
        "id": "G7Yp8JoJN6FW"
      },
      "source": [
        "Il y a beaucoup de fonction s à découvrir pour obtenir des informations utiles sur les DataFrames. Par exemple, la liste des états peut être obtenue ainsi:\n"
      ]
    },
    {
      "cell_type": "code",
      "execution_count": 20,
      "metadata": {
        "id": "HHHg5XdeN6FY"
      },
      "outputs": [],
      "source": [
        "les_etats = np.unique(prices_pd[\"State\"].values)"
      ]
    },
    {
      "cell_type": "code",
      "execution_count": 21,
      "metadata": {
        "colab": {
          "base_uri": "https://localhost:8080/"
        },
        "id": "Q2UZ0Tk1N6FZ",
        "outputId": "0e3aefe9-5af1-4a38-a4fe-87c4b394f88c"
      },
      "outputs": [
        {
          "data": {
            "text/plain": [
              "array(['Alabama', 'Alaska', 'Arizona', 'Arkansas', 'California',\n",
              "       'Colorado', 'Connecticut', 'Delaware', 'District of Columbia',\n",
              "       'Florida', 'Georgia', 'Hawaii', 'Idaho', 'Illinois', 'Indiana',\n",
              "       'Iowa', 'Kansas', 'Kentucky', 'Louisiana', 'Maine', 'Maryland',\n",
              "       'Massachusetts', 'Michigan', 'Minnesota', 'Mississippi',\n",
              "       'Missouri', 'Montana', 'Nebraska', 'Nevada', 'New Hampshire',\n",
              "       'New Jersey', 'New Mexico', 'New York', 'North Carolina',\n",
              "       'North Dakota', 'Ohio', 'Oklahoma', 'Oregon', 'Pennsylvania',\n",
              "       'Rhode Island', 'South Carolina', 'South Dakota', 'Tennessee',\n",
              "       'Texas', 'Utah', 'Vermont', 'Virginia', 'Washington',\n",
              "       'West Virginia', 'Wisconsin', 'Wyoming'], dtype=object)"
            ]
          },
          "execution_count": 21,
          "metadata": {},
          "output_type": "execute_result"
        }
      ],
      "source": [
        "# Afficher la liste des états :\n",
        "les_etats\n"
      ]
    },
    {
      "cell_type": "markdown",
      "metadata": {
        "id": "GcKeU94qN6Fa"
      },
      "source": [
        "Comparer le nombre de valeurs de :\n",
        "\n",
        "        prices_pd[\"MedQ\"].values\n",
        "\n",
        "et de \n",
        "\n",
        "        np.unique(prices_pd[\"MedQ\"].values\n",
        "\n",
        "Expliquer ce qui se passe.        "
      ]
    },
    {
      "cell_type": "code",
      "execution_count": 22,
      "metadata": {
        "colab": {
          "base_uri": "https://localhost:8080/"
        },
        "id": "gS4C6Qx2N6Fb",
        "outputId": "340bb5d0-75bc-4d5f-b8ec-3a2667425219"
      },
      "outputs": [
        {
          "name": "stdout",
          "output_type": "stream",
          "text": [
            "(22899,)\n",
            "(7776,)\n"
          ]
        },
        {
          "data": {
            "text/plain": [
              "False"
            ]
          },
          "execution_count": 22,
          "metadata": {},
          "output_type": "execute_result"
        }
      ],
      "source": [
        "# Tester l'égalité :\n",
        "print(prices_pd[\"MedQ\"].values.shape)\n",
        "print(np.unique(prices_pd[\"MedQ\"].values).shape)\n",
        "prices_pd[\"MedQ\"].values.shape == np.unique(prices_pd[\"MedQ\"].values).shape"
      ]
    },
    {
      "cell_type": "markdown",
      "metadata": {
        "id": "_X6kgVJ_N6Fc"
      },
      "source": [
        "La fonction : **np.unique** : retourne les elements unique dans un vecteur, or la fonction **values** toute seule elle ne filtre rien. \n",
        "\n",
        "Remarque : vu que 'MedQ' n'est pas une clé, donc, elle ne contient pas des réponses unique."
      ]
    },
    {
      "cell_type": "markdown",
      "metadata": {
        "id": "EbFCSHztN6Fd"
      },
      "source": [
        "## Implémentation de mesures classiques ##\n"
      ]
    },
    {
      "cell_type": "markdown",
      "metadata": {
        "id": "9RsTzW36N6Fe"
      },
      "source": [
        "Nous allons maintenant écrire les fonctions permettant de calculer des mesures ''basiques'' sur des données unidimensionnelles. Pour cela, nous allons travailler avec la structure <tt>array</tt> de numpy. Pour convertir une colonne de DataFrame en '<tt>array</tt>, voici commment faire:"
      ]
    },
    {
      "cell_type": "markdown",
      "metadata": {
        "id": "wnaAPLMtN6Fe"
      },
      "source": [
        "### Moyenne"
      ]
    },
    {
      "cell_type": "markdown",
      "metadata": {
        "id": "GhHs-wggN6Ff"
      },
      "source": [
        "<font color=\"RED\" size=\"+1\">**[Q]**</font> **La moyenne**\n",
        "\n",
        "\n",
        "Ecrire la fonction moyenne(valeurs) qui calcule la moyenne des éléments d'un tableau (en utilisant la boucle ''for'', sans utiliser les fonctions déjà implémentées dans numpy)"
      ]
    },
    {
      "cell_type": "code",
      "execution_count": 23,
      "metadata": {
        "id": "zJY-HR8MN6Fg"
      },
      "outputs": [],
      "source": [
        "def moyenne(valeur):\n",
        "    m = 0\n",
        "    for i in valeur: \n",
        "        m+= i\n",
        "    return m/len(valeur)"
      ]
    },
    {
      "cell_type": "code",
      "execution_count": 24,
      "metadata": {
        "colab": {
          "base_uri": "https://localhost:8080/"
        },
        "id": "RJ3xD0EsN6Fh",
        "outputId": "6d486c8d-4a30-45ca-995d-fad97169367f"
      },
      "outputs": [
        {
          "data": {
            "text/plain": [
              "0        198.64\n",
              "1        260.60\n",
              "2        209.35\n",
              "3        185.62\n",
              "4        193.56\n",
              "          ...  \n",
              "22894    293.12\n",
              "22895    189.92\n",
              "22896    224.03\n",
              "22897    272.71\n",
              "22898    351.86\n",
              "Name: MedQ, Length: 22899, dtype: float64"
            ]
          },
          "execution_count": 24,
          "metadata": {},
          "output_type": "execute_result"
        }
      ],
      "source": [
        "prices_pd[\"MedQ\"]"
      ]
    },
    {
      "cell_type": "markdown",
      "metadata": {
        "id": "x-wjcZOMN6Fh"
      },
      "source": [
        "Tester la fonction moyenne et comparer vos résultats avec l'implémentation de base de python donnée ci-dessous:"
      ]
    },
    {
      "cell_type": "code",
      "execution_count": 25,
      "metadata": {
        "colab": {
          "base_uri": "https://localhost:8080/"
        },
        "id": "IlEXVo8GN6Fi",
        "outputId": "b323e986-8f8b-4234-925f-3a0ac4c22795"
      },
      "outputs": [
        {
          "name": "stdout",
          "output_type": "stream",
          "text": [
            "La moyenne (MedQ) est avec ma fonction : 247.618306 dollars\n",
            "La moyenne (MedQ) est avec mean        : 247.618306 dollars\n"
          ]
        }
      ],
      "source": [
        "print(\"La moyenne (MedQ) est avec ma fonction : %f dollars\" % moyenne(prices_pd[\"MedQ\"]))\n",
        "print(\"La moyenne (MedQ) est avec mean        : %f dollars\" % prices_pd[\"MedQ\"].mean())"
      ]
    },
    {
      "cell_type": "markdown",
      "metadata": {
        "id": "9C1JBrVxN6Fi"
      },
      "source": [
        "<font color=\"RED\" size=\"+1\">**[Q]**</font> **Moyennes sur les qualités**\n",
        "\n",
        "Calculer:\n",
        "* La moyenne des prix pour les qualités medium et high\n",
        "* La moyenne des prix pour les qualités medium et high dans l'état de ''New York''\n",
        "\n",
        "Les calculs seront fait d'une part à l'aide de votre fonction, et d'autre part à l'aide des fonctions de python. "
      ]
    },
    {
      "cell_type": "code",
      "execution_count": 26,
      "metadata": {
        "colab": {
          "base_uri": "https://localhost:8080/"
        },
        "id": "S4LfYQrpN6Fj",
        "outputId": "35adedfe-36fa-4085-a76f-97a40d4c41a5"
      },
      "outputs": [
        {
          "name": "stdout",
          "output_type": "stream",
          "text": [
            "La moyenne (MedQ) avec ma fonction : 247.618306 dollars\n",
            "La moyenne (MedQ) avec mean : 247.618306 dollars\n",
            "\n",
            "La moyenne (HighQ) est avec ma fonction : 329.759854 dollars\n",
            "La moyenne (HighQ) est avec mean : 329.759854 dollars\n",
            "\n",
            "La moyenne (MedQ à NY) est avec ma fonction : 265.376949 dollars\n",
            "La moyenne (MedQ à NY) est avec mean : 265.376949 dollars\n",
            "\n",
            "La moyenne (HighQ à NY) est avec ma fonction : 346.912762 dollars\n",
            "La moyenne (HighQ à NY) est avec mean : 346.912762 dollars\n"
          ]
        }
      ],
      "source": [
        "print(\"La moyenne (MedQ) avec ma fonction : %f dollars\" % moyenne(prices_pd[\"MedQ\"]))\n",
        "print(\"La moyenne (MedQ) avec mean : %f dollars\" % prices_pd[\"MedQ\"].mean())\n",
        "print()\n",
        "print(\"La moyenne (HighQ) est avec ma fonction : %f dollars\" % moyenne(prices_pd[\"HighQ\"]))\n",
        "print(\"La moyenne (HighQ) est avec mean : %f dollars\" % prices_pd[\"HighQ\"].mean())\n",
        "print()\n",
        "print(\"La moyenne (MedQ à NY) est avec ma fonction : %f dollars\" % moyenne(prices_pd[\"MedQ\"].loc[prices_pd['State'] == 'New York']))\n",
        "print(\"La moyenne (MedQ à NY) est avec mean : %f dollars\" % prices_pd[\"MedQ\"].loc[prices_pd['State'] == 'New York'].mean())\n",
        "print()\n",
        "print(\"La moyenne (HighQ à NY) est avec ma fonction : %f dollars\" % moyenne(prices_pd[\"HighQ\"].loc[prices_pd['State'] == 'New York']))\n",
        "print(\"La moyenne (HighQ à NY) est avec mean : %f dollars\" % prices_pd[\"HighQ\"].loc[prices_pd['State'] == 'New York'].mean())"
      ]
    },
    {
      "cell_type": "markdown",
      "metadata": {
        "id": "CanDev4QN6Fk"
      },
      "source": [
        "<font color=\"RED\" size=\"+1\">**[Q]**</font> **Moyenne sur les états**\n",
        "\n",
        "Calculez la moyenne des prix qualités medium et high dans tous les états -- la liste des états est obtenues ainsi states=np.unique(prices_pd[\"State\"].values)\n",
        "\n",
        "Pour cela, vous pouvez (devez) le faire de deux manières:\n",
        "* Faire une boucle sur chacun des états\n",
        "* Utiliser la fonction groupby comme expliqué ici : http://pandas.pydata.org/pandas-docs/stable/groupby.html\n",
        " et ici : https://www.kaggle.com/crawford/python-groupby-tutorial\n"
      ]
    },
    {
      "cell_type": "code",
      "execution_count": 27,
      "metadata": {
        "id": "PowXYlN_N6Fk"
      },
      "outputs": [],
      "source": [
        "def moyenne_avec_boucle_for(val):\n",
        "    states=np.unique(prices_pd[\"State\"].values)\n",
        "    m = 0\n",
        "    for s in states: \n",
        "        m = val.loc[prices_pd['State'] == s].mean()\n",
        "        print(f\"\\t {s} : %f\" % m)"
      ]
    },
    {
      "cell_type": "code",
      "execution_count": 28,
      "metadata": {
        "colab": {
          "base_uri": "https://localhost:8080/"
        },
        "id": "4lC8guD6N6Fl",
        "outputId": "d07ae8c0-d2a9-47da-d817-ce9abd49579f"
      },
      "outputs": [
        {
          "name": "stdout",
          "output_type": "stream",
          "text": [
            "Prix moyen par état pour la qualité Medium (avec ma fonction)\n",
            "\n",
            "\t Alabama : 204.606169\n",
            "\t Alaska : 262.046392\n",
            "\t Arizona : 209.365345\n",
            "\t Arkansas : 190.414655\n",
            "\t California : 191.268909\n",
            "\t Colorado : 196.532517\n",
            "\t Connecticut : 271.323898\n",
            "\t Delaware : 231.230312\n",
            "\t District of Columbia : 288.251314\n",
            "\t Florida : 217.882561\n",
            "\t Georgia : 215.943630\n",
            "\t Hawaii : 268.738151\n",
            "\t Idaho : 249.822428\n",
            "\t Illinois : 284.180089\n",
            "\t Indiana : 211.989510\n",
            "\t Iowa : 289.945523\n",
            "\t Kansas : 261.243073\n",
            "\t Kentucky : 179.933764\n",
            "\t Louisiana : 243.117884\n",
            "\t Maine : 248.438174\n",
            "\t Maryland : 254.140445\n",
            "\t Massachusetts : 290.197884\n",
            "\t Michigan : 273.352339\n",
            "\t Minnesota : 275.850067\n",
            "\t Mississippi : 148.231604\n",
            "\t Missouri : 244.812205\n",
            "\t Montana : 248.398552\n",
            "\t Nebraska : 248.160646\n",
            "\t Nevada : 226.217416\n",
            "\t New Hampshire : 290.107751\n",
            "\t New Jersey : 288.727016\n",
            "\t New Mexico : 209.242249\n",
            "\t New York : 265.376949\n",
            "\t North Carolina : 245.699220\n",
            "\t North Dakota : 349.066682\n",
            "\t Ohio : 216.953163\n",
            "\t Oklahoma : 233.822004\n",
            "\t Oregon : 183.889866\n",
            "\t Pennsylvania : 267.891336\n",
            "\t Rhode Island : 258.172294\n",
            "\t South Carolina : 203.339777\n",
            "\t South Dakota : 351.944811\n",
            "\t Tennessee : 225.808864\n",
            "\t Texas : 233.536837\n",
            "\t Utah : 237.371893\n",
            "\t Vermont : 315.547550\n",
            "\t Virginia : 290.408085\n",
            "\t Washington : 189.924989\n",
            "\t West Virginia : 215.883808\n",
            "\t Wisconsin : 271.648174\n",
            "\t Wyoming : 358.534833\n",
            "\n",
            "Prix moyen par état pour la qualité Medium (avec Groupby)\n"
          ]
        },
        {
          "data": {
            "text/plain": [
              "State\n",
              "Alabama                 204.606169\n",
              "Alaska                  262.046392\n",
              "Arizona                 209.365345\n",
              "Arkansas                190.414655\n",
              "California              191.268909\n",
              "Colorado                196.532517\n",
              "Connecticut             271.323898\n",
              "Delaware                231.230312\n",
              "District of Columbia    288.251314\n",
              "Florida                 217.882561\n",
              "Georgia                 215.943630\n",
              "Hawaii                  268.738151\n",
              "Idaho                   249.822428\n",
              "Illinois                284.180089\n",
              "Indiana                 211.989510\n",
              "Iowa                    289.945523\n",
              "Kansas                  261.243073\n",
              "Kentucky                179.933764\n",
              "Louisiana               243.117884\n",
              "Maine                   248.438174\n",
              "Maryland                254.140445\n",
              "Massachusetts           290.197884\n",
              "Michigan                273.352339\n",
              "Minnesota               275.850067\n",
              "Mississippi             148.231604\n",
              "Missouri                244.812205\n",
              "Montana                 248.398552\n",
              "Nebraska                248.160646\n",
              "Nevada                  226.217416\n",
              "New Hampshire           290.107751\n",
              "New Jersey              288.727016\n",
              "New Mexico              209.242249\n",
              "New York                265.376949\n",
              "North Carolina          245.699220\n",
              "North Dakota            349.066682\n",
              "Ohio                    216.953163\n",
              "Oklahoma                233.822004\n",
              "Oregon                  183.889866\n",
              "Pennsylvania            267.891336\n",
              "Rhode Island            258.172294\n",
              "South Carolina          203.339777\n",
              "South Dakota            351.944811\n",
              "Tennessee               225.808864\n",
              "Texas                   233.536837\n",
              "Utah                    237.371893\n",
              "Vermont                 315.547550\n",
              "Virginia                290.408085\n",
              "Washington              189.924989\n",
              "West Virginia           215.883808\n",
              "Wisconsin               271.648174\n",
              "Wyoming                 358.534833\n",
              "Name: MedQ, dtype: float64"
            ]
          },
          "execution_count": 28,
          "metadata": {},
          "output_type": "execute_result"
        }
      ],
      "source": [
        "# Tester avec MedQ\n",
        "\n",
        "print(\"Prix moyen par état pour la qualité Medium (avec ma fonction)\\n\")\n",
        "moyenne_avec_boucle_for(prices_pd[\"MedQ\"])\n",
        "\n",
        "print(\"\\nPrix moyen par état pour la qualité Medium (avec Groupby)\")\n",
        "prices_pd.groupby(\"State\")[\"MedQ\"].mean()"
      ]
    },
    {
      "cell_type": "code",
      "execution_count": 29,
      "metadata": {
        "colab": {
          "base_uri": "https://localhost:8080/"
        },
        "id": "3wsR9GrON6Fl",
        "outputId": "f8ffecda-bd3b-4647-8b66-43e0a21b866d"
      },
      "outputs": [
        {
          "name": "stdout",
          "output_type": "stream",
          "text": [
            "Prix moyen par état pour la qualité High (avec ma fonction)\n",
            "\n",
            "\t Alabama : 339.561849\n",
            "\t Alaska : 291.482004\n",
            "\t Arizona : 300.667483\n",
            "\t Arkansas : 348.056147\n",
            "\t California : 245.376125\n",
            "\t Colorado : 238.918708\n",
            "\t Connecticut : 341.694076\n",
            "\t Delaware : 366.781849\n",
            "\t District of Columbia : 348.177416\n",
            "\t Florida : 302.570312\n",
            "\t Georgia : 326.659644\n",
            "\t Hawaii : 309.918931\n",
            "\t Idaho : 275.639376\n",
            "\t Illinois : 355.463341\n",
            "\t Indiana : 333.191114\n",
            "\t Iowa : 367.095791\n",
            "\t Kansas : 350.819198\n",
            "\t Kentucky : 338.855167\n",
            "\t Louisiana : 366.832539\n",
            "\t Maine : 315.390089\n",
            "\t Maryland : 370.985167\n",
            "\t Massachusetts : 349.011648\n",
            "\t Michigan : 292.090512\n",
            "\t Minnesota : 358.243274\n",
            "\t Mississippi : 337.559287\n",
            "\t Missouri : 359.276637\n",
            "\t Montana : 267.831737\n",
            "\t Nebraska : 341.559354\n",
            "\t Nevada : 267.820111\n",
            "\t New Hampshire : 359.476036\n",
            "\t New Jersey : 349.321693\n",
            "\t New Mexico : 289.562539\n",
            "\t New York : 346.912762\n",
            "\t North Carolina : 349.475033\n",
            "\t North Dakota : 398.668753\n",
            "\t Ohio : 334.554655\n",
            "\t Oklahoma : 361.573140\n",
            "\t Oregon : 208.496236\n",
            "\t Pennsylvania : 366.125679\n",
            "\t Rhode Island : 323.838352\n",
            "\t South Carolina : 341.692918\n",
            "\t South Dakota : 375.818486\n",
            "\t Tennessee : 352.753007\n",
            "\t Texas : 337.105212\n",
            "\t Utah : 289.596058\n",
            "\t Vermont : 374.250445\n",
            "\t Virginia : 368.146993\n",
            "\t Washington : 233.387817\n",
            "\t West Virginia : 357.394566\n",
            "\t Wisconsin : 353.052517\n",
            "\t Wyoming : 339.020780\n",
            "\n",
            "Prix moyen par état pour la qualité High (avec Groupby)\n"
          ]
        },
        {
          "data": {
            "text/plain": [
              "State\n",
              "Alabama                 339.561849\n",
              "Alaska                  291.482004\n",
              "Arizona                 300.667483\n",
              "Arkansas                348.056147\n",
              "California              245.376125\n",
              "Colorado                238.918708\n",
              "Connecticut             341.694076\n",
              "Delaware                366.781849\n",
              "District of Columbia    348.177416\n",
              "Florida                 302.570312\n",
              "Georgia                 326.659644\n",
              "Hawaii                  309.918931\n",
              "Idaho                   275.639376\n",
              "Illinois                355.463341\n",
              "Indiana                 333.191114\n",
              "Iowa                    367.095791\n",
              "Kansas                  350.819198\n",
              "Kentucky                338.855167\n",
              "Louisiana               366.832539\n",
              "Maine                   315.390089\n",
              "Maryland                370.985167\n",
              "Massachusetts           349.011648\n",
              "Michigan                292.090512\n",
              "Minnesota               358.243274\n",
              "Mississippi             337.559287\n",
              "Missouri                359.276637\n",
              "Montana                 267.831737\n",
              "Nebraska                341.559354\n",
              "Nevada                  267.820111\n",
              "New Hampshire           359.476036\n",
              "New Jersey              349.321693\n",
              "New Mexico              289.562539\n",
              "New York                346.912762\n",
              "North Carolina          349.475033\n",
              "North Dakota            398.668753\n",
              "Ohio                    334.554655\n",
              "Oklahoma                361.573140\n",
              "Oregon                  208.496236\n",
              "Pennsylvania            366.125679\n",
              "Rhode Island            323.838352\n",
              "South Carolina          341.692918\n",
              "South Dakota            375.818486\n",
              "Tennessee               352.753007\n",
              "Texas                   337.105212\n",
              "Utah                    289.596058\n",
              "Vermont                 374.250445\n",
              "Virginia                368.146993\n",
              "Washington              233.387817\n",
              "West Virginia           357.394566\n",
              "Wisconsin               353.052517\n",
              "Wyoming                 339.020780\n",
              "Name: HighQ, dtype: float64"
            ]
          },
          "execution_count": 29,
          "metadata": {},
          "output_type": "execute_result"
        }
      ],
      "source": [
        "# Tester avec HighQ\n",
        "\n",
        "print(\"Prix moyen par état pour la qualité High (avec ma fonction)\\n\")\n",
        "moyenne_avec_boucle_for(prices_pd[\"HighQ\"])\n",
        "\n",
        "print(\"\\nPrix moyen par état pour la qualité High (avec Groupby)\")\n",
        "prices_pd.groupby(\"State\")[\"HighQ\"].mean()"
      ]
    },
    {
      "cell_type": "markdown",
      "metadata": {
        "id": "XxeWKoFoN6Fm"
      },
      "source": [
        "<font color=\"RED\" size=\"+1\">**[Q]**</font> **D'autres moyennes**\n",
        "\n",
        "Calculer la moyenne (avec les deux fonctions) sur le prix de la basse qualité. Que constatez vous ? Expliquez..."
      ]
    },
    {
      "cell_type": "code",
      "execution_count": 30,
      "metadata": {
        "colab": {
          "base_uri": "https://localhost:8080/"
        },
        "id": "-PeCUUDXN6Fn",
        "outputId": "7e7fef86-9f15-4642-cf55-e98aa28dd98b"
      },
      "outputs": [
        {
          "name": "stdout",
          "output_type": "stream",
          "text": [
            "Prix moyen par état pour la basse qualité (avec ma fonction)\n",
            "\n",
            "\t Alabama : 146.832603\n",
            "\t Alaska : 387.232727\n",
            "\t Arizona : 190.826860\n",
            "\t Arkansas : 127.345455\n",
            "\t California : 190.795992\n",
            "\t Colorado : 226.790620\n",
            "\t Connecticut : 253.024876\n",
            "\t Delaware : 205.045992\n",
            "\t District of Columbia : 210.563554\n",
            "\t Florida : 153.205372\n",
            "\t Georgia : 150.264091\n",
            "\t Hawaii : 167.093843\n",
            "\t Idaho : 139.962851\n",
            "\t Illinois : 186.545165\n",
            "\t Indiana : 158.931653\n",
            "\t Iowa : 248.595537\n",
            "\t Kansas : 120.199256\n",
            "\t Kentucky : 124.156860\n",
            "\t Louisiana : 146.776983\n",
            "\t Maine : 244.951653\n",
            "\t Maryland : 190.185083\n",
            "\t Massachusetts : 220.070000\n",
            "\t Michigan : 252.644917\n",
            "\t Minnesota : 182.683306\n",
            "\t Mississippi : 142.751942\n",
            "\t Missouri : 147.508595\n",
            "\t Montana : 659.851074\n",
            "\t Nebraska : 137.895909\n",
            "\t Nevada : 241.792934\n",
            "\t New Hampshire : 639.807810\n",
            "\t New Jersey : 228.611777\n",
            "\t New Mexico : 80.890950\n",
            "\t New York : 201.340000\n",
            "\t North Carolina : 150.810620\n",
            "\t North Dakota : 333.968223\n",
            "\t Ohio : 165.169628\n",
            "\t Oklahoma : 119.893926\n",
            "\t Oregon : 170.173388\n",
            "\t Pennsylvania : 193.229752\n",
            "\t Rhode Island : 203.000661\n",
            "\t South Carolina : 184.467603\n",
            "\t South Dakota : 124.318017\n",
            "\t Tennessee : 190.121570\n",
            "\t Texas : 143.362893\n",
            "\t Utah : 193.844298\n",
            "\t Vermont : 189.600744\n",
            "\t Virginia : 224.239008\n",
            "\t Washington : 143.183388\n",
            "\t West Virginia : 155.715165\n",
            "\t Wisconsin : 239.565083\n",
            "\t Wyoming : 161.300000\n",
            "\n",
            "Prix moyen par état pour la basse qualité(avec Groupby)\n"
          ]
        },
        {
          "data": {
            "text/plain": [
              "State\n",
              "Alabama                 146.832603\n",
              "Alaska                  387.232727\n",
              "Arizona                 190.826860\n",
              "Arkansas                127.345455\n",
              "California              190.795992\n",
              "Colorado                226.790620\n",
              "Connecticut             253.024876\n",
              "Delaware                205.045992\n",
              "District of Columbia    210.563554\n",
              "Florida                 153.205372\n",
              "Georgia                 150.264091\n",
              "Hawaii                  167.093843\n",
              "Idaho                   139.962851\n",
              "Illinois                186.545165\n",
              "Indiana                 158.931653\n",
              "Iowa                    248.595537\n",
              "Kansas                  120.199256\n",
              "Kentucky                124.156860\n",
              "Louisiana               146.776983\n",
              "Maine                   244.951653\n",
              "Maryland                190.185083\n",
              "Massachusetts           220.070000\n",
              "Michigan                252.644917\n",
              "Minnesota               182.683306\n",
              "Mississippi             142.751942\n",
              "Missouri                147.508595\n",
              "Montana                 659.851074\n",
              "Nebraska                137.895909\n",
              "Nevada                  241.792934\n",
              "New Hampshire           639.807810\n",
              "New Jersey              228.611777\n",
              "New Mexico               80.890950\n",
              "New York                201.340000\n",
              "North Carolina          150.810620\n",
              "North Dakota            333.968223\n",
              "Ohio                    165.169628\n",
              "Oklahoma                119.893926\n",
              "Oregon                  170.173388\n",
              "Pennsylvania            193.229752\n",
              "Rhode Island            203.000661\n",
              "South Carolina          184.467603\n",
              "South Dakota            124.318017\n",
              "Tennessee               190.121570\n",
              "Texas                   143.362893\n",
              "Utah                    193.844298\n",
              "Vermont                 189.600744\n",
              "Virginia                224.239008\n",
              "Washington              143.183388\n",
              "West Virginia           155.715165\n",
              "Wisconsin               239.565083\n",
              "Wyoming                 161.300000\n",
              "Name: LowQ, dtype: float64"
            ]
          },
          "execution_count": 30,
          "metadata": {},
          "output_type": "execute_result"
        }
      ],
      "source": [
        "print(\"Prix moyen par état pour la basse qualité (avec ma fonction)\\n\")\n",
        "moyenne_avec_boucle_for(prices_pd[\"LowQ\"])\n",
        "\n",
        "print(\"\\nPrix moyen par état pour la basse qualité(avec Groupby)\")\n",
        "prices_pd.groupby(\"State\")[\"LowQ\"].mean()"
      ]
    },
    {
      "cell_type": "markdown",
      "metadata": {
        "id": "qUx6f2_aN6Fn"
      },
      "source": [
        "**On constate les deux fonctions génèrent les mêmes résultats pour chaque état.**"
      ]
    },
    {
      "cell_type": "markdown",
      "metadata": {
        "id": "ecZnlukLN6Fo"
      },
      "source": [
        "<font color=\"RED\" size=\"+1\">**[Q]**</font> **Modification de données**\n",
        "\n",
        "Remplacez le <tt>NAN</tt> de la colonne <tt>LowQ</tt> à l'aide de la fonction décrite ici: http://pandas.pydata.org/pandas-docs/version/0.17.1/generated/pandas.DataFrame.fillna.html. \n",
        "\n",
        "Nous souhaitons plus particulièrement utiliser la méthode <tt>fill</tt> après avoir trié par état et par date grâce à l'utilisation de la fonction <tt>sort</tt> : \n",
        "\n",
        "            prices_sorted = prices_pd.sort_values(by=['State', 'date'], inplace=False)\n",
        "\n",
        "Expliquer le résultat de cette commande.\n",
        "Que se passerait-il si on utilisait <tt>inplace=True</tt> ?"
      ]
    },
    {
      "cell_type": "markdown",
      "metadata": {
        "id": "blF_lDPUN6Fo"
      },
      "source": [
        "**Explication de la commande** : prices_sorted = prices_pd.sort_values(by=['State', 'date'], inplace=False) \n",
        "    \n",
        "    1- Elle trie les données du dataFrame prices_pd en utilisant les colonnes 'State' et 'date' comme clés de tri. \n",
        "    2- Le tri se fait par ordre alphabétique croissant, d'abord en fonction de la colonne 'State', puis en fonction de 'date'. \n",
        "    3- Le résultat est un nouveau dataFrame contenant les données triées. C'est ici ou l'argument inplace intervient\n",
        "    4- Si On utilise inplace=True, le dataFrame prices_pd sera trié directement et donc ce n'est pas la peine de stocker le résultat dans la variable prices_sorted."
      ]
    },
    {
      "cell_type": "code",
      "execution_count": 32,
      "metadata": {
        "id": "eNxx7ME6N6Fp"
      },
      "outputs": [],
      "source": [
        "prices_sorted = prices_pd.sort_values(by=['State', 'date'], inplace=False)"
      ]
    },
    {
      "cell_type": "code",
      "execution_count": 33,
      "metadata": {
        "id": "AMwchC9bN6Fp"
      },
      "outputs": [],
      "source": [
        "# maintenant, on utilise la fonction fillna pour remplacer le NAN par la derniere valeur valide \n",
        "# Remarque on peut remplacer la valeur NaN de plusieurs façons, voir la documentation\n",
        "prices_sorted[\"LowQ\"].fillna(method='ffill', inplace=True)\n",
        "# dans ce cas, nous avons opté à mettre True dans inplace car ce n'est pas notre dataframe d'origine"
      ]
    },
    {
      "cell_type": "markdown",
      "metadata": {
        "id": "FtiBXkE-N6Fp"
      },
      "source": [
        "<font color=\"RED\" size=\"+1\">**[Q]**</font> **Changements des résultats**\n",
        "\n",
        "\n",
        "Recalculer la moyenne des prix pour la qualité <tt>Low</tt>. Qu'en est-il maintenant ? "
      ]
    },
    {
      "cell_type": "code",
      "execution_count": 34,
      "metadata": {
        "colab": {
          "base_uri": "https://localhost:8080/"
        },
        "id": "VB4JQz5BN6Fq",
        "outputId": "0d640322-5c14-40b5-b478-2722bc4b8b11"
      },
      "outputs": [
        {
          "name": "stdout",
          "output_type": "stream",
          "text": [
            "Prix moyen par état pour la basse qualité avec les valeurs Nan : \n",
            "\n",
            "\t Alabama : 146.832603\n",
            "\t Alaska : 387.232727\n",
            "\t Arizona : 190.826860\n",
            "\t Arkansas : 127.345455\n",
            "\t California : 190.795992\n",
            "\t Colorado : 226.790620\n",
            "\t Connecticut : 253.024876\n",
            "\t Delaware : 205.045992\n",
            "\t District of Columbia : 210.563554\n",
            "\t Florida : 153.205372\n",
            "\t Georgia : 150.264091\n",
            "\t Hawaii : 167.093843\n",
            "\t Idaho : 139.962851\n",
            "\t Illinois : 186.545165\n",
            "\t Indiana : 158.931653\n",
            "\t Iowa : 248.595537\n",
            "\t Kansas : 120.199256\n",
            "\t Kentucky : 124.156860\n",
            "\t Louisiana : 146.776983\n",
            "\t Maine : 244.951653\n",
            "\t Maryland : 190.185083\n",
            "\t Massachusetts : 220.070000\n",
            "\t Michigan : 252.644917\n",
            "\t Minnesota : 182.683306\n",
            "\t Mississippi : 142.751942\n",
            "\t Missouri : 147.508595\n",
            "\t Montana : 659.851074\n",
            "\t Nebraska : 137.895909\n",
            "\t Nevada : 241.792934\n",
            "\t New Hampshire : 639.807810\n",
            "\t New Jersey : 228.611777\n",
            "\t New Mexico : 80.890950\n",
            "\t New York : 201.340000\n",
            "\t North Carolina : 150.810620\n",
            "\t North Dakota : 333.968223\n",
            "\t Ohio : 165.169628\n",
            "\t Oklahoma : 119.893926\n",
            "\t Oregon : 170.173388\n",
            "\t Pennsylvania : 193.229752\n",
            "\t Rhode Island : 203.000661\n",
            "\t South Carolina : 184.467603\n",
            "\t South Dakota : 124.318017\n",
            "\t Tennessee : 190.121570\n",
            "\t Texas : 143.362893\n",
            "\t Utah : 193.844298\n",
            "\t Vermont : 189.600744\n",
            "\t Virginia : 224.239008\n",
            "\t Washington : 143.183388\n",
            "\t West Virginia : 155.715165\n",
            "\t Wisconsin : 239.565083\n",
            "\t Wyoming : 161.300000\n",
            "\n",
            "Prix moyen par état pour la basse qualité sans valeurs Nan : \n"
          ]
        },
        {
          "data": {
            "text/plain": [
              "State\n",
              "Alabama                 145.978508\n",
              "Alaska                  394.653964\n",
              "Arizona                 188.500134\n",
              "Arkansas                126.771269\n",
              "California              189.783586\n",
              "Colorado                226.781114\n",
              "Connecticut             251.625724\n",
              "Delaware                204.960245\n",
              "District of Columbia    210.225367\n",
              "Florida                 152.285457\n",
              "Georgia                 148.035457\n",
              "Hawaii                  170.383786\n",
              "Idaho                   150.827884\n",
              "Illinois                189.700802\n",
              "Indiana                 157.275813\n",
              "Iowa                    248.920312\n",
              "Kansas                  120.904967\n",
              "Kentucky                123.766437\n",
              "Louisiana               145.533608\n",
              "Maine                   257.859577\n",
              "Maryland                188.721292\n",
              "Massachusetts           221.393140\n",
              "Michigan                257.801514\n",
              "Minnesota               183.262673\n",
              "Mississippi             143.488686\n",
              "Missouri                146.859198\n",
              "Montana                 619.202049\n",
              "Nebraska                135.809354\n",
              "Nevada                  238.333898\n",
              "New Hampshire           629.334343\n",
              "New Jersey              226.794521\n",
              "New Mexico               87.340245\n",
              "New York                204.576392\n",
              "North Carolina          151.091559\n",
              "North Dakota            335.140045\n",
              "Ohio                    165.229733\n",
              "Oklahoma                121.141492\n",
              "Oregon                  173.514254\n",
              "Pennsylvania            193.059287\n",
              "Rhode Island            204.932049\n",
              "South Carolina          184.851359\n",
              "South Dakota            124.143742\n",
              "Tennessee               187.539109\n",
              "Texas                   143.628953\n",
              "Utah                    200.070757\n",
              "Vermont                 190.135189\n",
              "Virginia                224.299399\n",
              "Washington              140.116013\n",
              "West Virginia           150.945791\n",
              "Wisconsin               245.998641\n",
              "Wyoming                 161.300000\n",
              "Name: LowQ, dtype: float64"
            ]
          },
          "execution_count": 34,
          "metadata": {},
          "output_type": "execute_result"
        }
      ],
      "source": [
        "print(\"Prix moyen par état pour la basse qualité avec les valeurs Nan : \\n\")\n",
        "moyenne_avec_boucle_for(prices_pd[\"LowQ\"])\n",
        "\n",
        "print(\"\\nPrix moyen par état pour la basse qualité sans valeurs Nan : \")\n",
        "prices_sorted.groupby(\"State\")[\"LowQ\"].mean()"
      ]
    },
    {
      "cell_type": "markdown",
      "metadata": {
        "id": "RTPVnbiRN6Fr"
      },
      "source": [
        "**On remarque maintenant que les valeurs ne sont pas les mêmes, on peut facilement justifier cela par la modification des valeurs nan.**\n",
        "\n",
        "On s'est basé sur la méthode : ffill sur notre raisonnement, car, dans prices_sorted, le dataframe est trié selon les états en premier lieu ensuite, par les dates, donc : si un tuple **x** a une valeur nan, elle doit surrement etre en relation avec la valeur de **x-1** (ou **x+1**)\n",
        "\n",
        "Contrairement à **prices_pd** ou les valeurs nan sont considérées comme 0 dans le calcul, ce qui affecte gravement les résultats. "
      ]
    },
    {
      "cell_type": "markdown",
      "metadata": {
        "id": "3IKMbcAYN6Fr"
      },
      "source": [
        "<font color=\"RED\" size=\"+1\">**[Q]**</font> **Tracé d'histogrammes**\n",
        "\n",
        "Donner les instructions Python pour tracer l'histogramme des moyennes des prix (<tt>LowQ</tt>) par état. \n",
        "\n",
        "Pour vous aider à construire un histogramme, vous pouvez étudier la page suivante:\n",
        "https://matplotlib.org/stable/api/_as_gen/matplotlib.pyplot.hist.html"
      ]
    },
    {
      "cell_type": "code",
      "execution_count": 36,
      "metadata": {
        "colab": {
          "base_uri": "https://localhost:8080/",
          "height": 355
        },
        "id": "NmCUSm0nN6Fs",
        "outputId": "b607dc71-708e-4e4f-dc8e-1d9a036570fc"
      },
      "outputs": [
        {
          "data": {
            "text/plain": [
              "(array([ 8., 24., 12.,  3.,  1.,  1.,  0.,  0.,  0.,  2.]),\n",
              " array([ 87.34024499, 141.53965479, 195.73906459, 249.93847439,\n",
              "        304.13788419, 358.33729399, 412.53670379, 466.73611359,\n",
              "        520.93552339, 575.13493318, 629.33434298]),\n",
              " <a list of 10 Patch objects>)"
            ]
          },
          "execution_count": 36,
          "metadata": {},
          "output_type": "execute_result"
        },
        {
          "data": {
            "image/png": "[encoded data removed]",
            "text/plain": [
              "<Figure size 432x288 with 1 Axes>"
            ]
          },
          "metadata": {
            "needs_background": "light"
          },
          "output_type": "display_data"
        }
      ],
      "source": [
        "# Par exemple, tracé de l'histograme des valeurs \"LowQ\" sur l'ensemble des données:\n",
        "#plt.hist(prices_pd[\"LowQ\"])\n",
        "# tracé de l'histogramme des moyennes des prix (LowQ) par état\n",
        "plt.hist(prices_sorted.groupby(\"State\")[\"LowQ\"].mean())"
      ]
    },
    {
      "cell_type": "markdown",
      "metadata": {
        "id": "XO_cxUczN6Fs"
      },
      "source": [
        "<font color=\"RED\" size=\"+1\">**[Q]**</font> **Estimation de densité**\n",
        "\n",
        "Nous allons maintenant nous intéresser au calcul du nombre d'états concernés par une fourchette de prix. Pour cela:\n",
        "* Calculer le tableau des prix moyens de la facon suivante\n",
        "    \n"
      ]
    },
    {
      "cell_type": "code",
      "execution_count": 38,
      "metadata": {
        "colab": {
          "base_uri": "https://localhost:8080/"
        },
        "id": "Z-z31NrDN6Ft",
        "outputId": "780dbd85-69b7-4574-e810-0d00a90315f0"
      },
      "outputs": [
        {
          "name": "stdout",
          "output_type": "stream",
          "text": [
            "                            LowQ\n",
            "State                           \n",
            "Alabama               146.832603\n",
            "Alaska                387.232727\n",
            "Arizona               190.826860\n",
            "Arkansas              127.345455\n",
            "California            190.795992\n",
            "Colorado              226.790620\n",
            "Connecticut           253.024876\n",
            "Delaware              205.045992\n",
            "District of Columbia  210.563554\n",
            "Florida               153.205372\n",
            "Georgia               150.264091\n",
            "Hawaii                167.093843\n",
            "Idaho                 139.962851\n",
            "Illinois              186.545165\n",
            "Indiana               158.931653\n",
            "Iowa                  248.595537\n",
            "Kansas                120.199256\n",
            "Kentucky              124.156860\n",
            "Louisiana             146.776983\n",
            "Maine                 244.951653\n",
            "Maryland              190.185083\n",
            "Massachusetts         220.070000\n",
            "Michigan              252.644917\n",
            "Minnesota             182.683306\n",
            "Mississippi           142.751942\n",
            "Missouri              147.508595\n",
            "Montana               659.851074\n",
            "Nebraska              137.895909\n",
            "Nevada                241.792934\n",
            "New Hampshire         639.807810\n",
            "New Jersey            228.611777\n",
            "New Mexico             80.890950\n",
            "New York              201.340000\n",
            "North Carolina        150.810620\n",
            "North Dakota          333.968223\n",
            "Ohio                  165.169628\n",
            "Oklahoma              119.893926\n",
            "Oregon                170.173388\n",
            "Pennsylvania          193.229752\n",
            "Rhode Island          203.000661\n",
            "South Carolina        184.467603\n",
            "South Dakota          124.318017\n",
            "Tennessee             190.121570\n",
            "Texas                 143.362893\n",
            "Utah                  193.844298\n",
            "Vermont               189.600744\n",
            "Virginia              224.239008\n",
            "Washington            143.183388\n",
            "West Virginia         155.715165\n",
            "Wisconsin             239.565083\n",
            "Wyoming               161.300000\n"
          ]
        },
        {
          "data": {
            "text/plain": [
              "array([146.83260331, 387.23272727, 190.8268595 , 127.34545455,\n",
              "       190.79599174, 226.79061983, 253.02487603, 205.04599174,\n",
              "       210.56355372, 153.2053719 , 150.26409091, 167.09384298,\n",
              "       139.96285124, 186.54516529, 158.93165289, 248.59553719,\n",
              "       120.1992562 , 124.1568595 , 146.77698347, 244.95165289,\n",
              "       190.18508264, 220.07      , 252.64491736, 182.68330579,\n",
              "       142.75194215, 147.50859504, 659.85107438, 137.89590909,\n",
              "       241.79293388, 639.80780992, 228.61177686,  80.89095041,\n",
              "       201.34      , 150.81061983, 333.96822314, 165.1696281 ,\n",
              "       119.89392562, 170.17338843, 193.22975207, 203.00066116,\n",
              "       184.46760331, 124.31801653, 190.12157025, 143.36289256,\n",
              "       193.84429752, 189.6007438 , 224.23900826, 143.18338843,\n",
              "       155.71516529, 239.56508264, 161.3       ])"
            ]
          },
          "execution_count": 38,
          "metadata": {},
          "output_type": "execute_result"
        }
      ],
      "source": [
        "prix_moyens=prices_pd[[\"State\",\"LowQ\"]].groupby([\"State\"]).mean()\n",
        "print(prix_moyens)\n",
        "# print(\"===========\")\n",
        "prix_moyens=prix_moyens.values.ravel()\n",
        "\n",
        "prix_moyens"
      ]
    },
    {
      "cell_type": "code",
      "execution_count": 39,
      "metadata": {
        "colab": {
          "base_uri": "https://localhost:8080/",
          "height": 352
        },
        "id": "eN725q4mN6Fu",
        "outputId": "d32beb71-5de2-4f68-a358-501678a45ece"
      },
      "outputs": [
        {
          "data": {
            "text/plain": [
              "(array([ 7., 26., 14.,  0.,  1.,  1.,  0.,  0.,  0.,  2.]),\n",
              " array([ 80.89095041, 138.78696281, 196.68297521, 254.5789876 ,\n",
              "        312.475     , 370.3710124 , 428.26702479, 486.16303719,\n",
              "        544.05904959, 601.95506198, 659.85107438]),\n",
              " <a list of 10 Patch objects>)"
            ]
          },
          "execution_count": 39,
          "metadata": {},
          "output_type": "execute_result"
        },
        {
          "data": {
            "image/png": "[encoded data removed]",
            "text/plain": [
              "<Figure size 432x288 with 1 Axes>"
            ]
          },
          "metadata": {
            "needs_background": "light"
          },
          "output_type": "display_data"
        }
      ],
      "source": [
        "# Histogramme:\n",
        "plt.hist(prix_moyens)"
      ]
    },
    {
      "cell_type": "markdown",
      "metadata": {
        "id": "zNv3E9MnN6Fu"
      },
      "source": [
        "<font color=\"RED\" size=\"+1\">**[Q]**</font> **Bornes de variations**\n",
        "\n",
        "* Calculer les valeurs min et max des prix moyens"
      ]
    },
    {
      "cell_type": "code",
      "execution_count": 40,
      "metadata": {
        "colab": {
          "base_uri": "https://localhost:8080/"
        },
        "id": "6tkrtqSdN6Fv",
        "outputId": "3779b33a-a07e-45a7-ce03-079e9c6396a4"
      },
      "outputs": [
        {
          "name": "stdout",
          "output_type": "stream",
          "text": [
            "Pour les prix moyens : La valeur min est : 80.89095041322314 et la valeur max est : 659.8510743801653\n"
          ]
        }
      ],
      "source": [
        "print(\n",
        "    f\"Pour les prix moyens : La valeur min est : {prix_moyens.min()} et la valeur max est : {prix_moyens.max()}\")\n"
      ]
    },
    {
      "cell_type": "markdown",
      "metadata": {
        "id": "8G6QG6PZN6Fv"
      },
      "source": [
        "<font color=\"RED\" size=\"+1\">**[Q]**</font> **Calcul d'un effectif**\n",
        "\n",
        "Pour mieux contrôler le tracé de l'histogramme, il est préférable de donner la taille de l'intervalle de discrétisation à utiliser pour calculer les effectifs.\n",
        "\n",
        "En utilisant l'option bins de la fonction de matplotlib `hist`, tracer l'histogramme avec un intervalle de discrétisation de taille 20."
      ]
    },
    {
      "cell_type": "code",
      "execution_count": 41,
      "metadata": {
        "colab": {
          "base_uri": "https://localhost:8080/",
          "height": 421
        },
        "id": "AVQr1Sh_N6Fw",
        "outputId": "0876de6e-08bd-4600-86a8-740914c915f6"
      },
      "outputs": [
        {
          "data": {
            "text/plain": [
              "(array([ 1.,  6., 15., 11.,  6.,  8.,  0.,  0.,  1.,  0.,  1.,  0.,  0.,\n",
              "         0.,  0.,  0.,  0.,  0.,  0.,  2.]),\n",
              " array([ 80.89095041, 109.83895661, 138.78696281, 167.73496901,\n",
              "        196.68297521, 225.6309814 , 254.5789876 , 283.5269938 ,\n",
              "        312.475     , 341.4230062 , 370.3710124 , 399.3190186 ,\n",
              "        428.26702479, 457.21503099, 486.16303719, 515.11104339,\n",
              "        544.05904959, 573.00705579, 601.95506198, 630.90306818,\n",
              "        659.85107438]),\n",
              " <a list of 20 Patch objects>)"
            ]
          },
          "execution_count": 41,
          "metadata": {},
          "output_type": "execute_result"
        },
        {
          "data": {
            "image/png": "[encoded data removed]",
            "text/plain": [
              "<Figure size 432x288 with 1 Axes>"
            ]
          },
          "metadata": {
            "needs_background": "light"
          },
          "output_type": "display_data"
        }
      ],
      "source": [
        "plt.hist(prix_moyens, bins=20)\n"
      ]
    },
    {
      "cell_type": "markdown",
      "metadata": {
        "id": "_oVhjEDlN6Fw"
      },
      "source": [
        "<font color=\"RED\" size=\"+1\">**[Q]**</font> **Changement d'échelle**\n",
        "\n",
        "Même chose mais avec maintenant un intervalle de taille 40."
      ]
    },
    {
      "cell_type": "code",
      "execution_count": 42,
      "metadata": {
        "colab": {
          "base_uri": "https://localhost:8080/",
          "height": 508
        },
        "id": "APY_-n10N6Fx",
        "outputId": "b6976727-9bfa-40b4-ba6b-0ad219c7a624"
      },
      "outputs": [
        {
          "data": {
            "text/plain": [
              "(array([ 1.,  0.,  3.,  3., 10.,  5.,  1., 10.,  4.,  2.,  3.,  5.,  0.,\n",
              "         0.,  0.,  0.,  0.,  1.,  0.,  0.,  0.,  1.,  0.,  0.,  0.,  0.,\n",
              "         0.,  0.,  0.,  0.,  0.,  0.,  0.,  0.,  0.,  0.,  0.,  0.,  1.,\n",
              "         1.]), array([ 80.89095041,  95.36495351, 109.83895661, 124.31295971,\n",
              "        138.78696281, 153.26096591, 167.73496901, 182.20897211,\n",
              "        196.68297521, 211.15697831, 225.6309814 , 240.1049845 ,\n",
              "        254.5789876 , 269.0529907 , 283.5269938 , 298.0009969 ,\n",
              "        312.475     , 326.9490031 , 341.4230062 , 355.8970093 ,\n",
              "        370.3710124 , 384.8450155 , 399.3190186 , 413.79302169,\n",
              "        428.26702479, 442.74102789, 457.21503099, 471.68903409,\n",
              "        486.16303719, 500.63704029, 515.11104339, 529.58504649,\n",
              "        544.05904959, 558.53305269, 573.00705579, 587.48105888,\n",
              "        601.95506198, 616.42906508, 630.90306818, 645.37707128,\n",
              "        659.85107438]), <a list of 40 Patch objects>)"
            ]
          },
          "execution_count": 42,
          "metadata": {},
          "output_type": "execute_result"
        },
        {
          "data": {
            "image/png": "[encoded data removed]",
            "text/plain": [
              "<Figure size 432x288 with 1 Axes>"
            ]
          },
          "metadata": {
            "needs_background": "light"
          },
          "output_type": "display_data"
        }
      ],
      "source": [
        "plt.hist(prix_moyens, bins=40)\n"
      ]
    },
    {
      "cell_type": "markdown",
      "metadata": {
        "id": "qIkybDydN6Fx"
      },
      "source": [
        "### Variance\n",
        "\n",
        "<font color=\"RED\" size=\"+1\">**[Q]**</font> **Calcul de variances**\n",
        "\n",
        "On souhaite maintenant rajouter une colonne <tt>HighQ_var</tt> aux données originales contenant la variance des prix par état. Donner les intructions Python correspondantes.\n",
        "\n",
        "**ATTENTION**, cela suppose de traiter les états (State) les uns après les autres..."
      ]
    },
    {
      "cell_type": "code",
      "execution_count": 43,
      "metadata": {
        "colab": {
          "base_uri": "https://localhost:8080/",
          "height": 206
        },
        "id": "pRa_EDcGN6Fy",
        "outputId": "7c462ad4-8d71-47da-c81a-921038bd4e8c"
      },
      "outputs": [
        {
          "data": {
            "text/html": [
              "\n",
              "  <div id=\"df-459231ae-12c6-43b9-a304-d8c4d2c81e27\">\n",
              "    <div class=\"colab-df-container\">\n",
              "      <div>\n",
              "<style scoped>\n",
              "    .dataframe tbody tr th:only-of-type {\n",
              "        vertical-align: middle;\n",
              "    }\n",
              "\n",
              "    .dataframe tbody tr th {\n",
              "        vertical-align: top;\n",
              "    }\n",
              "\n",
              "    .dataframe thead th {\n",
              "        text-align: right;\n",
              "    }\n",
              "</style>\n",
              "<table border=\"1\" class=\"dataframe\">\n",
              "  <thead>\n",
              "    <tr style=\"text-align: right;\">\n",
              "      <th></th>\n",
              "      <th>State</th>\n",
              "      <th>HighQ</th>\n",
              "      <th>HighQN</th>\n",
              "      <th>MedQ</th>\n",
              "      <th>MedQN</th>\n",
              "      <th>LowQ</th>\n",
              "      <th>LowQN</th>\n",
              "      <th>date</th>\n",
              "    </tr>\n",
              "  </thead>\n",
              "  <tbody>\n",
              "    <tr>\n",
              "      <th>0</th>\n",
              "      <td>Alabama</td>\n",
              "      <td>339.06</td>\n",
              "      <td>1042</td>\n",
              "      <td>198.64</td>\n",
              "      <td>933</td>\n",
              "      <td>149.49</td>\n",
              "      <td>123</td>\n",
              "      <td>2014-01-01</td>\n",
              "    </tr>\n",
              "    <tr>\n",
              "      <th>1</th>\n",
              "      <td>Alaska</td>\n",
              "      <td>288.75</td>\n",
              "      <td>252</td>\n",
              "      <td>260.60</td>\n",
              "      <td>297</td>\n",
              "      <td>388.58</td>\n",
              "      <td>26</td>\n",
              "      <td>2014-01-01</td>\n",
              "    </tr>\n",
              "    <tr>\n",
              "      <th>2</th>\n",
              "      <td>Arizona</td>\n",
              "      <td>303.31</td>\n",
              "      <td>1941</td>\n",
              "      <td>209.35</td>\n",
              "      <td>1625</td>\n",
              "      <td>189.45</td>\n",
              "      <td>222</td>\n",
              "      <td>2014-01-01</td>\n",
              "    </tr>\n",
              "    <tr>\n",
              "      <th>3</th>\n",
              "      <td>Arkansas</td>\n",
              "      <td>361.85</td>\n",
              "      <td>576</td>\n",
              "      <td>185.62</td>\n",
              "      <td>544</td>\n",
              "      <td>125.87</td>\n",
              "      <td>112</td>\n",
              "      <td>2014-01-01</td>\n",
              "    </tr>\n",
              "    <tr>\n",
              "      <th>4</th>\n",
              "      <td>California</td>\n",
              "      <td>248.78</td>\n",
              "      <td>12096</td>\n",
              "      <td>193.56</td>\n",
              "      <td>12812</td>\n",
              "      <td>192.92</td>\n",
              "      <td>778</td>\n",
              "      <td>2014-01-01</td>\n",
              "    </tr>\n",
              "  </tbody>\n",
              "</table>\n",
              "</div>\n",
              "      <button class=\"colab-df-convert\" onclick=\"convertToInteractive('df-459231ae-12c6-43b9-a304-d8c4d2c81e27')\"\n",
              "              title=\"Convert this dataframe to an interactive table.\"\n",
              "              style=\"display:none;\">\n",
              "        \n",
              "  <svg xmlns=\"http://www.w3.org/2000/svg\" height=\"24px\"viewBox=\"0 0 24 24\"\n",
              "       width=\"24px\">\n",
              "    <path d=\"M0 0h24v24H0V0z\" fill=\"none\"/>\n",
              "    <path d=\"M18.56 5.44l.94 2.06.94-2.06 2.06-.94-2.06-.94-.94-2.06-.94 2.06-2.06.94zm-11 1L8.5 8.5l.94-2.06 2.06-.94-2.06-.94L8.5 2.5l-.94 2.06-2.06.94zm10 10l.94 2.06.94-2.06 2.06-.94-2.06-.94-.94-2.06-.94 2.06-2.06.94z\"/><path d=\"M17.41 7.96l-1.37-1.37c-.4-.4-.92-.59-1.43-.59-.52 0-1.04.2-1.43.59L10.3 9.45l-7.72 7.72c-.78.78-.78 2.05 0 2.83L4 21.41c.39.39.9.59 1.41.59.51 0 1.02-.2 1.41-.59l7.78-7.78 2.81-2.81c.8-.78.8-2.07 0-2.86zM5.41 20L4 18.59l7.72-7.72 1.47 1.35L5.41 20z\"/>\n",
              "  </svg>\n",
              "      </button>\n",
              "      \n",
              "  <style>\n",
              "    .colab-df-container {\n",
              "      display:flex;\n",
              "      flex-wrap:wrap;\n",
              "      gap: 12px;\n",
              "    }\n",
              "\n",
              "    .colab-df-convert {\n",
              "      background-color: #E8F0FE;\n",
              "      border: none;\n",
              "      border-radius: 50%;\n",
              "      cursor: pointer;\n",
              "      display: none;\n",
              "      fill: #1967D2;\n",
              "      height: 32px;\n",
              "      padding: 0 0 0 0;\n",
              "      width: 32px;\n",
              "    }\n",
              "\n",
              "    .colab-df-convert:hover {\n",
              "      background-color: #E2EBFA;\n",
              "      box-shadow: 0px 1px 2px rgba(60, 64, 67, 0.3), 0px 1px 3px 1px rgba(60, 64, 67, 0.15);\n",
              "      fill: #174EA6;\n",
              "    }\n",
              "\n",
              "    [theme=dark] .colab-df-convert {\n",
              "      background-color: #3B4455;\n",
              "      fill: #D2E3FC;\n",
              "    }\n",
              "\n",
              "    [theme=dark] .colab-df-convert:hover {\n",
              "      background-color: #434B5C;\n",
              "      box-shadow: 0px 1px 3px 1px rgba(0, 0, 0, 0.15);\n",
              "      filter: drop-shadow(0px 1px 2px rgba(0, 0, 0, 0.3));\n",
              "      fill: #FFFFFF;\n",
              "    }\n",
              "  </style>\n",
              "\n",
              "      <script>\n",
              "        const buttonEl =\n",
              "          document.querySelector('#df-459231ae-12c6-43b9-a304-d8c4d2c81e27 button.colab-df-convert');\n",
              "        buttonEl.style.display =\n",
              "          google.colab.kernel.accessAllowed ? 'block' : 'none';\n",
              "\n",
              "        async function convertToInteractive(key) {\n",
              "          const element = document.querySelector('#df-459231ae-12c6-43b9-a304-d8c4d2c81e27');\n",
              "          const dataTable =\n",
              "            await google.colab.kernel.invokeFunction('convertToInteractive',\n",
              "                                                     [key], {});\n",
              "          if (!dataTable) return;\n",
              "\n",
              "          const docLinkHtml = 'Like what you see? Visit the ' +\n",
              "            '<a target=\"_blank\" href=https://colab.research.google.com/notebooks/data_table.ipynb>data table notebook</a>'\n",
              "            + ' to learn more about interactive tables.';\n",
              "          element.innerHTML = '';\n",
              "          dataTable['output_type'] = 'display_data';\n",
              "          await google.colab.output.renderOutput(dataTable, element);\n",
              "          const docLink = document.createElement('div');\n",
              "          docLink.innerHTML = docLinkHtml;\n",
              "          element.appendChild(docLink);\n",
              "        }\n",
              "      </script>\n",
              "    </div>\n",
              "  </div>\n",
              "  "
            ],
            "text/plain": [
              "        State   HighQ  HighQN    MedQ  MedQN    LowQ  LowQN       date\n",
              "0     Alabama  339.06    1042  198.64    933  149.49    123 2014-01-01\n",
              "1      Alaska  288.75     252  260.60    297  388.58     26 2014-01-01\n",
              "2     Arizona  303.31    1941  209.35   1625  189.45    222 2014-01-01\n",
              "3    Arkansas  361.85     576  185.62    544  125.87    112 2014-01-01\n",
              "4  California  248.78   12096  193.56  12812  192.92    778 2014-01-01"
            ]
          },
          "execution_count": 43,
          "metadata": {},
          "output_type": "execute_result"
        }
      ],
      "source": [
        "prices_pd.head()"
      ]
    },
    {
      "cell_type": "code",
      "execution_count": 45,
      "metadata": {
        "colab": {
          "base_uri": "https://localhost:8080/",
          "height": 424
        },
        "id": "EYRbPltQN6Fy",
        "outputId": "080dcfab-db5a-469e-a1e9-f23f68c083a7"
      },
      "outputs": [
        {
          "data": {
            "text/html": [
              "\n",
              "  <div id=\"df-7a8ea782-9344-49f1-be3d-2f547452fba9\">\n",
              "    <div class=\"colab-df-container\">\n",
              "      <div>\n",
              "<style scoped>\n",
              "    .dataframe tbody tr th:only-of-type {\n",
              "        vertical-align: middle;\n",
              "    }\n",
              "\n",
              "    .dataframe tbody tr th {\n",
              "        vertical-align: top;\n",
              "    }\n",
              "\n",
              "    .dataframe thead th {\n",
              "        text-align: right;\n",
              "    }\n",
              "</style>\n",
              "<table border=\"1\" class=\"dataframe\">\n",
              "  <thead>\n",
              "    <tr style=\"text-align: right;\">\n",
              "      <th></th>\n",
              "      <th>State</th>\n",
              "      <th>HighQ</th>\n",
              "      <th>HighQN</th>\n",
              "      <th>MedQ</th>\n",
              "      <th>MedQN</th>\n",
              "      <th>LowQ</th>\n",
              "      <th>LowQN</th>\n",
              "      <th>date</th>\n",
              "      <th>HighQ_var</th>\n",
              "    </tr>\n",
              "  </thead>\n",
              "  <tbody>\n",
              "    <tr>\n",
              "      <th>0</th>\n",
              "      <td>Alabama</td>\n",
              "      <td>339.06</td>\n",
              "      <td>1042</td>\n",
              "      <td>198.64</td>\n",
              "      <td>933</td>\n",
              "      <td>149.49</td>\n",
              "      <td>123</td>\n",
              "      <td>2014-01-01</td>\n",
              "      <td>2.370749</td>\n",
              "    </tr>\n",
              "    <tr>\n",
              "      <th>1</th>\n",
              "      <td>Alaska</td>\n",
              "      <td>288.75</td>\n",
              "      <td>252</td>\n",
              "      <td>260.60</td>\n",
              "      <td>297</td>\n",
              "      <td>388.58</td>\n",
              "      <td>26</td>\n",
              "      <td>2014-01-01</td>\n",
              "      <td>31.137567</td>\n",
              "    </tr>\n",
              "    <tr>\n",
              "      <th>2</th>\n",
              "      <td>Arizona</td>\n",
              "      <td>303.31</td>\n",
              "      <td>1941</td>\n",
              "      <td>209.35</td>\n",
              "      <td>1625</td>\n",
              "      <td>189.45</td>\n",
              "      <td>222</td>\n",
              "      <td>2014-01-01</td>\n",
              "      <td>4.063247</td>\n",
              "    </tr>\n",
              "    <tr>\n",
              "      <th>3</th>\n",
              "      <td>Arkansas</td>\n",
              "      <td>361.85</td>\n",
              "      <td>576</td>\n",
              "      <td>185.62</td>\n",
              "      <td>544</td>\n",
              "      <td>125.87</td>\n",
              "      <td>112</td>\n",
              "      <td>2014-01-01</td>\n",
              "      <td>47.141986</td>\n",
              "    </tr>\n",
              "    <tr>\n",
              "      <th>4</th>\n",
              "      <td>California</td>\n",
              "      <td>248.78</td>\n",
              "      <td>12096</td>\n",
              "      <td>193.56</td>\n",
              "      <td>12812</td>\n",
              "      <td>192.92</td>\n",
              "      <td>778</td>\n",
              "      <td>2014-01-01</td>\n",
              "      <td>2.982686</td>\n",
              "    </tr>\n",
              "    <tr>\n",
              "      <th>...</th>\n",
              "      <td>...</td>\n",
              "      <td>...</td>\n",
              "      <td>...</td>\n",
              "      <td>...</td>\n",
              "      <td>...</td>\n",
              "      <td>...</td>\n",
              "      <td>...</td>\n",
              "      <td>...</td>\n",
              "      <td>...</td>\n",
              "    </tr>\n",
              "    <tr>\n",
              "      <th>22894</th>\n",
              "      <td>Virginia</td>\n",
              "      <td>364.98</td>\n",
              "      <td>3513</td>\n",
              "      <td>293.12</td>\n",
              "      <td>3079</td>\n",
              "      <td>NaN</td>\n",
              "      <td>284</td>\n",
              "      <td>2014-12-31</td>\n",
              "      <td>11.862465</td>\n",
              "    </tr>\n",
              "    <tr>\n",
              "      <th>22895</th>\n",
              "      <td>Washington</td>\n",
              "      <td>233.05</td>\n",
              "      <td>3337</td>\n",
              "      <td>189.92</td>\n",
              "      <td>3562</td>\n",
              "      <td>NaN</td>\n",
              "      <td>160</td>\n",
              "      <td>2014-12-31</td>\n",
              "      <td>1.347089</td>\n",
              "    </tr>\n",
              "    <tr>\n",
              "      <th>22896</th>\n",
              "      <td>West Virginia</td>\n",
              "      <td>359.35</td>\n",
              "      <td>551</td>\n",
              "      <td>224.03</td>\n",
              "      <td>545</td>\n",
              "      <td>NaN</td>\n",
              "      <td>60</td>\n",
              "      <td>2014-12-31</td>\n",
              "      <td>8.248240</td>\n",
              "    </tr>\n",
              "    <tr>\n",
              "      <th>22897</th>\n",
              "      <td>Wisconsin</td>\n",
              "      <td>350.52</td>\n",
              "      <td>2244</td>\n",
              "      <td>272.71</td>\n",
              "      <td>2221</td>\n",
              "      <td>NaN</td>\n",
              "      <td>167</td>\n",
              "      <td>2014-12-31</td>\n",
              "      <td>11.744638</td>\n",
              "    </tr>\n",
              "    <tr>\n",
              "      <th>22898</th>\n",
              "      <td>Wyoming</td>\n",
              "      <td>322.27</td>\n",
              "      <td>131</td>\n",
              "      <td>351.86</td>\n",
              "      <td>197</td>\n",
              "      <td>NaN</td>\n",
              "      <td>12</td>\n",
              "      <td>2014-12-31</td>\n",
              "      <td>219.612495</td>\n",
              "    </tr>\n",
              "  </tbody>\n",
              "</table>\n",
              "<p>22899 rows × 9 columns</p>\n",
              "</div>\n",
              "      <button class=\"colab-df-convert\" onclick=\"convertToInteractive('df-7a8ea782-9344-49f1-be3d-2f547452fba9')\"\n",
              "              title=\"Convert this dataframe to an interactive table.\"\n",
              "              style=\"display:none;\">\n",
              "        \n",
              "  <svg xmlns=\"http://www.w3.org/2000/svg\" height=\"24px\"viewBox=\"0 0 24 24\"\n",
              "       width=\"24px\">\n",
              "    <path d=\"M0 0h24v24H0V0z\" fill=\"none\"/>\n",
              "    <path d=\"M18.56 5.44l.94 2.06.94-2.06 2.06-.94-2.06-.94-.94-2.06-.94 2.06-2.06.94zm-11 1L8.5 8.5l.94-2.06 2.06-.94-2.06-.94L8.5 2.5l-.94 2.06-2.06.94zm10 10l.94 2.06.94-2.06 2.06-.94-2.06-.94-.94-2.06-.94 2.06-2.06.94z\"/><path d=\"M17.41 7.96l-1.37-1.37c-.4-.4-.92-.59-1.43-.59-.52 0-1.04.2-1.43.59L10.3 9.45l-7.72 7.72c-.78.78-.78 2.05 0 2.83L4 21.41c.39.39.9.59 1.41.59.51 0 1.02-.2 1.41-.59l7.78-7.78 2.81-2.81c.8-.78.8-2.07 0-2.86zM5.41 20L4 18.59l7.72-7.72 1.47 1.35L5.41 20z\"/>\n",
              "  </svg>\n",
              "      </button>\n",
              "      \n",
              "  <style>\n",
              "    .colab-df-container {\n",
              "      display:flex;\n",
              "      flex-wrap:wrap;\n",
              "      gap: 12px;\n",
              "    }\n",
              "\n",
              "    .colab-df-convert {\n",
              "      background-color: #E8F0FE;\n",
              "      border: none;\n",
              "      border-radius: 50%;\n",
              "      cursor: pointer;\n",
              "      display: none;\n",
              "      fill: #1967D2;\n",
              "      height: 32px;\n",
              "      padding: 0 0 0 0;\n",
              "      width: 32px;\n",
              "    }\n",
              "\n",
              "    .colab-df-convert:hover {\n",
              "      background-color: #E2EBFA;\n",
              "      box-shadow: 0px 1px 2px rgba(60, 64, 67, 0.3), 0px 1px 3px 1px rgba(60, 64, 67, 0.15);\n",
              "      fill: #174EA6;\n",
              "    }\n",
              "\n",
              "    [theme=dark] .colab-df-convert {\n",
              "      background-color: #3B4455;\n",
              "      fill: #D2E3FC;\n",
              "    }\n",
              "\n",
              "    [theme=dark] .colab-df-convert:hover {\n",
              "      background-color: #434B5C;\n",
              "      box-shadow: 0px 1px 3px 1px rgba(0, 0, 0, 0.15);\n",
              "      filter: drop-shadow(0px 1px 2px rgba(0, 0, 0, 0.3));\n",
              "      fill: #FFFFFF;\n",
              "    }\n",
              "  </style>\n",
              "\n",
              "      <script>\n",
              "        const buttonEl =\n",
              "          document.querySelector('#df-7a8ea782-9344-49f1-be3d-2f547452fba9 button.colab-df-convert');\n",
              "        buttonEl.style.display =\n",
              "          google.colab.kernel.accessAllowed ? 'block' : 'none';\n",
              "\n",
              "        async function convertToInteractive(key) {\n",
              "          const element = document.querySelector('#df-7a8ea782-9344-49f1-be3d-2f547452fba9');\n",
              "          const dataTable =\n",
              "            await google.colab.kernel.invokeFunction('convertToInteractive',\n",
              "                                                     [key], {});\n",
              "          if (!dataTable) return;\n",
              "\n",
              "          const docLinkHtml = 'Like what you see? Visit the ' +\n",
              "            '<a target=\"_blank\" href=https://colab.research.google.com/notebooks/data_table.ipynb>data table notebook</a>'\n",
              "            + ' to learn more about interactive tables.';\n",
              "          element.innerHTML = '';\n",
              "          dataTable['output_type'] = 'display_data';\n",
              "          await google.colab.output.renderOutput(dataTable, element);\n",
              "          const docLink = document.createElement('div');\n",
              "          docLink.innerHTML = docLinkHtml;\n",
              "          element.appendChild(docLink);\n",
              "        }\n",
              "      </script>\n",
              "    </div>\n",
              "  </div>\n",
              "  "
            ],
            "text/plain": [
              "               State   HighQ  HighQN    MedQ  MedQN    LowQ  LowQN       date  \\\n",
              "0            Alabama  339.06    1042  198.64    933  149.49    123 2014-01-01   \n",
              "1             Alaska  288.75     252  260.60    297  388.58     26 2014-01-01   \n",
              "2            Arizona  303.31    1941  209.35   1625  189.45    222 2014-01-01   \n",
              "3           Arkansas  361.85     576  185.62    544  125.87    112 2014-01-01   \n",
              "4         California  248.78   12096  193.56  12812  192.92    778 2014-01-01   \n",
              "...              ...     ...     ...     ...    ...     ...    ...        ...   \n",
              "22894       Virginia  364.98    3513  293.12   3079     NaN    284 2014-12-31   \n",
              "22895     Washington  233.05    3337  189.92   3562     NaN    160 2014-12-31   \n",
              "22896  West Virginia  359.35     551  224.03    545     NaN     60 2014-12-31   \n",
              "22897      Wisconsin  350.52    2244  272.71   2221     NaN    167 2014-12-31   \n",
              "22898        Wyoming  322.27     131  351.86    197     NaN     12 2014-12-31   \n",
              "\n",
              "        HighQ_var  \n",
              "0        2.370749  \n",
              "1       31.137567  \n",
              "2        4.063247  \n",
              "3       47.141986  \n",
              "4        2.982686  \n",
              "...           ...  \n",
              "22894   11.862465  \n",
              "22895    1.347089  \n",
              "22896    8.248240  \n",
              "22897   11.744638  \n",
              "22898  219.612495  \n",
              "\n",
              "[22899 rows x 9 columns]"
            ]
          },
          "execution_count": 45,
          "metadata": {},
          "output_type": "execute_result"
        }
      ],
      "source": [
        "prices_pd[\"HighQ_var\"] = prices_pd.groupby(\"State\")[\"HighQ\"].transform(\"var\")\n",
        "prices_pd"
      ]
    },
    {
      "cell_type": "markdown",
      "metadata": {
        "id": "Kc1ncV99N6Fy"
      },
      "source": [
        "<font color='blue'>On a regrouper les états par la fonction 'groupby' pour calculer la variance de HighQ pour chacune des états à l'aide de la fonction 'transform('var')' sans utiliser des boucle 'for' \n",
        "\n",
        "La fonction \"transform\" prend en paramètre une fonction qui est appliquée à chaque groupe. Cette fonction peut être une fonction prédéfinie de Pandas (comme \"mean\", \"sum\", \"count\", etc.) ou une fonction personnalisée.</font>"
      ]
    },
    {
      "cell_type": "code",
      "execution_count": 46,
      "metadata": {
        "colab": {
          "base_uri": "https://localhost:8080/",
          "height": 424
        },
        "id": "MPG9GVIYN6Fz",
        "outputId": "7db14ab6-eae1-4f03-a646-f1f59ad64eed"
      },
      "outputs": [
        {
          "data": {
            "text/html": [
              "\n",
              "  <div id=\"df-0a540942-f890-4e27-a98d-4219b15509a5\">\n",
              "    <div class=\"colab-df-container\">\n",
              "      <div>\n",
              "<style scoped>\n",
              "    .dataframe tbody tr th:only-of-type {\n",
              "        vertical-align: middle;\n",
              "    }\n",
              "\n",
              "    .dataframe tbody tr th {\n",
              "        vertical-align: top;\n",
              "    }\n",
              "\n",
              "    .dataframe thead th {\n",
              "        text-align: right;\n",
              "    }\n",
              "</style>\n",
              "<table border=\"1\" class=\"dataframe\">\n",
              "  <thead>\n",
              "    <tr style=\"text-align: right;\">\n",
              "      <th></th>\n",
              "      <th>State</th>\n",
              "      <th>HighQ_var</th>\n",
              "    </tr>\n",
              "  </thead>\n",
              "  <tbody>\n",
              "    <tr>\n",
              "      <th>0</th>\n",
              "      <td>Alabama</td>\n",
              "      <td>2.370749</td>\n",
              "    </tr>\n",
              "    <tr>\n",
              "      <th>1</th>\n",
              "      <td>Alaska</td>\n",
              "      <td>31.137567</td>\n",
              "    </tr>\n",
              "    <tr>\n",
              "      <th>2</th>\n",
              "      <td>Arizona</td>\n",
              "      <td>4.063247</td>\n",
              "    </tr>\n",
              "    <tr>\n",
              "      <th>3</th>\n",
              "      <td>Arkansas</td>\n",
              "      <td>47.141986</td>\n",
              "    </tr>\n",
              "    <tr>\n",
              "      <th>4</th>\n",
              "      <td>California</td>\n",
              "      <td>2.982686</td>\n",
              "    </tr>\n",
              "    <tr>\n",
              "      <th>...</th>\n",
              "      <td>...</td>\n",
              "      <td>...</td>\n",
              "    </tr>\n",
              "    <tr>\n",
              "      <th>22894</th>\n",
              "      <td>Virginia</td>\n",
              "      <td>11.862465</td>\n",
              "    </tr>\n",
              "    <tr>\n",
              "      <th>22895</th>\n",
              "      <td>Washington</td>\n",
              "      <td>1.347089</td>\n",
              "    </tr>\n",
              "    <tr>\n",
              "      <th>22896</th>\n",
              "      <td>West Virginia</td>\n",
              "      <td>8.248240</td>\n",
              "    </tr>\n",
              "    <tr>\n",
              "      <th>22897</th>\n",
              "      <td>Wisconsin</td>\n",
              "      <td>11.744638</td>\n",
              "    </tr>\n",
              "    <tr>\n",
              "      <th>22898</th>\n",
              "      <td>Wyoming</td>\n",
              "      <td>219.612495</td>\n",
              "    </tr>\n",
              "  </tbody>\n",
              "</table>\n",
              "<p>22899 rows × 2 columns</p>\n",
              "</div>\n",
              "      <button class=\"colab-df-convert\" onclick=\"convertToInteractive('df-0a540942-f890-4e27-a98d-4219b15509a5')\"\n",
              "              title=\"Convert this dataframe to an interactive table.\"\n",
              "              style=\"display:none;\">\n",
              "        \n",
              "  <svg xmlns=\"http://www.w3.org/2000/svg\" height=\"24px\"viewBox=\"0 0 24 24\"\n",
              "       width=\"24px\">\n",
              "    <path d=\"M0 0h24v24H0V0z\" fill=\"none\"/>\n",
              "    <path d=\"M18.56 5.44l.94 2.06.94-2.06 2.06-.94-2.06-.94-.94-2.06-.94 2.06-2.06.94zm-11 1L8.5 8.5l.94-2.06 2.06-.94-2.06-.94L8.5 2.5l-.94 2.06-2.06.94zm10 10l.94 2.06.94-2.06 2.06-.94-2.06-.94-.94-2.06-.94 2.06-2.06.94z\"/><path d=\"M17.41 7.96l-1.37-1.37c-.4-.4-.92-.59-1.43-.59-.52 0-1.04.2-1.43.59L10.3 9.45l-7.72 7.72c-.78.78-.78 2.05 0 2.83L4 21.41c.39.39.9.59 1.41.59.51 0 1.02-.2 1.41-.59l7.78-7.78 2.81-2.81c.8-.78.8-2.07 0-2.86zM5.41 20L4 18.59l7.72-7.72 1.47 1.35L5.41 20z\"/>\n",
              "  </svg>\n",
              "      </button>\n",
              "      \n",
              "  <style>\n",
              "    .colab-df-container {\n",
              "      display:flex;\n",
              "      flex-wrap:wrap;\n",
              "      gap: 12px;\n",
              "    }\n",
              "\n",
              "    .colab-df-convert {\n",
              "      background-color: #E8F0FE;\n",
              "      border: none;\n",
              "      border-radius: 50%;\n",
              "      cursor: pointer;\n",
              "      display: none;\n",
              "      fill: #1967D2;\n",
              "      height: 32px;\n",
              "      padding: 0 0 0 0;\n",
              "      width: 32px;\n",
              "    }\n",
              "\n",
              "    .colab-df-convert:hover {\n",
              "      background-color: #E2EBFA;\n",
              "      box-shadow: 0px 1px 2px rgba(60, 64, 67, 0.3), 0px 1px 3px 1px rgba(60, 64, 67, 0.15);\n",
              "      fill: #174EA6;\n",
              "    }\n",
              "\n",
              "    [theme=dark] .colab-df-convert {\n",
              "      background-color: #3B4455;\n",
              "      fill: #D2E3FC;\n",
              "    }\n",
              "\n",
              "    [theme=dark] .colab-df-convert:hover {\n",
              "      background-color: #434B5C;\n",
              "      box-shadow: 0px 1px 3px 1px rgba(0, 0, 0, 0.15);\n",
              "      filter: drop-shadow(0px 1px 2px rgba(0, 0, 0, 0.3));\n",
              "      fill: #FFFFFF;\n",
              "    }\n",
              "  </style>\n",
              "\n",
              "      <script>\n",
              "        const buttonEl =\n",
              "          document.querySelector('#df-0a540942-f890-4e27-a98d-4219b15509a5 button.colab-df-convert');\n",
              "        buttonEl.style.display =\n",
              "          google.colab.kernel.accessAllowed ? 'block' : 'none';\n",
              "\n",
              "        async function convertToInteractive(key) {\n",
              "          const element = document.querySelector('#df-0a540942-f890-4e27-a98d-4219b15509a5');\n",
              "          const dataTable =\n",
              "            await google.colab.kernel.invokeFunction('convertToInteractive',\n",
              "                                                     [key], {});\n",
              "          if (!dataTable) return;\n",
              "\n",
              "          const docLinkHtml = 'Like what you see? Visit the ' +\n",
              "            '<a target=\"_blank\" href=https://colab.research.google.com/notebooks/data_table.ipynb>data table notebook</a>'\n",
              "            + ' to learn more about interactive tables.';\n",
              "          element.innerHTML = '';\n",
              "          dataTable['output_type'] = 'display_data';\n",
              "          await google.colab.output.renderOutput(dataTable, element);\n",
              "          const docLink = document.createElement('div');\n",
              "          docLink.innerHTML = docLinkHtml;\n",
              "          element.appendChild(docLink);\n",
              "        }\n",
              "      </script>\n",
              "    </div>\n",
              "  </div>\n",
              "  "
            ],
            "text/plain": [
              "               State   HighQ_var\n",
              "0            Alabama    2.370749\n",
              "1             Alaska   31.137567\n",
              "2            Arizona    4.063247\n",
              "3           Arkansas   47.141986\n",
              "4         California    2.982686\n",
              "...              ...         ...\n",
              "22894       Virginia   11.862465\n",
              "22895     Washington    1.347089\n",
              "22896  West Virginia    8.248240\n",
              "22897      Wisconsin   11.744638\n",
              "22898        Wyoming  219.612495\n",
              "\n",
              "[22899 rows x 2 columns]"
            ]
          },
          "execution_count": 46,
          "metadata": {},
          "output_type": "execute_result"
        }
      ],
      "source": [
        "prices_pd[[\"State\", \"HighQ_var\"]]\n"
      ]
    },
    {
      "cell_type": "markdown",
      "metadata": {
        "id": "B1CJpvmrN6Fz"
      },
      "source": [
        "# Travail de synthèse : La Californie\n",
        "\n",
        "Pandas permet de faire la synthèse de données de la manière suivante (pour le DataFrame de nom <tt>df</tt>): \n",
        "    \n",
        "    df.describe()\n",
        "    \n",
        "\n",
        "<font color=\"RED\" size=\"+1\">**[Q]**</font> Vérifier que les valeurs trouvées sur l'état de la Californie correspondent aux valeurs trouvées grâce à vos différentes fonctions. \n",
        "\n",
        "Pour cela, donner dans ce qui suit le code qui utilise vos fonctions (moyennes, variance, et quartiles) ainsi que le résutlats de la fonction <tt>describe</tt>.\n"
      ]
    },
    {
      "cell_type": "code",
      "execution_count": 48,
      "metadata": {
        "colab": {
          "base_uri": "https://localhost:8080/",
          "height": 300
        },
        "id": "KKraFIovN6Fz",
        "outputId": "ce11829e-5ec0-40d4-cb35-d5436c91fb13"
      },
      "outputs": [
        {
          "data": {
            "text/html": [
              "\n",
              "  <div id=\"df-b1b07411-3bd1-40a4-82bd-76c95ec5a8d1\">\n",
              "    <div class=\"colab-df-container\">\n",
              "      <div>\n",
              "<style scoped>\n",
              "    .dataframe tbody tr th:only-of-type {\n",
              "        vertical-align: middle;\n",
              "    }\n",
              "\n",
              "    .dataframe tbody tr th {\n",
              "        vertical-align: top;\n",
              "    }\n",
              "\n",
              "    .dataframe thead th {\n",
              "        text-align: right;\n",
              "    }\n",
              "</style>\n",
              "<table border=\"1\" class=\"dataframe\">\n",
              "  <thead>\n",
              "    <tr style=\"text-align: right;\">\n",
              "      <th></th>\n",
              "      <th>HighQ</th>\n",
              "      <th>HighQN</th>\n",
              "      <th>MedQ</th>\n",
              "      <th>MedQN</th>\n",
              "      <th>LowQ</th>\n",
              "      <th>LowQN</th>\n",
              "      <th>HighQ_var</th>\n",
              "    </tr>\n",
              "  </thead>\n",
              "  <tbody>\n",
              "    <tr>\n",
              "      <th>count</th>\n",
              "      <td>449.000000</td>\n",
              "      <td>449.000000</td>\n",
              "      <td>449.000000</td>\n",
              "      <td>449.000000</td>\n",
              "      <td>242.000000</td>\n",
              "      <td>449.000000</td>\n",
              "      <td>4.490000e+02</td>\n",
              "    </tr>\n",
              "    <tr>\n",
              "      <th>mean</th>\n",
              "      <td>245.376125</td>\n",
              "      <td>14947.073497</td>\n",
              "      <td>191.268909</td>\n",
              "      <td>16769.821826</td>\n",
              "      <td>190.795992</td>\n",
              "      <td>976.298441</td>\n",
              "      <td>2.982686e+00</td>\n",
              "    </tr>\n",
              "    <tr>\n",
              "      <th>std</th>\n",
              "      <td>1.727046</td>\n",
              "      <td>1656.133565</td>\n",
              "      <td>1.524028</td>\n",
              "      <td>2433.943191</td>\n",
              "      <td>1.586186</td>\n",
              "      <td>120.246714</td>\n",
              "      <td>4.445846e-16</td>\n",
              "    </tr>\n",
              "    <tr>\n",
              "      <th>min</th>\n",
              "      <td>241.840000</td>\n",
              "      <td>12021.000000</td>\n",
              "      <td>187.850000</td>\n",
              "      <td>12724.000000</td>\n",
              "      <td>187.830000</td>\n",
              "      <td>770.000000</td>\n",
              "      <td>2.982686e+00</td>\n",
              "    </tr>\n",
              "    <tr>\n",
              "      <th>25%</th>\n",
              "      <td>244.480000</td>\n",
              "      <td>13610.000000</td>\n",
              "      <td>190.260000</td>\n",
              "      <td>14826.000000</td>\n",
              "      <td>189.420000</td>\n",
              "      <td>878.000000</td>\n",
              "      <td>2.982686e+00</td>\n",
              "    </tr>\n",
              "    <tr>\n",
              "      <th>50%</th>\n",
              "      <td>245.310000</td>\n",
              "      <td>15037.000000</td>\n",
              "      <td>191.570000</td>\n",
              "      <td>16793.000000</td>\n",
              "      <td>191.075000</td>\n",
              "      <td>982.000000</td>\n",
              "      <td>2.982686e+00</td>\n",
              "    </tr>\n",
              "    <tr>\n",
              "      <th>75%</th>\n",
              "      <td>246.220000</td>\n",
              "      <td>16090.000000</td>\n",
              "      <td>192.550000</td>\n",
              "      <td>18435.000000</td>\n",
              "      <td>192.200000</td>\n",
              "      <td>1060.000000</td>\n",
              "      <td>2.982686e+00</td>\n",
              "    </tr>\n",
              "    <tr>\n",
              "      <th>max</th>\n",
              "      <td>248.820000</td>\n",
              "      <td>18492.000000</td>\n",
              "      <td>193.630000</td>\n",
              "      <td>22027.000000</td>\n",
              "      <td>193.880000</td>\n",
              "      <td>1232.000000</td>\n",
              "      <td>2.982686e+00</td>\n",
              "    </tr>\n",
              "  </tbody>\n",
              "</table>\n",
              "</div>\n",
              "      <button class=\"colab-df-convert\" onclick=\"convertToInteractive('df-b1b07411-3bd1-40a4-82bd-76c95ec5a8d1')\"\n",
              "              title=\"Convert this dataframe to an interactive table.\"\n",
              "              style=\"display:none;\">\n",
              "        \n",
              "  <svg xmlns=\"http://www.w3.org/2000/svg\" height=\"24px\"viewBox=\"0 0 24 24\"\n",
              "       width=\"24px\">\n",
              "    <path d=\"M0 0h24v24H0V0z\" fill=\"none\"/>\n",
              "    <path d=\"M18.56 5.44l.94 2.06.94-2.06 2.06-.94-2.06-.94-.94-2.06-.94 2.06-2.06.94zm-11 1L8.5 8.5l.94-2.06 2.06-.94-2.06-.94L8.5 2.5l-.94 2.06-2.06.94zm10 10l.94 2.06.94-2.06 2.06-.94-2.06-.94-.94-2.06-.94 2.06-2.06.94z\"/><path d=\"M17.41 7.96l-1.37-1.37c-.4-.4-.92-.59-1.43-.59-.52 0-1.04.2-1.43.59L10.3 9.45l-7.72 7.72c-.78.78-.78 2.05 0 2.83L4 21.41c.39.39.9.59 1.41.59.51 0 1.02-.2 1.41-.59l7.78-7.78 2.81-2.81c.8-.78.8-2.07 0-2.86zM5.41 20L4 18.59l7.72-7.72 1.47 1.35L5.41 20z\"/>\n",
              "  </svg>\n",
              "      </button>\n",
              "      \n",
              "  <style>\n",
              "    .colab-df-container {\n",
              "      display:flex;\n",
              "      flex-wrap:wrap;\n",
              "      gap: 12px;\n",
              "    }\n",
              "\n",
              "    .colab-df-convert {\n",
              "      background-color: #E8F0FE;\n",
              "      border: none;\n",
              "      border-radius: 50%;\n",
              "      cursor: pointer;\n",
              "      display: none;\n",
              "      fill: #1967D2;\n",
              "      height: 32px;\n",
              "      padding: 0 0 0 0;\n",
              "      width: 32px;\n",
              "    }\n",
              "\n",
              "    .colab-df-convert:hover {\n",
              "      background-color: #E2EBFA;\n",
              "      box-shadow: 0px 1px 2px rgba(60, 64, 67, 0.3), 0px 1px 3px 1px rgba(60, 64, 67, 0.15);\n",
              "      fill: #174EA6;\n",
              "    }\n",
              "\n",
              "    [theme=dark] .colab-df-convert {\n",
              "      background-color: #3B4455;\n",
              "      fill: #D2E3FC;\n",
              "    }\n",
              "\n",
              "    [theme=dark] .colab-df-convert:hover {\n",
              "      background-color: #434B5C;\n",
              "      box-shadow: 0px 1px 3px 1px rgba(0, 0, 0, 0.15);\n",
              "      filter: drop-shadow(0px 1px 2px rgba(0, 0, 0, 0.3));\n",
              "      fill: #FFFFFF;\n",
              "    }\n",
              "  </style>\n",
              "\n",
              "      <script>\n",
              "        const buttonEl =\n",
              "          document.querySelector('#df-b1b07411-3bd1-40a4-82bd-76c95ec5a8d1 button.colab-df-convert');\n",
              "        buttonEl.style.display =\n",
              "          google.colab.kernel.accessAllowed ? 'block' : 'none';\n",
              "\n",
              "        async function convertToInteractive(key) {\n",
              "          const element = document.querySelector('#df-b1b07411-3bd1-40a4-82bd-76c95ec5a8d1');\n",
              "          const dataTable =\n",
              "            await google.colab.kernel.invokeFunction('convertToInteractive',\n",
              "                                                     [key], {});\n",
              "          if (!dataTable) return;\n",
              "\n",
              "          const docLinkHtml = 'Like what you see? Visit the ' +\n",
              "            '<a target=\"_blank\" href=https://colab.research.google.com/notebooks/data_table.ipynb>data table notebook</a>'\n",
              "            + ' to learn more about interactive tables.';\n",
              "          element.innerHTML = '';\n",
              "          dataTable['output_type'] = 'display_data';\n",
              "          await google.colab.output.renderOutput(dataTable, element);\n",
              "          const docLink = document.createElement('div');\n",
              "          docLink.innerHTML = docLinkHtml;\n",
              "          element.appendChild(docLink);\n",
              "        }\n",
              "      </script>\n",
              "    </div>\n",
              "  </div>\n",
              "  "
            ],
            "text/plain": [
              "            HighQ        HighQN        MedQ         MedQN        LowQ  \\\n",
              "count  449.000000    449.000000  449.000000    449.000000  242.000000   \n",
              "mean   245.376125  14947.073497  191.268909  16769.821826  190.795992   \n",
              "std      1.727046   1656.133565    1.524028   2433.943191    1.586186   \n",
              "min    241.840000  12021.000000  187.850000  12724.000000  187.830000   \n",
              "25%    244.480000  13610.000000  190.260000  14826.000000  189.420000   \n",
              "50%    245.310000  15037.000000  191.570000  16793.000000  191.075000   \n",
              "75%    246.220000  16090.000000  192.550000  18435.000000  192.200000   \n",
              "max    248.820000  18492.000000  193.630000  22027.000000  193.880000   \n",
              "\n",
              "             LowQN     HighQ_var  \n",
              "count   449.000000  4.490000e+02  \n",
              "mean    976.298441  2.982686e+00  \n",
              "std     120.246714  4.445846e-16  \n",
              "min     770.000000  2.982686e+00  \n",
              "25%     878.000000  2.982686e+00  \n",
              "50%     982.000000  2.982686e+00  \n",
              "75%    1060.000000  2.982686e+00  \n",
              "max    1232.000000  2.982686e+00  "
            ]
          },
          "execution_count": 48,
          "metadata": {},
          "output_type": "execute_result"
        }
      ],
      "source": [
        "# pour commencer, on execute la commande describe sur la Californie\n",
        "prices_pd.loc[prices_pd[\"State\"]==\"California\"].describe()"
      ]
    },
    {
      "cell_type": "code",
      "execution_count": 49,
      "metadata": {
        "colab": {
          "base_uri": "https://localhost:8080/",
          "height": 300
        },
        "id": "wwRT9Zr_N6F0",
        "outputId": "d6ea3eb5-4d47-40de-f10e-f13504c10740"
      },
      "outputs": [
        {
          "data": {
            "text/html": [
              "\n",
              "  <div id=\"df-a3a36ac4-9d9d-4b6a-8a73-a98303d1b31a\">\n",
              "    <div class=\"colab-df-container\">\n",
              "      <div>\n",
              "<style scoped>\n",
              "    .dataframe tbody tr th:only-of-type {\n",
              "        vertical-align: middle;\n",
              "    }\n",
              "\n",
              "    .dataframe tbody tr th {\n",
              "        vertical-align: top;\n",
              "    }\n",
              "\n",
              "    .dataframe thead th {\n",
              "        text-align: right;\n",
              "    }\n",
              "</style>\n",
              "<table border=\"1\" class=\"dataframe\">\n",
              "  <thead>\n",
              "    <tr style=\"text-align: right;\">\n",
              "      <th></th>\n",
              "      <th>HighQ</th>\n",
              "      <th>HighQN</th>\n",
              "      <th>MedQ</th>\n",
              "      <th>MedQN</th>\n",
              "      <th>LowQ</th>\n",
              "      <th>LowQN</th>\n",
              "      <th>HighQ_var</th>\n",
              "    </tr>\n",
              "  </thead>\n",
              "  <tbody>\n",
              "    <tr>\n",
              "      <th>count</th>\n",
              "      <td>449.000000</td>\n",
              "      <td>449.000000</td>\n",
              "      <td>449.000000</td>\n",
              "      <td>449.000000</td>\n",
              "      <td>242.000000</td>\n",
              "      <td>449.000000</td>\n",
              "      <td>4.490000e+02</td>\n",
              "    </tr>\n",
              "    <tr>\n",
              "      <th>mean</th>\n",
              "      <td>245.376125</td>\n",
              "      <td>14947.073497</td>\n",
              "      <td>191.268909</td>\n",
              "      <td>16769.821826</td>\n",
              "      <td>190.795992</td>\n",
              "      <td>976.298441</td>\n",
              "      <td>2.982686e+00</td>\n",
              "    </tr>\n",
              "    <tr>\n",
              "      <th>std</th>\n",
              "      <td>1.727046</td>\n",
              "      <td>1656.133565</td>\n",
              "      <td>1.524028</td>\n",
              "      <td>2433.943191</td>\n",
              "      <td>1.586186</td>\n",
              "      <td>120.246714</td>\n",
              "      <td>4.445846e-16</td>\n",
              "    </tr>\n",
              "    <tr>\n",
              "      <th>min</th>\n",
              "      <td>241.840000</td>\n",
              "      <td>12021.000000</td>\n",
              "      <td>187.850000</td>\n",
              "      <td>12724.000000</td>\n",
              "      <td>187.830000</td>\n",
              "      <td>770.000000</td>\n",
              "      <td>2.982686e+00</td>\n",
              "    </tr>\n",
              "    <tr>\n",
              "      <th>25%</th>\n",
              "      <td>244.480000</td>\n",
              "      <td>13610.000000</td>\n",
              "      <td>190.260000</td>\n",
              "      <td>14826.000000</td>\n",
              "      <td>189.420000</td>\n",
              "      <td>878.000000</td>\n",
              "      <td>2.982686e+00</td>\n",
              "    </tr>\n",
              "    <tr>\n",
              "      <th>50%</th>\n",
              "      <td>245.310000</td>\n",
              "      <td>15037.000000</td>\n",
              "      <td>191.570000</td>\n",
              "      <td>16793.000000</td>\n",
              "      <td>191.075000</td>\n",
              "      <td>982.000000</td>\n",
              "      <td>2.982686e+00</td>\n",
              "    </tr>\n",
              "    <tr>\n",
              "      <th>75%</th>\n",
              "      <td>246.220000</td>\n",
              "      <td>16090.000000</td>\n",
              "      <td>192.550000</td>\n",
              "      <td>18435.000000</td>\n",
              "      <td>192.200000</td>\n",
              "      <td>1060.000000</td>\n",
              "      <td>2.982686e+00</td>\n",
              "    </tr>\n",
              "    <tr>\n",
              "      <th>max</th>\n",
              "      <td>248.820000</td>\n",
              "      <td>18492.000000</td>\n",
              "      <td>193.630000</td>\n",
              "      <td>22027.000000</td>\n",
              "      <td>193.880000</td>\n",
              "      <td>1232.000000</td>\n",
              "      <td>2.982686e+00</td>\n",
              "    </tr>\n",
              "  </tbody>\n",
              "</table>\n",
              "</div>\n",
              "      <button class=\"colab-df-convert\" onclick=\"convertToInteractive('df-a3a36ac4-9d9d-4b6a-8a73-a98303d1b31a')\"\n",
              "              title=\"Convert this dataframe to an interactive table.\"\n",
              "              style=\"display:none;\">\n",
              "        \n",
              "  <svg xmlns=\"http://www.w3.org/2000/svg\" height=\"24px\"viewBox=\"0 0 24 24\"\n",
              "       width=\"24px\">\n",
              "    <path d=\"M0 0h24v24H0V0z\" fill=\"none\"/>\n",
              "    <path d=\"M18.56 5.44l.94 2.06.94-2.06 2.06-.94-2.06-.94-.94-2.06-.94 2.06-2.06.94zm-11 1L8.5 8.5l.94-2.06 2.06-.94-2.06-.94L8.5 2.5l-.94 2.06-2.06.94zm10 10l.94 2.06.94-2.06 2.06-.94-2.06-.94-.94-2.06-.94 2.06-2.06.94z\"/><path d=\"M17.41 7.96l-1.37-1.37c-.4-.4-.92-.59-1.43-.59-.52 0-1.04.2-1.43.59L10.3 9.45l-7.72 7.72c-.78.78-.78 2.05 0 2.83L4 21.41c.39.39.9.59 1.41.59.51 0 1.02-.2 1.41-.59l7.78-7.78 2.81-2.81c.8-.78.8-2.07 0-2.86zM5.41 20L4 18.59l7.72-7.72 1.47 1.35L5.41 20z\"/>\n",
              "  </svg>\n",
              "      </button>\n",
              "      \n",
              "  <style>\n",
              "    .colab-df-container {\n",
              "      display:flex;\n",
              "      flex-wrap:wrap;\n",
              "      gap: 12px;\n",
              "    }\n",
              "\n",
              "    .colab-df-convert {\n",
              "      background-color: #E8F0FE;\n",
              "      border: none;\n",
              "      border-radius: 50%;\n",
              "      cursor: pointer;\n",
              "      display: none;\n",
              "      fill: #1967D2;\n",
              "      height: 32px;\n",
              "      padding: 0 0 0 0;\n",
              "      width: 32px;\n",
              "    }\n",
              "\n",
              "    .colab-df-convert:hover {\n",
              "      background-color: #E2EBFA;\n",
              "      box-shadow: 0px 1px 2px rgba(60, 64, 67, 0.3), 0px 1px 3px 1px rgba(60, 64, 67, 0.15);\n",
              "      fill: #174EA6;\n",
              "    }\n",
              "\n",
              "    [theme=dark] .colab-df-convert {\n",
              "      background-color: #3B4455;\n",
              "      fill: #D2E3FC;\n",
              "    }\n",
              "\n",
              "    [theme=dark] .colab-df-convert:hover {\n",
              "      background-color: #434B5C;\n",
              "      box-shadow: 0px 1px 3px 1px rgba(0, 0, 0, 0.15);\n",
              "      filter: drop-shadow(0px 1px 2px rgba(0, 0, 0, 0.3));\n",
              "      fill: #FFFFFF;\n",
              "    }\n",
              "  </style>\n",
              "\n",
              "      <script>\n",
              "        const buttonEl =\n",
              "          document.querySelector('#df-a3a36ac4-9d9d-4b6a-8a73-a98303d1b31a button.colab-df-convert');\n",
              "        buttonEl.style.display =\n",
              "          google.colab.kernel.accessAllowed ? 'block' : 'none';\n",
              "\n",
              "        async function convertToInteractive(key) {\n",
              "          const element = document.querySelector('#df-a3a36ac4-9d9d-4b6a-8a73-a98303d1b31a');\n",
              "          const dataTable =\n",
              "            await google.colab.kernel.invokeFunction('convertToInteractive',\n",
              "                                                     [key], {});\n",
              "          if (!dataTable) return;\n",
              "\n",
              "          const docLinkHtml = 'Like what you see? Visit the ' +\n",
              "            '<a target=\"_blank\" href=https://colab.research.google.com/notebooks/data_table.ipynb>data table notebook</a>'\n",
              "            + ' to learn more about interactive tables.';\n",
              "          element.innerHTML = '';\n",
              "          dataTable['output_type'] = 'display_data';\n",
              "          await google.colab.output.renderOutput(dataTable, element);\n",
              "          const docLink = document.createElement('div');\n",
              "          docLink.innerHTML = docLinkHtml;\n",
              "          element.appendChild(docLink);\n",
              "        }\n",
              "      </script>\n",
              "    </div>\n",
              "  </div>\n",
              "  "
            ],
            "text/plain": [
              "            HighQ        HighQN        MedQ         MedQN        LowQ  \\\n",
              "count  449.000000    449.000000  449.000000    449.000000  242.000000   \n",
              "mean   245.376125  14947.073497  191.268909  16769.821826  190.795992   \n",
              "std      1.727046   1656.133565    1.524028   2433.943191    1.586186   \n",
              "min    241.840000  12021.000000  187.850000  12724.000000  187.830000   \n",
              "25%    244.480000  13610.000000  190.260000  14826.000000  189.420000   \n",
              "50%    245.310000  15037.000000  191.570000  16793.000000  191.075000   \n",
              "75%    246.220000  16090.000000  192.550000  18435.000000  192.200000   \n",
              "max    248.820000  18492.000000  193.630000  22027.000000  193.880000   \n",
              "\n",
              "             LowQN     HighQ_var  \n",
              "count   449.000000  4.490000e+02  \n",
              "mean    976.298441  2.982686e+00  \n",
              "std     120.246714  4.445846e-16  \n",
              "min     770.000000  2.982686e+00  \n",
              "25%     878.000000  2.982686e+00  \n",
              "50%     982.000000  2.982686e+00  \n",
              "75%    1060.000000  2.982686e+00  \n",
              "max    1232.000000  2.982686e+00  "
            ]
          },
          "execution_count": 49,
          "metadata": {},
          "output_type": "execute_result"
        }
      ],
      "source": [
        "# On peut remarquer que, la fonction describe retourne pour chaque colonne de notre df, elle affiche : count 'taille', mean 'moyenne', std 'ecart-type', min, quartiles (25%, 50% 'mediane' et 75%) ainsi que le max\n",
        "\n",
        "# alors, let the ball rolling, commançant par :\n",
        "# count \n",
        "count_fct = prices_pd.loc[prices_pd[\"State\"] == \"California\"].count(\n",
        "    numeric_only=True).values.ravel()\n",
        "\n",
        "# mean\n",
        "mean_fct = prices_pd.loc[prices_pd[\"State\"] == \"California\"].mean(numeric_only=True).values.ravel()\n",
        "#std\n",
        "std_fct = prices_pd.loc[prices_pd[\"State\"] == \"California\"].std(axis=0, numeric_only=True).values.ravel()\n",
        "# min\n",
        "min_fct = prices_pd.loc[prices_pd[\"State\"] == \"California\"].min(\n",
        "    numeric_only=True).values.ravel()\n",
        "# 25%\n",
        "q25_fct = prices_pd.loc[prices_pd[\"State\"] == \"California\"].quantile(\n",
        "    0.25, axis=0, numeric_only=True).values.ravel()\n",
        "# 50%\n",
        "q50_fct = prices_pd.loc[prices_pd[\"State\"] == \"California\"].quantile(\n",
        "    0.5, axis=0, numeric_only=True).values.ravel()\n",
        "# 75%\n",
        "q75_fct = prices_pd.loc[prices_pd[\"State\"] == \"California\"].quantile(\n",
        "    0.75, axis=0, numeric_only=True).values.ravel()\n",
        "# max\n",
        "max_fct = prices_pd.loc[prices_pd[\"State\"] == \"California\"].max(\n",
        "    numeric_only=True).values.ravel()\n",
        "\n",
        "# générer une dataframe 'en mode describe' :\n",
        "data = [count_fct, mean_fct, std_fct, min_fct,\n",
        "        q25_fct, q50_fct, q75_fct, max_fct]\n",
        "df = pd.DataFrame(\n",
        "    data, columns=[\"HighQ\", \"HighQN\", \"MedQ\", \"MedQN\", \"LowQ\", \"LowQN\", \"HighQ_var\"])\n",
        "\n",
        "df.index = [\"count\", \"mean\", \"std\", \"min\", \"25%\", \"50%\", \"75%\", \"max\"]\n",
        "df.head(8)"
      ]
    },
    {
      "cell_type": "code",
      "execution_count": 50,
      "metadata": {
        "colab": {
          "base_uri": "https://localhost:8080/"
        },
        "id": "aCL08lHaN6F0",
        "outputId": "8103405e-995d-48a1-8b62-bb46c8c3e3d6"
      },
      "outputs": [
        {
          "name": "stdout",
          "output_type": "stream",
          "text": [
            "Magique! Les valeurs trouvées sur l'état de la Californie correspondent aux valeurs trouvées grâce à Non différentes fonctions\n"
          ]
        }
      ],
      "source": [
        "# maintenant, il suffit juste d'une seule ligne de code pour voir s'il on a bien les mêmes valeurs :\n",
        "print(\"Magique! Les valeurs trouvées sur l'état de la Californie correspondent aux valeurs trouvées grâce à Non différentes fonctions\" if prices_pd.loc[prices_pd[\"State\"] == \"California\"].describe().equals(df) else \"sadly not!!\")\n"
      ]
    },
    {
      "cell_type": "markdown",
      "metadata": {
        "id": "AfBsUB44N6F1"
      },
      "source": [
        "<font color=\"RED\" size=\"+1\">**[Q]**</font> **Matrice de corrélation**\n",
        "\n",
        "\n",
        "Nous allons maintenant nous intéresser à calculer la corrélation entre les prix à New York et les prix en Californie.\n",
        "\n",
        "Commencer par représenter le nuage des points des prix (par date) en Californie (axe $X$) et à New York (axe $Y$) pour la bonne qualité.\n",
        "\n",
        "Pour cela,  on commence par créer un DataFrame avec ces informations:"
      ]
    },
    {
      "cell_type": "code",
      "execution_count": 51,
      "metadata": {
        "colab": {
          "base_uri": "https://localhost:8080/",
          "height": 357
        },
        "id": "162GIfyQN6F1",
        "outputId": "9564ef38-982c-4f4b-c487-cb1953d1d35d"
      },
      "outputs": [
        {
          "data": {
            "text/html": [
              "\n",
              "  <div id=\"df-850e6040-3ffd-4240-bb0a-fa1087ac57f3\">\n",
              "    <div class=\"colab-df-container\">\n",
              "      <div>\n",
              "<style scoped>\n",
              "    .dataframe tbody tr th:only-of-type {\n",
              "        vertical-align: middle;\n",
              "    }\n",
              "\n",
              "    .dataframe tbody tr th {\n",
              "        vertical-align: top;\n",
              "    }\n",
              "\n",
              "    .dataframe thead th {\n",
              "        text-align: right;\n",
              "    }\n",
              "</style>\n",
              "<table border=\"1\" class=\"dataframe\">\n",
              "  <thead>\n",
              "    <tr style=\"text-align: right;\">\n",
              "      <th></th>\n",
              "      <th>State_x</th>\n",
              "      <th>HighQ_x</th>\n",
              "      <th>HighQN_x</th>\n",
              "      <th>MedQ_x</th>\n",
              "      <th>MedQN_x</th>\n",
              "      <th>LowQ_x</th>\n",
              "      <th>LowQN_x</th>\n",
              "      <th>date</th>\n",
              "      <th>HighQ_var_x</th>\n",
              "      <th>State_y</th>\n",
              "      <th>HighQ_y</th>\n",
              "      <th>HighQN_y</th>\n",
              "      <th>MedQ_y</th>\n",
              "      <th>MedQN_y</th>\n",
              "      <th>LowQ_y</th>\n",
              "      <th>LowQN_y</th>\n",
              "      <th>HighQ_var_y</th>\n",
              "    </tr>\n",
              "  </thead>\n",
              "  <tbody>\n",
              "    <tr>\n",
              "      <th>0</th>\n",
              "      <td>California</td>\n",
              "      <td>248.78</td>\n",
              "      <td>12096</td>\n",
              "      <td>193.56</td>\n",
              "      <td>12812</td>\n",
              "      <td>192.92</td>\n",
              "      <td>778</td>\n",
              "      <td>2014-01-01</td>\n",
              "      <td>2.982686</td>\n",
              "      <td>New York</td>\n",
              "      <td>351.98</td>\n",
              "      <td>5800</td>\n",
              "      <td>268.88</td>\n",
              "      <td>5824</td>\n",
              "      <td>190.38</td>\n",
              "      <td>482</td>\n",
              "      <td>12.245147</td>\n",
              "    </tr>\n",
              "    <tr>\n",
              "      <th>1</th>\n",
              "      <td>California</td>\n",
              "      <td>243.96</td>\n",
              "      <td>16512</td>\n",
              "      <td>189.35</td>\n",
              "      <td>19151</td>\n",
              "      <td>NaN</td>\n",
              "      <td>1096</td>\n",
              "      <td>2015-01-01</td>\n",
              "      <td>2.982686</td>\n",
              "      <td>New York</td>\n",
              "      <td>343.80</td>\n",
              "      <td>7840</td>\n",
              "      <td>263.56</td>\n",
              "      <td>8716</td>\n",
              "      <td>NaN</td>\n",
              "      <td>616</td>\n",
              "      <td>12.245147</td>\n",
              "    </tr>\n",
              "    <tr>\n",
              "      <th>2</th>\n",
              "      <td>California</td>\n",
              "      <td>248.20</td>\n",
              "      <td>12571</td>\n",
              "      <td>192.80</td>\n",
              "      <td>13406</td>\n",
              "      <td>191.94</td>\n",
              "      <td>804</td>\n",
              "      <td>2014-02-01</td>\n",
              "      <td>2.982686</td>\n",
              "      <td>New York</td>\n",
              "      <td>352.35</td>\n",
              "      <td>6051</td>\n",
              "      <td>268.50</td>\n",
              "      <td>6115</td>\n",
              "      <td>190.16</td>\n",
              "      <td>497</td>\n",
              "      <td>12.245147</td>\n",
              "    </tr>\n",
              "    <tr>\n",
              "      <th>3</th>\n",
              "      <td>California</td>\n",
              "      <td>243.30</td>\n",
              "      <td>16904</td>\n",
              "      <td>188.95</td>\n",
              "      <td>19764</td>\n",
              "      <td>NaN</td>\n",
              "      <td>1123</td>\n",
              "      <td>2015-02-01</td>\n",
              "      <td>2.982686</td>\n",
              "      <td>New York</td>\n",
              "      <td>343.09</td>\n",
              "      <td>8058</td>\n",
              "      <td>262.93</td>\n",
              "      <td>9015</td>\n",
              "      <td>NaN</td>\n",
              "      <td>628</td>\n",
              "      <td>12.245147</td>\n",
              "    </tr>\n",
              "    <tr>\n",
              "      <th>4</th>\n",
              "      <td>California</td>\n",
              "      <td>247.60</td>\n",
              "      <td>12988</td>\n",
              "      <td>192.97</td>\n",
              "      <td>13906</td>\n",
              "      <td>191.40</td>\n",
              "      <td>839</td>\n",
              "      <td>2014-03-01</td>\n",
              "      <td>2.982686</td>\n",
              "      <td>New York</td>\n",
              "      <td>351.18</td>\n",
              "      <td>6209</td>\n",
              "      <td>267.69</td>\n",
              "      <td>6356</td>\n",
              "      <td>189.64</td>\n",
              "      <td>507</td>\n",
              "      <td>12.245147</td>\n",
              "    </tr>\n",
              "  </tbody>\n",
              "</table>\n",
              "</div>\n",
              "      <button class=\"colab-df-convert\" onclick=\"convertToInteractive('df-850e6040-3ffd-4240-bb0a-fa1087ac57f3')\"\n",
              "              title=\"Convert this dataframe to an interactive table.\"\n",
              "              style=\"display:none;\">\n",
              "        \n",
              "  <svg xmlns=\"http://www.w3.org/2000/svg\" height=\"24px\"viewBox=\"0 0 24 24\"\n",
              "       width=\"24px\">\n",
              "    <path d=\"M0 0h24v24H0V0z\" fill=\"none\"/>\n",
              "    <path d=\"M18.56 5.44l.94 2.06.94-2.06 2.06-.94-2.06-.94-.94-2.06-.94 2.06-2.06.94zm-11 1L8.5 8.5l.94-2.06 2.06-.94-2.06-.94L8.5 2.5l-.94 2.06-2.06.94zm10 10l.94 2.06.94-2.06 2.06-.94-2.06-.94-.94-2.06-.94 2.06-2.06.94z\"/><path d=\"M17.41 7.96l-1.37-1.37c-.4-.4-.92-.59-1.43-.59-.52 0-1.04.2-1.43.59L10.3 9.45l-7.72 7.72c-.78.78-.78 2.05 0 2.83L4 21.41c.39.39.9.59 1.41.59.51 0 1.02-.2 1.41-.59l7.78-7.78 2.81-2.81c.8-.78.8-2.07 0-2.86zM5.41 20L4 18.59l7.72-7.72 1.47 1.35L5.41 20z\"/>\n",
              "  </svg>\n",
              "      </button>\n",
              "      \n",
              "  <style>\n",
              "    .colab-df-container {\n",
              "      display:flex;\n",
              "      flex-wrap:wrap;\n",
              "      gap: 12px;\n",
              "    }\n",
              "\n",
              "    .colab-df-convert {\n",
              "      background-color: #E8F0FE;\n",
              "      border: none;\n",
              "      border-radius: 50%;\n",
              "      cursor: pointer;\n",
              "      display: none;\n",
              "      fill: #1967D2;\n",
              "      height: 32px;\n",
              "      padding: 0 0 0 0;\n",
              "      width: 32px;\n",
              "    }\n",
              "\n",
              "    .colab-df-convert:hover {\n",
              "      background-color: #E2EBFA;\n",
              "      box-shadow: 0px 1px 2px rgba(60, 64, 67, 0.3), 0px 1px 3px 1px rgba(60, 64, 67, 0.15);\n",
              "      fill: #174EA6;\n",
              "    }\n",
              "\n",
              "    [theme=dark] .colab-df-convert {\n",
              "      background-color: #3B4455;\n",
              "      fill: #D2E3FC;\n",
              "    }\n",
              "\n",
              "    [theme=dark] .colab-df-convert:hover {\n",
              "      background-color: #434B5C;\n",
              "      box-shadow: 0px 1px 3px 1px rgba(0, 0, 0, 0.15);\n",
              "      filter: drop-shadow(0px 1px 2px rgba(0, 0, 0, 0.3));\n",
              "      fill: #FFFFFF;\n",
              "    }\n",
              "  </style>\n",
              "\n",
              "      <script>\n",
              "        const buttonEl =\n",
              "          document.querySelector('#df-850e6040-3ffd-4240-bb0a-fa1087ac57f3 button.colab-df-convert');\n",
              "        buttonEl.style.display =\n",
              "          google.colab.kernel.accessAllowed ? 'block' : 'none';\n",
              "\n",
              "        async function convertToInteractive(key) {\n",
              "          const element = document.querySelector('#df-850e6040-3ffd-4240-bb0a-fa1087ac57f3');\n",
              "          const dataTable =\n",
              "            await google.colab.kernel.invokeFunction('convertToInteractive',\n",
              "                                                     [key], {});\n",
              "          if (!dataTable) return;\n",
              "\n",
              "          const docLinkHtml = 'Like what you see? Visit the ' +\n",
              "            '<a target=\"_blank\" href=https://colab.research.google.com/notebooks/data_table.ipynb>data table notebook</a>'\n",
              "            + ' to learn more about interactive tables.';\n",
              "          element.innerHTML = '';\n",
              "          dataTable['output_type'] = 'display_data';\n",
              "          await google.colab.output.renderOutput(dataTable, element);\n",
              "          const docLink = document.createElement('div');\n",
              "          docLink.innerHTML = docLinkHtml;\n",
              "          element.appendChild(docLink);\n",
              "        }\n",
              "      </script>\n",
              "    </div>\n",
              "  </div>\n",
              "  "
            ],
            "text/plain": [
              "      State_x  HighQ_x  HighQN_x  MedQ_x  MedQN_x  LowQ_x  LowQN_x       date  \\\n",
              "0  California   248.78     12096  193.56    12812  192.92      778 2014-01-01   \n",
              "1  California   243.96     16512  189.35    19151     NaN     1096 2015-01-01   \n",
              "2  California   248.20     12571  192.80    13406  191.94      804 2014-02-01   \n",
              "3  California   243.30     16904  188.95    19764     NaN     1123 2015-02-01   \n",
              "4  California   247.60     12988  192.97    13906  191.40      839 2014-03-01   \n",
              "\n",
              "   HighQ_var_x   State_y  HighQ_y  HighQN_y  MedQ_y  MedQN_y  LowQ_y  LowQN_y  \\\n",
              "0     2.982686  New York   351.98      5800  268.88     5824  190.38      482   \n",
              "1     2.982686  New York   343.80      7840  263.56     8716     NaN      616   \n",
              "2     2.982686  New York   352.35      6051  268.50     6115  190.16      497   \n",
              "3     2.982686  New York   343.09      8058  262.93     9015     NaN      628   \n",
              "4     2.982686  New York   351.18      6209  267.69     6356  189.64      507   \n",
              "\n",
              "   HighQ_var_y  \n",
              "0    12.245147  \n",
              "1    12.245147  \n",
              "2    12.245147  \n",
              "3    12.245147  \n",
              "4    12.245147  "
            ]
          },
          "execution_count": 51,
          "metadata": {},
          "output_type": "execute_result"
        }
      ],
      "source": [
        "prix_ny=prices_pd[prices_pd['State']=='New York']\n",
        "prix_ca=prices_pd[prices_pd['State']=='California']\n",
        "prix_ca_ny=prix_ca.merge(prix_ny,on='date')\n",
        "prix_ca_ny.head()\n",
        "\n",
        "# Exécuter cette boîte et commenter le résultat obtenu"
      ]
    },
    {
      "cell_type": "markdown",
      "metadata": {
        "id": "SSdQGPc_N6F1"
      },
      "source": [
        "<font color=\"Green\" size=\"+1\">Commentaire</font>\n",
        "- Le réultat obtenu est un dataframe qui contient pour la meme date, les informations du prix à l'état de California et à l'état de New York"
      ]
    },
    {
      "cell_type": "markdown",
      "metadata": {
        "id": "WUsZEduDN6F2"
      },
      "source": [
        "<font color=\"RED\" size=\"+1\">**[Q]**</font> **Nuages de points**\n",
        "\n",
        "\n",
        "Représenter graphiquement le nuage des points : voir <http://matplotlib.org/examples/shapes_and_collections/scatter_demo.html>"
      ]
    },
    {
      "cell_type": "code",
      "execution_count": 52,
      "metadata": {
        "colab": {
          "base_uri": "https://localhost:8080/",
          "height": 280
        },
        "id": "DwyUK8yCN6F2",
        "outputId": "0cc51489-4b26-47ae-d03c-290de73de5b5"
      },
      "outputs": [
        {
          "data": {
            "image/png": "[encoded data removed]",
            "text/plain": [
              "<Figure size 432x288 with 1 Axes>"
            ]
          },
          "metadata": {
            "needs_background": "light"
          },
          "output_type": "display_data"
        }
      ],
      "source": [
        "plt.scatter(prix_ca_ny[\"HighQ_x\"], prix_ca_ny[\"HighQ_y\"])\n",
        "plt.xlabel('Prix en Californie (bonne qualité)')\n",
        "plt.ylabel('Prix à New York (bonne qualité)')\n",
        "plt.show()"
      ]
    },
    {
      "cell_type": "markdown",
      "metadata": {
        "id": "hYoGTwpnN6F3"
      },
      "source": [
        "<font color=\"RED\" size=\"+1\">**[Q]**</font> **Corrélations**\n",
        "\n",
        "A l'aide de la fonction moyenne écrite précédemment, écrire une fonction <tt>correlation(x,y)</tt> qui calcule la corrélation lineaire entre deux tableaux Numpy."
      ]
    },
    {
      "cell_type": "markdown",
      "metadata": {
        "id": "0IY6wdY1N6F4"
      },
      "source": [
        "On se basant sur cette formule :\n",
        "$correlation(x,y)=\\frac{\\sum_{i=1}^{n}(x_i-\\bar{x})(y_i-\\bar{y})}{\\sqrt{\\sum_{i=1}^{n}(x_i-\\bar{x})^2}\\sqrt{\\sum_{i=1}^{n}(y_i-\\bar{y})^2}}$"
      ]
    },
    {
      "cell_type": "code",
      "execution_count": 54,
      "metadata": {
        "id": "Lxif1TuiN6F4"
      },
      "outputs": [],
      "source": [
        "def correlation(x,y):\n",
        "    moyenne_x = moyenne(x)\n",
        "    moyenne_y = moyenne(y)\n",
        "    x_diff = x - moyenne_x\n",
        "    y_diff = y - moyenne_y\n",
        "    a = np.sum(x_diff * y_diff)\n",
        "    b = (np.sqrt(np.sum(x_diff**2)) * np.sqrt(np.sum(y_diff**2)))\n",
        "    return a/b"
      ]
    },
    {
      "cell_type": "code",
      "execution_count": 55,
      "metadata": {
        "colab": {
          "base_uri": "https://localhost:8080/"
        },
        "id": "ML0Rp9hJN6F4",
        "outputId": "be6096d2-0dc8-4e29-faa9-3a0aa316ec4f"
      },
      "outputs": [
        {
          "name": "stdout",
          "output_type": "stream",
          "text": [
            "La correlation est :0.979044\n"
          ]
        }
      ],
      "source": [
        "# Appliquer votre fonction avec l'instruction suivante:\n",
        "\n",
        "print(\"La correlation est :%f\"%correlation(prix_ca_ny[\"HighQ_x\"].values,prix_ca_ny[\"HighQ_y\"].values))"
      ]
    },
    {
      "cell_type": "markdown",
      "metadata": {
        "id": "vJIoFCbuN6F5"
      },
      "source": [
        "<font color=\"RED\" size=\"+1\">**[Q]**</font> **Matrice de corrélations**\n",
        "\n",
        "Calculer la matrice des corrélations pour toutes les combinaisons d'états."
      ]
    },
    {
      "cell_type": "code",
      "execution_count": 56,
      "metadata": {
        "colab": {
          "base_uri": "https://localhost:8080/"
        },
        "id": "Cyb2FAa_N6F5",
        "outputId": "2e4cc1c2-467c-4825-e496-194494d38cf1"
      },
      "outputs": [
        {
          "name": "stdout",
          "output_type": "stream",
          "text": [
            "[[ 1.         -0.77737715  0.76366072 ... -0.18252555  0.67604259\n",
            "   0.74232819]\n",
            " [-0.77737715  1.         -0.75926388 ...  0.04837347 -0.63547145\n",
            "  -0.74759309]\n",
            " [ 0.76366072 -0.75926388  1.         ...  0.299015    0.95287529\n",
            "   0.8849269 ]\n",
            " ...\n",
            " [-0.18252555  0.04837347  0.299015   ...  1.          0.34885845\n",
            "   0.14178241]\n",
            " [ 0.67604259 -0.63547145  0.95287529 ...  0.34885845  1.\n",
            "   0.89437449]\n",
            " [ 0.74232819 -0.74759309  0.8849269  ...  0.14178241  0.89437449\n",
            "   1.        ]]\n"
          ]
        }
      ],
      "source": [
        "states = np.unique(prices_pd[\"State\"])\n",
        "N = len(states)\n",
        "correlation_mat = np.zeros((N, N))\n",
        "for i in range(N):\n",
        "    prix_x = prices_pd[prices_pd['State'] == states[i]]\n",
        "    for j in range(N):\n",
        "        prix_y = prices_pd[prices_pd['State'] == states[j]]\n",
        "        prix_x_y = prix_x.merge(prix_y, on='date')\n",
        "        correlation_mat[i, j] = correlation(\n",
        "            prix_x_y[\"HighQ_x\"].values, prix_x_y[\"HighQ_y\"].values)\n",
        "print(correlation_mat)\n"
      ]
    },
    {
      "cell_type": "markdown",
      "metadata": {
        "id": "L0_PmYYHN6F6"
      },
      "source": [
        "<font color=\"RED\" size=\"+1\">**[Q]**</font> **D'autres corrélations...**\n",
        "\n",
        "\n",
        "Calculer les correlations entre le prix (<tt>low</tt> et <tt>high</tt>) en fonction du revenu moyen par état disponible dans le tableau <tt>demography_pd</tt> chargé au début de cette feuille Jupyter. \n",
        "\n",
        "Que peut-on en conclure ?"
      ]
    },
    {
      "cell_type": "code",
      "execution_count": 57,
      "metadata": {
        "colab": {
          "base_uri": "https://localhost:8080/"
        },
        "id": "aS28d0emN6F6",
        "outputId": "7e648b8d-ae6e-401b-bad4-a8fd6572b979"
      },
      "outputs": [
        {
          "name": "stdout",
          "output_type": "stream",
          "text": [
            "La correlation entre HighQ et per_capita_income est :0.103727\n",
            "La correlation entre LowQ et per_capita_income est :0.342885\n"
          ]
        }
      ],
      "source": [
        "highQ = prices_sorted.groupby(\"State\").mean(numeric_only=True)[[\"HighQ\"]]\n",
        "# print(highQ)\n",
        "lowQ = prices_sorted.groupby(\"State\").mean(numeric_only=True)[[\"LowQ\"]]\n",
        "# print(lowQ)\n",
        "demography_pd = demography_pd.rename(columns={'region':'State'})\n",
        "\n",
        "def tt(s):\n",
        "    '''pour une chaine -chaine- on obtient -Chaine-'''\n",
        "    return s.title()\n",
        "# la première lettre de state en majuscule et les autres lettres en minuscule.\n",
        "demography_pd[\"State\"]=demography_pd[\"State\"].apply(tt)\n",
        "highQ=highQ.merge(demography_pd,on=\"State\")[[\"HighQ\",\"per_capita_income\"]]\n",
        "lowQ=lowQ.merge(demography_pd,on=\"State\")[[\"LowQ\",\"per_capita_income\"]]\n",
        "print(\"La correlation entre HighQ et per_capita_income est :%f\"%correlation(highQ[\"HighQ\"].values,highQ[\"per_capita_income\"].values))\n",
        "print(\"La correlation entre LowQ et per_capita_income est :%f\"%correlation(lowQ[\"LowQ\"].values,lowQ[\"per_capita_income\"].values))"
      ]
    },
    {
      "cell_type": "markdown",
      "metadata": {
        "id": "LE-LLwAtN6F6"
      },
      "source": [
        "<font color=\"Green\" size=\"+2\">Conclusion</font>"
      ]
    },
    {
      "cell_type": "markdown",
      "metadata": {
        "id": "bHi63uwmN6F6"
      },
      "source": [
        "- Il y a une faible correlation positive entre le prix high et le revenu moyen par état (0.10), ce qui signifie qu'il y a une légère tendance pour les états ayant des revenus moyens plus élevés d'avoir des prix high plus élevés.\n",
        "\n",
        "- En revanche, Il y a une correlation plus forte et positive entre le prix low et le revenu moyen par état (0.34), ce qui signifie qu'il y a une tendance plus significative pour les états ayant des revenus moyens plus élevés d'avoir des prix low plus élevés."
      ]
    }
  ],
  "metadata": {
    "colab": {
      "provenance": []
    },
    "kernelspec": {
      "display_name": "Python 3",
      "language": "python",
      "name": "python3"
    },
    "language_info": {
      "codemirror_mode": {
        "name": "ipython",
        "version": 3
      },
      "file_extension": ".py",
      "mimetype": "text/x-python",
      "name": "python",
      "nbconvert_exporter": "python",
      "pygments_lexer": "ipython3",
      "version": "3.10.0 (tags/v3.10.0:b494f59, Oct  4 2021, 19:00:18) [MSC v.1929 64 bit (AMD64)]"
    },
    "vscode": {
      "interpreter": {
        "hash": "9af53353804afc09f90d8f022eaec6e99fffff96cfdda280d845f608b681a8ce"
      }
    }
  },
  "nbformat": 4,
  "nbformat_minor": 0
}
