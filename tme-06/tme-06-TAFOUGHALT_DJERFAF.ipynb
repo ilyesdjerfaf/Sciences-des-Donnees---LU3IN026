{
 "cells": [
  {
   "cell_type": "markdown",
   "metadata": {},
   "source": [
    "IA & Data science (LU3IN0226) -- 2022-2023\n",
    "--------\n",
    "*&copy; Equipe pédagogique: Christophe Marsala, Olivier Schwander, Jean-Noël Vittaut.*"
   ]
  },
  {
   "cell_type": "markdown",
   "metadata": {},
   "source": [
    "# TD-TME06: les arbres de décision (catégoriel)\n",
    "\n",
    "L'objectif de ce notebook est d'implémenter un algorithme d'apprentissage supervisé qui travaille sur des données catégorielles, l'algorithme de construction d'arbres de décision.\n"
   ]
  },
  {
   "cell_type": "markdown",
   "metadata": {},
   "source": [
    "## Préparation du notebook"
   ]
  },
  {
   "cell_type": "markdown",
   "metadata": {},
   "source": [
    "<font size=\"+1\" color=\"RED\">**[Q]**</font> **Indiquer dans la boîte ci-dessous vos noms et prénoms :**"
   ]
  },
  {
   "cell_type": "markdown",
   "metadata": {},
   "source": [
    "Anyes TAFOUGHALT\n",
    "Ilyes DJERFAF"
   ]
  },
  {
   "cell_type": "markdown",
   "metadata": {},
   "source": [
    "<font color=\"RED\" size=\"+1\">**[Q]**</font> **Renommer ce fichier ipython**\n",
    "\n",
    "Comme lors des précédents TME, renommer ce fichier en incluant les noms de votre binôme.\n"
   ]
  },
  {
   "cell_type": "markdown",
   "metadata": {},
   "source": [
    "<font color=\"RED\" size=\"+1\">**[Q]**</font> **Mise à jour de la librairie `iads`**\n",
    "\n",
    "En premier lieu, vérifier que votre librairie `iads` est bien à jour et qu'elle inclut bien tout ce que vous avez programmé jusque là."
   ]
  },
  {
   "cell_type": "code",
   "execution_count": 1,
   "metadata": {},
   "outputs": [],
   "source": [
    "# Importation des librairies standards:\n",
    "import numpy as np\n",
    "import pandas as pd\n",
    "import matplotlib.pyplot as plt\n",
    "%matplotlib inline  \n",
    "\n",
    "# Importation de votre librairie iads:\n",
    "# La ligne suivante permet de préciser le chemin d'accès à la librairie iads\n",
    "import sys\n",
    "sys.path.append('../')   # iads doit être dans le répertoire frère du répertoire courant !\n",
    "\n",
    "# Importation de la librairie iads\n",
    "import iads as iads\n",
    "\n",
    "# importation de Classifiers\n",
    "from iads import Classifiers as cl\n",
    "\n",
    "# importation de utils\n",
    "from iads import utils as ut\n",
    "\n",
    "# importation de evaluation\n",
    "from iads import evaluation as ev\n",
    "\n",
    "# commande TRES utile pour recharger automatiquement le code que vous modifiez dans les modules\n",
    "%load_ext autoreload\n",
    "%autoreload 2"
   ]
  },
  {
   "cell_type": "markdown",
   "metadata": {},
   "source": [
    "<font color=\"RED\" size=\"+1\">**[Q]**</font> Pour conclure le TME 4, écrire la fonction `validation_croisee` qui prend en argument un algorithme d'apprentissage $C$, un dataset $DS$ et un nombre d'itérations voulues, et rend un triplet composé de la liste des accuracies obtenues, la moyenne de ces accuraciées et leur écart type.\n",
    "\n",
    "Cette fonction utilise les fonctions `crossval_strat` et `analyse_perfs` du TME 4, vous commencerez par copier ces 2 fonctions dans votre librairie `iads`, dans le fichier `evaluation.py` (importé sous l'alias `ev`).\n",
    "\n",
    "**Remarque**: dans la fonction, il peut être important de copier (correctement, avec `deepcopy` de la librairie `copy`) le classifieur pour pouvoir l'entraîner plusieurs fois indépendamment."
   ]
  },
  {
   "cell_type": "code",
   "execution_count": 43,
   "metadata": {},
   "outputs": [],
   "source": [
    "import copy\n",
    "\n",
    "def validation_croisee(C, DS, nb_iter):\n",
    "    \"\"\" Classifieur * tuple[array, array] * int -> tuple[ list[float], float, float]\n",
    "    \"\"\"\n",
    "    X, Y = DS   \n",
    "    perf = []\n",
    "    for i in range(nb_iter):\n",
    "        Xapp, Yapp, Xtest, Ytest = ev.crossval_strat(X, Y, nb_iter, i)\n",
    "        newC = copy.deepcopy(C)\n",
    "        newC.train(Xapp , Yapp)\n",
    "        perf.append(newC.accuracy(Xtest, Ytest))\n",
    "        print(i,\" : taille app.= \",Xapp.shape[0],\",  taille test = \",Xtest.shape[0],\" ,Accuracy:  \",perf[i])\n",
    "    \n",
    "    (perf_moy, perf_sd) = ev.analyse_perfs(perf)\n",
    "    return (perf, perf_moy, perf_sd)"
   ]
  },
  {
   "cell_type": "markdown",
   "metadata": {},
   "source": [
    "Afin de réaliser les premiers essais avec les fonctions que l'on va programmer, on charge la base sur les élections vue dans le cours 6."
   ]
  },
  {
   "cell_type": "code",
   "execution_count": 3,
   "metadata": {
    "scrolled": false
   },
   "outputs": [
    {
     "data": {
      "text/html": [
       "<div>\n",
       "<style scoped>\n",
       "    .dataframe tbody tr th:only-of-type {\n",
       "        vertical-align: middle;\n",
       "    }\n",
       "\n",
       "    .dataframe tbody tr th {\n",
       "        vertical-align: top;\n",
       "    }\n",
       "\n",
       "    .dataframe thead th {\n",
       "        text-align: right;\n",
       "    }\n",
       "</style>\n",
       "<table border=\"1\" class=\"dataframe\">\n",
       "  <thead>\n",
       "    <tr style=\"text-align: right;\">\n",
       "      <th></th>\n",
       "      <th>Adresse</th>\n",
       "      <th>Majeur?</th>\n",
       "      <th>Nationalite</th>\n",
       "      <th>Label</th>\n",
       "    </tr>\n",
       "  </thead>\n",
       "  <tbody>\n",
       "    <tr>\n",
       "      <th>0</th>\n",
       "      <td>Paris</td>\n",
       "      <td>oui</td>\n",
       "      <td>Francais</td>\n",
       "      <td>1</td>\n",
       "    </tr>\n",
       "    <tr>\n",
       "      <th>1</th>\n",
       "      <td>Paris</td>\n",
       "      <td>non</td>\n",
       "      <td>Francais</td>\n",
       "      <td>-1</td>\n",
       "    </tr>\n",
       "    <tr>\n",
       "      <th>2</th>\n",
       "      <td>Montpellier</td>\n",
       "      <td>oui</td>\n",
       "      <td>Italien</td>\n",
       "      <td>1</td>\n",
       "    </tr>\n",
       "    <tr>\n",
       "      <th>3</th>\n",
       "      <td>Paris</td>\n",
       "      <td>oui</td>\n",
       "      <td>Suisse</td>\n",
       "      <td>-1</td>\n",
       "    </tr>\n",
       "    <tr>\n",
       "      <th>4</th>\n",
       "      <td>Strasbourg</td>\n",
       "      <td>non</td>\n",
       "      <td>Italien</td>\n",
       "      <td>-1</td>\n",
       "    </tr>\n",
       "    <tr>\n",
       "      <th>5</th>\n",
       "      <td>Strasbourg</td>\n",
       "      <td>non</td>\n",
       "      <td>Francais</td>\n",
       "      <td>-1</td>\n",
       "    </tr>\n",
       "    <tr>\n",
       "      <th>6</th>\n",
       "      <td>Strasbourg</td>\n",
       "      <td>oui</td>\n",
       "      <td>Francais</td>\n",
       "      <td>1</td>\n",
       "    </tr>\n",
       "    <tr>\n",
       "      <th>7</th>\n",
       "      <td>Montpellier</td>\n",
       "      <td>oui</td>\n",
       "      <td>Suisse</td>\n",
       "      <td>-1</td>\n",
       "    </tr>\n",
       "  </tbody>\n",
       "</table>\n",
       "</div>"
      ],
      "text/plain": [
       "       Adresse Majeur? Nationalite  Label\n",
       "0        Paris     oui    Francais      1\n",
       "1        Paris     non    Francais     -1\n",
       "2  Montpellier     oui     Italien      1\n",
       "3        Paris     oui      Suisse     -1\n",
       "4   Strasbourg     non     Italien     -1\n",
       "5   Strasbourg     non    Francais     -1\n",
       "6   Strasbourg     oui    Francais      1\n",
       "7  Montpellier     oui      Suisse     -1"
      ]
     },
     "execution_count": 3,
     "metadata": {},
     "output_type": "execute_result"
    }
   ],
   "source": [
    "# Chargement des fichiers de données :\n",
    "\n",
    "elections_df = pd.read_csv(\"data/elections.csv\")\n",
    "elections_df"
   ]
  },
  {
   "cell_type": "code",
   "execution_count": 4,
   "metadata": {},
   "outputs": [
    {
     "data": {
      "text/plain": [
       "Index(['Adresse', 'Majeur?', 'Nationalite', 'Label'], dtype='object')"
      ]
     },
     "execution_count": 4,
     "metadata": {},
     "output_type": "execute_result"
    }
   ],
   "source": [
    "# Pour avoir le nom des colonnes de ce dataframe :\n",
    "elections_df.columns"
   ]
  },
  {
   "cell_type": "code",
   "execution_count": 5,
   "metadata": {},
   "outputs": [
    {
     "name": "stdout",
     "output_type": "stream",
     "text": [
      "Noms des features:  ['Adresse', 'Majeur?', 'Nationalite']\n"
     ]
    }
   ],
   "source": [
    "# Pour ne garder que le nom des variables de description (et pas la classe):\n",
    "# sous la forme d'une liste:\n",
    "\n",
    "elections_noms = [nom for nom in elections_df.columns if nom != 'Label']\n",
    "\n",
    "# Passer du dataframe à des arrays:\n",
    "elections_desc = np.array(elections_df[elections_noms])\n",
    "elections_label = np.array(elections_df['Label'])\n",
    "\n",
    "print(\"Noms des features: \",elections_noms)"
   ]
  },
  {
   "cell_type": "code",
   "execution_count": 6,
   "metadata": {},
   "outputs": [
    {
     "data": {
      "text/plain": [
       "array([ 1, -1, -1], dtype=int64)"
      ]
     },
     "execution_count": 6,
     "metadata": {},
     "output_type": "execute_result"
    }
   ],
   "source": [
    "elections_label[elections_desc[:,0] == \"Paris\"]"
   ]
  },
  {
   "cell_type": "markdown",
   "metadata": {},
   "source": [
    "## Premières fonctions: entropie et classe majoritaire"
   ]
  },
  {
   "cell_type": "markdown",
   "metadata": {},
   "source": [
    "<font color=\"RED\" size=\"+1\">**[Q]**</font> Ecrire la fonction <code>classe_majoritaire</code> qui, étant donné un array de labels rend la classe majoritaire (celle qui est possédée par le plus grand nombre d'exemples donc...). En cas d'égalité, cette fonction rend la première classe rencontrée.\n",
    "\n",
    "**Remarque :** on utilise la fonction numpy `unique` qui permet d'obtenir les valeurs différentes d'un array ainsi que leur décompte."
   ]
  },
  {
   "cell_type": "code",
   "execution_count": 7,
   "metadata": {},
   "outputs": [
    {
     "name": "stdout",
     "output_type": "stream",
     "text": [
      "Valeurs différentes dans l'array           :  [-1  1]\n",
      "Décompte de chaque valeur (respectivement) :  [5 3]\n"
     ]
    }
   ],
   "source": [
    "# Exemple d'utilisation de la fonction numpy `unique`\n",
    "\n",
    "valeurs, nb_fois = np.unique(elections_label,return_counts=True)\n",
    "\n",
    "print(\"Valeurs différentes dans l'array           : \",valeurs)\n",
    "print(\"Décompte de chaque valeur (respectivement) : \",nb_fois)"
   ]
  },
  {
   "cell_type": "code",
   "execution_count": 8,
   "metadata": {},
   "outputs": [],
   "source": [
    "def classe_majoritaire(Y):\n",
    "    \"\"\" Y : (array) : array de labels\n",
    "        rend la classe majoritaire ()\n",
    "    \"\"\"\n",
    "    #### A compléter pour répondre à la question posée\n",
    "    valeurs , occ = np.unique(Y , return_counts=True)\n",
    "    return valeurs[np.argmax(occ)]"
   ]
  },
  {
   "cell_type": "code",
   "execution_count": 9,
   "metadata": {},
   "outputs": [
    {
     "data": {
      "text/plain": [
       "-1"
      ]
     },
     "execution_count": 9,
     "metadata": {},
     "output_type": "execute_result"
    }
   ],
   "source": [
    "#Vérification sur nos données:\n",
    "classe_majoritaire(elections_label)"
   ]
  },
  {
   "cell_type": "markdown",
   "metadata": {},
   "source": [
    "### Entropie et gain d'information\n",
    "\n",
    "<div class=\"alert alert-block alert-warning\">\n",
    "    \n",
    "On note $\\{c_1, c_2,..., c_k\\}$, l'ensemble des valeurs de classes possibles dans un ensemble $Y$.\n",
    "\n",
    "On note $p_1$ la probabilité de la classe $c_1$ parmi $Y$, etc., et on note $P=(p_1, p_2,..., p_k)$ la distribution de probabilités sur les classes.\n",
    "\n",
    "L'**entropie de Shannon** de la distribution $P$ est donnée par:\n",
    "\n",
    "$ H_S(P) = -\\sum_{i=1}^{k} p_i \\log_k(p_i)$\n",
    "\n",
    "Le logarithme utilisé est le logarithme en base $k$ afin d'obtenir une valeur comprise entre $0$ et $1$ de l'entropie. \n",
    "</div>\n",
    "\n",
    "Pour ce qui suit, une *distribution de probabilités* est représentée par une **liste** Python $P=[p_1,...,p_k]$ de valeurs réelles telle que\n",
    "* pour tout $i=1,..., k$ : $0 \\leq p_i \\leq 1$\n",
    "* $\\sum_{i=1}^{k}p_i = 1$\n"
   ]
  },
  {
   "cell_type": "markdown",
   "metadata": {},
   "source": [
    "<font color=\"RED\" size=\"+1\">**[Q]**</font> Ecrire la fonction `shannon` qui, étant donné une distribution de probabilités $P$ fournie sous la forme d'une liste de nombres, rend la valeur de $H_S(P)$, l'entropie de Shannon de $P$."
   ]
  },
  {
   "cell_type": "code",
   "execution_count": 10,
   "metadata": {},
   "outputs": [],
   "source": [
    "import math\n",
    "def shannon(P):\n",
    "    \"\"\" list[Number] -> float\n",
    "        Hypothèse: la somme des nombres de P vaut 1\n",
    "        P correspond à une distribution de probabilité\n",
    "        rend la valeur de l'entropie de Shannon correspondante\n",
    "        rem: la fonction utilise le log dont la base correspond à la taille de P\n",
    "    \"\"\"\n",
    "    P = np.array(P)\n",
    "    #### A compléter pour répondre à la question posée\n",
    "    if ( P.sum()!=1):\n",
    "        raise Exception(\"La somme des proba de P ne vaut pas 1\")\n",
    "    if(not np.logical_and(P >= 0, P <= 1).all()):\n",
    "        raise Exception(\"P ne correspond pas à une distribution de probabilité\")\n",
    "    k = len(P)\n",
    "    enthropy_Shanon = 0\n",
    "    if (k>1):\n",
    "        for pi in P :\n",
    "            if pi!=0 :\n",
    "                enthropy_Shanon -= (pi * math.log(pi)/math.log(k))\n",
    "    return enthropy_Shanon\n",
    "    \n",
    "    "
   ]
  },
  {
   "cell_type": "code",
   "execution_count": 11,
   "metadata": {},
   "outputs": [
    {
     "name": "stdout",
     "output_type": "stream",
     "text": [
      "H([1]) =  0\n",
      "H([1,0]) =  0.0\n",
      "H([0.25, 0.25, 0.25, 0.25]) =  1.0\n",
      "H([0.7, 0.1, 0.2, 0.0]) =  0.5783898247235197\n",
      "H([1.0/3, 2.0/3]) =  0.9182958340544896\n"
     ]
    }
   ],
   "source": [
    "# Exemples d'utilisation:\n",
    "print(\"H([1]) = \", shannon([1]))\n",
    "print(\"H([1,0]) = \", shannon([1, 0]))\n",
    "print(\"H([0.25, 0.25, 0.25, 0.25]) = \", shannon([0.25, 0.25, 0.25, 0.25]))\n",
    "print(\"H([0.7, 0.1, 0.2, 0.0]) = \", shannon([0.7, 0.1, 0.2, 0.0]))\n",
    "print(\"H([1.0/3, 2.0/3]) = \", shannon([1.0/3, 2.0/3]))"
   ]
  },
  {
   "cell_type": "markdown",
   "metadata": {},
   "source": [
    "<font color=\"RED\" size=\"+1\">**[Q]**</font> Tracer, à l'aide de la fonction `plot`, la courbe donnant la valeur de `shannon([p, 1-p])` en fonction de `p`."
   ]
  },
  {
   "cell_type": "code",
   "execution_count": 19,
   "metadata": {},
   "outputs": [
    {
     "data": {
      "image/png": "[encoded data removed]",
      "text/plain": [
       "<Figure size 640x480 with 1 Axes>"
      ]
     },
     "metadata": {},
     "output_type": "display_data"
    }
   ],
   "source": [
    "# Tracé de la courbe:\n",
    "\n",
    "# --------------------------- Version Enseignants -----------\n",
    "shannon_values = []\n",
    "P = np.linspace(0, 1, num=101)\n",
    "for pi in P:\n",
    "    shannon_values.append(shannon([pi, 1-pi]))\n",
    "plt.plot(P, shannon_values, label='Fonction shannon')\n",
    "plt.xlabel('p')\n",
    "plt.ylabel('shannon([p, 1-p])')\n",
    "plt.grid(True)\n",
    "plt.legend(loc='lower center')\n",
    "plt.show()\n"
   ]
  },
  {
   "cell_type": "markdown",
   "metadata": {},
   "source": [
    "<font color=\"RED\" size=\"+1\">**[Q]**</font> A l'aide de la fonction <code>shannon</code>, écrire la fonction <code>entropie</code> qui prend un ensemble de labels en argument et renvoie l'entropie de la distribution des classes dans cet ensemble."
   ]
  },
  {
   "cell_type": "code",
   "execution_count": 20,
   "metadata": {},
   "outputs": [],
   "source": [
    "# ------------------------ (CORRECTION POUR ENSEIGNANT)\n",
    "def entropie(Y):\n",
    "    valeurs , occ = np.unique(Y , return_counts=True)\n",
    "    return shannon(occ/len(Y))"
   ]
  },
  {
   "cell_type": "code",
   "execution_count": 21,
   "metadata": {},
   "outputs": [
    {
     "data": {
      "text/plain": [
       "0.954434002924965"
      ]
     },
     "execution_count": 21,
     "metadata": {},
     "output_type": "execute_result"
    }
   ],
   "source": [
    "# Exemple sur nos données :\n",
    "entropie(elections_label)"
   ]
  },
  {
   "cell_type": "markdown",
   "metadata": {},
   "source": [
    "## Arbres de décision\n",
    "\n",
    "Dans cette partie, on réalise l'implémentation de l'algorithme de construction d'un arbre de décision."
   ]
  },
  {
   "cell_type": "markdown",
   "metadata": {},
   "source": [
    "### Représentation d'un arbre en Python"
   ]
  },
  {
   "cell_type": "markdown",
   "metadata": {},
   "source": [
    "<div class=\"alert alert-block alert-warning\">\n",
    "Pour représenter un arbre en Python, on a besoin de définir une structure de données adéquate. \n",
    "\n",
    "Un arbre de décision est défini par des **noeuds** qui sont de 2 types :\n",
    "- *noeud interne* : c'est un noeud qui est associé à un attribut (ie. une feature de description des exemples) et qui possède des fils qui sont aussi des noeuds. \n",
    "- *feuille* : c'est un noeud qui est associé à un label de la classe et qui a la particularité de ne pas avoir de descendants.\n",
    "</div>\n",
    "Pour représenter des noeuds, nous définissons la classe `NoeudCategoriel` suivante:"
   ]
  },
  {
   "cell_type": "code",
   "execution_count": 22,
   "metadata": {},
   "outputs": [],
   "source": [
    "# La librairie suivante est nécessaire pour l'affichage graphique de l'arbre:\n",
    "import graphviz as gv\n",
    "\n",
    "# Eventuellement, il peut être nécessaire d'installer graphviz sur votre compte:\n",
    "# pip install --user --install-option=\"--prefix=\" -U graphviz\n",
    "\n",
    "class NoeudCategoriel:\n",
    "    \"\"\" Classe pour représenter des noeuds d'un arbre de décision\n",
    "    \"\"\"\n",
    "    def __init__(self, num_att=-1, nom=''):\n",
    "        \"\"\" Constructeur: il prend en argument\n",
    "            - num_att (int) : le numéro de l'attribut auquel il se rapporte: de 0 à ...\n",
    "              si le noeud se rapporte à la classe, le numéro est -1, on n'a pas besoin\n",
    "              de le préciser\n",
    "            - nom (str) : une chaîne de caractères donnant le nom de l'attribut si\n",
    "              il est connu (sinon, on ne met rien et le nom sera donné de façon \n",
    "              générique: \"att_Numéro\")\n",
    "        \"\"\"\n",
    "        self.attribut = num_att    # numéro de l'attribut\n",
    "        if (nom == ''):            # son nom si connu\n",
    "            self.nom_attribut = 'att_'+str(num_att)\n",
    "        else:\n",
    "            self.nom_attribut = nom \n",
    "        self.Les_fils = None       # aucun fils à la création, ils seront ajoutés\n",
    "        self.classe   = None       # valeur de la classe si c'est une feuille\n",
    "        \n",
    "    def est_feuille(self):\n",
    "        \"\"\" rend True si l'arbre est une feuille \n",
    "            c'est une feuille s'il n'a aucun fils\n",
    "        \"\"\"\n",
    "        return self.Les_fils == None\n",
    "    \n",
    "    def ajoute_fils(self, valeur, Fils):\n",
    "        \"\"\" valeur : valeur de l'attribut de ce noeud qui doit être associée à Fils\n",
    "                     le type de cette valeur dépend de la base\n",
    "            Fils (NoeudCategoriel) : un nouveau fils pour ce noeud\n",
    "            Les fils sont stockés sous la forme d'un dictionnaire:\n",
    "            Dictionnaire {valeur_attribut : NoeudCategoriel}\n",
    "        \"\"\"\n",
    "        if self.Les_fils == None:\n",
    "            self.Les_fils = dict()\n",
    "        self.Les_fils[valeur] = Fils\n",
    "        # Rem: attention, on ne fait aucun contrôle, la nouvelle association peut\n",
    "        # écraser une association existante.\n",
    "    \n",
    "    def ajoute_feuille(self,classe):\n",
    "        \"\"\" classe: valeur de la classe\n",
    "            Ce noeud devient un noeud feuille\n",
    "        \"\"\"\n",
    "        self.classe    = classe\n",
    "        self.Les_fils  = None   # normalement, pas obligatoire ici, c'est pour être sûr\n",
    "        \n",
    "    def classifie(self, exemple):\n",
    "        \"\"\" exemple : numpy.array\n",
    "            rend la classe de l'exemple (pour nous, soit +1, soit -1 en général)\n",
    "            on rend la valeur 0 si l'exemple ne peut pas être classé (cf. les questions\n",
    "            posées en fin de ce notebook)\n",
    "        \"\"\"\n",
    "        if self.est_feuille():\n",
    "            return self.classe\n",
    "        if exemple[self.attribut] in self.Les_fils:\n",
    "            # descente récursive dans le noeud associé à la valeur de l'attribut\n",
    "            # pour cet exemple:\n",
    "            return self.Les_fils[exemple[self.attribut]].classifie(exemple)\n",
    "        else:\n",
    "            # Cas particulier : on ne trouve pas la valeur de l'exemple dans la liste des\n",
    "            # fils du noeud... Voir la fin de ce notebook pour essayer de résoudre ce mystère...\n",
    "            print('\\t*** Warning: attribut ',self.nom_attribut,' -> Valeur inconnue: ',exemple[self.attribut])\n",
    "            return 0\n",
    "    \n",
    "    def to_graph(self, g, prefixe='A'):\n",
    "        \"\"\" construit une représentation de l'arbre pour pouvoir l'afficher graphiquement\n",
    "            Cette fonction ne nous intéressera pas plus que ça, elle ne sera donc pas expliquée            \n",
    "        \"\"\"\n",
    "        if self.est_feuille():\n",
    "            g.node(prefixe,str(self.classe),shape='box')\n",
    "        else:\n",
    "            g.node(prefixe, self.nom_attribut)\n",
    "            i =0\n",
    "            for (valeur, sous_arbre) in self.Les_fils.items():\n",
    "                sous_arbre.to_graph(g,prefixe+str(i))\n",
    "                g.edge(prefixe,prefixe+str(i), valeur)\n",
    "                i = i+1        \n",
    "        return g\n"
   ]
  },
  {
   "cell_type": "code",
   "execution_count": 23,
   "metadata": {},
   "outputs": [
    {
     "data": {
      "image/svg+xml": "<?xml version=\"1.0\" encoding=\"UTF-8\" standalone=\"no\"?>\n<!DOCTYPE svg PUBLIC \"-//W3C//DTD SVG 1.1//EN\"\n \"http://www.w3.org/Graphics/SVG/1.1/DTD/svg11.dtd\">\n<!-- Generated by graphviz version 6.0.2 (20221011.1828)\n -->\n<!-- Pages: 1 -->\n<svg width=\"134pt\" height=\"218pt\"\n viewBox=\"0.00 0.00 134.00 218.00\" xmlns=\"http://www.w3.org/2000/svg\" xmlns:xlink=\"http://www.w3.org/1999/xlink\">\n<g id=\"graph0\" class=\"graph\" transform=\"scale(1 1) rotate(0) translate(4 214)\">\n<polygon fill=\"white\" stroke=\"none\" points=\"-4,4 -4,-214 130,-214 130,4 -4,4\"/>\n<!-- A -->\n<g id=\"node1\" class=\"node\">\n<title>A</title>\n<ellipse fill=\"none\" stroke=\"black\" cx=\"63\" cy=\"-192\" rx=\"31.4\" ry=\"18\"/>\n<text text-anchor=\"middle\" x=\"63\" y=\"-188.3\" font-family=\"Times New Roman,serif\" font-size=\"14.00\">nom3</text>\n</g>\n<!-- A0 -->\n<g id=\"node2\" class=\"node\">\n<title>A0</title>\n<ellipse fill=\"none\" stroke=\"black\" cx=\"63\" cy=\"-105\" rx=\"31.4\" ry=\"18\"/>\n<text text-anchor=\"middle\" x=\"63\" y=\"-101.3\" font-family=\"Times New Roman,serif\" font-size=\"14.00\">nom2</text>\n</g>\n<!-- A&#45;&gt;A0 -->\n<g id=\"edge3\" class=\"edge\">\n<title>A&#45;&gt;A0</title>\n<path fill=\"none\" stroke=\"black\" d=\"M63,-173.8C63,-162.16 63,-146.55 63,-133.24\"/>\n<polygon fill=\"black\" stroke=\"black\" points=\"66.5,-133.18 63,-123.18 59.5,-133.18 66.5,-133.18\"/>\n<text text-anchor=\"middle\" x=\"74.5\" y=\"-144.8\" font-family=\"Times New Roman,serif\" font-size=\"14.00\">val3</text>\n</g>\n<!-- A00 -->\n<g id=\"node3\" class=\"node\">\n<title>A00</title>\n<polygon fill=\"none\" stroke=\"black\" points=\"54,-36 0,-36 0,0 54,0 54,-36\"/>\n<text text-anchor=\"middle\" x=\"27\" y=\"-14.3\" font-family=\"Times New Roman,serif\" font-size=\"14.00\">&#45;1</text>\n</g>\n<!-- A0&#45;&gt;A00 -->\n<g id=\"edge1\" class=\"edge\">\n<title>A0&#45;&gt;A00</title>\n<path fill=\"none\" stroke=\"black\" d=\"M55.89,-87.21C50.84,-75.29 43.97,-59.06 38.19,-45.42\"/>\n<polygon fill=\"black\" stroke=\"black\" points=\"41.34,-43.89 34.22,-36.05 34.9,-46.62 41.34,-43.89\"/>\n<text text-anchor=\"middle\" x=\"59.5\" y=\"-57.8\" font-family=\"Times New Roman,serif\" font-size=\"14.00\">val1</text>\n</g>\n<!-- A01 -->\n<g id=\"node4\" class=\"node\">\n<title>A01</title>\n<polygon fill=\"none\" stroke=\"black\" points=\"126,-36 72,-36 72,0 126,0 126,-36\"/>\n<text text-anchor=\"middle\" x=\"99\" y=\"-14.3\" font-family=\"Times New Roman,serif\" font-size=\"14.00\">1</text>\n</g>\n<!-- A0&#45;&gt;A01 -->\n<g id=\"edge2\" class=\"edge\">\n<title>A0&#45;&gt;A01</title>\n<path fill=\"none\" stroke=\"black\" d=\"M70.11,-87.21C75.16,-75.29 82.03,-59.06 87.81,-45.42\"/>\n<polygon fill=\"black\" stroke=\"black\" points=\"91.1,-46.62 91.78,-36.05 84.66,-43.89 91.1,-46.62\"/>\n<text text-anchor=\"middle\" x=\"94.5\" y=\"-57.8\" font-family=\"Times New Roman,serif\" font-size=\"14.00\">val2</text>\n</g>\n</g>\n</svg>\n",
      "text/plain": [
       "<graphviz.graphs.Digraph at 0x2418ece8a90>"
      ]
     },
     "execution_count": 23,
     "metadata": {},
     "output_type": "execute_result"
    }
   ],
   "source": [
    "# Exemple d'utilisation: \n",
    "un_noeud0= NoeudCategoriel() \n",
    "un_noeud0.ajoute_feuille(-1)\n",
    "\n",
    "un_noeud1= NoeudCategoriel()\n",
    "un_noeud1.ajoute_feuille(+1)\n",
    "\n",
    "un_noeud2= NoeudCategoriel(0,\"nom2\")\n",
    "un_noeud2.ajoute_fils(\"val1\",un_noeud0)\n",
    "un_noeud2.ajoute_fils(\"val2\",un_noeud1)\n",
    "\n",
    "un_noeud3 = NoeudCategoriel(1,\"nom3\")\n",
    "un_noeud3.ajoute_fils(\"val3\",un_noeud2)\n",
    "\n",
    "# L'affichage se fait en 2 temps\n",
    "# 1) on initialise un graphe orienté :\n",
    "gtree = gv.Digraph(format='png')\n",
    "# 2) on le rempli en appelant la méthode de la classe NoeudCategoriel\n",
    "un_noeud3.to_graph(gtree)"
   ]
  },
  {
   "cell_type": "markdown",
   "metadata": {},
   "source": [
    "### Construction de l'arbre de décision"
   ]
  },
  {
   "cell_type": "markdown",
   "metadata": {},
   "source": [
    "<div class=\"alert alert-block alert-warning\">\n",
    "Comme on l'a vu dans le cours, pour construire un arbre de décision à partir d'un dataset ($X$, $Y$), il faut réaliser les étapes suivantes:\n",
    "    \n",
    "1. calculer l'entropie de Shannon de l'ensemble des classes $Y$, on la note $H_S(Y)$.\n",
    "    \n",
    "2. si $H_S(Y)$ est inférieure à epsilon (qui est un réel positif donné en paramètre de l'algorithme), alors construire une feuille avec cet ensemble, la classe associée à cette feuille est la classe majoritaire dans $Y$.\n",
    "    \n",
    "3. sinon, pour chaque attribut $X_j$ qui décrit les exemples de $X$,\n",
    "    \n",
    "    3.1. pour chacune des valeurs $v_{jl}$ de $X_j$ construire l'ensemble des exemples de $X$ qui possède la valeur $v_{jl}$ ainsi que l'ensemble de leurs labels.\n",
    "    \n",
    "    3.2. calculer l'entropie conditionnelle de Shannon de la classe relativement à l'attribut $X_j$. On note $H_S(Y|X_j)$ cette entropie.    \n",
    "    \n",
    "    \n",
    "4. l'attribut $X_{best}$ qui **maximise le gain d'information** est choisi pour constituer un nouveau noeud $\\eta$ de l'arbre de décision:\n",
    "    \n",
    "    4.1. chaque valeur de $X_{best}$ est utilisée pour décomposer ($X$, $Y$) en autant de datasets que $X_{best}$ possède de valeurs: chaque dataset est séparant $X$ et $Y$ selon la valeur prise pour $X_{best}$. \n",
    "    \n",
    "    4.2. pour chaque dataset obtenu on reprend en 1 pour construire chacun des fils de $\\eta$. \n",
    "\n",
    "\n",
    "On rappelle que le gain d'information est:\n",
    "\n",
    "$$I_S(X_j,Y) = H_S(Y) - H_S(Y|X_j)$$\n",
    "\n",
    "On peut remarquer que chercher l'attribut $X_j$ qui **maximise le gain d'information** $I_S(X_j,Y)$ est équivalent à chercher $X_j$ qui **minimise l'entropie** $H_S(Y|X_j)$ (car le terme $H_S(Y)$ reste constant pour les calculs pour tous les attributs).\n",
    "</div>"
   ]
  },
  {
   "cell_type": "markdown",
   "metadata": {},
   "source": [
    "<font color=\"RED\" size=\"+1\">**[Q]**</font> Compléter la fonction `construit_AD`suivante afin qu'elle permette de construire un arbre de décision. Cette fonction rend un `NoeudCategoriel` qui correspond à l'arbre construit pour le dataset $(X,Y)$ donné."
   ]
  },
  {
   "cell_type": "code",
   "execution_count": 24,
   "metadata": {},
   "outputs": [],
   "source": [
    "def construit_AD(X,Y,epsilon,LNoms = []):\n",
    "    \"\"\" X,Y : dataset\n",
    "        epsilon : seuil d'entropie pour le critère d'arrêt \n",
    "        LNoms : liste des noms de features (colonnes) de description \n",
    "    \"\"\"\n",
    "    \n",
    "    entropie_ens = entropie(Y)\n",
    "    if (entropie_ens <= epsilon):\n",
    "        # ARRET : on crée une feuille\n",
    "        noeud = NoeudCategoriel(-1,\"Label\")\n",
    "        noeud.ajoute_feuille(classe_majoritaire(Y))\n",
    "    else:\n",
    "        min_entropie = math.inf\n",
    "        i_best = -1\n",
    "        Xbest_valeurs = None\n",
    "        \n",
    "        #############\n",
    "        \n",
    "        # COMPLETER CETTE PARTIE : ELLE DOIT PERMETTRE D'OBTENIR DANS\n",
    "        # i_best : le numéro de l'attribut qui minimise l'entropie\n",
    "        # min_entropie : la valeur de l'entropie minimale\n",
    "        # Xbest_valeurs : la liste des valeurs que peut prendre l'attribut i_best\n",
    "        #\n",
    "        # Il est donc nécessaire ici de parcourir tous les attributs et de calculer\n",
    "        # la valeur de l'entropie de la classe pour chaque attribut.\n",
    "        for i in range(X.shape[1]):\n",
    "            enthropie = 0 \n",
    "            Xi_valeurs , occ = np.unique(X[:,i] , return_counts=True)\n",
    "            for j in range(len(Xi_valeurs)):\n",
    "                enthropie += occ[j]/X.shape[0] * entropie(Y[X[:,i]==Xi_valeurs[j]])\n",
    "            if enthropie < min_entropie :\n",
    "                min_entropie = enthropie\n",
    "                i_best = i\n",
    "                Xbest_valeurs = Xi_valeurs\n",
    "        \n",
    "        ############\n",
    "        \n",
    "        if len(LNoms)>0:  # si on a des noms de features\n",
    "            noeud = NoeudCategoriel(i_best,LNoms[i_best])    \n",
    "        else:\n",
    "            noeud = NoeudCategoriel(i_best)\n",
    "        for v in Xbest_valeurs:\n",
    "            noeud.ajoute_fils(v,construit_AD(X[X[:,i_best]==v], Y[X[:,i_best]==v],epsilon,LNoms))\n",
    "    return noeud"
   ]
  },
  {
   "cell_type": "markdown",
   "metadata": {},
   "source": [
    "La classe pour implémenter un arbre de décision dérive de la classe `Classifier`. Elle utilise la fonction `construit_AD` dans sa méthode `train` pour construire un arbre à partir d'un dataset donné.\n",
    "\n",
    "<font color=\"RED\" size=\"+1\">**[Q]**</font> Compléter la classe suivante en donnant le code des méthodes `train` et `predict`.\n",
    "\n",
    "**Remarque :** la méthode `score` ne fera rien dans notre cas, on verra dans un autre notebook comment on pourrait la définir."
   ]
  },
  {
   "cell_type": "code",
   "execution_count": 25,
   "metadata": {},
   "outputs": [],
   "source": [
    "class ClassifierArbreDecision(cl.Classifier):\n",
    "    \"\"\" Classe pour représenter un classifieur par arbre de décision\n",
    "    \"\"\"\n",
    "    \n",
    "    def __init__(self, input_dimension, epsilon, LNoms=[]):\n",
    "        \"\"\" Constructeur\n",
    "            Argument:\n",
    "                - intput_dimension (int) : dimension de la description des exemples\n",
    "                - epsilon (float) : paramètre de l'algorithme (cf. explications précédentes)\n",
    "                - LNoms : Liste des noms de dimensions (si connues)\n",
    "            Hypothèse : input_dimension > 0\n",
    "        \"\"\"\n",
    "        self.dimension = input_dimension\n",
    "        self.epsilon = epsilon\n",
    "        self.LNoms = LNoms\n",
    "        # l'arbre est manipulé par sa racine qui sera un Noeud\n",
    "        self.racine = None\n",
    "        \n",
    "    def toString(self):\n",
    "        \"\"\"  -> str\n",
    "            rend le nom du classifieur avec ses paramètres\n",
    "        \"\"\"\n",
    "        return 'ClassifierArbreDecision ['+str(self.dimension) + '] eps='+str(self.epsilon)\n",
    "        \n",
    "    def train(self, desc_set, label_set):\n",
    "        \"\"\" Permet d'entrainer le modele sur l'ensemble donné\n",
    "            desc_set: ndarray avec des descriptions\n",
    "            label_set: ndarray avec les labels correspondants\n",
    "            Hypothèse: desc_set et label_set ont le même nombre de lignes\n",
    "        \"\"\"        \n",
    "        ##################\n",
    "        ## COMPLETER ICI !\n",
    "        ##################\n",
    "        if desc_set.shape[0]!=label_set.shape[0]:\n",
    "            raise Error(\"desc_set et label_set doivent avoir le même nombre de lignes\")\n",
    "        else:\n",
    "            self.racine = construit_AD(desc_set , label_set , self.epsilon , self.LNoms)\n",
    "    \n",
    "    def score(self,x):\n",
    "        \"\"\" rend le score de prédiction sur x (valeur réelle)\n",
    "            x: une description\n",
    "        \"\"\"\n",
    "        # cette méthode ne fait rien dans notre implémentation :\n",
    "        pass\n",
    "    \n",
    "    def predict(self, x):\n",
    "        \"\"\" x (array): une description d'exemple\n",
    "            rend la prediction sur x             \n",
    "        \"\"\"\n",
    "        ##################\n",
    "        ## COMPLETER ICI !\n",
    "        ##################\n",
    "        return self.racine.classifie(x)\n",
    "        \n",
    "\n",
    "    def affiche(self,GTree):\n",
    "        \"\"\" affichage de l'arbre sous forme graphique\n",
    "            Cette fonction modifie GTree par effet de bord\n",
    "        \"\"\"\n",
    "        self.racine.to_graph(GTree)"
   ]
  },
  {
   "cell_type": "markdown",
   "metadata": {},
   "source": [
    "### Premières expérimentations"
   ]
  },
  {
   "cell_type": "markdown",
   "metadata": {},
   "source": [
    "Apprentissage d'un arbre de décision avec la base sur les élections :"
   ]
  },
  {
   "cell_type": "code",
   "execution_count": 26,
   "metadata": {},
   "outputs": [
    {
     "data": {
      "image/svg+xml": "<?xml version=\"1.0\" encoding=\"UTF-8\" standalone=\"no\"?>\n<!DOCTYPE svg PUBLIC \"-//W3C//DTD SVG 1.1//EN\"\n \"http://www.w3.org/Graphics/SVG/1.1/DTD/svg11.dtd\">\n<!-- Generated by graphviz version 6.0.2 (20221011.1828)\n -->\n<!-- Pages: 1 -->\n<svg width=\"228pt\" height=\"218pt\"\n viewBox=\"0.00 0.00 228.00 218.00\" xmlns=\"http://www.w3.org/2000/svg\" xmlns:xlink=\"http://www.w3.org/1999/xlink\">\n<g id=\"graph0\" class=\"graph\" transform=\"scale(1 1) rotate(0) translate(4 214)\">\n<polygon fill=\"white\" stroke=\"none\" points=\"-4,4 -4,-214 224,-214 224,4 -4,4\"/>\n<!-- A -->\n<g id=\"node1\" class=\"node\">\n<title>A</title>\n<ellipse fill=\"none\" stroke=\"black\" cx=\"49\" cy=\"-192\" rx=\"39.79\" ry=\"18\"/>\n<text text-anchor=\"middle\" x=\"49\" y=\"-188.3\" font-family=\"Times New Roman,serif\" font-size=\"14.00\">Majeur?</text>\n</g>\n<!-- A0 -->\n<g id=\"node2\" class=\"node\">\n<title>A0</title>\n<polygon fill=\"none\" stroke=\"black\" points=\"54,-123 0,-123 0,-87 54,-87 54,-123\"/>\n<text text-anchor=\"middle\" x=\"27\" y=\"-101.3\" font-family=\"Times New Roman,serif\" font-size=\"14.00\">&#45;1</text>\n</g>\n<!-- A&#45;&gt;A0 -->\n<g id=\"edge1\" class=\"edge\">\n<title>A&#45;&gt;A0</title>\n<path fill=\"none\" stroke=\"black\" d=\"M44.55,-173.8C41.54,-162.16 37.49,-146.55 34.05,-133.24\"/>\n<polygon fill=\"black\" stroke=\"black\" points=\"37.34,-131.98 31.45,-123.18 30.56,-133.73 37.34,-131.98\"/>\n<text text-anchor=\"middle\" x=\"51\" y=\"-144.8\" font-family=\"Times New Roman,serif\" font-size=\"14.00\">non</text>\n</g>\n<!-- A1 -->\n<g id=\"node3\" class=\"node\">\n<title>A1</title>\n<ellipse fill=\"none\" stroke=\"black\" cx=\"121\" cy=\"-105\" rx=\"48.99\" ry=\"18\"/>\n<text text-anchor=\"middle\" x=\"121\" y=\"-101.3\" font-family=\"Times New Roman,serif\" font-size=\"14.00\">Nationalite</text>\n</g>\n<!-- A&#45;&gt;A1 -->\n<g id=\"edge5\" class=\"edge\">\n<title>A&#45;&gt;A1</title>\n<path fill=\"none\" stroke=\"black\" d=\"M62.54,-175.01C73.17,-162.47 88.14,-144.8 100.27,-130.48\"/>\n<polygon fill=\"black\" stroke=\"black\" points=\"103.23,-132.39 107.03,-122.5 97.89,-127.86 103.23,-132.39\"/>\n<text text-anchor=\"middle\" x=\"99\" y=\"-144.8\" font-family=\"Times New Roman,serif\" font-size=\"14.00\">oui</text>\n</g>\n<!-- A10 -->\n<g id=\"node4\" class=\"node\">\n<title>A10</title>\n<polygon fill=\"none\" stroke=\"black\" points=\"76,-36 22,-36 22,0 76,0 76,-36\"/>\n<text text-anchor=\"middle\" x=\"49\" y=\"-14.3\" font-family=\"Times New Roman,serif\" font-size=\"14.00\">1</text>\n</g>\n<!-- A1&#45;&gt;A10 -->\n<g id=\"edge2\" class=\"edge\">\n<title>A1&#45;&gt;A10</title>\n<path fill=\"none\" stroke=\"black\" d=\"M93.68,-89.94C84.89,-84.37 75.7,-77.3 69,-69 63.49,-62.17 59.33,-53.63 56.27,-45.55\"/>\n<polygon fill=\"black\" stroke=\"black\" points=\"59.59,-44.43 53.07,-36.07 52.95,-46.67 59.59,-44.43\"/>\n<text text-anchor=\"middle\" x=\"93\" y=\"-57.8\" font-family=\"Times New Roman,serif\" font-size=\"14.00\">Francais</text>\n</g>\n<!-- A11 -->\n<g id=\"node5\" class=\"node\">\n<title>A11</title>\n<polygon fill=\"none\" stroke=\"black\" points=\"148,-36 94,-36 94,0 148,0 148,-36\"/>\n<text text-anchor=\"middle\" x=\"121\" y=\"-14.3\" font-family=\"Times New Roman,serif\" font-size=\"14.00\">1</text>\n</g>\n<!-- A1&#45;&gt;A11 -->\n<g id=\"edge3\" class=\"edge\">\n<title>A1&#45;&gt;A11</title>\n<path fill=\"none\" stroke=\"black\" d=\"M121,-86.8C121,-75.16 121,-59.55 121,-46.24\"/>\n<polygon fill=\"black\" stroke=\"black\" points=\"124.5,-46.18 121,-36.18 117.5,-46.18 124.5,-46.18\"/>\n<text text-anchor=\"middle\" x=\"138\" y=\"-57.8\" font-family=\"Times New Roman,serif\" font-size=\"14.00\">Italien</text>\n</g>\n<!-- A12 -->\n<g id=\"node6\" class=\"node\">\n<title>A12</title>\n<polygon fill=\"none\" stroke=\"black\" points=\"220,-36 166,-36 166,0 220,0 220,-36\"/>\n<text text-anchor=\"middle\" x=\"193\" y=\"-14.3\" font-family=\"Times New Roman,serif\" font-size=\"14.00\">&#45;1</text>\n</g>\n<!-- A1&#45;&gt;A12 -->\n<g id=\"edge4\" class=\"edge\">\n<title>A1&#45;&gt;A12</title>\n<path fill=\"none\" stroke=\"black\" d=\"M140,-88.07C146.34,-82.34 153.26,-75.66 159,-69 165.38,-61.61 171.61,-52.99 176.96,-45.01\"/>\n<polygon fill=\"black\" stroke=\"black\" points=\"180.06,-46.66 182.58,-36.37 174.19,-42.84 180.06,-46.66\"/>\n<text text-anchor=\"middle\" x=\"188.5\" y=\"-57.8\" font-family=\"Times New Roman,serif\" font-size=\"14.00\">Suisse</text>\n</g>\n</g>\n</svg>\n",
      "text/plain": [
       "<graphviz.graphs.Digraph at 0x2418f0c25f0>"
      ]
     },
     "execution_count": 26,
     "metadata": {},
     "output_type": "execute_result"
    }
   ],
   "source": [
    "# Initialiation d'un arbre pour le dataset Elections:\n",
    "arbre_elections = ClassifierArbreDecision(len(elections_noms), 0.0, elections_noms)\n",
    "\n",
    "# Construction de l'arbre de décision à partir du dataset Elections\n",
    "arbre_elections.train(elections_desc,elections_label)\n",
    "\n",
    "# Construction de la représentation graphique (affichage)\n",
    "graphe_arbre_elections = gv.Digraph(format='png')\n",
    "arbre_elections.affiche(graphe_arbre_elections)\n",
    "\n",
    "# Affichage du graphe obtenu:\n",
    "graphe_arbre_elections\n"
   ]
  },
  {
   "cell_type": "markdown",
   "metadata": {},
   "source": [
    "Pour classer un nouvel exemple avec un arbre de décision, on utilise la méthode <code>predict</code> qui utilise la méthode `classifie` de la classe `NoeudCategoriel` pour classer un nouvel exemple et renvoyer le label +1 ou -1 selon le cas. \n",
    "\n",
    "Exemple de classification d'un exemple avec l'arbre obtenu :"
   ]
  },
  {
   "cell_type": "code",
   "execution_count": 27,
   "metadata": {},
   "outputs": [
    {
     "data": {
      "text/plain": [
       "1"
      ]
     },
     "execution_count": 27,
     "metadata": {},
     "output_type": "execute_result"
    }
   ],
   "source": [
    "arbre_elections.predict(elections_desc[0,:])"
   ]
  },
  {
   "cell_type": "markdown",
   "metadata": {},
   "source": [
    "Classification d'un nouvel exemple qui n'appartient à pas au dataset d'apprentissage :"
   ]
  },
  {
   "cell_type": "code",
   "execution_count": 28,
   "metadata": {},
   "outputs": [
    {
     "data": {
      "text/plain": [
       "1"
      ]
     },
     "execution_count": 28,
     "metadata": {},
     "output_type": "execute_result"
    }
   ],
   "source": [
    "# Rappel : elections_noms = ['Adresse', 'Majeur?', 'Nationalite']\n",
    "arbre_elections.predict(np.array(['Paris','oui','Italien']))"
   ]
  },
  {
   "cell_type": "markdown",
   "metadata": {},
   "source": [
    "Mesure de l'accuracy de l'arbre obtenu :"
   ]
  },
  {
   "cell_type": "code",
   "execution_count": 29,
   "metadata": {},
   "outputs": [
    {
     "data": {
      "text/plain": [
       "1.0"
      ]
     },
     "execution_count": 29,
     "metadata": {},
     "output_type": "execute_result"
    }
   ],
   "source": [
    "arbre_elections.accuracy(elections_desc,elections_label)"
   ]
  },
  {
   "cell_type": "markdown",
   "metadata": {},
   "source": [
    "## Première expérimentation avec la base Mushrooms"
   ]
  },
  {
   "cell_type": "markdown",
   "metadata": {},
   "source": [
    "Pour mieux évaluer notre nouvel algortithme d'apprentissage, on va utiliser la base des champignons `mushrooms-1000.csv` qui est fournie dans le répertoire `data`. Ce dataset est une version réduite du dataset original qui comporte plus de 8000 champignons.\n",
    "\n",
    "\n",
    "\n",
    "Dans le répertorie `data/` fourni avec ce sujet, vous pouvez trouver 6 fichiers `mushrooms-****.csv`. Ces 6 fichiers ont été obtenus en partitionant le fichier orignal `mushrooms.csv` que l'on peut trouver sur internet. Dans cette base originale, il y a 8124 champignons recensés. Ce fichier original a été découpé en 5 fichiers de 1400 champignons et 1 fichier de 1124 champignons. L'union de ces 6 fichiers permet donc de recomposer le fichier original.\n"
   ]
  },
  {
   "cell_type": "markdown",
   "metadata": {},
   "source": [
    "### Construction d'un arbre de décision\n",
    "\n",
    "Dans un premier temps, on vérifie que notre algorithme d'apprentissage fonctionne correctement en construisant un arbre de décision à partir d'un des fichiers.\n",
    "\n",
    "On commence par charger le fichier dans un dataframe et on le transforme en dataset (cf. le notebook précédent pour le détail des étapes):"
   ]
  },
  {
   "cell_type": "code",
   "execution_count": 30,
   "metadata": {},
   "outputs": [
    {
     "data": {
      "text/html": [
       "<div>\n",
       "<style scoped>\n",
       "    .dataframe tbody tr th:only-of-type {\n",
       "        vertical-align: middle;\n",
       "    }\n",
       "\n",
       "    .dataframe tbody tr th {\n",
       "        vertical-align: top;\n",
       "    }\n",
       "\n",
       "    .dataframe thead th {\n",
       "        text-align: right;\n",
       "    }\n",
       "</style>\n",
       "<table border=\"1\" class=\"dataframe\">\n",
       "  <thead>\n",
       "    <tr style=\"text-align: right;\">\n",
       "      <th></th>\n",
       "      <th>class</th>\n",
       "      <th>cap-shape</th>\n",
       "      <th>cap-surface</th>\n",
       "      <th>cap-color</th>\n",
       "      <th>bruises</th>\n",
       "      <th>odor</th>\n",
       "      <th>gill-attachment</th>\n",
       "      <th>gill-spacing</th>\n",
       "      <th>gill-size</th>\n",
       "      <th>gill-color</th>\n",
       "      <th>...</th>\n",
       "      <th>stalk-surface-below-ring</th>\n",
       "      <th>stalk-color-above-ring</th>\n",
       "      <th>stalk-color-below-ring</th>\n",
       "      <th>veil-type</th>\n",
       "      <th>veil-color</th>\n",
       "      <th>ring-number</th>\n",
       "      <th>ring-type</th>\n",
       "      <th>spore-print-color</th>\n",
       "      <th>population</th>\n",
       "      <th>habitat</th>\n",
       "    </tr>\n",
       "  </thead>\n",
       "  <tbody>\n",
       "    <tr>\n",
       "      <th>0</th>\n",
       "      <td>p</td>\n",
       "      <td>x</td>\n",
       "      <td>y</td>\n",
       "      <td>n</td>\n",
       "      <td>f</td>\n",
       "      <td>y</td>\n",
       "      <td>f</td>\n",
       "      <td>c</td>\n",
       "      <td>n</td>\n",
       "      <td>b</td>\n",
       "      <td>...</td>\n",
       "      <td>s</td>\n",
       "      <td>p</td>\n",
       "      <td>w</td>\n",
       "      <td>p</td>\n",
       "      <td>w</td>\n",
       "      <td>o</td>\n",
       "      <td>e</td>\n",
       "      <td>w</td>\n",
       "      <td>v</td>\n",
       "      <td>d</td>\n",
       "    </tr>\n",
       "    <tr>\n",
       "      <th>1</th>\n",
       "      <td>p</td>\n",
       "      <td>x</td>\n",
       "      <td>s</td>\n",
       "      <td>n</td>\n",
       "      <td>f</td>\n",
       "      <td>y</td>\n",
       "      <td>f</td>\n",
       "      <td>c</td>\n",
       "      <td>n</td>\n",
       "      <td>b</td>\n",
       "      <td>...</td>\n",
       "      <td>k</td>\n",
       "      <td>p</td>\n",
       "      <td>w</td>\n",
       "      <td>p</td>\n",
       "      <td>w</td>\n",
       "      <td>o</td>\n",
       "      <td>e</td>\n",
       "      <td>w</td>\n",
       "      <td>v</td>\n",
       "      <td>l</td>\n",
       "    </tr>\n",
       "    <tr>\n",
       "      <th>2</th>\n",
       "      <td>p</td>\n",
       "      <td>x</td>\n",
       "      <td>f</td>\n",
       "      <td>y</td>\n",
       "      <td>f</td>\n",
       "      <td>f</td>\n",
       "      <td>f</td>\n",
       "      <td>c</td>\n",
       "      <td>b</td>\n",
       "      <td>g</td>\n",
       "      <td>...</td>\n",
       "      <td>k</td>\n",
       "      <td>b</td>\n",
       "      <td>p</td>\n",
       "      <td>p</td>\n",
       "      <td>w</td>\n",
       "      <td>o</td>\n",
       "      <td>l</td>\n",
       "      <td>h</td>\n",
       "      <td>v</td>\n",
       "      <td>d</td>\n",
       "    </tr>\n",
       "    <tr>\n",
       "      <th>3</th>\n",
       "      <td>p</td>\n",
       "      <td>x</td>\n",
       "      <td>f</td>\n",
       "      <td>y</td>\n",
       "      <td>f</td>\n",
       "      <td>f</td>\n",
       "      <td>f</td>\n",
       "      <td>c</td>\n",
       "      <td>b</td>\n",
       "      <td>g</td>\n",
       "      <td>...</td>\n",
       "      <td>k</td>\n",
       "      <td>n</td>\n",
       "      <td>b</td>\n",
       "      <td>p</td>\n",
       "      <td>w</td>\n",
       "      <td>o</td>\n",
       "      <td>l</td>\n",
       "      <td>h</td>\n",
       "      <td>y</td>\n",
       "      <td>g</td>\n",
       "    </tr>\n",
       "    <tr>\n",
       "      <th>4</th>\n",
       "      <td>p</td>\n",
       "      <td>x</td>\n",
       "      <td>f</td>\n",
       "      <td>y</td>\n",
       "      <td>f</td>\n",
       "      <td>f</td>\n",
       "      <td>f</td>\n",
       "      <td>c</td>\n",
       "      <td>b</td>\n",
       "      <td>h</td>\n",
       "      <td>...</td>\n",
       "      <td>k</td>\n",
       "      <td>p</td>\n",
       "      <td>b</td>\n",
       "      <td>p</td>\n",
       "      <td>w</td>\n",
       "      <td>o</td>\n",
       "      <td>l</td>\n",
       "      <td>h</td>\n",
       "      <td>y</td>\n",
       "      <td>d</td>\n",
       "    </tr>\n",
       "    <tr>\n",
       "      <th>...</th>\n",
       "      <td>...</td>\n",
       "      <td>...</td>\n",
       "      <td>...</td>\n",
       "      <td>...</td>\n",
       "      <td>...</td>\n",
       "      <td>...</td>\n",
       "      <td>...</td>\n",
       "      <td>...</td>\n",
       "      <td>...</td>\n",
       "      <td>...</td>\n",
       "      <td>...</td>\n",
       "      <td>...</td>\n",
       "      <td>...</td>\n",
       "      <td>...</td>\n",
       "      <td>...</td>\n",
       "      <td>...</td>\n",
       "      <td>...</td>\n",
       "      <td>...</td>\n",
       "      <td>...</td>\n",
       "      <td>...</td>\n",
       "      <td>...</td>\n",
       "    </tr>\n",
       "    <tr>\n",
       "      <th>1395</th>\n",
       "      <td>p</td>\n",
       "      <td>x</td>\n",
       "      <td>y</td>\n",
       "      <td>e</td>\n",
       "      <td>f</td>\n",
       "      <td>f</td>\n",
       "      <td>f</td>\n",
       "      <td>c</td>\n",
       "      <td>n</td>\n",
       "      <td>b</td>\n",
       "      <td>...</td>\n",
       "      <td>k</td>\n",
       "      <td>w</td>\n",
       "      <td>w</td>\n",
       "      <td>p</td>\n",
       "      <td>w</td>\n",
       "      <td>o</td>\n",
       "      <td>e</td>\n",
       "      <td>w</td>\n",
       "      <td>v</td>\n",
       "      <td>p</td>\n",
       "    </tr>\n",
       "    <tr>\n",
       "      <th>1396</th>\n",
       "      <td>e</td>\n",
       "      <td>f</td>\n",
       "      <td>y</td>\n",
       "      <td>n</td>\n",
       "      <td>t</td>\n",
       "      <td>n</td>\n",
       "      <td>f</td>\n",
       "      <td>c</td>\n",
       "      <td>b</td>\n",
       "      <td>p</td>\n",
       "      <td>...</td>\n",
       "      <td>s</td>\n",
       "      <td>w</td>\n",
       "      <td>g</td>\n",
       "      <td>p</td>\n",
       "      <td>w</td>\n",
       "      <td>o</td>\n",
       "      <td>p</td>\n",
       "      <td>k</td>\n",
       "      <td>v</td>\n",
       "      <td>d</td>\n",
       "    </tr>\n",
       "    <tr>\n",
       "      <th>1397</th>\n",
       "      <td>e</td>\n",
       "      <td>f</td>\n",
       "      <td>f</td>\n",
       "      <td>e</td>\n",
       "      <td>t</td>\n",
       "      <td>n</td>\n",
       "      <td>f</td>\n",
       "      <td>c</td>\n",
       "      <td>b</td>\n",
       "      <td>n</td>\n",
       "      <td>...</td>\n",
       "      <td>s</td>\n",
       "      <td>p</td>\n",
       "      <td>g</td>\n",
       "      <td>p</td>\n",
       "      <td>w</td>\n",
       "      <td>o</td>\n",
       "      <td>p</td>\n",
       "      <td>n</td>\n",
       "      <td>y</td>\n",
       "      <td>d</td>\n",
       "    </tr>\n",
       "    <tr>\n",
       "      <th>1398</th>\n",
       "      <td>p</td>\n",
       "      <td>x</td>\n",
       "      <td>f</td>\n",
       "      <td>y</td>\n",
       "      <td>f</td>\n",
       "      <td>f</td>\n",
       "      <td>f</td>\n",
       "      <td>c</td>\n",
       "      <td>b</td>\n",
       "      <td>p</td>\n",
       "      <td>...</td>\n",
       "      <td>k</td>\n",
       "      <td>n</td>\n",
       "      <td>b</td>\n",
       "      <td>p</td>\n",
       "      <td>w</td>\n",
       "      <td>o</td>\n",
       "      <td>l</td>\n",
       "      <td>h</td>\n",
       "      <td>y</td>\n",
       "      <td>d</td>\n",
       "    </tr>\n",
       "    <tr>\n",
       "      <th>1399</th>\n",
       "      <td>e</td>\n",
       "      <td>f</td>\n",
       "      <td>f</td>\n",
       "      <td>e</td>\n",
       "      <td>t</td>\n",
       "      <td>n</td>\n",
       "      <td>f</td>\n",
       "      <td>c</td>\n",
       "      <td>b</td>\n",
       "      <td>u</td>\n",
       "      <td>...</td>\n",
       "      <td>s</td>\n",
       "      <td>w</td>\n",
       "      <td>g</td>\n",
       "      <td>p</td>\n",
       "      <td>w</td>\n",
       "      <td>o</td>\n",
       "      <td>p</td>\n",
       "      <td>k</td>\n",
       "      <td>v</td>\n",
       "      <td>d</td>\n",
       "    </tr>\n",
       "  </tbody>\n",
       "</table>\n",
       "<p>1400 rows × 23 columns</p>\n",
       "</div>"
      ],
      "text/plain": [
       "     class cap-shape cap-surface cap-color bruises odor gill-attachment  \\\n",
       "0        p         x           y         n       f    y               f   \n",
       "1        p         x           s         n       f    y               f   \n",
       "2        p         x           f         y       f    f               f   \n",
       "3        p         x           f         y       f    f               f   \n",
       "4        p         x           f         y       f    f               f   \n",
       "...    ...       ...         ...       ...     ...  ...             ...   \n",
       "1395     p         x           y         e       f    f               f   \n",
       "1396     e         f           y         n       t    n               f   \n",
       "1397     e         f           f         e       t    n               f   \n",
       "1398     p         x           f         y       f    f               f   \n",
       "1399     e         f           f         e       t    n               f   \n",
       "\n",
       "     gill-spacing gill-size gill-color  ... stalk-surface-below-ring  \\\n",
       "0               c         n          b  ...                        s   \n",
       "1               c         n          b  ...                        k   \n",
       "2               c         b          g  ...                        k   \n",
       "3               c         b          g  ...                        k   \n",
       "4               c         b          h  ...                        k   \n",
       "...           ...       ...        ...  ...                      ...   \n",
       "1395            c         n          b  ...                        k   \n",
       "1396            c         b          p  ...                        s   \n",
       "1397            c         b          n  ...                        s   \n",
       "1398            c         b          p  ...                        k   \n",
       "1399            c         b          u  ...                        s   \n",
       "\n",
       "     stalk-color-above-ring stalk-color-below-ring veil-type veil-color  \\\n",
       "0                         p                      w         p          w   \n",
       "1                         p                      w         p          w   \n",
       "2                         b                      p         p          w   \n",
       "3                         n                      b         p          w   \n",
       "4                         p                      b         p          w   \n",
       "...                     ...                    ...       ...        ...   \n",
       "1395                      w                      w         p          w   \n",
       "1396                      w                      g         p          w   \n",
       "1397                      p                      g         p          w   \n",
       "1398                      n                      b         p          w   \n",
       "1399                      w                      g         p          w   \n",
       "\n",
       "     ring-number ring-type spore-print-color population habitat  \n",
       "0              o         e                 w          v       d  \n",
       "1              o         e                 w          v       l  \n",
       "2              o         l                 h          v       d  \n",
       "3              o         l                 h          y       g  \n",
       "4              o         l                 h          y       d  \n",
       "...          ...       ...               ...        ...     ...  \n",
       "1395           o         e                 w          v       p  \n",
       "1396           o         p                 k          v       d  \n",
       "1397           o         p                 n          y       d  \n",
       "1398           o         l                 h          y       d  \n",
       "1399           o         p                 k          v       d  \n",
       "\n",
       "[1400 rows x 23 columns]"
      ]
     },
     "execution_count": 30,
     "metadata": {},
     "output_type": "execute_result"
    }
   ],
   "source": [
    "# Chargement des fichiers de données sur les mushrooms:\n",
    "\n",
    "# On commence par travailler sur un des fichier \"mushrooms-1400\"\n",
    "mushrooms_df = pd.read_csv(\"data/mushrooms-1400-1.csv\")\n",
    "\n",
    "mushrooms_df\n"
   ]
  },
  {
   "cell_type": "code",
   "execution_count": 31,
   "metadata": {},
   "outputs": [],
   "source": [
    "# Dans ce dataframe, la colonne de classe s'appelle 'class'\n",
    "mushrooms_noms = [nom for nom in mushrooms_df.columns if nom != 'class']\n",
    "\n",
    "# Passer du dataframe à un dataset (2 arrays desc & labels):\n",
    "mushrooms_1_desc = np.array(mushrooms_df[mushrooms_noms])\n",
    "mushrooms_1_label = np.array(mushrooms_df['class'])\n"
   ]
  },
  {
   "cell_type": "markdown",
   "metadata": {},
   "source": [
    "Ensuite, on construit l'arbre de décision correspondant.\n",
    "\n",
    "<font color=\"RED\" size=\"+1\">**[Q]**</font> Compléter le code suivant pour apprendre l'arbre et l'afficher ensuite:"
   ]
  },
  {
   "cell_type": "code",
   "execution_count": 32,
   "metadata": {},
   "outputs": [
    {
     "data": {
      "image/svg+xml": "<?xml version=\"1.0\" encoding=\"UTF-8\" standalone=\"no\"?>\n<!DOCTYPE svg PUBLIC \"-//W3C//DTD SVG 1.1//EN\"\n \"http://www.w3.org/Graphics/SVG/1.1/DTD/svg11.dtd\">\n<!-- Generated by graphviz version 6.0.2 (20221011.1828)\n -->\n<!-- Pages: 1 -->\n<svg width=\"971pt\" height=\"392pt\"\n viewBox=\"0.00 0.00 971.00 392.00\" xmlns=\"http://www.w3.org/2000/svg\" xmlns:xlink=\"http://www.w3.org/1999/xlink\">\n<g id=\"graph0\" class=\"graph\" transform=\"scale(1 1) rotate(0) translate(4 388)\">\n<polygon fill=\"white\" stroke=\"none\" points=\"-4,4 -4,-388 967,-388 967,4 -4,4\"/>\n<!-- A -->\n<g id=\"node1\" class=\"node\">\n<title>A</title>\n<ellipse fill=\"none\" stroke=\"black\" cx=\"315\" cy=\"-366\" rx=\"28.7\" ry=\"18\"/>\n<text text-anchor=\"middle\" x=\"315\" y=\"-362.3\" font-family=\"Times New Roman,serif\" font-size=\"14.00\">odor</text>\n</g>\n<!-- A0 -->\n<g id=\"node2\" class=\"node\">\n<title>A0</title>\n<polygon fill=\"none\" stroke=\"black\" points=\"54,-297 0,-297 0,-261 54,-261 54,-297\"/>\n<text text-anchor=\"middle\" x=\"27\" y=\"-275.3\" font-family=\"Times New Roman,serif\" font-size=\"14.00\">e</text>\n</g>\n<!-- A&#45;&gt;A0 -->\n<g id=\"edge1\" class=\"edge\">\n<title>A&#45;&gt;A0</title>\n<path fill=\"none\" stroke=\"black\" d=\"M287.94,-359.61C242.85,-350.24 149.6,-329.11 63.93,-297.07\"/>\n<polygon fill=\"black\" stroke=\"black\" points=\"64.92,-293.71 54.33,-293.42 62.44,-300.25 64.92,-293.71\"/>\n<text text-anchor=\"middle\" x=\"162.5\" y=\"-318.8\" font-family=\"Times New Roman,serif\" font-size=\"14.00\">a</text>\n</g>\n<!-- A1 -->\n<g id=\"node3\" class=\"node\">\n<title>A1</title>\n<polygon fill=\"none\" stroke=\"black\" points=\"126,-297 72,-297 72,-261 126,-261 126,-297\"/>\n<text text-anchor=\"middle\" x=\"99\" y=\"-275.3\" font-family=\"Times New Roman,serif\" font-size=\"14.00\">p</text>\n</g>\n<!-- A&#45;&gt;A1 -->\n<g id=\"edge2\" class=\"edge\">\n<title>A&#45;&gt;A1</title>\n<path fill=\"none\" stroke=\"black\" d=\"M290.59,-356.48C257.45,-344.76 196.25,-322.59 135.39,-297.01\"/>\n<polygon fill=\"black\" stroke=\"black\" points=\"136.6,-293.72 126.02,-293.04 133.87,-300.17 136.6,-293.72\"/>\n<text text-anchor=\"middle\" x=\"217.5\" y=\"-318.8\" font-family=\"Times New Roman,serif\" font-size=\"14.00\">c</text>\n</g>\n<!-- A2 -->\n<g id=\"node4\" class=\"node\">\n<title>A2</title>\n<polygon fill=\"none\" stroke=\"black\" points=\"198,-297 144,-297 144,-261 198,-261 198,-297\"/>\n<text text-anchor=\"middle\" x=\"171\" y=\"-275.3\" font-family=\"Times New Roman,serif\" font-size=\"14.00\">p</text>\n</g>\n<!-- A&#45;&gt;A2 -->\n<g id=\"edge3\" class=\"edge\">\n<title>A&#45;&gt;A2</title>\n<path fill=\"none\" stroke=\"black\" d=\"M294.67,-353C271.87,-339.54 234.44,-317.45 206.73,-301.09\"/>\n<polygon fill=\"black\" stroke=\"black\" points=\"208.49,-298.07 198.1,-296 204.93,-304.09 208.49,-298.07\"/>\n<text text-anchor=\"middle\" x=\"254.5\" y=\"-318.8\" font-family=\"Times New Roman,serif\" font-size=\"14.00\">f</text>\n</g>\n<!-- A3 -->\n<g id=\"node5\" class=\"node\">\n<title>A3</title>\n<polygon fill=\"none\" stroke=\"black\" points=\"270,-297 216,-297 216,-261 270,-261 270,-297\"/>\n<text text-anchor=\"middle\" x=\"243\" y=\"-275.3\" font-family=\"Times New Roman,serif\" font-size=\"14.00\">e</text>\n</g>\n<!-- A&#45;&gt;A3 -->\n<g id=\"edge4\" class=\"edge\">\n<title>A&#45;&gt;A3</title>\n<path fill=\"none\" stroke=\"black\" d=\"M302.13,-349.8C291.55,-337.31 276.35,-319.37 264.01,-304.8\"/>\n<polygon fill=\"black\" stroke=\"black\" points=\"266.63,-302.48 257.49,-297.11 261.29,-307 266.63,-302.48\"/>\n<text text-anchor=\"middle\" x=\"286\" y=\"-318.8\" font-family=\"Times New Roman,serif\" font-size=\"14.00\">l</text>\n</g>\n<!-- A4 -->\n<g id=\"node6\" class=\"node\">\n<title>A4</title>\n<polygon fill=\"none\" stroke=\"black\" points=\"342,-297 288,-297 288,-261 342,-261 342,-297\"/>\n<text text-anchor=\"middle\" x=\"315\" y=\"-275.3\" font-family=\"Times New Roman,serif\" font-size=\"14.00\">p</text>\n</g>\n<!-- A&#45;&gt;A4 -->\n<g id=\"edge5\" class=\"edge\">\n<title>A&#45;&gt;A4</title>\n<path fill=\"none\" stroke=\"black\" d=\"M315,-347.8C315,-336.16 315,-320.55 315,-307.24\"/>\n<polygon fill=\"black\" stroke=\"black\" points=\"318.5,-307.18 315,-297.18 311.5,-307.18 318.5,-307.18\"/>\n<text text-anchor=\"middle\" x=\"320.5\" y=\"-318.8\" font-family=\"Times New Roman,serif\" font-size=\"14.00\">m</text>\n</g>\n<!-- A5 -->\n<g id=\"node7\" class=\"node\">\n<title>A5</title>\n<ellipse fill=\"none\" stroke=\"black\" cx=\"433\" cy=\"-279\" rx=\"72.59\" ry=\"18\"/>\n<text text-anchor=\"middle\" x=\"433\" y=\"-275.3\" font-family=\"Times New Roman,serif\" font-size=\"14.00\">spore&#45;print&#45;color</text>\n</g>\n<!-- A&#45;&gt;A5 -->\n<g id=\"edge25\" class=\"edge\">\n<title>A&#45;&gt;A5</title>\n<path fill=\"none\" stroke=\"black\" d=\"M333.18,-351.91C351.56,-338.67 380.3,-317.96 402.23,-302.17\"/>\n<polygon fill=\"black\" stroke=\"black\" points=\"404.49,-304.85 410.56,-296.16 400.4,-299.17 404.49,-304.85\"/>\n<text text-anchor=\"middle\" x=\"385.5\" y=\"-318.8\" font-family=\"Times New Roman,serif\" font-size=\"14.00\">n</text>\n</g>\n<!-- A6 -->\n<g id=\"node27\" class=\"node\">\n<title>A6</title>\n<polygon fill=\"none\" stroke=\"black\" points=\"578,-297 524,-297 524,-261 578,-261 578,-297\"/>\n<text text-anchor=\"middle\" x=\"551\" y=\"-275.3\" font-family=\"Times New Roman,serif\" font-size=\"14.00\">p</text>\n</g>\n<!-- A&#45;&gt;A6 -->\n<g id=\"edge26\" class=\"edge\">\n<title>A&#45;&gt;A6</title>\n<path fill=\"none\" stroke=\"black\" d=\"M340.28,-357.42C376.83,-346.24 446.65,-324.07 514.12,-297.15\"/>\n<polygon fill=\"black\" stroke=\"black\" points=\"515.66,-300.3 523.62,-293.32 513.04,-293.81 515.66,-300.3\"/>\n<text text-anchor=\"middle\" x=\"471\" y=\"-318.8\" font-family=\"Times New Roman,serif\" font-size=\"14.00\">p</text>\n</g>\n<!-- A7 -->\n<g id=\"node28\" class=\"node\">\n<title>A7</title>\n<polygon fill=\"none\" stroke=\"black\" points=\"650,-297 596,-297 596,-261 650,-261 650,-297\"/>\n<text text-anchor=\"middle\" x=\"623\" y=\"-275.3\" font-family=\"Times New Roman,serif\" font-size=\"14.00\">p</text>\n</g>\n<!-- A&#45;&gt;A7 -->\n<g id=\"edge27\" class=\"edge\">\n<title>A&#45;&gt;A7</title>\n<path fill=\"none\" stroke=\"black\" d=\"M342.32,-360.49C390.47,-352.05 493.38,-331.84 586.14,-297.05\"/>\n<polygon fill=\"black\" stroke=\"black\" points=\"587.57,-300.25 595.66,-293.41 585.07,-293.71 587.57,-300.25\"/>\n<text text-anchor=\"middle\" x=\"532.5\" y=\"-318.8\" font-family=\"Times New Roman,serif\" font-size=\"14.00\">s</text>\n</g>\n<!-- A8 -->\n<g id=\"node29\" class=\"node\">\n<title>A8</title>\n<polygon fill=\"none\" stroke=\"black\" points=\"722,-297 668,-297 668,-261 722,-261 722,-297\"/>\n<text text-anchor=\"middle\" x=\"695\" y=\"-275.3\" font-family=\"Times New Roman,serif\" font-size=\"14.00\">p</text>\n</g>\n<!-- A&#45;&gt;A8 -->\n<g id=\"edge28\" class=\"edge\">\n<title>A&#45;&gt;A8</title>\n<path fill=\"none\" stroke=\"black\" d=\"M343.48,-362.49C401.89,-356.68 539.09,-339.71 658.07,-297.01\"/>\n<polygon fill=\"black\" stroke=\"black\" points=\"659.5,-300.21 667.69,-293.49 657.1,-293.64 659.5,-300.21\"/>\n<text text-anchor=\"middle\" x=\"599.5\" y=\"-318.8\" font-family=\"Times New Roman,serif\" font-size=\"14.00\">y</text>\n</g>\n<!-- A50 -->\n<g id=\"node8\" class=\"node\">\n<title>A50</title>\n<polygon fill=\"none\" stroke=\"black\" points=\"208,-210 154,-210 154,-174 208,-174 208,-210\"/>\n<text text-anchor=\"middle\" x=\"181\" y=\"-188.3\" font-family=\"Times New Roman,serif\" font-size=\"14.00\">e</text>\n</g>\n<!-- A5&#45;&gt;A50 -->\n<g id=\"edge6\" class=\"edge\">\n<title>A5&#45;&gt;A50</title>\n<path fill=\"none\" stroke=\"black\" d=\"M386,-265.24C343.97,-253.38 280.64,-234.39 217.99,-210.15\"/>\n<polygon fill=\"black\" stroke=\"black\" points=\"218.94,-206.76 208.35,-206.38 216.39,-213.28 218.94,-206.76\"/>\n<text text-anchor=\"middle\" x=\"315\" y=\"-231.8\" font-family=\"Times New Roman,serif\" font-size=\"14.00\">b</text>\n</g>\n<!-- A51 -->\n<g id=\"node9\" class=\"node\">\n<title>A51</title>\n<polygon fill=\"none\" stroke=\"black\" points=\"280,-210 226,-210 226,-174 280,-174 280,-210\"/>\n<text text-anchor=\"middle\" x=\"253\" y=\"-188.3\" font-family=\"Times New Roman,serif\" font-size=\"14.00\">e</text>\n</g>\n<!-- A5&#45;&gt;A51 -->\n<g id=\"edge7\" class=\"edge\">\n<title>A5&#45;&gt;A51</title>\n<path fill=\"none\" stroke=\"black\" d=\"M400.82,-262.8C369.53,-248.03 322.06,-225.61 289.41,-210.19\"/>\n<polygon fill=\"black\" stroke=\"black\" points=\"290.73,-206.95 280.2,-205.84 287.75,-213.28 290.73,-206.95\"/>\n<text text-anchor=\"middle\" x=\"357.5\" y=\"-231.8\" font-family=\"Times New Roman,serif\" font-size=\"14.00\">h</text>\n</g>\n<!-- A52 -->\n<g id=\"node10\" class=\"node\">\n<title>A52</title>\n<polygon fill=\"none\" stroke=\"black\" points=\"352,-210 298,-210 298,-174 352,-174 352,-210\"/>\n<text text-anchor=\"middle\" x=\"325\" y=\"-188.3\" font-family=\"Times New Roman,serif\" font-size=\"14.00\">e</text>\n</g>\n<!-- A5&#45;&gt;A52 -->\n<g id=\"edge8\" class=\"edge\">\n<title>A5&#45;&gt;A52</title>\n<path fill=\"none\" stroke=\"black\" d=\"M412.18,-261.61C395.91,-248.81 373.09,-230.85 354.88,-216.51\"/>\n<polygon fill=\"black\" stroke=\"black\" points=\"356.89,-213.65 346.87,-210.21 352.57,-219.15 356.89,-213.65\"/>\n<text text-anchor=\"middle\" x=\"389.5\" y=\"-231.8\" font-family=\"Times New Roman,serif\" font-size=\"14.00\">k</text>\n</g>\n<!-- A53 -->\n<g id=\"node11\" class=\"node\">\n<title>A53</title>\n<polygon fill=\"none\" stroke=\"black\" points=\"424,-210 370,-210 370,-174 424,-174 424,-210\"/>\n<text text-anchor=\"middle\" x=\"397\" y=\"-188.3\" font-family=\"Times New Roman,serif\" font-size=\"14.00\">e</text>\n</g>\n<!-- A5&#45;&gt;A53 -->\n<g id=\"edge9\" class=\"edge\">\n<title>A5&#45;&gt;A53</title>\n<path fill=\"none\" stroke=\"black\" d=\"M425.71,-260.8C420.69,-248.93 413.91,-232.93 408.2,-219.45\"/>\n<polygon fill=\"black\" stroke=\"black\" points=\"411.4,-218.02 404.27,-210.18 404.95,-220.75 411.4,-218.02\"/>\n<text text-anchor=\"middle\" x=\"421.5\" y=\"-231.8\" font-family=\"Times New Roman,serif\" font-size=\"14.00\">n</text>\n</g>\n<!-- A54 -->\n<g id=\"node12\" class=\"node\">\n<title>A54</title>\n<polygon fill=\"none\" stroke=\"black\" points=\"496,-210 442,-210 442,-174 496,-174 496,-210\"/>\n<text text-anchor=\"middle\" x=\"469\" y=\"-188.3\" font-family=\"Times New Roman,serif\" font-size=\"14.00\">e</text>\n</g>\n<!-- A5&#45;&gt;A54 -->\n<g id=\"edge10\" class=\"edge\">\n<title>A5&#45;&gt;A54</title>\n<path fill=\"none\" stroke=\"black\" d=\"M440.29,-260.8C445.31,-248.93 452.09,-232.93 457.8,-219.45\"/>\n<polygon fill=\"black\" stroke=\"black\" points=\"461.05,-220.75 461.73,-210.18 454.6,-218.02 461.05,-220.75\"/>\n<text text-anchor=\"middle\" x=\"458\" y=\"-231.8\" font-family=\"Times New Roman,serif\" font-size=\"14.00\">o</text>\n</g>\n<!-- A55 -->\n<g id=\"node13\" class=\"node\">\n<title>A55</title>\n<polygon fill=\"none\" stroke=\"black\" points=\"568,-210 514,-210 514,-174 568,-174 568,-210\"/>\n<text text-anchor=\"middle\" x=\"541\" y=\"-188.3\" font-family=\"Times New Roman,serif\" font-size=\"14.00\">p</text>\n</g>\n<!-- A5&#45;&gt;A55 -->\n<g id=\"edge11\" class=\"edge\">\n<title>A5&#45;&gt;A55</title>\n<path fill=\"none\" stroke=\"black\" d=\"M453.82,-261.61C470.09,-248.81 492.91,-230.85 511.12,-216.51\"/>\n<polygon fill=\"black\" stroke=\"black\" points=\"513.43,-219.15 519.13,-210.21 509.11,-213.65 513.43,-219.15\"/>\n<text text-anchor=\"middle\" x=\"496.5\" y=\"-231.8\" font-family=\"Times New Roman,serif\" font-size=\"14.00\">r</text>\n</g>\n<!-- A56 -->\n<g id=\"node14\" class=\"node\">\n<title>A56</title>\n<ellipse fill=\"none\" stroke=\"black\" cx=\"632\" cy=\"-192\" rx=\"46.29\" ry=\"18\"/>\n<text text-anchor=\"middle\" x=\"632\" y=\"-188.3\" font-family=\"Times New Roman,serif\" font-size=\"14.00\">cap&#45;color</text>\n</g>\n<!-- A5&#45;&gt;A56 -->\n<g id=\"edge23\" class=\"edge\">\n<title>A5&#45;&gt;A56</title>\n<path fill=\"none\" stroke=\"black\" d=\"M468.12,-263C503.05,-248.08 556.52,-225.24 592.81,-209.74\"/>\n<polygon fill=\"black\" stroke=\"black\" points=\"594.28,-212.92 602.1,-205.77 591.53,-206.48 594.28,-212.92\"/>\n<text text-anchor=\"middle\" x=\"550\" y=\"-231.8\" font-family=\"Times New Roman,serif\" font-size=\"14.00\">w</text>\n</g>\n<!-- A57 -->\n<g id=\"node26\" class=\"node\">\n<title>A57</title>\n<polygon fill=\"none\" stroke=\"black\" points=\"750,-210 696,-210 696,-174 750,-174 750,-210\"/>\n<text text-anchor=\"middle\" x=\"723\" y=\"-188.3\" font-family=\"Times New Roman,serif\" font-size=\"14.00\">e</text>\n</g>\n<!-- A5&#45;&gt;A57 -->\n<g id=\"edge24\" class=\"edge\">\n<title>A5&#45;&gt;A57</title>\n<path fill=\"none\" stroke=\"black\" d=\"M486.4,-266.65C536.27,-255.39 612.69,-236.46 686.28,-209.95\"/>\n<polygon fill=\"black\" stroke=\"black\" points=\"687.51,-213.23 695.7,-206.51 685.11,-206.66 687.51,-213.23\"/>\n<text text-anchor=\"middle\" x=\"636.5\" y=\"-231.8\" font-family=\"Times New Roman,serif\" font-size=\"14.00\">y</text>\n</g>\n<!-- A560 -->\n<g id=\"node15\" class=\"node\">\n<title>A560</title>\n<polygon fill=\"none\" stroke=\"black\" points=\"407,-123 353,-123 353,-87 407,-87 407,-123\"/>\n<text text-anchor=\"middle\" x=\"380\" y=\"-101.3\" font-family=\"Times New Roman,serif\" font-size=\"14.00\">e</text>\n</g>\n<!-- A56&#45;&gt;A560 -->\n<g id=\"edge12\" class=\"edge\">\n<title>A56&#45;&gt;A560</title>\n<path fill=\"none\" stroke=\"black\" d=\"M597.14,-180.16C545.16,-163.99 450.52,-134.47 417.16,-122.94\"/>\n<polygon fill=\"black\" stroke=\"black\" points=\"417.95,-119.51 407.35,-119.38 415.55,-126.09 417.95,-119.51\"/>\n<text text-anchor=\"middle\" x=\"520\" y=\"-144.8\" font-family=\"Times New Roman,serif\" font-size=\"14.00\">b</text>\n</g>\n<!-- A561 -->\n<g id=\"node16\" class=\"node\">\n<title>A561</title>\n<polygon fill=\"none\" stroke=\"black\" points=\"479,-123 425,-123 425,-87 479,-87 479,-123\"/>\n<text text-anchor=\"middle\" x=\"452\" y=\"-101.3\" font-family=\"Times New Roman,serif\" font-size=\"14.00\">e</text>\n</g>\n<!-- A56&#45;&gt;A561 -->\n<g id=\"edge13\" class=\"edge\">\n<title>A56&#45;&gt;A561</title>\n<path fill=\"none\" stroke=\"black\" d=\"M603.88,-177.72C572.69,-162.99 522.31,-139.2 488.2,-123.1\"/>\n<polygon fill=\"black\" stroke=\"black\" points=\"489.58,-119.88 479.05,-118.77 486.59,-126.21 489.58,-119.88\"/>\n<text text-anchor=\"middle\" x=\"556.5\" y=\"-144.8\" font-family=\"Times New Roman,serif\" font-size=\"14.00\">c</text>\n</g>\n<!-- A562 -->\n<g id=\"node17\" class=\"node\">\n<title>A562</title>\n<polygon fill=\"none\" stroke=\"black\" points=\"551,-123 497,-123 497,-87 551,-87 551,-123\"/>\n<text text-anchor=\"middle\" x=\"524\" y=\"-101.3\" font-family=\"Times New Roman,serif\" font-size=\"14.00\">e</text>\n</g>\n<!-- A56&#45;&gt;A562 -->\n<g id=\"edge14\" class=\"edge\">\n<title>A56&#45;&gt;A562</title>\n<path fill=\"none\" stroke=\"black\" d=\"M612.44,-175.61C596.03,-162.69 572.33,-144.03 553.59,-129.29\"/>\n<polygon fill=\"black\" stroke=\"black\" points=\"555.66,-126.46 545.64,-123.03 551.33,-131.96 555.66,-126.46\"/>\n<text text-anchor=\"middle\" x=\"588.5\" y=\"-144.8\" font-family=\"Times New Roman,serif\" font-size=\"14.00\">e</text>\n</g>\n<!-- A563 -->\n<g id=\"node18\" class=\"node\">\n<title>A563</title>\n<polygon fill=\"none\" stroke=\"black\" points=\"623,-123 569,-123 569,-87 623,-87 623,-123\"/>\n<text text-anchor=\"middle\" x=\"596\" y=\"-101.3\" font-family=\"Times New Roman,serif\" font-size=\"14.00\">e</text>\n</g>\n<!-- A56&#45;&gt;A563 -->\n<g id=\"edge15\" class=\"edge\">\n<title>A56&#45;&gt;A563</title>\n<path fill=\"none\" stroke=\"black\" d=\"M624.89,-174.21C619.84,-162.29 612.97,-146.06 607.19,-132.42\"/>\n<polygon fill=\"black\" stroke=\"black\" points=\"610.34,-130.89 603.22,-123.05 603.9,-133.62 610.34,-130.89\"/>\n<text text-anchor=\"middle\" x=\"620.5\" y=\"-144.8\" font-family=\"Times New Roman,serif\" font-size=\"14.00\">g</text>\n</g>\n<!-- A564 -->\n<g id=\"node19\" class=\"node\">\n<title>A564</title>\n<polygon fill=\"none\" stroke=\"black\" points=\"695,-123 641,-123 641,-87 695,-87 695,-123\"/>\n<text text-anchor=\"middle\" x=\"668\" y=\"-101.3\" font-family=\"Times New Roman,serif\" font-size=\"14.00\">e</text>\n</g>\n<!-- A56&#45;&gt;A564 -->\n<g id=\"edge16\" class=\"edge\">\n<title>A56&#45;&gt;A564</title>\n<path fill=\"none\" stroke=\"black\" d=\"M639.11,-174.21C644.16,-162.29 651.03,-146.06 656.81,-132.42\"/>\n<polygon fill=\"black\" stroke=\"black\" points=\"660.1,-133.62 660.78,-123.05 653.66,-130.89 660.1,-133.62\"/>\n<text text-anchor=\"middle\" x=\"656.5\" y=\"-144.8\" font-family=\"Times New Roman,serif\" font-size=\"14.00\">n</text>\n</g>\n<!-- A565 -->\n<g id=\"node20\" class=\"node\">\n<title>A565</title>\n<polygon fill=\"none\" stroke=\"black\" points=\"767,-123 713,-123 713,-87 767,-87 767,-123\"/>\n<text text-anchor=\"middle\" x=\"740\" y=\"-101.3\" font-family=\"Times New Roman,serif\" font-size=\"14.00\">e</text>\n</g>\n<!-- A56&#45;&gt;A565 -->\n<g id=\"edge17\" class=\"edge\">\n<title>A56&#45;&gt;A565</title>\n<path fill=\"none\" stroke=\"black\" d=\"M651.56,-175.61C667.97,-162.69 691.67,-144.03 710.41,-129.29\"/>\n<polygon fill=\"black\" stroke=\"black\" points=\"712.67,-131.96 718.36,-123.03 708.34,-126.46 712.67,-131.96\"/>\n<text text-anchor=\"middle\" x=\"696\" y=\"-144.8\" font-family=\"Times New Roman,serif\" font-size=\"14.00\">p</text>\n</g>\n<!-- A566 -->\n<g id=\"node21\" class=\"node\">\n<title>A566</title>\n<ellipse fill=\"none\" stroke=\"black\" cx=\"838\" cy=\"-105\" rx=\"53.09\" ry=\"18\"/>\n<text text-anchor=\"middle\" x=\"838\" y=\"-101.3\" font-family=\"Times New Roman,serif\" font-size=\"14.00\">cap&#45;surface</text>\n</g>\n<!-- A56&#45;&gt;A566 -->\n<g id=\"edge21\" class=\"edge\">\n<title>A56&#45;&gt;A566</title>\n<path fill=\"none\" stroke=\"black\" d=\"M662.84,-178.27C698.23,-163.67 756.45,-139.65 795.97,-123.34\"/>\n<polygon fill=\"black\" stroke=\"black\" points=\"797.68,-126.42 805.59,-119.37 795.01,-119.95 797.68,-126.42\"/>\n<text text-anchor=\"middle\" x=\"752\" y=\"-144.8\" font-family=\"Times New Roman,serif\" font-size=\"14.00\">w</text>\n</g>\n<!-- A567 -->\n<g id=\"node25\" class=\"node\">\n<title>A567</title>\n<polygon fill=\"none\" stroke=\"black\" points=\"963,-123 909,-123 909,-87 963,-87 963,-123\"/>\n<text text-anchor=\"middle\" x=\"936\" y=\"-101.3\" font-family=\"Times New Roman,serif\" font-size=\"14.00\">p</text>\n</g>\n<!-- A56&#45;&gt;A567 -->\n<g id=\"edge22\" class=\"edge\">\n<title>A56&#45;&gt;A567</title>\n<path fill=\"none\" stroke=\"black\" d=\"M666.52,-179.96C673.29,-177.9 680.35,-175.82 687,-174 777.86,-149.11 806.34,-154.87 899.23,-122.91\"/>\n<polygon fill=\"black\" stroke=\"black\" points=\"900.44,-126.19 908.73,-119.59 898.13,-119.59 900.44,-126.19\"/>\n<text text-anchor=\"middle\" x=\"842.5\" y=\"-144.8\" font-family=\"Times New Roman,serif\" font-size=\"14.00\">y</text>\n</g>\n<!-- A5660 -->\n<g id=\"node22\" class=\"node\">\n<title>A5660</title>\n<polygon fill=\"none\" stroke=\"black\" points=\"793,-36 739,-36 739,0 793,0 793,-36\"/>\n<text text-anchor=\"middle\" x=\"766\" y=\"-14.3\" font-family=\"Times New Roman,serif\" font-size=\"14.00\">e</text>\n</g>\n<!-- A566&#45;&gt;A5660 -->\n<g id=\"edge18\" class=\"edge\">\n<title>A566&#45;&gt;A5660</title>\n<path fill=\"none\" stroke=\"black\" d=\"M824.12,-87.61C813.66,-75.27 799.15,-58.14 787.24,-44.08\"/>\n<polygon fill=\"black\" stroke=\"black\" points=\"789.72,-41.58 780.58,-36.21 784.37,-46.11 789.72,-41.58\"/>\n<text text-anchor=\"middle\" x=\"808.5\" y=\"-57.8\" font-family=\"Times New Roman,serif\" font-size=\"14.00\">f</text>\n</g>\n<!-- A5661 -->\n<g id=\"node23\" class=\"node\">\n<title>A5661</title>\n<polygon fill=\"none\" stroke=\"black\" points=\"865,-36 811,-36 811,0 865,0 865,-36\"/>\n<text text-anchor=\"middle\" x=\"838\" y=\"-14.3\" font-family=\"Times New Roman,serif\" font-size=\"14.00\">p</text>\n</g>\n<!-- A566&#45;&gt;A5661 -->\n<g id=\"edge19\" class=\"edge\">\n<title>A566&#45;&gt;A5661</title>\n<path fill=\"none\" stroke=\"black\" d=\"M838,-86.8C838,-75.16 838,-59.55 838,-46.24\"/>\n<polygon fill=\"black\" stroke=\"black\" points=\"841.5,-46.18 838,-36.18 834.5,-46.18 841.5,-46.18\"/>\n<text text-anchor=\"middle\" x=\"841.5\" y=\"-57.8\" font-family=\"Times New Roman,serif\" font-size=\"14.00\">g</text>\n</g>\n<!-- A5662 -->\n<g id=\"node24\" class=\"node\">\n<title>A5662</title>\n<polygon fill=\"none\" stroke=\"black\" points=\"937,-36 883,-36 883,0 937,0 937,-36\"/>\n<text text-anchor=\"middle\" x=\"910\" y=\"-14.3\" font-family=\"Times New Roman,serif\" font-size=\"14.00\">e</text>\n</g>\n<!-- A566&#45;&gt;A5662 -->\n<g id=\"edge20\" class=\"edge\">\n<title>A566&#45;&gt;A5662</title>\n<path fill=\"none\" stroke=\"black\" d=\"M851.88,-87.61C862.34,-75.27 876.85,-58.14 888.76,-44.08\"/>\n<polygon fill=\"black\" stroke=\"black\" points=\"891.63,-46.11 895.42,-36.21 886.28,-41.58 891.63,-46.11\"/>\n<text text-anchor=\"middle\" x=\"881.5\" y=\"-57.8\" font-family=\"Times New Roman,serif\" font-size=\"14.00\">s</text>\n</g>\n</g>\n</svg>\n",
      "text/plain": [
       "<graphviz.graphs.Digraph at 0x2418f0c2fb0>"
      ]
     },
     "execution_count": 32,
     "metadata": {},
     "output_type": "execute_result"
    }
   ],
   "source": [
    "# construction de l'arbre de décision à partir du dataset Mushrooms_1:\n",
    "arbre_mushrooms_1 = ClassifierArbreDecision(len(mushrooms_noms), 0.0, mushrooms_noms)\n",
    "\n",
    "#################################\n",
    "\n",
    "# A COMPLETER \n",
    "\n",
    "#################################\n",
    "# Construction de l'arbre de décision à partir du dataset Mushrooms_1\n",
    "arbre_mushrooms_1.train(mushrooms_1_desc,mushrooms_1_label)\n",
    "\n",
    "# Construction de la représentation graphique (affichage)\n",
    "graphe_arbre_mushrooms_1 = gv.Digraph(format='png')\n",
    "arbre_mushrooms_1.affiche(graphe_arbre_mushrooms_1)\n",
    "\n",
    "# Affichage du graphe obtenu:\n",
    "graphe_arbre_mushrooms_1"
   ]
  },
  {
   "cell_type": "markdown",
   "metadata": {},
   "source": [
    "### Classification avec l'arbre de décision obtenu"
   ]
  },
  {
   "cell_type": "markdown",
   "metadata": {},
   "source": [
    "Exemple de classification d'un exemple:"
   ]
  },
  {
   "cell_type": "code",
   "execution_count": 33,
   "metadata": {},
   "outputs": [
    {
     "data": {
      "text/plain": [
       "'p'"
      ]
     },
     "execution_count": 33,
     "metadata": {},
     "output_type": "execute_result"
    }
   ],
   "source": [
    "arbre_mushrooms_1.predict(mushrooms_1_desc[0,:])"
   ]
  },
  {
   "cell_type": "markdown",
   "metadata": {},
   "source": [
    "Calcul de l'accuracy sur le dataset d'apprentissage.\n",
    "\n",
    "**Attention**: la fonction `accuracy` doit pouvoir tenir compte du fait que les classes ne sont pas égales à +1 ou -1 comme c'était le cas jusqu'à présent, il peut donc être nécessaire de redéfinir cette méthode dans la classe \n",
    "`ClassifierArbreDecision`: *la classification d'un exemple est correcte, si la fonction `predict`rend sa vraie classe.*\n"
   ]
  },
  {
   "cell_type": "code",
   "execution_count": 34,
   "metadata": {},
   "outputs": [
    {
     "data": {
      "text/plain": [
       "1.0"
      ]
     },
     "execution_count": 34,
     "metadata": {},
     "output_type": "execute_result"
    }
   ],
   "source": [
    "arbre_mushrooms_1.accuracy(mushrooms_1_desc,mushrooms_1_label)"
   ]
  },
  {
   "cell_type": "markdown",
   "metadata": {},
   "source": [
    "<font color=\"RED\" size=\"+1\">**[Q]**</font> Toujours avec le dataset `mushrooms_1` précédent, construire un nouvel arbre de décision en utilisant comme valeur d'epsilon : $0.25$.\n",
    "\n",
    "Que constatez-vous ? "
   ]
  },
  {
   "cell_type": "code",
   "execution_count": 35,
   "metadata": {},
   "outputs": [
    {
     "data": {
      "image/svg+xml": "<?xml version=\"1.0\" encoding=\"UTF-8\" standalone=\"no\"?>\n<!DOCTYPE svg PUBLIC \"-//W3C//DTD SVG 1.1//EN\"\n \"http://www.w3.org/Graphics/SVG/1.1/DTD/svg11.dtd\">\n<!-- Generated by graphviz version 6.0.2 (20221011.1828)\n -->\n<!-- Pages: 1 -->\n<svg width=\"638pt\" height=\"131pt\"\n viewBox=\"0.00 0.00 638.00 131.00\" xmlns=\"http://www.w3.org/2000/svg\" xmlns:xlink=\"http://www.w3.org/1999/xlink\">\n<g id=\"graph0\" class=\"graph\" transform=\"scale(1 1) rotate(0) translate(4 127)\">\n<polygon fill=\"white\" stroke=\"none\" points=\"-4,4 -4,-127 634,-127 634,4 -4,4\"/>\n<!-- A -->\n<g id=\"node1\" class=\"node\">\n<title>A</title>\n<ellipse fill=\"none\" stroke=\"black\" cx=\"315\" cy=\"-105\" rx=\"28.7\" ry=\"18\"/>\n<text text-anchor=\"middle\" x=\"315\" y=\"-101.3\" font-family=\"Times New Roman,serif\" font-size=\"14.00\">odor</text>\n</g>\n<!-- A0 -->\n<g id=\"node2\" class=\"node\">\n<title>A0</title>\n<polygon fill=\"none\" stroke=\"black\" points=\"54,-36 0,-36 0,0 54,0 54,-36\"/>\n<text text-anchor=\"middle\" x=\"27\" y=\"-14.3\" font-family=\"Times New Roman,serif\" font-size=\"14.00\">e</text>\n</g>\n<!-- A&#45;&gt;A0 -->\n<g id=\"edge1\" class=\"edge\">\n<title>A&#45;&gt;A0</title>\n<path fill=\"none\" stroke=\"black\" d=\"M287.94,-98.61C242.85,-89.24 149.6,-68.11 63.93,-36.07\"/>\n<polygon fill=\"black\" stroke=\"black\" points=\"64.92,-32.71 54.33,-32.42 62.44,-39.25 64.92,-32.71\"/>\n<text text-anchor=\"middle\" x=\"162.5\" y=\"-57.8\" font-family=\"Times New Roman,serif\" font-size=\"14.00\">a</text>\n</g>\n<!-- A1 -->\n<g id=\"node3\" class=\"node\">\n<title>A1</title>\n<polygon fill=\"none\" stroke=\"black\" points=\"126,-36 72,-36 72,0 126,0 126,-36\"/>\n<text text-anchor=\"middle\" x=\"99\" y=\"-14.3\" font-family=\"Times New Roman,serif\" font-size=\"14.00\">p</text>\n</g>\n<!-- A&#45;&gt;A1 -->\n<g id=\"edge2\" class=\"edge\">\n<title>A&#45;&gt;A1</title>\n<path fill=\"none\" stroke=\"black\" d=\"M290.59,-95.48C257.45,-83.76 196.25,-61.59 135.39,-36.01\"/>\n<polygon fill=\"black\" stroke=\"black\" points=\"136.6,-32.72 126.02,-32.04 133.87,-39.17 136.6,-32.72\"/>\n<text text-anchor=\"middle\" x=\"217.5\" y=\"-57.8\" font-family=\"Times New Roman,serif\" font-size=\"14.00\">c</text>\n</g>\n<!-- A2 -->\n<g id=\"node4\" class=\"node\">\n<title>A2</title>\n<polygon fill=\"none\" stroke=\"black\" points=\"198,-36 144,-36 144,0 198,0 198,-36\"/>\n<text text-anchor=\"middle\" x=\"171\" y=\"-14.3\" font-family=\"Times New Roman,serif\" font-size=\"14.00\">p</text>\n</g>\n<!-- A&#45;&gt;A2 -->\n<g id=\"edge3\" class=\"edge\">\n<title>A&#45;&gt;A2</title>\n<path fill=\"none\" stroke=\"black\" d=\"M294.67,-92C271.87,-78.54 234.44,-56.45 206.73,-40.09\"/>\n<polygon fill=\"black\" stroke=\"black\" points=\"208.49,-37.07 198.1,-35 204.93,-43.09 208.49,-37.07\"/>\n<text text-anchor=\"middle\" x=\"254.5\" y=\"-57.8\" font-family=\"Times New Roman,serif\" font-size=\"14.00\">f</text>\n</g>\n<!-- A3 -->\n<g id=\"node5\" class=\"node\">\n<title>A3</title>\n<polygon fill=\"none\" stroke=\"black\" points=\"270,-36 216,-36 216,0 270,0 270,-36\"/>\n<text text-anchor=\"middle\" x=\"243\" y=\"-14.3\" font-family=\"Times New Roman,serif\" font-size=\"14.00\">e</text>\n</g>\n<!-- A&#45;&gt;A3 -->\n<g id=\"edge4\" class=\"edge\">\n<title>A&#45;&gt;A3</title>\n<path fill=\"none\" stroke=\"black\" d=\"M302.13,-88.8C291.55,-76.31 276.35,-58.37 264.01,-43.8\"/>\n<polygon fill=\"black\" stroke=\"black\" points=\"266.63,-41.48 257.49,-36.11 261.29,-46 266.63,-41.48\"/>\n<text text-anchor=\"middle\" x=\"286\" y=\"-57.8\" font-family=\"Times New Roman,serif\" font-size=\"14.00\">l</text>\n</g>\n<!-- A4 -->\n<g id=\"node6\" class=\"node\">\n<title>A4</title>\n<polygon fill=\"none\" stroke=\"black\" points=\"342,-36 288,-36 288,0 342,0 342,-36\"/>\n<text text-anchor=\"middle\" x=\"315\" y=\"-14.3\" font-family=\"Times New Roman,serif\" font-size=\"14.00\">p</text>\n</g>\n<!-- A&#45;&gt;A4 -->\n<g id=\"edge5\" class=\"edge\">\n<title>A&#45;&gt;A4</title>\n<path fill=\"none\" stroke=\"black\" d=\"M315,-86.8C315,-75.16 315,-59.55 315,-46.24\"/>\n<polygon fill=\"black\" stroke=\"black\" points=\"318.5,-46.18 315,-36.18 311.5,-46.18 318.5,-46.18\"/>\n<text text-anchor=\"middle\" x=\"320.5\" y=\"-57.8\" font-family=\"Times New Roman,serif\" font-size=\"14.00\">m</text>\n</g>\n<!-- A5 -->\n<g id=\"node7\" class=\"node\">\n<title>A5</title>\n<polygon fill=\"none\" stroke=\"black\" points=\"414,-36 360,-36 360,0 414,0 414,-36\"/>\n<text text-anchor=\"middle\" x=\"387\" y=\"-14.3\" font-family=\"Times New Roman,serif\" font-size=\"14.00\">e</text>\n</g>\n<!-- A&#45;&gt;A5 -->\n<g id=\"edge6\" class=\"edge\">\n<title>A&#45;&gt;A5</title>\n<path fill=\"none\" stroke=\"black\" d=\"M327.87,-88.8C338.45,-76.31 353.65,-58.37 365.99,-43.8\"/>\n<polygon fill=\"black\" stroke=\"black\" points=\"368.71,-46 372.51,-36.11 363.37,-41.48 368.71,-46\"/>\n<text text-anchor=\"middle\" x=\"359.5\" y=\"-57.8\" font-family=\"Times New Roman,serif\" font-size=\"14.00\">n</text>\n</g>\n<!-- A6 -->\n<g id=\"node8\" class=\"node\">\n<title>A6</title>\n<polygon fill=\"none\" stroke=\"black\" points=\"486,-36 432,-36 432,0 486,0 486,-36\"/>\n<text text-anchor=\"middle\" x=\"459\" y=\"-14.3\" font-family=\"Times New Roman,serif\" font-size=\"14.00\">p</text>\n</g>\n<!-- A&#45;&gt;A6 -->\n<g id=\"edge7\" class=\"edge\">\n<title>A&#45;&gt;A6</title>\n<path fill=\"none\" stroke=\"black\" d=\"M335.33,-92C358.13,-78.54 395.56,-56.45 423.27,-40.09\"/>\n<polygon fill=\"black\" stroke=\"black\" points=\"425.07,-43.09 431.9,-35 421.51,-37.07 425.07,-43.09\"/>\n<text text-anchor=\"middle\" x=\"399\" y=\"-57.8\" font-family=\"Times New Roman,serif\" font-size=\"14.00\">p</text>\n</g>\n<!-- A7 -->\n<g id=\"node9\" class=\"node\">\n<title>A7</title>\n<polygon fill=\"none\" stroke=\"black\" points=\"558,-36 504,-36 504,0 558,0 558,-36\"/>\n<text text-anchor=\"middle\" x=\"531\" y=\"-14.3\" font-family=\"Times New Roman,serif\" font-size=\"14.00\">p</text>\n</g>\n<!-- A&#45;&gt;A7 -->\n<g id=\"edge8\" class=\"edge\">\n<title>A&#45;&gt;A7</title>\n<path fill=\"none\" stroke=\"black\" d=\"M339.41,-95.48C372.55,-83.76 433.75,-61.59 494.61,-36.01\"/>\n<polygon fill=\"black\" stroke=\"black\" points=\"496.13,-39.17 503.98,-32.04 493.4,-32.72 496.13,-39.17\"/>\n<text text-anchor=\"middle\" x=\"449.5\" y=\"-57.8\" font-family=\"Times New Roman,serif\" font-size=\"14.00\">s</text>\n</g>\n<!-- A8 -->\n<g id=\"node10\" class=\"node\">\n<title>A8</title>\n<polygon fill=\"none\" stroke=\"black\" points=\"630,-36 576,-36 576,0 630,0 630,-36\"/>\n<text text-anchor=\"middle\" x=\"603\" y=\"-14.3\" font-family=\"Times New Roman,serif\" font-size=\"14.00\">p</text>\n</g>\n<!-- A&#45;&gt;A8 -->\n<g id=\"edge9\" class=\"edge\">\n<title>A&#45;&gt;A8</title>\n<path fill=\"none\" stroke=\"black\" d=\"M342.06,-98.61C387.15,-89.24 480.4,-68.11 566.07,-36.07\"/>\n<polygon fill=\"black\" stroke=\"black\" points=\"567.56,-39.25 575.67,-32.42 565.08,-32.71 567.56,-39.25\"/>\n<text text-anchor=\"middle\" x=\"516.5\" y=\"-57.8\" font-family=\"Times New Roman,serif\" font-size=\"14.00\">y</text>\n</g>\n</g>\n</svg>\n",
      "text/plain": [
       "<graphviz.graphs.Digraph at 0x2418ed1bfd0>"
      ]
     },
     "execution_count": 35,
     "metadata": {},
     "output_type": "execute_result"
    }
   ],
   "source": [
    "# construction de l'arbre de décision à partir du dataset Mushrooms_1:\n",
    "arbre_mushrooms_1_bis = ClassifierArbreDecision(len(mushrooms_noms), 0.25, mushrooms_noms)\n",
    "\n",
    "#################################\n",
    "\n",
    "# A COMPLETER \n",
    "\n",
    "#################################\n",
    "# Construction de l'arbre de décision à partir du dataset Mushrooms_1\n",
    "arbre_mushrooms_1_bis.train(mushrooms_1_desc,mushrooms_1_label)\n",
    "\n",
    "# Construction de la représentation graphique (affichage)\n",
    "graphe_arbre_mushrooms_1_bis= gv.Digraph(format='png')\n",
    "arbre_mushrooms_1_bis.affiche(graphe_arbre_mushrooms_1_bis)\n",
    "\n",
    "# Affichage du graphe obtenu:\n",
    "graphe_arbre_mushrooms_1_bis"
   ]
  },
  {
   "cell_type": "markdown",
   "metadata": {},
   "source": [
    "<font color=\"RED\" size=\"+1\">**[Q]**</font> Déterminer l'accuracy de ce nouvel arbre.\n"
   ]
  },
  {
   "cell_type": "code",
   "execution_count": 36,
   "metadata": {},
   "outputs": [
    {
     "data": {
      "text/plain": [
       "0.9892857142857143"
      ]
     },
     "execution_count": 36,
     "metadata": {},
     "output_type": "execute_result"
    }
   ],
   "source": [
    "arbre_mushrooms_1_bis.accuracy(mushrooms_1_desc,mushrooms_1_label)"
   ]
  },
  {
   "cell_type": "markdown",
   "metadata": {},
   "source": [
    "<font color=\"RED\" size=\"+1\">**[Q]**</font> D'après ces résultats, de ces 2 arbres, quel est celui qui a sur-appris ? "
   ]
  },
  {
   "cell_type": "markdown",
   "metadata": {},
   "source": [
    "D'aprés ces 2 arbres, on remarque que le premier arbre (epsilon=0) est plus profond que le 2éme arbre. Et comme le premier graphe est trop profond il peut s'adapter trop précisément aux données d'apprentissage et ne pas généraliser correctement sur les données de test. Donc on peut conclure que dans l'arbre de décision 1 il y a un surapprentissage (overfetting)"
   ]
  },
  {
   "cell_type": "markdown",
   "metadata": {},
   "source": [
    "## Plus d'expérimentations avec la base Mushrooms\n",
    "\n",
    "On décide maintenant d'évaluer plus en détail ce nouvel algorithme. On souhaite:\n",
    "1. construire un arbre avec chaque fichier `mushrooms-1400-*.csv` \n",
    "2. pour chaque arbre construit, évaluer son accuracy:\n",
    "    - sur le dataset d'apprentissage\n",
    "    - sur les 4 autres fichiers `mushrooms-1400-*.csv`\n",
    "    - sur le fichier `mushrooms-1124.csv`\n",
    "    \n",
    "    \n",
    "**Remarque :** normalement, tous ces tests devraient pouvoir se faire dans un temps raisonnable, dans le cas contraire, faites les un par un."
   ]
  },
  {
   "cell_type": "code",
   "execution_count": 37,
   "metadata": {},
   "outputs": [],
   "source": [
    "# Chargement des fichiers mushrooms et apprentissage\n",
    "mushrooms_desc = []\n",
    "mushrooms_label = []\n",
    "arbres_mushrooms = []\n",
    "for j in range(0,5):\n",
    "    mushrooms_df = pd.read_csv(\"data/mushrooms-1400-\"+str(j+1)+\".csv\")\n",
    "    mushrooms_noms = [nom for nom in mushrooms_df.columns if nom != 'class']\n",
    "    # Passer du dataframe à un dataset (2 arrays):\n",
    "    mushrooms_desc.append(np.array(mushrooms_df[mushrooms_noms]))\n",
    "    mushrooms_label.append(np.array(mushrooms_df['class']))\n",
    "    \n",
    "    # Apprentissage\n",
    "    arbres_mushrooms.append(ClassifierArbreDecision(len(mushrooms_noms), 0.0, mushrooms_noms))\n",
    "    arbres_mushrooms[j].train(mushrooms_desc[j],mushrooms_label[j])"
   ]
  },
  {
   "cell_type": "code",
   "execution_count": 38,
   "metadata": {},
   "outputs": [],
   "source": [
    "# Fichier qui va nous servir à tester\n",
    "mushrooms_df = pd.read_csv(\"data/mushrooms-1124.csv\")\n",
    "\n",
    "# Passer du dataframe à un dataset (2 arrays):\n",
    "mushrooms_test_desc = np.array(mushrooms_df[mushrooms_noms])\n",
    "mushrooms_test_label = np.array(mushrooms_df['class'])"
   ]
  },
  {
   "cell_type": "markdown",
   "metadata": {},
   "source": [
    "<font color=\"RED\" size=\"+1\">**[Q]**</font> Donner les instructions permettant d'obtenir le taux de bonne classification (accuracy) de chacun des arbres construits sur les autres bases, sur le modèle suivant:"
   ]
  },
  {
   "cell_type": "code",
   "execution_count": 39,
   "metadata": {},
   "outputs": [
    {
     "name": "stdout",
     "output_type": "stream",
     "text": [
      "Apprentissage avec mushrooms-1400-  1\n",
      "classification de mushrooms-1400-  1  :  1.0\n",
      "classification de mushrooms-1400-  2  :  1.0\n",
      "classification de mushrooms-1400-  3  :  0.9964285714285714\n",
      "\t*** Warning: attribut  cap-surface  -> Valeur inconnue:  y\n",
      "\t*** Warning: attribut  cap-surface  -> Valeur inconnue:  y\n",
      "\t*** Warning: attribut  cap-surface  -> Valeur inconnue:  y\n",
      "classification de mushrooms-1400-  4  :  0.9957142857142857\n",
      "classification de mushrooms-1400-  5  :  0.9971428571428571\n",
      "\t*** Warning: attribut  cap-surface  -> Valeur inconnue:  y\n",
      "classification de mushrooms-1124 :  0.9955516014234875\n",
      "Apprentissage avec mushrooms-1400-  2\n",
      "classification de mushrooms-1400-  1  :  0.9985714285714286\n",
      "classification de mushrooms-1400-  2  :  1.0\n",
      "classification de mushrooms-1400-  3  :  0.9964285714285714\n",
      "classification de mushrooms-1400-  4  :  0.9957142857142857\n",
      "classification de mushrooms-1400-  5  :  0.9964285714285714\n",
      "classification de mushrooms-1124 :  0.994661921708185\n",
      "Apprentissage avec mushrooms-1400-  3\n",
      "classification de mushrooms-1400-  1  :  0.9964285714285714\n",
      "\t*** Warning: attribut  cap-shape  -> Valeur inconnue:  c\n",
      "\t*** Warning: attribut  cap-shape  -> Valeur inconnue:  c\n",
      "classification de mushrooms-1400-  2  :  0.9964285714285714\n",
      "classification de mushrooms-1400-  3  :  1.0\n",
      "\t*** Warning: attribut  cap-shape  -> Valeur inconnue:  c\n",
      "classification de mushrooms-1400-  4  :  0.9957142857142857\n",
      "\t*** Warning: attribut  cap-shape  -> Valeur inconnue:  c\n",
      "classification de mushrooms-1400-  5  :  0.9971428571428571\n",
      "classification de mushrooms-1124 :  1.0\n",
      "Apprentissage avec mushrooms-1400-  4\n",
      "classification de mushrooms-1400-  1  :  1.0\n",
      "classification de mushrooms-1400-  2  :  1.0\n",
      "classification de mushrooms-1400-  3  :  1.0\n",
      "classification de mushrooms-1400-  4  :  1.0\n",
      "classification de mushrooms-1400-  5  :  1.0\n",
      "classification de mushrooms-1124 :  1.0\n",
      "Apprentissage avec mushrooms-1400-  5\n",
      "classification de mushrooms-1400-  1  :  0.9964285714285714\n",
      "classification de mushrooms-1400-  2  :  0.9971428571428571\n",
      "classification de mushrooms-1400-  3  :  0.9971428571428571\n",
      "classification de mushrooms-1400-  4  :  0.995\n",
      "classification de mushrooms-1400-  5  :  1.0\n",
      "classification de mushrooms-1124 :  0.99644128113879\n"
     ]
    }
   ],
   "source": [
    "for i in range(5):\n",
    "    print(\"Apprentissage avec mushrooms-1400- \",i+1)\n",
    "    for j in range(5):\n",
    "        print(\"classification de mushrooms-1400- \",j+1,\" : \",arbres_mushrooms[i].accuracy(mushrooms_desc[j],mushrooms_label[j]))\n",
    "    mushrooms_df_1124 = pd.read_csv(\"data/mushrooms-1124.csv\")\n",
    "    mushrooms_noms_1124 = [nom for nom in mushrooms_df_1124.columns if nom != 'class']\n",
    "    # Passer du dataframe à un dataset (2 arrays):\n",
    "    mushrooms_desc_1124 = np.array(mushrooms_df_1124[mushrooms_noms_1124])\n",
    "    mushrooms_label_1124 = np.array(mushrooms_df_1124['class'])\n",
    "    print(\"classification de mushrooms-1124 : \",arbres_mushrooms[i].accuracy(mushrooms_desc_1124,mushrooms_label_1124))\n",
    "    "
   ]
  },
  {
   "cell_type": "markdown",
   "metadata": {},
   "source": [
    "<font color=\"RED\" size=\"+1\">**[Q]**</font> On peut remarquer que pour certains arbres, la classification de certains exemples produit un warning.\n",
    "En étudiant les exemples suivant et leur classification par le premier arbre, expliquez pourquoi un warning se produit.\n",
    "Est-ce normal ? Pourrait-on trouver une solution pour ces cas-là ?\n"
   ]
  },
  {
   "cell_type": "code",
   "execution_count": 40,
   "metadata": {},
   "outputs": [
    {
     "name": "stdout",
     "output_type": "stream",
     "text": [
      "\t*** Warning: attribut  cap-surface  -> Valeur inconnue:  y\n",
      "962  --> pas de prédiction, le label rendu est  0\n",
      "\t*** Warning: attribut  cap-surface  -> Valeur inconnue:  y\n",
      "1219  --> pas de prédiction, le label rendu est  0\n",
      "\t*** Warning: attribut  cap-surface  -> Valeur inconnue:  y\n",
      "1349  --> pas de prédiction, le label rendu est  0\n"
     ]
    }
   ],
   "source": [
    "for i in range(0,1400):\n",
    "    prediction = arbres_mushrooms[0].predict(mushrooms_desc[3][i,:])\n",
    "    if prediction == 0:\n",
    "        print(i,\" --> pas de prédiction, le label rendu est \",prediction)\n"
   ]
  },
  {
   "cell_type": "markdown",
   "metadata": {},
   "source": [
    "Ce warning ce produit, car le data train avec lequel ce classifier a était entrainer ne conntient pas de valeur y pour l'attribut cap-surface. Par conséquent, quand on lui passe un exemple qui contient cette valeur y, il peut y avoir un warning lorsque la recherche arrive à cet attribut et le noeud qui lui correspond ne contient pas un fils avec cette valeur (ce cas généralement arrive aussi lorsque l'arbre a sur-apprit (overfetting).\n",
    "On peut éviter ça en augmentant un peu la valeur d'epsilon pour ne pas avoir d'overfetting."
   ]
  },
  {
   "cell_type": "markdown",
   "metadata": {},
   "source": [
    "<font color=\"RED\" size=\"+1\">**[Q]**</font> Réaliser une validation croisée en 10 paquets sur la base mushrooms_1, puis sur la base mushrooms complète."
   ]
  },
  {
   "cell_type": "code",
   "execution_count": 47,
   "metadata": {},
   "outputs": [
    {
     "name": "stdout",
     "output_type": "stream",
     "text": [
      "0  : taille app.=  1261 ,  taille test =  139  ,Accuracy:   1.0\n",
      "1  : taille app.=  1261 ,  taille test =  139  ,Accuracy:   1.0\n",
      "2  : taille app.=  1261 ,  taille test =  139  ,Accuracy:   0.9856115107913669\n",
      "3  : taille app.=  1261 ,  taille test =  139  ,Accuracy:   1.0\n",
      "4  : taille app.=  1261 ,  taille test =  139  ,Accuracy:   1.0\n",
      "5  : taille app.=  1261 ,  taille test =  139  ,Accuracy:   1.0\n",
      "6  : taille app.=  1261 ,  taille test =  139  ,Accuracy:   1.0\n",
      "7  : taille app.=  1261 ,  taille test =  139  ,Accuracy:   1.0\n",
      "8  : taille app.=  1261 ,  taille test =  139  ,Accuracy:   1.0\n",
      "9  : taille app.=  1261 ,  taille test =  139  ,Accuracy:   1.0\n",
      "Validation croisée sur mushrooms 1\n",
      "Perf obtenues :  [1.0, 1.0, 0.9856115107913669, 1.0, 1.0, 1.0, 1.0, 1.0, 1.0, 1.0]\n",
      "Accuracy moyenne:  0.9985611510791367 \técart type:  0.004316546762589935\n"
     ]
    }
   ],
   "source": [
    "\n",
    "mushrooms_1_df = pd.read_csv(\"data/mushrooms-1400-1.csv\")\n",
    "\n",
    "# Dans ce dataframe, la colonne de classe s'appelle 'class'\n",
    "mushrooms_1_noms = [nom for nom in mushrooms_1_df.columns if nom != 'class']\n",
    "\n",
    "# Passer du dataframe à un dataset (2 arrays desc & labels):\n",
    "mushrooms_1_desc = np.array(mushrooms_1_df[mushrooms_1_noms])\n",
    "mushrooms_1_label = np.array(mushrooms_1_df['class'])\n",
    "###################### A COMPLETER \n",
    "arbre = ClassifierArbreDecision(len(mushrooms_1_noms), 0.0, mushrooms_1_noms)\n",
    "\n",
    "#################################\n",
    "\n",
    "\n",
    "# Remarque: j'ai mis des affichage dans la fonction validation croisée afin de montrer\n",
    "# ce qui se passe:\n",
    "(res_all, res_moy, res_sd) = validation_croisee(arbre, (mushrooms_1_desc, mushrooms_1_label), 10)\n",
    "\n",
    "print(\"Validation croisée sur mushrooms 1\")\n",
    "print(\"Perf obtenues : \",res_all)\n",
    "print(\"Accuracy moyenne: \",res_moy,\"\\técart type: \", res_sd)"
   ]
  },
  {
   "cell_type": "markdown",
   "metadata": {},
   "source": [
    "<font color=\"RED\" size=\"+1\">**[Q]**</font> Regrouper les 6 fichiers mushrooms et réaliser une évaluation de l'algorithme de construction d'arbres par une validation croisée en 10 paquets."
   ]
  },
  {
   "cell_type": "code",
   "execution_count": 48,
   "metadata": {},
   "outputs": [
    {
     "name": "stdout",
     "output_type": "stream",
     "text": [
      "0  : taille app.=  7313 ,  taille test =  811  ,Accuracy:   1.0\n",
      "1  : taille app.=  7313 ,  taille test =  811  ,Accuracy:   1.0\n",
      "2  : taille app.=  7313 ,  taille test =  811  ,Accuracy:   1.0\n",
      "3  : taille app.=  7313 ,  taille test =  811  ,Accuracy:   1.0\n",
      "4  : taille app.=  7313 ,  taille test =  811  ,Accuracy:   1.0\n",
      "5  : taille app.=  7313 ,  taille test =  811  ,Accuracy:   1.0\n",
      "6  : taille app.=  7313 ,  taille test =  811  ,Accuracy:   1.0\n",
      "7  : taille app.=  7313 ,  taille test =  811  ,Accuracy:   1.0\n",
      "8  : taille app.=  7313 ,  taille test =  811  ,Accuracy:   1.0\n",
      "9  : taille app.=  7313 ,  taille test =  811  ,Accuracy:   1.0\n",
      "Validation croisée sur mushrooms \n",
      "Perf obtenues :  [1.0, 1.0, 1.0, 1.0, 1.0, 1.0, 1.0, 1.0, 1.0, 1.0]\n",
      "Accuracy moyenne:  1.0 \técart type:  0.0\n"
     ]
    }
   ],
   "source": [
    "mushrooms_desc = []\n",
    "mushrooms_label = []\n",
    "for j in range(0,5):\n",
    "    mushrooms_df = pd.read_csv(\"data/mushrooms-1400-\"+str(j+1)+\".csv\")\n",
    "    mushrooms_noms = ([nom for nom in mushrooms_df.columns if nom != 'class'])\n",
    "    # Passer du dataframe à un dataset (2 arrays):\n",
    "    if len(mushrooms_desc) == 0 and len(mushrooms_label) == 0:\n",
    "        mushrooms_desc=np.array(mushrooms_df[mushrooms_noms])\n",
    "        mushrooms_label=np.array(mushrooms_df['class'])\n",
    "    else:\n",
    "        mushrooms_desc = np.concatenate((mushrooms_desc,np.array(mushrooms_df[mushrooms_noms])), axis=0)\n",
    "        mushrooms_label = np.concatenate((mushrooms_label,np.array(mushrooms_df['class'])), axis=0)\n",
    "mushrooms_df = pd.read_csv(\"data/mushrooms-1124.csv\")\n",
    "mushrooms_noms=[nom for nom in mushrooms_df.columns if nom != 'class']\n",
    "mushrooms_desc = np.concatenate((mushrooms_desc,np.array(mushrooms_df[mushrooms_noms])), axis=0)\n",
    "mushrooms_label = np.concatenate((mushrooms_label,np.array(mushrooms_df['class'])), axis=0)\n",
    "arbre_2 = ClassifierArbreDecision(len(mushrooms_noms), 0.0, mushrooms_noms)\n",
    "#################################\n",
    "(res_all_2, res_moy_2, res_sd_2) = validation_croisee(arbre_2, (mushrooms_desc, mushrooms_label), 10)\n",
    "\n",
    "print(\"Validation croisée sur mushrooms \")\n",
    "print(\"Perf obtenues : \",res_all_2)\n",
    "print(\"Accuracy moyenne: \",res_moy_2,\"\\técart type: \", res_sd_2)"
   ]
  },
  {
   "cell_type": "markdown",
   "metadata": {},
   "source": [
    "## Evaluation \"Leave one out\"\n",
    "\n",
    "Nous avons vu 2 approches pour évaluer un algorithme d'apprentissage:\n",
    "- la mesure de l'accuracy sur les données d'apprentissage et sur une base de test\n",
    "- la réalisation d'une validation croisée pour mesurer l'accuracy et l'écart type (pour évaluer la robustesse) mesurées sur les données utilisées pour apprendre le modèle (données d'apprentissage) et sur des données qui n'ont pas été utilisées pour mettre au point le modèle (données test)\n",
    "\n",
    "La première approche est généralement utilisée pour comparer plusieurs modèles en regardant leur accuracy sur les mêmes données de test.\n",
    "La deuxième approche est, elle, utilisée pour aussi obtenir une certaine évaluation de la robustesse du modèle appris et garantir que l'accuracy mesurée n'est pas simplement obtenue sur \"un cas particulier\" de données.\n",
    "\n",
    "Cependant, il existe des cas où le dataset que l'on possède ne contient pas beaucoup d'exemples. Dans ce cas, deux possibilités:\n",
    "- il y a suffisament de données dans le dataset pour réaliser une validation croisée en réduisant le nombre de paquets (ie. prendre 4 paquets au lieu de 10 par exemple);\n",
    "- il y a trop peu d'exemples pour qu'une validation croisée soit réalisable, on utilise alors une autre technique d'évaluation: l'évaluation par **leave one out** (littéralement: \"en mettre un de côté\"). \n"
   ]
  },
  {
   "cell_type": "markdown",
   "metadata": {},
   "source": [
    "<div class=\"alert alert-block alert-warning\">\n",
    "    L'évaluation par <b>leave one out</b> procède ainsi: à partir d'un dataset $DS$ contenant $n$ exemples:\n",
    "    \n",
    "1. sortir un des exemples de $DS$ et le mettre de côté\n",
    "    \n",
    "2. apprendre le modèle sur les $n-1$ exemples non sortis de $DS$\n",
    "    \n",
    "3. tester le modèle appris sur l'exemple mis de côté: il est soit bien classé (on marque 1 pt), soit mal classé (on marque 0 pt)\n",
    "    \n",
    "4. prendre le $DS$ original est choisir un exemple différent à mettre de côté\n",
    "    \n",
    "5. reprendre en 1) \n",
    "\n",
    "Les étapes 4) et 5) sont faites jusqu'à ce que tous les exemples de $DS$ aient été sortis à leur tour de $DS$.\n",
    "A la fin, l'accuracy de test du modèle est alors donnée par le ratio $\\frac{\\mbox{nombre de points marqués}}{n}$.\n",
    "\n",
    "</div>    \n",
    "\n",
    "<i>Remarque</i>: le plus simple dans cette approche, c'est de sortir les exemples en les prenant dans l'ordre dans lequel ils sont dans le dataset.\n",
    "    "
   ]
  },
  {
   "cell_type": "markdown",
   "metadata": {},
   "source": [
    "<font color=\"RED\" size=\"+1\">**[Q]**</font> Ecrire la fonction `leave_one_out` qui prend en argument un algorithme d'apprentissage $C$ et un dataset $DS$ et rend l'accuracy de test de $C$ calculée sur $DS$ en utilisant l'évaluation par leave one out.\n",
    "\n",
    "**Remarque**: il peut être important de copier (correctement) le classifieur pour pouvoir l'entraîner plusieurs fois."
   ]
  },
  {
   "cell_type": "code",
   "execution_count": 49,
   "metadata": {},
   "outputs": [],
   "source": [
    "import copy  # pour utiliser copy.deepcopy() qui permet de faire des copies de C \n",
    "\n",
    "# ------------------------ A COMPLETER :\n",
    "def leave_one_out(C, DS):\n",
    "    \"\"\" Classifieur * tuple[array, array] -> float\n",
    "    \"\"\"\n",
    "    X, Y = DS   \n",
    "    length = Y.shape[0]\n",
    "    points_marques = 0\n",
    "    for i in range(length):\n",
    "        Xapp = np.concatenate((X[:i] , X[i+1:]),axis=0)\n",
    "        Yapp= np.concatenate((Y[:i] , Y[i+1:]),axis=0)\n",
    "        Xtest = X[i]\n",
    "        Ytest = Y[i]\n",
    "        newC = copy.deepcopy(C)\n",
    "        newC.train(Xapp , Yapp)\n",
    "        if(newC.predict(Xtest) == Ytest):\n",
    "            points_marques += 1\n",
    "        #print(i,\" : taille app.= \",Xapp.shape[0],\",  taille test = \",Xtest.shape[0],\" ,Accuracy:  \",perf[i])\n",
    "    \n",
    "    return points_marques/length"
   ]
  },
  {
   "cell_type": "markdown",
   "metadata": {},
   "source": [
    "Tester avec la base sur les élections européennes:"
   ]
  },
  {
   "cell_type": "code",
   "execution_count": 50,
   "metadata": {},
   "outputs": [
    {
     "name": "stdout",
     "output_type": "stream",
     "text": [
      "\t*** Warning: attribut  Nationalite  -> Valeur inconnue:  Italien\n"
     ]
    },
    {
     "data": {
      "text/plain": [
       "0.75"
      ]
     },
     "execution_count": 50,
     "metadata": {},
     "output_type": "execute_result"
    }
   ],
   "source": [
    "# Chargement et préparation du dataset:\n",
    "elections_df = pd.read_csv(\"data/elections.csv\")\n",
    "elections_noms = [nom for nom in elections_df.columns if nom != 'Label']\n",
    "\n",
    "data_desc = np.array(elections_df[elections_noms])\n",
    "data_label = np.array(elections_df['Label'])\n",
    "\n",
    "# Lancement du leave one out\n",
    "leave_one_out(ClassifierArbreDecision(len(elections_noms), 0.1, elections_noms),(data_desc,data_label))"
   ]
  },
  {
   "cell_type": "markdown",
   "metadata": {},
   "source": [
    "## Comparaison avec d'autres algorithmes\n",
    "\n",
    "Afin de pouvoir comparer les autres classifieurs que l'on a vu précédemment avec celui par arbres de décision, il faut les adapter afin qu'ils puissent traiter les données catégorielles.\n",
    "En cours, nous avons vu l'encodage one-hot qui s'implémente en python avec la fonction `get_dummies` de la librairie `pandas` (cf. cours 6).\n"
   ]
  },
  {
   "cell_type": "markdown",
   "metadata": {},
   "source": [
    "### Base des élections"
   ]
  },
  {
   "cell_type": "markdown",
   "metadata": {},
   "source": [
    "<font color=\"RED\" size=\"+1\">**[Q]**</font> En utilisant la fonction `get_dummies` tranformer le dataframe `elections_df` en un dataframe `elections_df_num` qui ne contient que des attributs numériques."
   ]
  },
  {
   "cell_type": "code",
   "execution_count": 51,
   "metadata": {},
   "outputs": [
    {
     "name": "stdout",
     "output_type": "stream",
     "text": [
      "Noms des colonnes :  ['Adresse', 'Majeur?', 'Nationalite']\n"
     ]
    },
    {
     "data": {
      "text/html": [
       "<div>\n",
       "<style scoped>\n",
       "    .dataframe tbody tr th:only-of-type {\n",
       "        vertical-align: middle;\n",
       "    }\n",
       "\n",
       "    .dataframe tbody tr th {\n",
       "        vertical-align: top;\n",
       "    }\n",
       "\n",
       "    .dataframe thead th {\n",
       "        text-align: right;\n",
       "    }\n",
       "</style>\n",
       "<table border=\"1\" class=\"dataframe\">\n",
       "  <thead>\n",
       "    <tr style=\"text-align: right;\">\n",
       "      <th></th>\n",
       "      <th>Adresse</th>\n",
       "      <th>Majeur?</th>\n",
       "      <th>Nationalite</th>\n",
       "      <th>Label</th>\n",
       "    </tr>\n",
       "  </thead>\n",
       "  <tbody>\n",
       "    <tr>\n",
       "      <th>0</th>\n",
       "      <td>Paris</td>\n",
       "      <td>oui</td>\n",
       "      <td>Francais</td>\n",
       "      <td>1</td>\n",
       "    </tr>\n",
       "    <tr>\n",
       "      <th>1</th>\n",
       "      <td>Paris</td>\n",
       "      <td>non</td>\n",
       "      <td>Francais</td>\n",
       "      <td>-1</td>\n",
       "    </tr>\n",
       "    <tr>\n",
       "      <th>2</th>\n",
       "      <td>Montpellier</td>\n",
       "      <td>oui</td>\n",
       "      <td>Italien</td>\n",
       "      <td>1</td>\n",
       "    </tr>\n",
       "    <tr>\n",
       "      <th>3</th>\n",
       "      <td>Paris</td>\n",
       "      <td>oui</td>\n",
       "      <td>Suisse</td>\n",
       "      <td>-1</td>\n",
       "    </tr>\n",
       "    <tr>\n",
       "      <th>4</th>\n",
       "      <td>Strasbourg</td>\n",
       "      <td>non</td>\n",
       "      <td>Italien</td>\n",
       "      <td>-1</td>\n",
       "    </tr>\n",
       "    <tr>\n",
       "      <th>5</th>\n",
       "      <td>Strasbourg</td>\n",
       "      <td>non</td>\n",
       "      <td>Francais</td>\n",
       "      <td>-1</td>\n",
       "    </tr>\n",
       "    <tr>\n",
       "      <th>6</th>\n",
       "      <td>Strasbourg</td>\n",
       "      <td>oui</td>\n",
       "      <td>Francais</td>\n",
       "      <td>1</td>\n",
       "    </tr>\n",
       "    <tr>\n",
       "      <th>7</th>\n",
       "      <td>Montpellier</td>\n",
       "      <td>oui</td>\n",
       "      <td>Suisse</td>\n",
       "      <td>-1</td>\n",
       "    </tr>\n",
       "  </tbody>\n",
       "</table>\n",
       "</div>"
      ],
      "text/plain": [
       "       Adresse Majeur? Nationalite  Label\n",
       "0        Paris     oui    Francais      1\n",
       "1        Paris     non    Francais     -1\n",
       "2  Montpellier     oui     Italien      1\n",
       "3        Paris     oui      Suisse     -1\n",
       "4   Strasbourg     non     Italien     -1\n",
       "5   Strasbourg     non    Francais     -1\n",
       "6   Strasbourg     oui    Francais      1\n",
       "7  Montpellier     oui      Suisse     -1"
      ]
     },
     "execution_count": 51,
     "metadata": {},
     "output_type": "execute_result"
    }
   ],
   "source": [
    "# Rappel :\n",
    "print(\"Noms des colonnes : \", elections_noms)\n",
    "elections_df\n"
   ]
  },
  {
   "cell_type": "code",
   "execution_count": 52,
   "metadata": {},
   "outputs": [
    {
     "data": {
      "text/html": [
       "<div>\n",
       "<style scoped>\n",
       "    .dataframe tbody tr th:only-of-type {\n",
       "        vertical-align: middle;\n",
       "    }\n",
       "\n",
       "    .dataframe tbody tr th {\n",
       "        vertical-align: top;\n",
       "    }\n",
       "\n",
       "    .dataframe thead th {\n",
       "        text-align: right;\n",
       "    }\n",
       "</style>\n",
       "<table border=\"1\" class=\"dataframe\">\n",
       "  <thead>\n",
       "    <tr style=\"text-align: right;\">\n",
       "      <th></th>\n",
       "      <th>Label</th>\n",
       "      <th>Adresse_Montpellier</th>\n",
       "      <th>Adresse_Paris</th>\n",
       "      <th>Adresse_Strasbourg</th>\n",
       "      <th>Majeur?_non</th>\n",
       "      <th>Majeur?_oui</th>\n",
       "      <th>Nationalite_Francais</th>\n",
       "      <th>Nationalite_Italien</th>\n",
       "      <th>Nationalite_Suisse</th>\n",
       "    </tr>\n",
       "  </thead>\n",
       "  <tbody>\n",
       "    <tr>\n",
       "      <th>0</th>\n",
       "      <td>1</td>\n",
       "      <td>0</td>\n",
       "      <td>1</td>\n",
       "      <td>0</td>\n",
       "      <td>0</td>\n",
       "      <td>1</td>\n",
       "      <td>1</td>\n",
       "      <td>0</td>\n",
       "      <td>0</td>\n",
       "    </tr>\n",
       "    <tr>\n",
       "      <th>1</th>\n",
       "      <td>-1</td>\n",
       "      <td>0</td>\n",
       "      <td>1</td>\n",
       "      <td>0</td>\n",
       "      <td>1</td>\n",
       "      <td>0</td>\n",
       "      <td>1</td>\n",
       "      <td>0</td>\n",
       "      <td>0</td>\n",
       "    </tr>\n",
       "    <tr>\n",
       "      <th>2</th>\n",
       "      <td>1</td>\n",
       "      <td>1</td>\n",
       "      <td>0</td>\n",
       "      <td>0</td>\n",
       "      <td>0</td>\n",
       "      <td>1</td>\n",
       "      <td>0</td>\n",
       "      <td>1</td>\n",
       "      <td>0</td>\n",
       "    </tr>\n",
       "    <tr>\n",
       "      <th>3</th>\n",
       "      <td>-1</td>\n",
       "      <td>0</td>\n",
       "      <td>1</td>\n",
       "      <td>0</td>\n",
       "      <td>0</td>\n",
       "      <td>1</td>\n",
       "      <td>0</td>\n",
       "      <td>0</td>\n",
       "      <td>1</td>\n",
       "    </tr>\n",
       "    <tr>\n",
       "      <th>4</th>\n",
       "      <td>-1</td>\n",
       "      <td>0</td>\n",
       "      <td>0</td>\n",
       "      <td>1</td>\n",
       "      <td>1</td>\n",
       "      <td>0</td>\n",
       "      <td>0</td>\n",
       "      <td>1</td>\n",
       "      <td>0</td>\n",
       "    </tr>\n",
       "    <tr>\n",
       "      <th>5</th>\n",
       "      <td>-1</td>\n",
       "      <td>0</td>\n",
       "      <td>0</td>\n",
       "      <td>1</td>\n",
       "      <td>1</td>\n",
       "      <td>0</td>\n",
       "      <td>1</td>\n",
       "      <td>0</td>\n",
       "      <td>0</td>\n",
       "    </tr>\n",
       "    <tr>\n",
       "      <th>6</th>\n",
       "      <td>1</td>\n",
       "      <td>0</td>\n",
       "      <td>0</td>\n",
       "      <td>1</td>\n",
       "      <td>0</td>\n",
       "      <td>1</td>\n",
       "      <td>1</td>\n",
       "      <td>0</td>\n",
       "      <td>0</td>\n",
       "    </tr>\n",
       "    <tr>\n",
       "      <th>7</th>\n",
       "      <td>-1</td>\n",
       "      <td>1</td>\n",
       "      <td>0</td>\n",
       "      <td>0</td>\n",
       "      <td>0</td>\n",
       "      <td>1</td>\n",
       "      <td>0</td>\n",
       "      <td>0</td>\n",
       "      <td>1</td>\n",
       "    </tr>\n",
       "  </tbody>\n",
       "</table>\n",
       "</div>"
      ],
      "text/plain": [
       "   Label  Adresse_Montpellier  Adresse_Paris  Adresse_Strasbourg  Majeur?_non  \\\n",
       "0      1                    0              1                   0            0   \n",
       "1     -1                    0              1                   0            1   \n",
       "2      1                    1              0                   0            0   \n",
       "3     -1                    0              1                   0            0   \n",
       "4     -1                    0              0                   1            1   \n",
       "5     -1                    0              0                   1            1   \n",
       "6      1                    0              0                   1            0   \n",
       "7     -1                    1              0                   0            0   \n",
       "\n",
       "   Majeur?_oui  Nationalite_Francais  Nationalite_Italien  Nationalite_Suisse  \n",
       "0            1                     1                    0                   0  \n",
       "1            0                     1                    0                   0  \n",
       "2            1                     0                    1                   0  \n",
       "3            1                     0                    0                   1  \n",
       "4            0                     0                    1                   0  \n",
       "5            0                     1                    0                   0  \n",
       "6            1                     1                    0                   0  \n",
       "7            1                     0                    0                   1  "
      ]
     },
     "execution_count": 52,
     "metadata": {},
     "output_type": "execute_result"
    }
   ],
   "source": [
    "# ############################### A COMPLETER \n",
    "elections_df_num = pd.DataFrame(elections_df['Label'])\n",
    "for att in elections_noms:\n",
    "    dummies = pd.get_dummies(elections_df[att])\n",
    "    dummies = dummies.add_prefix(att+'_')\n",
    "    elections_df_num = pd.concat([elections_df_num ,dummies ], axis=1)\n",
    "# ###############################\n",
    "\n",
    "# ------------------------\n",
    "elections_df_num"
   ]
  },
  {
   "cell_type": "code",
   "execution_count": 53,
   "metadata": {},
   "outputs": [
    {
     "name": "stdout",
     "output_type": "stream",
     "text": [
      "Noms des features:  ['Adresse_Montpellier', 'Adresse_Paris', 'Adresse_Strasbourg', 'Majeur?_non', 'Majeur?_oui', 'Nationalite_Francais', 'Nationalite_Italien', 'Nationalite_Suisse']\n"
     ]
    }
   ],
   "source": [
    "# Prétraitement pour pouvoir utiliser un classifieur\n",
    "elections_num_noms = [nom for nom in elections_df_num.columns if nom != 'Label']\n",
    "\n",
    "print(\"Noms des features: \",elections_num_noms)\n",
    "\n",
    "# Passer du dataframe à des arrays:\n",
    "elections_num_desc = np.array(elections_df_num[elections_num_noms])\n",
    "elections_num_label = np.array(elections_df_num['Label'])\n",
    "\n",
    "# Transformer le dataframe en dataset:\n",
    "data_num_desc = np.array(elections_df_num[elections_num_noms])\n",
    "data_num_label = np.array(elections_df_num['Label'])\n"
   ]
  },
  {
   "cell_type": "markdown",
   "metadata": {},
   "source": [
    "<font color=\"RED\" size=\"+1\">**[Q]**</font> Réaliser un `leave_one_out` sur cette base (même paramétrage que celui pour la base catégorielle) et comparer le résultat avec celui obtenu dans le cas catégoriel. Commenter."
   ]
  },
  {
   "cell_type": "code",
   "execution_count": 54,
   "metadata": {},
   "outputs": [
    {
     "data": {
      "text/plain": [
       "0.875"
      ]
     },
     "execution_count": 54,
     "metadata": {},
     "output_type": "execute_result"
    }
   ],
   "source": [
    "le_dataset = (data_num_desc,data_num_label)\n",
    "\n",
    "# ############################### A COMPLETER \n",
    "\n",
    "# Lancement du leave one out\n",
    "leave_one_out(ClassifierArbreDecision(len(elections_num_noms), 0.1, elections_num_noms),le_dataset)\n",
    "\n"
   ]
  },
  {
   "cell_type": "markdown",
   "metadata": {},
   "source": [
    "Premiérement, on remarque que dans le cas du data frame_numérqiue le warning ne s'affiche pas car cette fois toutes les valeurs de chaque attribut est considéré lui aussi commen un attribut de ce nouveau dataframe numérique.\n",
    "\n",
    "Deuxiément, on remarque que l'accuracy a augmenté dans le cas numérique."
   ]
  },
  {
   "cell_type": "markdown",
   "metadata": {},
   "source": [
    "<font color=\"RED\" size=\"+1\">**[Q]**</font> Toujours sur cette base, réaliser un `leave_one_out` avec le classifieur KNN. Tester différentes valeurs de $k$ et tracer le résultat obtenu."
   ]
  },
  {
   "cell_type": "code",
   "execution_count": 56,
   "metadata": {},
   "outputs": [
    {
     "data": {
      "image/png": "[encoded data removed]",
      "text/plain": [
       "<Figure size 640x480 with 1 Axes>"
      ]
     },
     "metadata": {},
     "output_type": "display_data"
    }
   ],
   "source": [
    "accuracies = []\n",
    "k_values = range(1,8,2)\n",
    "for k in k_values:\n",
    "    accuracies.append(leave_one_out(cl.ClassifierKNN(len(elections_num_noms),k),le_dataset))\n",
    "    \n",
    "plt.plot(k_values ,accuracies )\n",
    "plt.xlabel('k')\n",
    "plt.ylabel('Accuracy')\n",
    "plt.grid(True)\n",
    "plt.show()"
   ]
  },
  {
   "cell_type": "markdown",
   "metadata": {},
   "source": [
    "### Base des champignons"
   ]
  },
  {
   "cell_type": "markdown",
   "metadata": {},
   "source": [
    "<font color=\"RED\" size=\"+1\">**[Q]**</font> Réaliser un ensemble d'expérimentations sur la base mushrooms permettant de comparer les résultats obtenus avec un classifieur par arbres de décision et les classifieurs numériques que l'on a définis dans les séances précédentes.\n",
    "\n",
    "**Remarque**: commencer par une taille de base réduite pour que cela ne prenne pas trop de temps d'exécution..."
   ]
  },
  {
   "cell_type": "code",
   "execution_count": 57,
   "metadata": {},
   "outputs": [],
   "source": [
    "# Rechargement de la base de départ :\n",
    "\n",
    "# On commence par travailler sur un des fichier \"mushrooms-1400\"\n",
    "mushrooms_df = pd.read_csv(\"data/mushrooms-1400-1.csv\")\n",
    "# Dans ce dataframe, la colonne de classe s'appelle 'class'\n",
    "mushrooms_noms = [nom for nom in mushrooms_df.columns if nom != 'class']\n"
   ]
  },
  {
   "cell_type": "code",
   "execution_count": 58,
   "metadata": {},
   "outputs": [
    {
     "data": {
      "text/html": [
       "<div>\n",
       "<style scoped>\n",
       "    .dataframe tbody tr th:only-of-type {\n",
       "        vertical-align: middle;\n",
       "    }\n",
       "\n",
       "    .dataframe tbody tr th {\n",
       "        vertical-align: top;\n",
       "    }\n",
       "\n",
       "    .dataframe thead th {\n",
       "        text-align: right;\n",
       "    }\n",
       "</style>\n",
       "<table border=\"1\" class=\"dataframe\">\n",
       "  <thead>\n",
       "    <tr style=\"text-align: right;\">\n",
       "      <th></th>\n",
       "      <th>class</th>\n",
       "      <th>cap-shape_b</th>\n",
       "      <th>cap-shape_f</th>\n",
       "      <th>cap-shape_k</th>\n",
       "      <th>cap-shape_s</th>\n",
       "      <th>cap-shape_x</th>\n",
       "      <th>cap-surface_f</th>\n",
       "      <th>cap-surface_g</th>\n",
       "      <th>cap-surface_s</th>\n",
       "      <th>cap-surface_y</th>\n",
       "      <th>...</th>\n",
       "      <th>population_s</th>\n",
       "      <th>population_v</th>\n",
       "      <th>population_y</th>\n",
       "      <th>habitat_d</th>\n",
       "      <th>habitat_g</th>\n",
       "      <th>habitat_l</th>\n",
       "      <th>habitat_m</th>\n",
       "      <th>habitat_p</th>\n",
       "      <th>habitat_u</th>\n",
       "      <th>habitat_w</th>\n",
       "    </tr>\n",
       "  </thead>\n",
       "  <tbody>\n",
       "    <tr>\n",
       "      <th>0</th>\n",
       "      <td>p</td>\n",
       "      <td>0</td>\n",
       "      <td>0</td>\n",
       "      <td>0</td>\n",
       "      <td>0</td>\n",
       "      <td>1</td>\n",
       "      <td>0</td>\n",
       "      <td>0</td>\n",
       "      <td>0</td>\n",
       "      <td>1</td>\n",
       "      <td>...</td>\n",
       "      <td>0</td>\n",
       "      <td>1</td>\n",
       "      <td>0</td>\n",
       "      <td>1</td>\n",
       "      <td>0</td>\n",
       "      <td>0</td>\n",
       "      <td>0</td>\n",
       "      <td>0</td>\n",
       "      <td>0</td>\n",
       "      <td>0</td>\n",
       "    </tr>\n",
       "    <tr>\n",
       "      <th>1</th>\n",
       "      <td>p</td>\n",
       "      <td>0</td>\n",
       "      <td>0</td>\n",
       "      <td>0</td>\n",
       "      <td>0</td>\n",
       "      <td>1</td>\n",
       "      <td>0</td>\n",
       "      <td>0</td>\n",
       "      <td>1</td>\n",
       "      <td>0</td>\n",
       "      <td>...</td>\n",
       "      <td>0</td>\n",
       "      <td>1</td>\n",
       "      <td>0</td>\n",
       "      <td>0</td>\n",
       "      <td>0</td>\n",
       "      <td>1</td>\n",
       "      <td>0</td>\n",
       "      <td>0</td>\n",
       "      <td>0</td>\n",
       "      <td>0</td>\n",
       "    </tr>\n",
       "    <tr>\n",
       "      <th>2</th>\n",
       "      <td>p</td>\n",
       "      <td>0</td>\n",
       "      <td>0</td>\n",
       "      <td>0</td>\n",
       "      <td>0</td>\n",
       "      <td>1</td>\n",
       "      <td>1</td>\n",
       "      <td>0</td>\n",
       "      <td>0</td>\n",
       "      <td>0</td>\n",
       "      <td>...</td>\n",
       "      <td>0</td>\n",
       "      <td>1</td>\n",
       "      <td>0</td>\n",
       "      <td>1</td>\n",
       "      <td>0</td>\n",
       "      <td>0</td>\n",
       "      <td>0</td>\n",
       "      <td>0</td>\n",
       "      <td>0</td>\n",
       "      <td>0</td>\n",
       "    </tr>\n",
       "    <tr>\n",
       "      <th>3</th>\n",
       "      <td>p</td>\n",
       "      <td>0</td>\n",
       "      <td>0</td>\n",
       "      <td>0</td>\n",
       "      <td>0</td>\n",
       "      <td>1</td>\n",
       "      <td>1</td>\n",
       "      <td>0</td>\n",
       "      <td>0</td>\n",
       "      <td>0</td>\n",
       "      <td>...</td>\n",
       "      <td>0</td>\n",
       "      <td>0</td>\n",
       "      <td>1</td>\n",
       "      <td>0</td>\n",
       "      <td>1</td>\n",
       "      <td>0</td>\n",
       "      <td>0</td>\n",
       "      <td>0</td>\n",
       "      <td>0</td>\n",
       "      <td>0</td>\n",
       "    </tr>\n",
       "    <tr>\n",
       "      <th>4</th>\n",
       "      <td>p</td>\n",
       "      <td>0</td>\n",
       "      <td>0</td>\n",
       "      <td>0</td>\n",
       "      <td>0</td>\n",
       "      <td>1</td>\n",
       "      <td>1</td>\n",
       "      <td>0</td>\n",
       "      <td>0</td>\n",
       "      <td>0</td>\n",
       "      <td>...</td>\n",
       "      <td>0</td>\n",
       "      <td>0</td>\n",
       "      <td>1</td>\n",
       "      <td>1</td>\n",
       "      <td>0</td>\n",
       "      <td>0</td>\n",
       "      <td>0</td>\n",
       "      <td>0</td>\n",
       "      <td>0</td>\n",
       "      <td>0</td>\n",
       "    </tr>\n",
       "    <tr>\n",
       "      <th>...</th>\n",
       "      <td>...</td>\n",
       "      <td>...</td>\n",
       "      <td>...</td>\n",
       "      <td>...</td>\n",
       "      <td>...</td>\n",
       "      <td>...</td>\n",
       "      <td>...</td>\n",
       "      <td>...</td>\n",
       "      <td>...</td>\n",
       "      <td>...</td>\n",
       "      <td>...</td>\n",
       "      <td>...</td>\n",
       "      <td>...</td>\n",
       "      <td>...</td>\n",
       "      <td>...</td>\n",
       "      <td>...</td>\n",
       "      <td>...</td>\n",
       "      <td>...</td>\n",
       "      <td>...</td>\n",
       "      <td>...</td>\n",
       "      <td>...</td>\n",
       "    </tr>\n",
       "    <tr>\n",
       "      <th>1395</th>\n",
       "      <td>p</td>\n",
       "      <td>0</td>\n",
       "      <td>0</td>\n",
       "      <td>0</td>\n",
       "      <td>0</td>\n",
       "      <td>1</td>\n",
       "      <td>0</td>\n",
       "      <td>0</td>\n",
       "      <td>0</td>\n",
       "      <td>1</td>\n",
       "      <td>...</td>\n",
       "      <td>0</td>\n",
       "      <td>1</td>\n",
       "      <td>0</td>\n",
       "      <td>0</td>\n",
       "      <td>0</td>\n",
       "      <td>0</td>\n",
       "      <td>0</td>\n",
       "      <td>1</td>\n",
       "      <td>0</td>\n",
       "      <td>0</td>\n",
       "    </tr>\n",
       "    <tr>\n",
       "      <th>1396</th>\n",
       "      <td>e</td>\n",
       "      <td>0</td>\n",
       "      <td>1</td>\n",
       "      <td>0</td>\n",
       "      <td>0</td>\n",
       "      <td>0</td>\n",
       "      <td>0</td>\n",
       "      <td>0</td>\n",
       "      <td>0</td>\n",
       "      <td>1</td>\n",
       "      <td>...</td>\n",
       "      <td>0</td>\n",
       "      <td>1</td>\n",
       "      <td>0</td>\n",
       "      <td>1</td>\n",
       "      <td>0</td>\n",
       "      <td>0</td>\n",
       "      <td>0</td>\n",
       "      <td>0</td>\n",
       "      <td>0</td>\n",
       "      <td>0</td>\n",
       "    </tr>\n",
       "    <tr>\n",
       "      <th>1397</th>\n",
       "      <td>e</td>\n",
       "      <td>0</td>\n",
       "      <td>1</td>\n",
       "      <td>0</td>\n",
       "      <td>0</td>\n",
       "      <td>0</td>\n",
       "      <td>1</td>\n",
       "      <td>0</td>\n",
       "      <td>0</td>\n",
       "      <td>0</td>\n",
       "      <td>...</td>\n",
       "      <td>0</td>\n",
       "      <td>0</td>\n",
       "      <td>1</td>\n",
       "      <td>1</td>\n",
       "      <td>0</td>\n",
       "      <td>0</td>\n",
       "      <td>0</td>\n",
       "      <td>0</td>\n",
       "      <td>0</td>\n",
       "      <td>0</td>\n",
       "    </tr>\n",
       "    <tr>\n",
       "      <th>1398</th>\n",
       "      <td>p</td>\n",
       "      <td>0</td>\n",
       "      <td>0</td>\n",
       "      <td>0</td>\n",
       "      <td>0</td>\n",
       "      <td>1</td>\n",
       "      <td>1</td>\n",
       "      <td>0</td>\n",
       "      <td>0</td>\n",
       "      <td>0</td>\n",
       "      <td>...</td>\n",
       "      <td>0</td>\n",
       "      <td>0</td>\n",
       "      <td>1</td>\n",
       "      <td>1</td>\n",
       "      <td>0</td>\n",
       "      <td>0</td>\n",
       "      <td>0</td>\n",
       "      <td>0</td>\n",
       "      <td>0</td>\n",
       "      <td>0</td>\n",
       "    </tr>\n",
       "    <tr>\n",
       "      <th>1399</th>\n",
       "      <td>e</td>\n",
       "      <td>0</td>\n",
       "      <td>1</td>\n",
       "      <td>0</td>\n",
       "      <td>0</td>\n",
       "      <td>0</td>\n",
       "      <td>1</td>\n",
       "      <td>0</td>\n",
       "      <td>0</td>\n",
       "      <td>0</td>\n",
       "      <td>...</td>\n",
       "      <td>0</td>\n",
       "      <td>1</td>\n",
       "      <td>0</td>\n",
       "      <td>1</td>\n",
       "      <td>0</td>\n",
       "      <td>0</td>\n",
       "      <td>0</td>\n",
       "      <td>0</td>\n",
       "      <td>0</td>\n",
       "      <td>0</td>\n",
       "    </tr>\n",
       "  </tbody>\n",
       "</table>\n",
       "<p>1400 rows × 115 columns</p>\n",
       "</div>"
      ],
      "text/plain": [
       "     class  cap-shape_b  cap-shape_f  cap-shape_k  cap-shape_s  cap-shape_x  \\\n",
       "0        p            0            0            0            0            1   \n",
       "1        p            0            0            0            0            1   \n",
       "2        p            0            0            0            0            1   \n",
       "3        p            0            0            0            0            1   \n",
       "4        p            0            0            0            0            1   \n",
       "...    ...          ...          ...          ...          ...          ...   \n",
       "1395     p            0            0            0            0            1   \n",
       "1396     e            0            1            0            0            0   \n",
       "1397     e            0            1            0            0            0   \n",
       "1398     p            0            0            0            0            1   \n",
       "1399     e            0            1            0            0            0   \n",
       "\n",
       "      cap-surface_f  cap-surface_g  cap-surface_s  cap-surface_y  ...  \\\n",
       "0                 0              0              0              1  ...   \n",
       "1                 0              0              1              0  ...   \n",
       "2                 1              0              0              0  ...   \n",
       "3                 1              0              0              0  ...   \n",
       "4                 1              0              0              0  ...   \n",
       "...             ...            ...            ...            ...  ...   \n",
       "1395              0              0              0              1  ...   \n",
       "1396              0              0              0              1  ...   \n",
       "1397              1              0              0              0  ...   \n",
       "1398              1              0              0              0  ...   \n",
       "1399              1              0              0              0  ...   \n",
       "\n",
       "      population_s  population_v  population_y  habitat_d  habitat_g  \\\n",
       "0                0             1             0          1          0   \n",
       "1                0             1             0          0          0   \n",
       "2                0             1             0          1          0   \n",
       "3                0             0             1          0          1   \n",
       "4                0             0             1          1          0   \n",
       "...            ...           ...           ...        ...        ...   \n",
       "1395             0             1             0          0          0   \n",
       "1396             0             1             0          1          0   \n",
       "1397             0             0             1          1          0   \n",
       "1398             0             0             1          1          0   \n",
       "1399             0             1             0          1          0   \n",
       "\n",
       "      habitat_l  habitat_m  habitat_p  habitat_u  habitat_w  \n",
       "0             0          0          0          0          0  \n",
       "1             1          0          0          0          0  \n",
       "2             0          0          0          0          0  \n",
       "3             0          0          0          0          0  \n",
       "4             0          0          0          0          0  \n",
       "...         ...        ...        ...        ...        ...  \n",
       "1395          0          0          1          0          0  \n",
       "1396          0          0          0          0          0  \n",
       "1397          0          0          0          0          0  \n",
       "1398          0          0          0          0          0  \n",
       "1399          0          0          0          0          0  \n",
       "\n",
       "[1400 rows x 115 columns]"
      ]
     },
     "execution_count": 58,
     "metadata": {},
     "output_type": "execute_result"
    }
   ],
   "source": [
    "mushrooms_1_num = pd.get_dummies(mushrooms_df, columns = mushrooms_noms)\n",
    "mushrooms_1_num "
   ]
  },
  {
   "cell_type": "code",
   "execution_count": 59,
   "metadata": {},
   "outputs": [
    {
     "name": "stdout",
     "output_type": "stream",
     "text": [
      "Noms des features:  ['cap-shape_b', 'cap-shape_f', 'cap-shape_k', 'cap-shape_s', 'cap-shape_x', 'cap-surface_f', 'cap-surface_g', 'cap-surface_s', 'cap-surface_y', 'cap-color_b', 'cap-color_c', 'cap-color_e', 'cap-color_g', 'cap-color_n', 'cap-color_p', 'cap-color_r', 'cap-color_u', 'cap-color_w', 'cap-color_y', 'bruises_f', 'bruises_t', 'odor_a', 'odor_c', 'odor_f', 'odor_l', 'odor_m', 'odor_n', 'odor_p', 'odor_s', 'odor_y', 'gill-attachment_a', 'gill-attachment_f', 'gill-spacing_c', 'gill-spacing_w', 'gill-size_b', 'gill-size_n', 'gill-color_b', 'gill-color_e', 'gill-color_g', 'gill-color_h', 'gill-color_k', 'gill-color_n', 'gill-color_o', 'gill-color_p', 'gill-color_r', 'gill-color_u', 'gill-color_w', 'gill-color_y', 'stalk-shape_e', 'stalk-shape_t', 'stalk-root_?', 'stalk-root_b', 'stalk-root_c', 'stalk-root_e', 'stalk-root_r', 'stalk-surface-above-ring_f', 'stalk-surface-above-ring_k', 'stalk-surface-above-ring_s', 'stalk-surface-above-ring_y', 'stalk-surface-below-ring_f', 'stalk-surface-below-ring_k', 'stalk-surface-below-ring_s', 'stalk-surface-below-ring_y', 'stalk-color-above-ring_b', 'stalk-color-above-ring_c', 'stalk-color-above-ring_e', 'stalk-color-above-ring_g', 'stalk-color-above-ring_n', 'stalk-color-above-ring_o', 'stalk-color-above-ring_p', 'stalk-color-above-ring_w', 'stalk-color-below-ring_b', 'stalk-color-below-ring_c', 'stalk-color-below-ring_e', 'stalk-color-below-ring_g', 'stalk-color-below-ring_n', 'stalk-color-below-ring_o', 'stalk-color-below-ring_p', 'stalk-color-below-ring_w', 'stalk-color-below-ring_y', 'veil-type_p', 'veil-color_n', 'veil-color_o', 'veil-color_w', 'ring-number_n', 'ring-number_o', 'ring-number_t', 'ring-type_e', 'ring-type_f', 'ring-type_l', 'ring-type_n', 'ring-type_p', 'spore-print-color_b', 'spore-print-color_h', 'spore-print-color_k', 'spore-print-color_n', 'spore-print-color_o', 'spore-print-color_r', 'spore-print-color_u', 'spore-print-color_w', 'spore-print-color_y', 'population_a', 'population_c', 'population_n', 'population_s', 'population_v', 'population_y', 'habitat_d', 'habitat_g', 'habitat_l', 'habitat_m', 'habitat_p', 'habitat_u', 'habitat_w']\n"
     ]
    }
   ],
   "source": [
    "# Prétraitement pour pouvoir utiliser un classifieur\n",
    "mushrooms_1_num_noms = [nom for nom in mushrooms_1_num.columns if nom != 'class']\n",
    "\n",
    "print(\"Noms des features: \",mushrooms_1_num_noms)\n",
    "\n",
    "# Passer du dataframe à des arrays:\n",
    "mushrooms_1_num_desc = np.array(mushrooms_1_num[mushrooms_1_num_noms])\n",
    "mushrooms_1_num_label = np.array(mushrooms_1_num['class'])\n",
    "\n",
    "# Transformer le dataframe en dataset:\n",
    "data_num_desc = np.array(mushrooms_1_num[mushrooms_1_num_noms])\n",
    "\n",
    "# Remarque : pour utiliser les classifieurs précédents, il faut que la classe soit +1 ou -1\n",
    "# on convertit donc 'e' et 'p'\n",
    "val_class ={'e':1, 'p':-1}\n",
    "data_num_label = np.array([val_class[c] for c in mushrooms_1_num['class']])\n"
   ]
  },
  {
   "cell_type": "code",
   "execution_count": 60,
   "metadata": {},
   "outputs": [
    {
     "name": "stdout",
     "output_type": "stream",
     "text": [
      "Exemple de résultat sur les données numériques: validation croisée avec les arbres de décisions\n",
      "0  : taille app.=  1261 ,  taille test =  139  ,Accuracy:   1.0\n",
      "1  : taille app.=  1261 ,  taille test =  139  ,Accuracy:   1.0\n",
      "2  : taille app.=  1261 ,  taille test =  139  ,Accuracy:   0.9784172661870504\n",
      "3  : taille app.=  1261 ,  taille test =  139  ,Accuracy:   0.9928057553956835\n",
      "4  : taille app.=  1261 ,  taille test =  139  ,Accuracy:   1.0\n",
      "5  : taille app.=  1261 ,  taille test =  139  ,Accuracy:   1.0\n",
      "6  : taille app.=  1261 ,  taille test =  139  ,Accuracy:   1.0\n",
      "7  : taille app.=  1261 ,  taille test =  139  ,Accuracy:   1.0\n",
      "8  : taille app.=  1261 ,  taille test =  139  ,Accuracy:   1.0\n",
      "9  : taille app.=  1261 ,  taille test =  139  ,Accuracy:   1.0\n",
      "Perf obtenues :  [1.0, 1.0, 0.9784172661870504, 0.9928057553956835, 1.0, 1.0, 1.0, 1.0, 1.0, 1.0]\n",
      "Accuracy moyenne:  0.9971223021582734 \técart type:  0.006593634093461631\n"
     ]
    }
   ],
   "source": [
    "print(\"Exemple de résultat sur les données numériques: validation croisée avec les arbres de décisions\")\n",
    "\n",
    "arbre = ClassifierArbreDecision(len(mushrooms_1_num_noms), 0.1, mushrooms_1_num_noms)\n",
    "\n",
    "# Remarque: j'ai mis des affichage dans la fonction validation croisée afin de montrer\n",
    "# ce qui se passe:\n",
    "(res_all, res_moy, res_sd) = validation_croisee(arbre, (data_num_desc, data_num_label), 10)\n",
    "\n",
    "print(\"Perf obtenues : \",res_all)\n",
    "print(\"Accuracy moyenne: \",res_moy,\"\\técart type: \", res_sd)"
   ]
  },
  {
   "cell_type": "code",
   "execution_count": 61,
   "metadata": {},
   "outputs": [
    {
     "name": "stdout",
     "output_type": "stream",
     "text": [
      "Exemple de résultat: validation croisée avec un knn pour k= 3\n",
      "0  : taille app.=  1261 ,  taille test =  139  ,Accuracy:   1.0\n",
      "1  : taille app.=  1261 ,  taille test =  139  ,Accuracy:   1.0\n",
      "2  : taille app.=  1261 ,  taille test =  139  ,Accuracy:   0.9928057553956835\n",
      "3  : taille app.=  1261 ,  taille test =  139  ,Accuracy:   0.9928057553956835\n",
      "4  : taille app.=  1261 ,  taille test =  139  ,Accuracy:   1.0\n",
      "5  : taille app.=  1261 ,  taille test =  139  ,Accuracy:   1.0\n",
      "6  : taille app.=  1261 ,  taille test =  139  ,Accuracy:   1.0\n",
      "7  : taille app.=  1261 ,  taille test =  139  ,Accuracy:   1.0\n",
      "8  : taille app.=  1261 ,  taille test =  139  ,Accuracy:   1.0\n",
      "9  : taille app.=  1261 ,  taille test =  139  ,Accuracy:   1.0\n",
      "Perf obtenues :  [1.0, 1.0, 0.9928057553956835, 0.9928057553956835, 1.0, 1.0, 1.0, 1.0, 1.0, 1.0]\n",
      "Accuracy moyenne:  0.9985611510791367 \técart type:  0.002877697841726601\n"
     ]
    }
   ],
   "source": [
    "k=3\n",
    "print(\"Exemple de résultat: validation croisée avec un knn pour k=\",k)\n",
    "\n",
    "# ############################### A COMPLETER \n",
    "knn = cl.ClassifierKNN(len(mushrooms_1_num_noms),k)\n",
    "\n",
    "# ce qui se passe:\n",
    "(res_all, res_moy, res_sd) = validation_croisee(knn, (data_num_desc, data_num_label), 10)\n",
    "\n",
    "print(\"Perf obtenues : \",res_all)\n",
    "print(\"Accuracy moyenne: \",res_moy,\"\\técart type: \", res_sd)"
   ]
  },
  {
   "cell_type": "code",
   "execution_count": 62,
   "metadata": {},
   "outputs": [
    {
     "name": "stdout",
     "output_type": "stream",
     "text": [
      "Exemple de résultat: validation croisée avec un perceptron biais\n",
      "0  : taille app.=  1261 ,  taille test =  139  ,Accuracy:   1.0\n",
      "1  : taille app.=  1261 ,  taille test =  139  ,Accuracy:   1.0\n",
      "2  : taille app.=  1261 ,  taille test =  139  ,Accuracy:   0.9856115107913669\n",
      "3  : taille app.=  1261 ,  taille test =  139  ,Accuracy:   1.0\n",
      "4  : taille app.=  1261 ,  taille test =  139  ,Accuracy:   1.0\n",
      "5  : taille app.=  1261 ,  taille test =  139  ,Accuracy:   1.0\n",
      "6  : taille app.=  1261 ,  taille test =  139  ,Accuracy:   1.0\n",
      "7  : taille app.=  1261 ,  taille test =  139  ,Accuracy:   1.0\n",
      "8  : taille app.=  1261 ,  taille test =  139  ,Accuracy:   1.0\n",
      "9  : taille app.=  1261 ,  taille test =  139  ,Accuracy:   1.0\n",
      "Perf obtenues :  [1.0, 1.0, 0.9856115107913669, 1.0, 1.0, 1.0, 1.0, 1.0, 1.0, 1.0]\n",
      "Accuracy moyenne:  0.9985611510791367 \técart type:  0.004316546762589935\n"
     ]
    }
   ],
   "source": [
    "print(\"Exemple de résultat: validation croisée avec un perceptron biais\")\n",
    "\n",
    "# ############################### A COMPLETER \n",
    "perceptron_biais = cl.ClassifierPerceptronBiais(len(mushrooms_1_num_noms))\n",
    "\n",
    "# ce qui se passe:\n",
    "(res_all, res_moy, res_sd) = validation_croisee(perceptron_biais, (data_num_desc, data_num_label), 10)\n",
    "\n",
    "print(\"Perf obtenues : \",res_all)\n",
    "print(\"Accuracy moyenne: \",res_moy,\"\\técart type: \", res_sd)"
   ]
  },
  {
   "cell_type": "markdown",
   "metadata": {},
   "source": [
    "<font color=\"RED\" size=\"+1\">**[Q]**</font> *Toujours plus...*  \n",
    "\n",
    "Réaliser les mêmes expérimentations avec la base mushrooms complète."
   ]
  },
  {
   "cell_type": "code",
   "execution_count": 63,
   "metadata": {},
   "outputs": [
    {
     "data": {
      "text/html": [
       "<div>\n",
       "<style scoped>\n",
       "    .dataframe tbody tr th:only-of-type {\n",
       "        vertical-align: middle;\n",
       "    }\n",
       "\n",
       "    .dataframe tbody tr th {\n",
       "        vertical-align: top;\n",
       "    }\n",
       "\n",
       "    .dataframe thead th {\n",
       "        text-align: right;\n",
       "    }\n",
       "</style>\n",
       "<table border=\"1\" class=\"dataframe\">\n",
       "  <thead>\n",
       "    <tr style=\"text-align: right;\">\n",
       "      <th></th>\n",
       "      <th>class</th>\n",
       "      <th>cap-shape_b</th>\n",
       "      <th>cap-shape_c</th>\n",
       "      <th>cap-shape_f</th>\n",
       "      <th>cap-shape_k</th>\n",
       "      <th>cap-shape_s</th>\n",
       "      <th>cap-shape_x</th>\n",
       "      <th>cap-surface_f</th>\n",
       "      <th>cap-surface_g</th>\n",
       "      <th>cap-surface_s</th>\n",
       "      <th>...</th>\n",
       "      <th>population_s</th>\n",
       "      <th>population_v</th>\n",
       "      <th>population_y</th>\n",
       "      <th>habitat_d</th>\n",
       "      <th>habitat_g</th>\n",
       "      <th>habitat_l</th>\n",
       "      <th>habitat_m</th>\n",
       "      <th>habitat_p</th>\n",
       "      <th>habitat_u</th>\n",
       "      <th>habitat_w</th>\n",
       "    </tr>\n",
       "  </thead>\n",
       "  <tbody>\n",
       "    <tr>\n",
       "      <th>0</th>\n",
       "      <td>p</td>\n",
       "      <td>0</td>\n",
       "      <td>0</td>\n",
       "      <td>0</td>\n",
       "      <td>0</td>\n",
       "      <td>0</td>\n",
       "      <td>1</td>\n",
       "      <td>0</td>\n",
       "      <td>0</td>\n",
       "      <td>0</td>\n",
       "      <td>...</td>\n",
       "      <td>0</td>\n",
       "      <td>1</td>\n",
       "      <td>0</td>\n",
       "      <td>1</td>\n",
       "      <td>0</td>\n",
       "      <td>0</td>\n",
       "      <td>0</td>\n",
       "      <td>0</td>\n",
       "      <td>0</td>\n",
       "      <td>0</td>\n",
       "    </tr>\n",
       "    <tr>\n",
       "      <th>1</th>\n",
       "      <td>p</td>\n",
       "      <td>0</td>\n",
       "      <td>0</td>\n",
       "      <td>0</td>\n",
       "      <td>0</td>\n",
       "      <td>0</td>\n",
       "      <td>1</td>\n",
       "      <td>0</td>\n",
       "      <td>0</td>\n",
       "      <td>1</td>\n",
       "      <td>...</td>\n",
       "      <td>0</td>\n",
       "      <td>1</td>\n",
       "      <td>0</td>\n",
       "      <td>0</td>\n",
       "      <td>0</td>\n",
       "      <td>1</td>\n",
       "      <td>0</td>\n",
       "      <td>0</td>\n",
       "      <td>0</td>\n",
       "      <td>0</td>\n",
       "    </tr>\n",
       "    <tr>\n",
       "      <th>2</th>\n",
       "      <td>p</td>\n",
       "      <td>0</td>\n",
       "      <td>0</td>\n",
       "      <td>0</td>\n",
       "      <td>0</td>\n",
       "      <td>0</td>\n",
       "      <td>1</td>\n",
       "      <td>1</td>\n",
       "      <td>0</td>\n",
       "      <td>0</td>\n",
       "      <td>...</td>\n",
       "      <td>0</td>\n",
       "      <td>1</td>\n",
       "      <td>0</td>\n",
       "      <td>1</td>\n",
       "      <td>0</td>\n",
       "      <td>0</td>\n",
       "      <td>0</td>\n",
       "      <td>0</td>\n",
       "      <td>0</td>\n",
       "      <td>0</td>\n",
       "    </tr>\n",
       "    <tr>\n",
       "      <th>3</th>\n",
       "      <td>p</td>\n",
       "      <td>0</td>\n",
       "      <td>0</td>\n",
       "      <td>0</td>\n",
       "      <td>0</td>\n",
       "      <td>0</td>\n",
       "      <td>1</td>\n",
       "      <td>1</td>\n",
       "      <td>0</td>\n",
       "      <td>0</td>\n",
       "      <td>...</td>\n",
       "      <td>0</td>\n",
       "      <td>0</td>\n",
       "      <td>1</td>\n",
       "      <td>0</td>\n",
       "      <td>1</td>\n",
       "      <td>0</td>\n",
       "      <td>0</td>\n",
       "      <td>0</td>\n",
       "      <td>0</td>\n",
       "      <td>0</td>\n",
       "    </tr>\n",
       "    <tr>\n",
       "      <th>4</th>\n",
       "      <td>p</td>\n",
       "      <td>0</td>\n",
       "      <td>0</td>\n",
       "      <td>0</td>\n",
       "      <td>0</td>\n",
       "      <td>0</td>\n",
       "      <td>1</td>\n",
       "      <td>1</td>\n",
       "      <td>0</td>\n",
       "      <td>0</td>\n",
       "      <td>...</td>\n",
       "      <td>0</td>\n",
       "      <td>0</td>\n",
       "      <td>1</td>\n",
       "      <td>1</td>\n",
       "      <td>0</td>\n",
       "      <td>0</td>\n",
       "      <td>0</td>\n",
       "      <td>0</td>\n",
       "      <td>0</td>\n",
       "      <td>0</td>\n",
       "    </tr>\n",
       "    <tr>\n",
       "      <th>...</th>\n",
       "      <td>...</td>\n",
       "      <td>...</td>\n",
       "      <td>...</td>\n",
       "      <td>...</td>\n",
       "      <td>...</td>\n",
       "      <td>...</td>\n",
       "      <td>...</td>\n",
       "      <td>...</td>\n",
       "      <td>...</td>\n",
       "      <td>...</td>\n",
       "      <td>...</td>\n",
       "      <td>...</td>\n",
       "      <td>...</td>\n",
       "      <td>...</td>\n",
       "      <td>...</td>\n",
       "      <td>...</td>\n",
       "      <td>...</td>\n",
       "      <td>...</td>\n",
       "      <td>...</td>\n",
       "      <td>...</td>\n",
       "      <td>...</td>\n",
       "    </tr>\n",
       "    <tr>\n",
       "      <th>1119</th>\n",
       "      <td>e</td>\n",
       "      <td>1</td>\n",
       "      <td>0</td>\n",
       "      <td>0</td>\n",
       "      <td>0</td>\n",
       "      <td>0</td>\n",
       "      <td>0</td>\n",
       "      <td>0</td>\n",
       "      <td>0</td>\n",
       "      <td>1</td>\n",
       "      <td>...</td>\n",
       "      <td>1</td>\n",
       "      <td>0</td>\n",
       "      <td>0</td>\n",
       "      <td>0</td>\n",
       "      <td>1</td>\n",
       "      <td>0</td>\n",
       "      <td>0</td>\n",
       "      <td>0</td>\n",
       "      <td>0</td>\n",
       "      <td>0</td>\n",
       "    </tr>\n",
       "    <tr>\n",
       "      <th>1120</th>\n",
       "      <td>p</td>\n",
       "      <td>0</td>\n",
       "      <td>0</td>\n",
       "      <td>0</td>\n",
       "      <td>1</td>\n",
       "      <td>0</td>\n",
       "      <td>0</td>\n",
       "      <td>0</td>\n",
       "      <td>0</td>\n",
       "      <td>1</td>\n",
       "      <td>...</td>\n",
       "      <td>0</td>\n",
       "      <td>1</td>\n",
       "      <td>0</td>\n",
       "      <td>0</td>\n",
       "      <td>0</td>\n",
       "      <td>1</td>\n",
       "      <td>0</td>\n",
       "      <td>0</td>\n",
       "      <td>0</td>\n",
       "      <td>0</td>\n",
       "    </tr>\n",
       "    <tr>\n",
       "      <th>1121</th>\n",
       "      <td>e</td>\n",
       "      <td>0</td>\n",
       "      <td>0</td>\n",
       "      <td>1</td>\n",
       "      <td>0</td>\n",
       "      <td>0</td>\n",
       "      <td>0</td>\n",
       "      <td>0</td>\n",
       "      <td>0</td>\n",
       "      <td>0</td>\n",
       "      <td>...</td>\n",
       "      <td>0</td>\n",
       "      <td>1</td>\n",
       "      <td>0</td>\n",
       "      <td>1</td>\n",
       "      <td>0</td>\n",
       "      <td>0</td>\n",
       "      <td>0</td>\n",
       "      <td>0</td>\n",
       "      <td>0</td>\n",
       "      <td>0</td>\n",
       "    </tr>\n",
       "    <tr>\n",
       "      <th>1122</th>\n",
       "      <td>p</td>\n",
       "      <td>0</td>\n",
       "      <td>0</td>\n",
       "      <td>0</td>\n",
       "      <td>0</td>\n",
       "      <td>0</td>\n",
       "      <td>1</td>\n",
       "      <td>0</td>\n",
       "      <td>0</td>\n",
       "      <td>0</td>\n",
       "      <td>...</td>\n",
       "      <td>0</td>\n",
       "      <td>1</td>\n",
       "      <td>0</td>\n",
       "      <td>0</td>\n",
       "      <td>0</td>\n",
       "      <td>1</td>\n",
       "      <td>0</td>\n",
       "      <td>0</td>\n",
       "      <td>0</td>\n",
       "      <td>0</td>\n",
       "    </tr>\n",
       "    <tr>\n",
       "      <th>1123</th>\n",
       "      <td>p</td>\n",
       "      <td>0</td>\n",
       "      <td>0</td>\n",
       "      <td>0</td>\n",
       "      <td>0</td>\n",
       "      <td>0</td>\n",
       "      <td>1</td>\n",
       "      <td>0</td>\n",
       "      <td>0</td>\n",
       "      <td>0</td>\n",
       "      <td>...</td>\n",
       "      <td>0</td>\n",
       "      <td>1</td>\n",
       "      <td>0</td>\n",
       "      <td>0</td>\n",
       "      <td>1</td>\n",
       "      <td>0</td>\n",
       "      <td>0</td>\n",
       "      <td>0</td>\n",
       "      <td>0</td>\n",
       "      <td>0</td>\n",
       "    </tr>\n",
       "  </tbody>\n",
       "</table>\n",
       "<p>8124 rows × 118 columns</p>\n",
       "</div>"
      ],
      "text/plain": [
       "     class  cap-shape_b  cap-shape_c  cap-shape_f  cap-shape_k  cap-shape_s  \\\n",
       "0        p            0            0            0            0            0   \n",
       "1        p            0            0            0            0            0   \n",
       "2        p            0            0            0            0            0   \n",
       "3        p            0            0            0            0            0   \n",
       "4        p            0            0            0            0            0   \n",
       "...    ...          ...          ...          ...          ...          ...   \n",
       "1119     e            1            0            0            0            0   \n",
       "1120     p            0            0            0            1            0   \n",
       "1121     e            0            0            1            0            0   \n",
       "1122     p            0            0            0            0            0   \n",
       "1123     p            0            0            0            0            0   \n",
       "\n",
       "      cap-shape_x  cap-surface_f  cap-surface_g  cap-surface_s  ...  \\\n",
       "0               1              0              0              0  ...   \n",
       "1               1              0              0              1  ...   \n",
       "2               1              1              0              0  ...   \n",
       "3               1              1              0              0  ...   \n",
       "4               1              1              0              0  ...   \n",
       "...           ...            ...            ...            ...  ...   \n",
       "1119            0              0              0              1  ...   \n",
       "1120            0              0              0              1  ...   \n",
       "1121            0              0              0              0  ...   \n",
       "1122            1              0              0              0  ...   \n",
       "1123            1              0              0              0  ...   \n",
       "\n",
       "      population_s  population_v  population_y  habitat_d  habitat_g  \\\n",
       "0                0             1             0          1          0   \n",
       "1                0             1             0          0          0   \n",
       "2                0             1             0          1          0   \n",
       "3                0             0             1          0          1   \n",
       "4                0             0             1          1          0   \n",
       "...            ...           ...           ...        ...        ...   \n",
       "1119             1             0             0          0          1   \n",
       "1120             0             1             0          0          0   \n",
       "1121             0             1             0          1          0   \n",
       "1122             0             1             0          0          0   \n",
       "1123             0             1             0          0          1   \n",
       "\n",
       "      habitat_l  habitat_m  habitat_p  habitat_u  habitat_w  \n",
       "0             0          0          0          0          0  \n",
       "1             1          0          0          0          0  \n",
       "2             0          0          0          0          0  \n",
       "3             0          0          0          0          0  \n",
       "4             0          0          0          0          0  \n",
       "...         ...        ...        ...        ...        ...  \n",
       "1119          0          0          0          0          0  \n",
       "1120          1          0          0          0          0  \n",
       "1121          0          0          0          0          0  \n",
       "1122          1          0          0          0          0  \n",
       "1123          0          0          0          0          0  \n",
       "\n",
       "[8124 rows x 118 columns]"
      ]
     },
     "execution_count": 63,
     "metadata": {},
     "output_type": "execute_result"
    }
   ],
   "source": [
    "mushrooms_df_2 = pd.DataFrame()\n",
    "for j in range(0,5):\n",
    "    df = pd.read_csv(\"data/mushrooms-1400-\"+str(j+1)+\".csv\")\n",
    "    mushrooms_df_2 = pd.concat([mushrooms_df_2 ,df], axis=0)\n",
    "df = pd.read_csv(\"data/mushrooms-1124.csv\")\n",
    "mushrooms_df_2 = pd.concat([mushrooms_df_2 ,df], axis=0)\n",
    "mushrooms_noms_2=[nom for nom in mushrooms_df_2.columns if nom != 'class']\n",
    "\n",
    "mushrooms_num_2 = pd.get_dummies(mushrooms_df_2, columns = mushrooms_noms_2)\n",
    "mushrooms_num_2\n",
    "\n",
    "mushrooms_noms_2=[nom for nom in mushrooms_num_2.columns if nom != 'class']\n",
    "\n",
    "# Transformer le dataframe en dataset:\n",
    "data_num_desc_2 = np.array(mushrooms_num_2[mushrooms_noms_2])\n",
    "# Remarque : pour utiliser les classifieurs précédents, il faut que la classe soit +1 ou -1\n",
    "# on convertit donc 'e' et 'p'\n",
    "val_class ={'e':1, 'p':-1}\n",
    "data_num_label_2 = np.array([val_class[c] for c in mushrooms_num_2['class']])\n",
    "\n",
    "mushrooms_num_2"
   ]
  },
  {
   "cell_type": "code",
   "execution_count": 64,
   "metadata": {
    "scrolled": false
   },
   "outputs": [
    {
     "name": "stdout",
     "output_type": "stream",
     "text": [
      "Exemple de résultat sur les données numériques: validation croisée avec les arbres de décisions\n",
      "0  : taille app.=  7313 ,  taille test =  811  ,Accuracy:   0.9975339087546239\n",
      "1  : taille app.=  7313 ,  taille test =  811  ,Accuracy:   1.0\n",
      "2  : taille app.=  7313 ,  taille test =  811  ,Accuracy:   1.0\n",
      "3  : taille app.=  7313 ,  taille test =  811  ,Accuracy:   1.0\n",
      "4  : taille app.=  7313 ,  taille test =  811  ,Accuracy:   1.0\n",
      "5  : taille app.=  7313 ,  taille test =  811  ,Accuracy:   0.9901356350184957\n",
      "6  : taille app.=  7313 ,  taille test =  811  ,Accuracy:   0.9963008631319359\n",
      "7  : taille app.=  7313 ,  taille test =  811  ,Accuracy:   1.0\n",
      "8  : taille app.=  7313 ,  taille test =  811  ,Accuracy:   0.9975339087546239\n",
      "9  : taille app.=  7313 ,  taille test =  811  ,Accuracy:   0.998766954377312\n",
      "Perf obtenues :  [0.9975339087546239, 1.0, 1.0, 1.0, 1.0, 0.9901356350184957, 0.9963008631319359, 1.0, 0.9975339087546239, 0.998766954377312]\n",
      "Accuracy moyenne:  0.998027127003699 \técart type:  0.0029283211065445\n"
     ]
    }
   ],
   "source": [
    "print(\"Exemple de résultat sur les données numériques: validation croisée avec les arbres de décisions\")\n",
    "\n",
    "arbre_2 = ClassifierArbreDecision(len(mushrooms_noms_2), 0.1, mushrooms_noms_2)\n",
    "\n",
    "# ce qui se passe:\n",
    "(res_all, res_moy, res_sd) = validation_croisee(arbre_2, (data_num_desc_2, data_num_label_2), 10)\n",
    "\n",
    "print(\"Perf obtenues : \",res_all)\n",
    "print(\"Accuracy moyenne: \",res_moy,\"\\técart type: \", res_sd)"
   ]
  },
  {
   "cell_type": "code",
   "execution_count": 65,
   "metadata": {},
   "outputs": [
    {
     "name": "stdout",
     "output_type": "stream",
     "text": [
      "Exemple de résultat: validation croisée avec un knn pour k= 3\n",
      "0  : taille app.=  7313 ,  taille test =  811  ,Accuracy:   1.0\n",
      "1  : taille app.=  7313 ,  taille test =  811  ,Accuracy:   1.0\n",
      "2  : taille app.=  7313 ,  taille test =  811  ,Accuracy:   1.0\n",
      "3  : taille app.=  7313 ,  taille test =  811  ,Accuracy:   1.0\n",
      "4  : taille app.=  7313 ,  taille test =  811  ,Accuracy:   1.0\n",
      "5  : taille app.=  7313 ,  taille test =  811  ,Accuracy:   1.0\n",
      "6  : taille app.=  7313 ,  taille test =  811  ,Accuracy:   1.0\n",
      "7  : taille app.=  7313 ,  taille test =  811  ,Accuracy:   1.0\n",
      "8  : taille app.=  7313 ,  taille test =  811  ,Accuracy:   1.0\n",
      "9  : taille app.=  7313 ,  taille test =  811  ,Accuracy:   1.0\n",
      "Perf obtenues :  [1.0, 1.0, 1.0, 1.0, 1.0, 1.0, 1.0, 1.0, 1.0, 1.0]\n",
      "Accuracy moyenne:  1.0 \técart type:  0.0\n"
     ]
    }
   ],
   "source": [
    "k=3\n",
    "print(\"Exemple de résultat: validation croisée avec un knn pour k=\",k)\n",
    "\n",
    "# ############################### A COMPLETER \n",
    "knn_2 = cl.ClassifierKNN(len(mushrooms_noms_2),k)\n",
    "\n",
    "# ce qui se passe:\n",
    "(res_all, res_moy, res_sd) = validation_croisee(knn_2, (data_num_desc_2, data_num_label_2), 10)\n",
    "\n",
    "print(\"Perf obtenues : \",res_all)\n",
    "print(\"Accuracy moyenne: \",res_moy,\"\\técart type: \", res_sd)"
   ]
  },
  {
   "cell_type": "code",
   "execution_count": 66,
   "metadata": {},
   "outputs": [
    {
     "name": "stdout",
     "output_type": "stream",
     "text": [
      "Exemple de résultat: validation croisée avec un perceptron biais\n",
      "0  : taille app.=  7313 ,  taille test =  811  ,Accuracy:   1.0\n",
      "1  : taille app.=  7313 ,  taille test =  811  ,Accuracy:   1.0\n",
      "2  : taille app.=  7313 ,  taille test =  811  ,Accuracy:   1.0\n",
      "3  : taille app.=  7313 ,  taille test =  811  ,Accuracy:   1.0\n",
      "4  : taille app.=  7313 ,  taille test =  811  ,Accuracy:   1.0\n",
      "5  : taille app.=  7313 ,  taille test =  811  ,Accuracy:   1.0\n",
      "6  : taille app.=  7313 ,  taille test =  811  ,Accuracy:   1.0\n",
      "7  : taille app.=  7313 ,  taille test =  811  ,Accuracy:   1.0\n",
      "8  : taille app.=  7313 ,  taille test =  811  ,Accuracy:   1.0\n",
      "9  : taille app.=  7313 ,  taille test =  811  ,Accuracy:   1.0\n",
      "Perf obtenues :  [1.0, 1.0, 1.0, 1.0, 1.0, 1.0, 1.0, 1.0, 1.0, 1.0]\n",
      "Accuracy moyenne:  1.0 \técart type:  0.0\n"
     ]
    }
   ],
   "source": [
    "print(\"Exemple de résultat: validation croisée avec un perceptron biais\")\n",
    "\n",
    "# ############################### A COMPLETER \n",
    "perceptron_biais_2 = cl.ClassifierPerceptronBiais(len(mushrooms_noms_2))\n",
    "\n",
    "# ce qui se passe:\n",
    "(res_all, res_moy, res_sd) = validation_croisee(perceptron_biais_2, (data_num_desc_2, data_num_label_2), 10)\n",
    "\n",
    "print(\"Perf obtenues : \",res_all)\n",
    "print(\"Accuracy moyenne: \",res_moy,\"\\técart type: \", res_sd)"
   ]
  }
 ],
 "metadata": {
  "kernelspec": {
   "display_name": "Python 3 (ipykernel)",
   "language": "python",
   "name": "python3"
  },
  "language_info": {
   "codemirror_mode": {
    "name": "ipython",
    "version": 3
   },
   "file_extension": ".py",
   "mimetype": "text/x-python",
   "name": "python",
   "nbconvert_exporter": "python",
   "pygments_lexer": "ipython3",
   "version": "3.10.0"
  }
 },
 "nbformat": 4,
 "nbformat_minor": 1
}
