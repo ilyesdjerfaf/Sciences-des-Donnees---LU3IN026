{
  "cells": [
    {
      "cell_type": "markdown",
      "metadata": {
        "id": "6mr0NOTGq_Jp"
      },
      "source": [
        "IA & Data science (LU3IN0226) -- 2022-2023\n",
        "--------\n",
        "*&copy; Equipe pédagogique: Christophe Marsala, Olivier Schwander, Jean-Noël Vittaut.*\n"
      ]
    },
    {
      "cell_type": "markdown",
      "metadata": {
        "id": "d9EvbaC1q_Ju"
      },
      "source": [
        "<font size=\"+1\" color=\"RED\">**[Q]**</font> **Indiquer dans la boîte ci-dessous vos noms et prénoms :**"
      ]
    },
    {
      "cell_type": "markdown",
      "metadata": {
        "id": "cGOzF2JNq_Jv"
      },
      "source": [
        "Anyes TAFOUGHALT\n",
        "Ilyes DJERFAF"
      ]
    },
    {
      "cell_type": "markdown",
      "metadata": {
        "id": "NxxeOdyUq_Jw"
      },
      "source": [
        "<font color=\"RED\" size=\"+1\">**[Q]**</font> **Renommer ce fichier ipython**\n",
        "\n",
        "Tout en haut de cette page, cliquer sur <tt>tme-01</tt> et rajouter à la suite de <tt>tme-01</tt> les noms des membres du binômes séparés par un tiret.\n",
        "\n",
        "Par exemple, pour le binôme Luke Skywalker et Han Solo, le nom de fichier devient : <pre>tme-01-Skywalker-Solo</pre>\n",
        "\n",
        "Penser à sauvegarder fréquemment le fichier en cours de travail :\n",
        "- soit en cliquant sur l'icône \"disquette\"\n",
        "- soit par la combinaison de touches [Ctrl]-S"
      ]
    },
    {
      "cell_type": "markdown",
      "metadata": {
        "id": "0Om-mvcBq_Jx"
      },
      "source": [
        "<font color=\"RED\" size=\"+1\">IMPORTANT: soumission de votre fichier final</font>\n",
        "\n",
        "**Nom à donner au fichier à poster** : *Nom1_Nom2.ipynb* \n",
        "- *Nom1* et *Nom2* : noms des membres du binôme\n",
        "- ne pas compresser ou faire une archive: il faut rendre le fichier ipython tel quel, éventuellement, si vous avez d'autres fichiers vous les rendez séparément.\n",
        "\n",
        "**Echancier pour la soumission de votre compte-rendu:**\n",
        "- le compte-rendu d'une séance doit être remis obligatoirement <font color=\"RED\">avant le début de la séance suivante</font>.\n",
        "\n",
        "**Le compte-rendu est soumis sur la page Moodle.**"
      ]
    },
    {
      "cell_type": "markdown",
      "metadata": {
        "id": "I_D6N5eZq_Jx"
      },
      "source": [
        "## Semaine 1: structures de données\n"
      ]
    },
    {
      "cell_type": "markdown",
      "metadata": {
        "id": "znqpi5pqq_Jy"
      },
      "source": [
        "## Présentation ##\n",
        "\n",
        "### Objectifs de ce TME 1\n",
        "\n",
        "Le travail à réaliser est le suivant :\n",
        "- apprendre à utiliser jupyter notebook (cf doc: <https://docs.jupyter.org/en/latest/>).\n",
        "- se documenter sur les structures de données qui seront utilisées pour programmer tout au long du semestre: numpy et pandas.\n",
        "- implémenter des premières fonctions qui seront utiles ce semestre."
      ]
    },
    {
      "cell_type": "markdown",
      "metadata": {
        "id": "D_En2dR5q_Jz"
      },
      "source": [
        "## Apprendre à utiliser jupyter notebook\n",
        "\n",
        "Ce document est dynamique: il est composé de \"boîtes\" qui peuvent être \"compilées\" par la commande \"Run Cells\" du menu \"Cell\" (ou bien en cliquant sur l'icône >| ou par la combinaison des touches [SHIFT][ENTREE]).\n",
        "\n",
        "Il y a **2 types principaux** de boîtes :\n",
        "- les boîtes \"Markdown\": tout ce qui est tapé dans ces boîtes est du texte qui sera rendu \"joliment\" après avoir été compilé. On peut y écrire des commandes en Latex pour définir des équations, et il reconnaît certaines balises HTML. En cliquant 2 fois dans une boîte Markdown compilée, on a accès à son contenu et on peut alors le modifier.\n",
        "- les boîtes \"Code\": dans ces boîtes, on écrit du code Python. La compilation de la boîte produit l'exécution de ce code Python et produit une boîte \"Out\" dans laquelle le résultat de la dernière commande est affiché. On peut y écrire tout code Python valide. Ce type de boîtes se reconnaît par \"In [n]\" inscrit à côté de leur coin haut gauche (\"n\" est un entier).\n",
        "\n",
        "Le type d'une boîte peut être modifié à l'aide du menu en haut de la page (juste au dessus du texte).\n",
        "\n",
        "L'icône \"+\" permet de créer une nouvelle boîte juste en dessous de la boîte active.\n",
        "\n",
        "L'icône avec les ciseaux permet d'effacer la boîte active (attention ! c'est **irréversible !**).\n",
        "\n",
        "Pour en savoir plus :\n",
        "- http://ipython.org/\n",
        "\n",
        "Vous pouvez aussi vous référer à la documentation Python:\n",
        "- https://www.python.org/\n",
        "\n",
        "\n",
        "Dans ce qui suit, les boîtes Markdown commençant par <font color=\"RED\" size=\"+1\">**[Q]**</font> posent des questions auxquelles il faut répondre dans la boîte qui suit directement (éventuellement, en créant des nouvelles boîtes de type \"Code\" ou \"Markdown\", à votre convenance).\n",
        "Certaines des boîtes \"Code\" à remplir sont suivies d'une sortie \"Out[.]:\" qui montre un exemple de résultat attendu. \n",
        "\n",
        "N'hésitez pas à créer de nouvelles boîtes \"Code\" ou \"Markdown\" dans ce document si vous en avez besoin (cela est même conseillé !).\n"
      ]
    },
    {
      "cell_type": "code",
      "execution_count": 1,
      "metadata": {
        "id": "vt6Z1slGq_J1",
        "outputId": "1596e491-6eee-4d7a-cf59-1fcfd3478bbc",
        "colab": {
          "base_uri": "https://localhost:8080/"
        }
      },
      "outputs": [
        {
          "output_type": "stream",
          "name": "stdout",
          "text": [
            "Un essai quelconque :\n"
          ]
        },
        {
          "output_type": "execute_result",
          "data": {
            "text/plain": [
              "5"
            ]
          },
          "metadata": {},
          "execution_count": 1
        }
      ],
      "source": [
        "# exemple de boîte de code :\n",
        "#    --> sélectionner cette boîte (en cliquant à l'intérieur)\n",
        "#    --> effectuer \"Run Cells\" du Menu \"Cell\" (ou bien cliquer sur l'icône >|)\n",
        "# \n",
        "\n",
        "print(\"Un essai quelconque :\")\n",
        "2+3\n"
      ]
    },
    {
      "cell_type": "code",
      "execution_count": 2,
      "metadata": {
        "id": "1ySiB6OBq_J3",
        "outputId": "a1617027-b0ca-44f8-fac9-52494f0c8163",
        "colab": {
          "base_uri": "https://localhost:8080/"
        }
      },
      "outputs": [
        {
          "output_type": "stream",
          "name": "stdout",
          "text": [
            "Version Python:  3.8.10 (default, Nov 14 2022, 12:59:47) \n",
            "[GCC 9.4.0]\n"
          ]
        }
      ],
      "source": [
        "import sys\n",
        "print(\"Version Python: \", sys.version)\n",
        "# Attention : la sortie dépend de votre ordinateur...\n"
      ]
    },
    {
      "cell_type": "markdown",
      "metadata": {
        "id": "TKssI6IWq_J4"
      },
      "source": [
        "<font color=\"RED\" size=\"+1\">**[Q]**</font> Dans la boîte \"Code\" suivante, donner les instructions Python pour effectuer le calcul : \n",
        "$$-\\frac{1}{3}\\log_2(\\frac{1}{3})-\\frac{2}{3}\\log_2(\\frac{2}{3})$$\n",
        "\n",
        "Dont la valeur à trouver est :\n",
        "    0.9182958340544896"
      ]
    },
    {
      "cell_type": "code",
      "execution_count": 3,
      "metadata": {
        "id": "vdMTeq5-q_J4",
        "outputId": "24e6d74c-8ee3-4cac-a08c-48371b70d649",
        "colab": {
          "base_uri": "https://localhost:8080/"
        }
      },
      "outputs": [
        {
          "output_type": "execute_result",
          "data": {
            "text/plain": [
              "0.9182958340544896"
            ]
          },
          "metadata": {},
          "execution_count": 3
        }
      ],
      "source": [
        "import math\n",
        "-1/3 * math.log2(1/3) - 2/3 * math.log2(2/3)"
      ]
    },
    {
      "cell_type": "markdown",
      "metadata": {
        "id": "KRDxRI9Yq_J5"
      },
      "source": [
        "<div class=\"alert alert-block alert-danger\">\n",
        "<font style=\"BACKGROUND-COLOR: lightgray\" color='red'> Important</font> :\n",
        "en lisant le texte d'un fichier jupyter sur votre ordinateur, pensez bien à exécuter les boîtes \"Code\" dans l'ordre de leur apparition. Toute la page se comporte comme une session Python unique et il pour exécuter certaines boîtes il est nécessaire que les précédentes aient été exécutées au préalable.\n",
        "    \n",
        "De même, vous pouvez réinitialiser complètement la session en cliquant sur Noyau et redémarrer.\n",
        "</div>"
      ]
    },
    {
      "cell_type": "markdown",
      "metadata": {
        "id": "syT9CG4Nq_J5"
      },
      "source": [
        "<font color=\"RED\" size=\"+1\">**[Q]**</font> Dans la boîte \"Code\" suivante, écrire la fonction <tt>calcul</tt> qui, étant donné un réel $x$ de [0,1] rend la valeur du calcul $$-x\\log_2(x)-(1-x)\\log_2(1-x)$$ si $x\\not= 0$ et $x \\not= 1$ ou la valeur $0.0$ sinon."
      ]
    },
    {
      "cell_type": "code",
      "execution_count": 4,
      "metadata": {
        "id": "r65vy_UQq_J6"
      },
      "outputs": [],
      "source": [
        "def calcul(x):\n",
        "    if x == 0 or x == 1:\n",
        "        return 0\n",
        "    elif x < 0 or x > 1:\n",
        "        raise ValueError(\"Input must be between 0 and 1\")\n",
        "    else:\n",
        "        return - x * math.log2(x) - (1 - x) * math.log2(1 - x)"
      ]
    },
    {
      "cell_type": "code",
      "execution_count": 5,
      "metadata": {
        "id": "RL6BpviLq_J6",
        "outputId": "000ffd46-11ee-4adc-969a-a0c86fc363e0",
        "colab": {
          "base_uri": "https://localhost:8080/"
        }
      },
      "outputs": [
        {
          "output_type": "execute_result",
          "data": {
            "text/plain": [
              "0"
            ]
          },
          "metadata": {},
          "execution_count": 5
        }
      ],
      "source": [
        "calcul(0.0)"
      ]
    },
    {
      "cell_type": "code",
      "execution_count": 6,
      "metadata": {
        "id": "zBKUdrmxq_J7",
        "outputId": "56c8cb84-f3d4-4fe5-c909-f0e524d1cec1",
        "colab": {
          "base_uri": "https://localhost:8080/"
        }
      },
      "outputs": [
        {
          "output_type": "execute_result",
          "data": {
            "text/plain": [
              "0.9182958340544896"
            ]
          },
          "metadata": {},
          "execution_count": 6
        }
      ],
      "source": [
        "calcul(1/3)"
      ]
    },
    {
      "cell_type": "code",
      "execution_count": 7,
      "metadata": {
        "id": "t98KfSH3q_J7",
        "outputId": "79fc71a3-8cb8-4eec-dec2-9442a741d4f1",
        "colab": {
          "base_uri": "https://localhost:8080/"
        }
      },
      "outputs": [
        {
          "output_type": "execute_result",
          "data": {
            "text/plain": [
              "1.0"
            ]
          },
          "metadata": {},
          "execution_count": 7
        }
      ],
      "source": [
        "calcul(0.5)"
      ]
    },
    {
      "cell_type": "markdown",
      "metadata": {
        "id": "MhDgmD5Gq_J7"
      },
      "source": [
        "## Documentation\n",
        "\n",
        "\n",
        "Dans un premier temps, et c'est un des objectifs de cette séance, vous devez prendre en main les libraries **numpy**, **pandas** et **matplotlib**:\n",
        "\n",
        "- Numpy = <http://scipy.github.io/old-wiki/pages/Tentative_NumPy_Tutorial>\n",
        "  ou bien <https://realpython.com/numpy-tutorial/>\n",
        "- Pandas = http://pandas.pydata.org/pandas-docs/stable/10min.html\n",
        "- Matplotlib = https://matplotlib.org/stable/index.html\n",
        "\n",
        "Lisez ces pages et pratiquez ces tutoriaux afin de bien vous familiariser avec ces outils."
      ]
    },
    {
      "cell_type": "markdown",
      "metadata": {
        "id": "ER3udpspq_J8"
      },
      "source": [
        "<font color=\"RED\" size=\"+1\">**[Q]**</font> Donner dans la boîte suivante les grandes caractéristiques de chacunes de ces 3 librairies: A quoi servent-elles ? Que permettent-elles de représenter ? Quelle est leur utilité et leurs spécificités ? etc. etc.\n",
        "\n",
        "Donner des exemples de leurs utilisations spécifiques."
      ]
    },
    {
      "cell_type": "markdown",
      "source": [
        "* **NumPy** est une librairie pour la manipulation de tableaux numériques en \n",
        "Python. Elle permet de faire des calculs mathématiques avancés sur des tableaux de données, tels que des calculs de matrices, de statistiques, etc.\n",
        "\n",
        "* **Matplotlib** est une librairie de visualisation de données en Python. Elle permet de créer des graphiques de toutes sortes, comme des histogrammes, des courbes, des nuages de points, etc. Elle est souvent utilisée pour visualiser des données scientifiques ou pour créer des graphiques.\n",
        "\n",
        "* **Pandas** est une librairie de manipulation de données en Python. Elle permet de manipuler des données dans des structures de données de tableaux (DataFrame) et de séries (Series) similaires à celles d'un tableur. Elle est utilisée pour l'analyse de données, la nettoyage de données, la transformation de données et la manipulation de données en grande quantité."
      ],
      "metadata": {
        "id": "Inb0FJJUr9ot"
      }
    },
    {
      "cell_type": "markdown",
      "metadata": {
        "id": "z3X5Bdj8q_J8"
      },
      "source": [
        "<div class=\"alert alert-block alert-info\">\n",
        "    Pour utiliser les 3 librairies précédentes, vous devrez d'abord les importer dans Jupyter par les commandes données dans la boite suivante.\n",
        "\n",
        "Si une librairie n'est pas installée, une erreur peut se produire lors de son import. Il est alors nécessaire de l'installer. Par exemple, pour la librairie pandas sur les machines de la PPTI:\n",
        "- dans un terminal, exécuter la commande:\n",
        "    \n",
        "        pip install --user -U --proxy http://proxy:3128 pandas\n",
        "\n",
        "(le proxy n'est nécessaire que pour les salles machines, vous n'avez pas à l'utiliser sur vos machines personnelles).\n",
        "- une fois la librairie installée, il est nécessaire de relancer le noyau Python de Jupyter:\n",
        "    dans le menu de Jupyter tout en haut de la page, choisir \"<tt>Kernel -> restart</tt>\"\n",
        "</div>\n"
      ]
    },
    {
      "cell_type": "code",
      "execution_count": 8,
      "metadata": {
        "id": "er-08vzWq_J9"
      },
      "outputs": [],
      "source": [
        "import numpy as np\n",
        "import pandas as pd\n",
        "from datetime import datetime as dt\n",
        "import matplotlib.pyplot as plt\n",
        "%matplotlib inline  "
      ]
    },
    {
      "cell_type": "markdown",
      "metadata": {
        "id": "XaWvaCVXq_J9"
      },
      "source": [
        "## Programmation et expérimentation ##\n",
        "\n",
        "Le jeu de données (ou *dataset*) qui sera utilisé dans cette séance pour valider vos fonctions correspond à des données concernant des prix dans différents états d'Amérique du Nord. \n",
        "\n",
        "\n",
        "La référence de ce dataset est disponible ici : <https://github.com/amitkaps/weed/blob/master/1-Acquire.ipynb>\n",
        "\n",
        "Ces données sont aussi fournies dans le fichier <tt>data-01.zip</tt> à télécharger sur le site Moodle.\n",
        "\n",
        "Elles se composent de trois fichiers:\n",
        "* <tt>\"data-01/Weed_Price.csv\"</tt>: prix par date et par état (pour trois qualités différentes)\n",
        "* <tt>\"data-01/Demographics_State.csv\"</tt>: informations démographiques sur chaque état\n",
        "* <tt>\"data-01/Population_State.csv\"</tt>: population de chaque état\n",
        "\n",
        "La première étape est de télécharger ces fichiers dans des dataframes pandas.\n",
        "\n",
        "Comme ce sont des fichiers <a href=\"https://fr.wikipedia.org/wiki/Comma-separated_values\"><tt>CSV</tt></a>, on utilise la librairie Pandas qui contient une fonction de lecture de ce type de fichiers."
      ]
    },
    {
      "cell_type": "code",
      "execution_count": 10,
      "metadata": {
        "id": "yY4KXgMTq_J9"
      },
      "outputs": [],
      "source": [
        "# Chargement des fichiers de données :\n",
        "\n",
        "prices_pd = pd.read_csv(\"data-01/Weed_Price.csv\", parse_dates=[-1])\n",
        "demography_pd = pd.read_csv(\"data-01/Demographics_State.csv\")\n",
        "population_pd = pd.read_csv(\"data-01/Population_State.csv\")"
      ]
    },
    {
      "cell_type": "markdown",
      "metadata": {
        "id": "Pkkup42rq_J-"
      },
      "source": [
        "<font color=\"RED\" size=\"+1\">**[Q]**</font> **Des dataframes**\n",
        "Commencer par regarder la documentation de la fonction <tt>read_csv</tt> de la librairie Pandas. Que rend cette fonction (quel est le type de ce qui est rendu) ?"
      ]
    },
    {
      "cell_type": "markdown",
      "metadata": {
        "id": "pBu-RO1rq_J-"
      },
      "source": [
        "**La fonction read_csv() permet de lire un fichier CSV (Comma Separated Values) et de retourner un DataFrame. Un DataFrame est un tableau à 2 dimensions (une matrice) qui contient des lignes et des colonnes de données. Les colonnes ont des noms et les lignes ont des index et chaque ligne représente le même tuple.**"
      ]
    },
    {
      "cell_type": "markdown",
      "metadata": {
        "id": "yydNN1Kmq_J-"
      },
      "source": [
        "<font color=\"RED\" size=\"+1\">**[Q]**</font> **Des dataframes**\n",
        "\n",
        "Les dataframes Pandas permettent de stocker ensemble des données dont les valeurs peuvent être différentes. Cela peut s'apparenter à une feuille Excel (ou Libreoffice) : chaque ligne correspond à une même donnée (un \"exemple\") et contient dans chaque colonne des valeurs qui peuvent être de différents types.\n",
        "\n",
        "Examiner le type des trois variables qui viennent d'être définies. Pour cela, utiliser la fonction <tt>type</tt> de Python: par exemple <tt>type(prices_pd)</tt>."
      ]
    },
    {
      "cell_type": "code",
      "execution_count": 11,
      "metadata": {
        "id": "lHanTEyUq_J-",
        "outputId": "73581fc0-7f30-447f-c11a-8985829a005a",
        "colab": {
          "base_uri": "https://localhost:8080/"
        }
      },
      "outputs": [
        {
          "output_type": "execute_result",
          "data": {
            "text/plain": [
              "pandas.core.frame.DataFrame"
            ]
          },
          "metadata": {},
          "execution_count": 11
        }
      ],
      "source": [
        "# type de prices_pd:\n",
        "type(prices_pd)"
      ]
    },
    {
      "cell_type": "code",
      "execution_count": 12,
      "metadata": {
        "id": "1ZW7prasq_J_",
        "outputId": "0e7ae464-fb44-45c6-c210-b725634e065d",
        "colab": {
          "base_uri": "https://localhost:8080/"
        }
      },
      "outputs": [
        {
          "output_type": "execute_result",
          "data": {
            "text/plain": [
              "pandas.core.frame.DataFrame"
            ]
          },
          "metadata": {},
          "execution_count": 12
        }
      ],
      "source": [
        "# type de demography_pd\n",
        "type(demography_pd)\n"
      ]
    },
    {
      "cell_type": "code",
      "execution_count": 13,
      "metadata": {
        "id": "dnKW4B2gq_J_",
        "outputId": "bf2cc178-c5df-4da5-892b-1389ccb68d40",
        "colab": {
          "base_uri": "https://localhost:8080/"
        }
      },
      "outputs": [
        {
          "output_type": "execute_result",
          "data": {
            "text/plain": [
              "pandas.core.frame.DataFrame"
            ]
          },
          "metadata": {},
          "execution_count": 13
        }
      ],
      "source": [
        "# type de population_pd\n",
        "type(population_pd)\n"
      ]
    },
    {
      "cell_type": "markdown",
      "metadata": {
        "id": "YGl-KmjMq_J_"
      },
      "source": [
        "**Important**: chaque fois que vous utilisez une commande, regardez le type du résultat obtenu (liste, DataFrame, Series, array,...) cela vous permettra de savoir ce que vous pouvez appliquer sur ce résultat."
      ]
    },
    {
      "cell_type": "markdown",
      "metadata": {
        "id": "GvUXDae3q_KA"
      },
      "source": [
        "<font color=\"RED\" size=\"+1\">**[Q]**</font> **En savoir plus sur les données...**\n",
        "\n",
        "* Commencer par se familiariser avec les données en les visualisant et en affichant des exemples de lignes ou de colonnes que ces DataFrames contiennent. Pour cela, manipuler les fonctions des librairies que vous venez de découvrir (par exemple, <tt>head()</tt>, <tt>tail()</tt>, ...)."
      ]
    },
    {
      "cell_type": "code",
      "execution_count": 14,
      "metadata": {
        "id": "TB1iN-m1q_KA",
        "outputId": "31f2e6a6-2561-4d17-b849-791e3fc05275",
        "colab": {
          "base_uri": "https://localhost:8080/",
          "height": 520
        }
      },
      "outputs": [
        {
          "output_type": "execute_result",
          "data": {
            "text/plain": [
              "                   State   HighQ  HighQN    MedQ  MedQN    LowQ  LowQN  \\\n",
              "0                Alabama  339.06    1042  198.64    933  149.49    123   \n",
              "1                 Alaska  288.75     252  260.60    297  388.58     26   \n",
              "2                Arizona  303.31    1941  209.35   1625  189.45    222   \n",
              "3               Arkansas  361.85     576  185.62    544  125.87    112   \n",
              "4             California  248.78   12096  193.56  12812  192.92    778   \n",
              "5               Colorado  236.31    2161  195.29   1728  213.50    128   \n",
              "6            Connecticut  347.90    1294  273.97   1316  257.36     91   \n",
              "7               Delaware  373.18     347  226.25    273  199.88     34   \n",
              "8   District of Columbia  352.26     433  295.67    349  213.72     39   \n",
              "9                Florida  306.43    6506  220.03   5237  158.26    514   \n",
              "10               Georgia  332.21    3099  213.52   2269  153.45    229   \n",
              "11                Hawaii  310.96     328  270.38    350  160.46     25   \n",
              "12                 Idaho  276.05     315  254.96    445  132.61     20   \n",
              "13              Illinois  359.74    4008  287.23   3644  181.25    329   \n",
              "14               Indiana  336.80    1665  206.24   1446  154.05    248   \n",
              "\n",
              "         date  \n",
              "0  2014-01-01  \n",
              "1  2014-01-01  \n",
              "2  2014-01-01  \n",
              "3  2014-01-01  \n",
              "4  2014-01-01  \n",
              "5  2014-01-01  \n",
              "6  2014-01-01  \n",
              "7  2014-01-01  \n",
              "8  2014-01-01  \n",
              "9  2014-01-01  \n",
              "10 2014-01-01  \n",
              "11 2014-01-01  \n",
              "12 2014-01-01  \n",
              "13 2014-01-01  \n",
              "14 2014-01-01  "
            ],
            "text/html": [
              "\n",
              "  <div id=\"df-12f537e8-e53c-4936-81d3-a95143fd1600\">\n",
              "    <div class=\"colab-df-container\">\n",
              "      <div>\n",
              "<style scoped>\n",
              "    .dataframe tbody tr th:only-of-type {\n",
              "        vertical-align: middle;\n",
              "    }\n",
              "\n",
              "    .dataframe tbody tr th {\n",
              "        vertical-align: top;\n",
              "    }\n",
              "\n",
              "    .dataframe thead th {\n",
              "        text-align: right;\n",
              "    }\n",
              "</style>\n",
              "<table border=\"1\" class=\"dataframe\">\n",
              "  <thead>\n",
              "    <tr style=\"text-align: right;\">\n",
              "      <th></th>\n",
              "      <th>State</th>\n",
              "      <th>HighQ</th>\n",
              "      <th>HighQN</th>\n",
              "      <th>MedQ</th>\n",
              "      <th>MedQN</th>\n",
              "      <th>LowQ</th>\n",
              "      <th>LowQN</th>\n",
              "      <th>date</th>\n",
              "    </tr>\n",
              "  </thead>\n",
              "  <tbody>\n",
              "    <tr>\n",
              "      <th>0</th>\n",
              "      <td>Alabama</td>\n",
              "      <td>339.06</td>\n",
              "      <td>1042</td>\n",
              "      <td>198.64</td>\n",
              "      <td>933</td>\n",
              "      <td>149.49</td>\n",
              "      <td>123</td>\n",
              "      <td>2014-01-01</td>\n",
              "    </tr>\n",
              "    <tr>\n",
              "      <th>1</th>\n",
              "      <td>Alaska</td>\n",
              "      <td>288.75</td>\n",
              "      <td>252</td>\n",
              "      <td>260.60</td>\n",
              "      <td>297</td>\n",
              "      <td>388.58</td>\n",
              "      <td>26</td>\n",
              "      <td>2014-01-01</td>\n",
              "    </tr>\n",
              "    <tr>\n",
              "      <th>2</th>\n",
              "      <td>Arizona</td>\n",
              "      <td>303.31</td>\n",
              "      <td>1941</td>\n",
              "      <td>209.35</td>\n",
              "      <td>1625</td>\n",
              "      <td>189.45</td>\n",
              "      <td>222</td>\n",
              "      <td>2014-01-01</td>\n",
              "    </tr>\n",
              "    <tr>\n",
              "      <th>3</th>\n",
              "      <td>Arkansas</td>\n",
              "      <td>361.85</td>\n",
              "      <td>576</td>\n",
              "      <td>185.62</td>\n",
              "      <td>544</td>\n",
              "      <td>125.87</td>\n",
              "      <td>112</td>\n",
              "      <td>2014-01-01</td>\n",
              "    </tr>\n",
              "    <tr>\n",
              "      <th>4</th>\n",
              "      <td>California</td>\n",
              "      <td>248.78</td>\n",
              "      <td>12096</td>\n",
              "      <td>193.56</td>\n",
              "      <td>12812</td>\n",
              "      <td>192.92</td>\n",
              "      <td>778</td>\n",
              "      <td>2014-01-01</td>\n",
              "    </tr>\n",
              "    <tr>\n",
              "      <th>5</th>\n",
              "      <td>Colorado</td>\n",
              "      <td>236.31</td>\n",
              "      <td>2161</td>\n",
              "      <td>195.29</td>\n",
              "      <td>1728</td>\n",
              "      <td>213.50</td>\n",
              "      <td>128</td>\n",
              "      <td>2014-01-01</td>\n",
              "    </tr>\n",
              "    <tr>\n",
              "      <th>6</th>\n",
              "      <td>Connecticut</td>\n",
              "      <td>347.90</td>\n",
              "      <td>1294</td>\n",
              "      <td>273.97</td>\n",
              "      <td>1316</td>\n",
              "      <td>257.36</td>\n",
              "      <td>91</td>\n",
              "      <td>2014-01-01</td>\n",
              "    </tr>\n",
              "    <tr>\n",
              "      <th>7</th>\n",
              "      <td>Delaware</td>\n",
              "      <td>373.18</td>\n",
              "      <td>347</td>\n",
              "      <td>226.25</td>\n",
              "      <td>273</td>\n",
              "      <td>199.88</td>\n",
              "      <td>34</td>\n",
              "      <td>2014-01-01</td>\n",
              "    </tr>\n",
              "    <tr>\n",
              "      <th>8</th>\n",
              "      <td>District of Columbia</td>\n",
              "      <td>352.26</td>\n",
              "      <td>433</td>\n",
              "      <td>295.67</td>\n",
              "      <td>349</td>\n",
              "      <td>213.72</td>\n",
              "      <td>39</td>\n",
              "      <td>2014-01-01</td>\n",
              "    </tr>\n",
              "    <tr>\n",
              "      <th>9</th>\n",
              "      <td>Florida</td>\n",
              "      <td>306.43</td>\n",
              "      <td>6506</td>\n",
              "      <td>220.03</td>\n",
              "      <td>5237</td>\n",
              "      <td>158.26</td>\n",
              "      <td>514</td>\n",
              "      <td>2014-01-01</td>\n",
              "    </tr>\n",
              "    <tr>\n",
              "      <th>10</th>\n",
              "      <td>Georgia</td>\n",
              "      <td>332.21</td>\n",
              "      <td>3099</td>\n",
              "      <td>213.52</td>\n",
              "      <td>2269</td>\n",
              "      <td>153.45</td>\n",
              "      <td>229</td>\n",
              "      <td>2014-01-01</td>\n",
              "    </tr>\n",
              "    <tr>\n",
              "      <th>11</th>\n",
              "      <td>Hawaii</td>\n",
              "      <td>310.96</td>\n",
              "      <td>328</td>\n",
              "      <td>270.38</td>\n",
              "      <td>350</td>\n",
              "      <td>160.46</td>\n",
              "      <td>25</td>\n",
              "      <td>2014-01-01</td>\n",
              "    </tr>\n",
              "    <tr>\n",
              "      <th>12</th>\n",
              "      <td>Idaho</td>\n",
              "      <td>276.05</td>\n",
              "      <td>315</td>\n",
              "      <td>254.96</td>\n",
              "      <td>445</td>\n",
              "      <td>132.61</td>\n",
              "      <td>20</td>\n",
              "      <td>2014-01-01</td>\n",
              "    </tr>\n",
              "    <tr>\n",
              "      <th>13</th>\n",
              "      <td>Illinois</td>\n",
              "      <td>359.74</td>\n",
              "      <td>4008</td>\n",
              "      <td>287.23</td>\n",
              "      <td>3644</td>\n",
              "      <td>181.25</td>\n",
              "      <td>329</td>\n",
              "      <td>2014-01-01</td>\n",
              "    </tr>\n",
              "    <tr>\n",
              "      <th>14</th>\n",
              "      <td>Indiana</td>\n",
              "      <td>336.80</td>\n",
              "      <td>1665</td>\n",
              "      <td>206.24</td>\n",
              "      <td>1446</td>\n",
              "      <td>154.05</td>\n",
              "      <td>248</td>\n",
              "      <td>2014-01-01</td>\n",
              "    </tr>\n",
              "  </tbody>\n",
              "</table>\n",
              "</div>\n",
              "      <button class=\"colab-df-convert\" onclick=\"convertToInteractive('df-12f537e8-e53c-4936-81d3-a95143fd1600')\"\n",
              "              title=\"Convert this dataframe to an interactive table.\"\n",
              "              style=\"display:none;\">\n",
              "        \n",
              "  <svg xmlns=\"http://www.w3.org/2000/svg\" height=\"24px\"viewBox=\"0 0 24 24\"\n",
              "       width=\"24px\">\n",
              "    <path d=\"M0 0h24v24H0V0z\" fill=\"none\"/>\n",
              "    <path d=\"M18.56 5.44l.94 2.06.94-2.06 2.06-.94-2.06-.94-.94-2.06-.94 2.06-2.06.94zm-11 1L8.5 8.5l.94-2.06 2.06-.94-2.06-.94L8.5 2.5l-.94 2.06-2.06.94zm10 10l.94 2.06.94-2.06 2.06-.94-2.06-.94-.94-2.06-.94 2.06-2.06.94z\"/><path d=\"M17.41 7.96l-1.37-1.37c-.4-.4-.92-.59-1.43-.59-.52 0-1.04.2-1.43.59L10.3 9.45l-7.72 7.72c-.78.78-.78 2.05 0 2.83L4 21.41c.39.39.9.59 1.41.59.51 0 1.02-.2 1.41-.59l7.78-7.78 2.81-2.81c.8-.78.8-2.07 0-2.86zM5.41 20L4 18.59l7.72-7.72 1.47 1.35L5.41 20z\"/>\n",
              "  </svg>\n",
              "      </button>\n",
              "      \n",
              "  <style>\n",
              "    .colab-df-container {\n",
              "      display:flex;\n",
              "      flex-wrap:wrap;\n",
              "      gap: 12px;\n",
              "    }\n",
              "\n",
              "    .colab-df-convert {\n",
              "      background-color: #E8F0FE;\n",
              "      border: none;\n",
              "      border-radius: 50%;\n",
              "      cursor: pointer;\n",
              "      display: none;\n",
              "      fill: #1967D2;\n",
              "      height: 32px;\n",
              "      padding: 0 0 0 0;\n",
              "      width: 32px;\n",
              "    }\n",
              "\n",
              "    .colab-df-convert:hover {\n",
              "      background-color: #E2EBFA;\n",
              "      box-shadow: 0px 1px 2px rgba(60, 64, 67, 0.3), 0px 1px 3px 1px rgba(60, 64, 67, 0.15);\n",
              "      fill: #174EA6;\n",
              "    }\n",
              "\n",
              "    [theme=dark] .colab-df-convert {\n",
              "      background-color: #3B4455;\n",
              "      fill: #D2E3FC;\n",
              "    }\n",
              "\n",
              "    [theme=dark] .colab-df-convert:hover {\n",
              "      background-color: #434B5C;\n",
              "      box-shadow: 0px 1px 3px 1px rgba(0, 0, 0, 0.15);\n",
              "      filter: drop-shadow(0px 1px 2px rgba(0, 0, 0, 0.3));\n",
              "      fill: #FFFFFF;\n",
              "    }\n",
              "  </style>\n",
              "\n",
              "      <script>\n",
              "        const buttonEl =\n",
              "          document.querySelector('#df-12f537e8-e53c-4936-81d3-a95143fd1600 button.colab-df-convert');\n",
              "        buttonEl.style.display =\n",
              "          google.colab.kernel.accessAllowed ? 'block' : 'none';\n",
              "\n",
              "        async function convertToInteractive(key) {\n",
              "          const element = document.querySelector('#df-12f537e8-e53c-4936-81d3-a95143fd1600');\n",
              "          const dataTable =\n",
              "            await google.colab.kernel.invokeFunction('convertToInteractive',\n",
              "                                                     [key], {});\n",
              "          if (!dataTable) return;\n",
              "\n",
              "          const docLinkHtml = 'Like what you see? Visit the ' +\n",
              "            '<a target=\"_blank\" href=https://colab.research.google.com/notebooks/data_table.ipynb>data table notebook</a>'\n",
              "            + ' to learn more about interactive tables.';\n",
              "          element.innerHTML = '';\n",
              "          dataTable['output_type'] = 'display_data';\n",
              "          await google.colab.output.renderOutput(dataTable, element);\n",
              "          const docLink = document.createElement('div');\n",
              "          docLink.innerHTML = docLinkHtml;\n",
              "          element.appendChild(docLink);\n",
              "        }\n",
              "      </script>\n",
              "    </div>\n",
              "  </div>\n",
              "  "
            ]
          },
          "metadata": {},
          "execution_count": 14
        }
      ],
      "source": [
        "# 15 premières lignes de prices_pd\n",
        "prices_pd.head(15)\n"
      ]
    },
    {
      "cell_type": "code",
      "execution_count": 15,
      "metadata": {
        "id": "heIFaJRRq_KA",
        "outputId": "94c70009-a023-47e9-8498-49119954e8de",
        "colab": {
          "base_uri": "https://localhost:8080/",
          "height": 269
        }
      },
      "outputs": [
        {
          "output_type": "execute_result",
          "data": {
            "text/plain": [
              "               State   HighQ  HighQN    MedQ  MedQN  LowQ  LowQN       date\n",
              "22892           Utah  290.42     959  238.08   1055   NaN     62 2014-12-31\n",
              "22893        Vermont  371.23     357  308.86    367   NaN     32 2014-12-31\n",
              "22894       Virginia  364.98    3513  293.12   3079   NaN    284 2014-12-31\n",
              "22895     Washington  233.05    3337  189.92   3562   NaN    160 2014-12-31\n",
              "22896  West Virginia  359.35     551  224.03    545   NaN     60 2014-12-31\n",
              "22897      Wisconsin  350.52    2244  272.71   2221   NaN    167 2014-12-31\n",
              "22898        Wyoming  322.27     131  351.86    197   NaN     12 2014-12-31"
            ],
            "text/html": [
              "\n",
              "  <div id=\"df-21ae669f-cd21-4fb0-a54e-1f2ef3452322\">\n",
              "    <div class=\"colab-df-container\">\n",
              "      <div>\n",
              "<style scoped>\n",
              "    .dataframe tbody tr th:only-of-type {\n",
              "        vertical-align: middle;\n",
              "    }\n",
              "\n",
              "    .dataframe tbody tr th {\n",
              "        vertical-align: top;\n",
              "    }\n",
              "\n",
              "    .dataframe thead th {\n",
              "        text-align: right;\n",
              "    }\n",
              "</style>\n",
              "<table border=\"1\" class=\"dataframe\">\n",
              "  <thead>\n",
              "    <tr style=\"text-align: right;\">\n",
              "      <th></th>\n",
              "      <th>State</th>\n",
              "      <th>HighQ</th>\n",
              "      <th>HighQN</th>\n",
              "      <th>MedQ</th>\n",
              "      <th>MedQN</th>\n",
              "      <th>LowQ</th>\n",
              "      <th>LowQN</th>\n",
              "      <th>date</th>\n",
              "    </tr>\n",
              "  </thead>\n",
              "  <tbody>\n",
              "    <tr>\n",
              "      <th>22892</th>\n",
              "      <td>Utah</td>\n",
              "      <td>290.42</td>\n",
              "      <td>959</td>\n",
              "      <td>238.08</td>\n",
              "      <td>1055</td>\n",
              "      <td>NaN</td>\n",
              "      <td>62</td>\n",
              "      <td>2014-12-31</td>\n",
              "    </tr>\n",
              "    <tr>\n",
              "      <th>22893</th>\n",
              "      <td>Vermont</td>\n",
              "      <td>371.23</td>\n",
              "      <td>357</td>\n",
              "      <td>308.86</td>\n",
              "      <td>367</td>\n",
              "      <td>NaN</td>\n",
              "      <td>32</td>\n",
              "      <td>2014-12-31</td>\n",
              "    </tr>\n",
              "    <tr>\n",
              "      <th>22894</th>\n",
              "      <td>Virginia</td>\n",
              "      <td>364.98</td>\n",
              "      <td>3513</td>\n",
              "      <td>293.12</td>\n",
              "      <td>3079</td>\n",
              "      <td>NaN</td>\n",
              "      <td>284</td>\n",
              "      <td>2014-12-31</td>\n",
              "    </tr>\n",
              "    <tr>\n",
              "      <th>22895</th>\n",
              "      <td>Washington</td>\n",
              "      <td>233.05</td>\n",
              "      <td>3337</td>\n",
              "      <td>189.92</td>\n",
              "      <td>3562</td>\n",
              "      <td>NaN</td>\n",
              "      <td>160</td>\n",
              "      <td>2014-12-31</td>\n",
              "    </tr>\n",
              "    <tr>\n",
              "      <th>22896</th>\n",
              "      <td>West Virginia</td>\n",
              "      <td>359.35</td>\n",
              "      <td>551</td>\n",
              "      <td>224.03</td>\n",
              "      <td>545</td>\n",
              "      <td>NaN</td>\n",
              "      <td>60</td>\n",
              "      <td>2014-12-31</td>\n",
              "    </tr>\n",
              "    <tr>\n",
              "      <th>22897</th>\n",
              "      <td>Wisconsin</td>\n",
              "      <td>350.52</td>\n",
              "      <td>2244</td>\n",
              "      <td>272.71</td>\n",
              "      <td>2221</td>\n",
              "      <td>NaN</td>\n",
              "      <td>167</td>\n",
              "      <td>2014-12-31</td>\n",
              "    </tr>\n",
              "    <tr>\n",
              "      <th>22898</th>\n",
              "      <td>Wyoming</td>\n",
              "      <td>322.27</td>\n",
              "      <td>131</td>\n",
              "      <td>351.86</td>\n",
              "      <td>197</td>\n",
              "      <td>NaN</td>\n",
              "      <td>12</td>\n",
              "      <td>2014-12-31</td>\n",
              "    </tr>\n",
              "  </tbody>\n",
              "</table>\n",
              "</div>\n",
              "      <button class=\"colab-df-convert\" onclick=\"convertToInteractive('df-21ae669f-cd21-4fb0-a54e-1f2ef3452322')\"\n",
              "              title=\"Convert this dataframe to an interactive table.\"\n",
              "              style=\"display:none;\">\n",
              "        \n",
              "  <svg xmlns=\"http://www.w3.org/2000/svg\" height=\"24px\"viewBox=\"0 0 24 24\"\n",
              "       width=\"24px\">\n",
              "    <path d=\"M0 0h24v24H0V0z\" fill=\"none\"/>\n",
              "    <path d=\"M18.56 5.44l.94 2.06.94-2.06 2.06-.94-2.06-.94-.94-2.06-.94 2.06-2.06.94zm-11 1L8.5 8.5l.94-2.06 2.06-.94-2.06-.94L8.5 2.5l-.94 2.06-2.06.94zm10 10l.94 2.06.94-2.06 2.06-.94-2.06-.94-.94-2.06-.94 2.06-2.06.94z\"/><path d=\"M17.41 7.96l-1.37-1.37c-.4-.4-.92-.59-1.43-.59-.52 0-1.04.2-1.43.59L10.3 9.45l-7.72 7.72c-.78.78-.78 2.05 0 2.83L4 21.41c.39.39.9.59 1.41.59.51 0 1.02-.2 1.41-.59l7.78-7.78 2.81-2.81c.8-.78.8-2.07 0-2.86zM5.41 20L4 18.59l7.72-7.72 1.47 1.35L5.41 20z\"/>\n",
              "  </svg>\n",
              "      </button>\n",
              "      \n",
              "  <style>\n",
              "    .colab-df-container {\n",
              "      display:flex;\n",
              "      flex-wrap:wrap;\n",
              "      gap: 12px;\n",
              "    }\n",
              "\n",
              "    .colab-df-convert {\n",
              "      background-color: #E8F0FE;\n",
              "      border: none;\n",
              "      border-radius: 50%;\n",
              "      cursor: pointer;\n",
              "      display: none;\n",
              "      fill: #1967D2;\n",
              "      height: 32px;\n",
              "      padding: 0 0 0 0;\n",
              "      width: 32px;\n",
              "    }\n",
              "\n",
              "    .colab-df-convert:hover {\n",
              "      background-color: #E2EBFA;\n",
              "      box-shadow: 0px 1px 2px rgba(60, 64, 67, 0.3), 0px 1px 3px 1px rgba(60, 64, 67, 0.15);\n",
              "      fill: #174EA6;\n",
              "    }\n",
              "\n",
              "    [theme=dark] .colab-df-convert {\n",
              "      background-color: #3B4455;\n",
              "      fill: #D2E3FC;\n",
              "    }\n",
              "\n",
              "    [theme=dark] .colab-df-convert:hover {\n",
              "      background-color: #434B5C;\n",
              "      box-shadow: 0px 1px 3px 1px rgba(0, 0, 0, 0.15);\n",
              "      filter: drop-shadow(0px 1px 2px rgba(0, 0, 0, 0.3));\n",
              "      fill: #FFFFFF;\n",
              "    }\n",
              "  </style>\n",
              "\n",
              "      <script>\n",
              "        const buttonEl =\n",
              "          document.querySelector('#df-21ae669f-cd21-4fb0-a54e-1f2ef3452322 button.colab-df-convert');\n",
              "        buttonEl.style.display =\n",
              "          google.colab.kernel.accessAllowed ? 'block' : 'none';\n",
              "\n",
              "        async function convertToInteractive(key) {\n",
              "          const element = document.querySelector('#df-21ae669f-cd21-4fb0-a54e-1f2ef3452322');\n",
              "          const dataTable =\n",
              "            await google.colab.kernel.invokeFunction('convertToInteractive',\n",
              "                                                     [key], {});\n",
              "          if (!dataTable) return;\n",
              "\n",
              "          const docLinkHtml = 'Like what you see? Visit the ' +\n",
              "            '<a target=\"_blank\" href=https://colab.research.google.com/notebooks/data_table.ipynb>data table notebook</a>'\n",
              "            + ' to learn more about interactive tables.';\n",
              "          element.innerHTML = '';\n",
              "          dataTable['output_type'] = 'display_data';\n",
              "          await google.colab.output.renderOutput(dataTable, element);\n",
              "          const docLink = document.createElement('div');\n",
              "          docLink.innerHTML = docLinkHtml;\n",
              "          element.appendChild(docLink);\n",
              "        }\n",
              "      </script>\n",
              "    </div>\n",
              "  </div>\n",
              "  "
            ]
          },
          "metadata": {},
          "execution_count": 15
        }
      ],
      "source": [
        "# 7 dernières lignes de prices_pd\n",
        "prices_pd.tail(7)\n"
      ]
    },
    {
      "cell_type": "markdown",
      "metadata": {
        "id": "RxrM2YDaq_KA"
      },
      "source": [
        "<font color=\"RED\" size=\"+1\">**[Q]**</font> **Sélection de lignes et colonnes..**\n",
        "\n",
        "En utilisant les mécanismes de sélection qu'offrent les dataframes (slicing,...), donner les commandes permettant d'obtenir:\n",
        "1) seulement les lignes qui concernent l'état \"Hawaii\".\n",
        "\n",
        "2) seulement les valeurs des colonnes \"date\", \"HighQ\", et \"MedQ\", dans cet ordre, qui concernent les lignes de l'état \"Hawaii\".\n"
      ]
    },
    {
      "cell_type": "code",
      "execution_count": 16,
      "metadata": {
        "id": "PvYfovuFq_KB",
        "outputId": "f560730c-7fee-4192-a9f4-adbf4b8fb8e5",
        "colab": {
          "base_uri": "https://localhost:8080/",
          "height": 424
        }
      },
      "outputs": [
        {
          "output_type": "execute_result",
          "data": {
            "text/plain": [
              "        State   HighQ  HighQN    MedQ  MedQN    LowQ  LowQN       date\n",
              "11     Hawaii  310.96     328  270.38    350  160.46     25 2014-01-01\n",
              "62     Hawaii  307.64     452  263.45    522     NaN     30 2015-01-01\n",
              "113    Hawaii  307.76     338  272.99    370  162.11     26 2014-02-01\n",
              "164    Hawaii  306.34     464  261.94    542     NaN     30 2015-02-01\n",
              "215    Hawaii  307.96     353  274.35    382  167.62     27 2014-03-01\n",
              "...       ...     ...     ...     ...    ...     ...    ...        ...\n",
              "22655  Hawaii  309.64     408  265.58    455  174.23     29 2014-07-31\n",
              "22706  Hawaii  310.00     417  267.17    467     NaN     29 2014-08-31\n",
              "22757  Hawaii  310.97     426  267.10    482     NaN     29 2014-10-31\n",
              "22808  Hawaii  310.96     328  270.38    350  160.46     25 2013-12-31\n",
              "22859  Hawaii  307.64     452  263.45    522     NaN     30 2014-12-31\n",
              "\n",
              "[449 rows x 8 columns]"
            ],
            "text/html": [
              "\n",
              "  <div id=\"df-2c91beec-d1f3-4b14-95d8-47e620db6ac6\">\n",
              "    <div class=\"colab-df-container\">\n",
              "      <div>\n",
              "<style scoped>\n",
              "    .dataframe tbody tr th:only-of-type {\n",
              "        vertical-align: middle;\n",
              "    }\n",
              "\n",
              "    .dataframe tbody tr th {\n",
              "        vertical-align: top;\n",
              "    }\n",
              "\n",
              "    .dataframe thead th {\n",
              "        text-align: right;\n",
              "    }\n",
              "</style>\n",
              "<table border=\"1\" class=\"dataframe\">\n",
              "  <thead>\n",
              "    <tr style=\"text-align: right;\">\n",
              "      <th></th>\n",
              "      <th>State</th>\n",
              "      <th>HighQ</th>\n",
              "      <th>HighQN</th>\n",
              "      <th>MedQ</th>\n",
              "      <th>MedQN</th>\n",
              "      <th>LowQ</th>\n",
              "      <th>LowQN</th>\n",
              "      <th>date</th>\n",
              "    </tr>\n",
              "  </thead>\n",
              "  <tbody>\n",
              "    <tr>\n",
              "      <th>11</th>\n",
              "      <td>Hawaii</td>\n",
              "      <td>310.96</td>\n",
              "      <td>328</td>\n",
              "      <td>270.38</td>\n",
              "      <td>350</td>\n",
              "      <td>160.46</td>\n",
              "      <td>25</td>\n",
              "      <td>2014-01-01</td>\n",
              "    </tr>\n",
              "    <tr>\n",
              "      <th>62</th>\n",
              "      <td>Hawaii</td>\n",
              "      <td>307.64</td>\n",
              "      <td>452</td>\n",
              "      <td>263.45</td>\n",
              "      <td>522</td>\n",
              "      <td>NaN</td>\n",
              "      <td>30</td>\n",
              "      <td>2015-01-01</td>\n",
              "    </tr>\n",
              "    <tr>\n",
              "      <th>113</th>\n",
              "      <td>Hawaii</td>\n",
              "      <td>307.76</td>\n",
              "      <td>338</td>\n",
              "      <td>272.99</td>\n",
              "      <td>370</td>\n",
              "      <td>162.11</td>\n",
              "      <td>26</td>\n",
              "      <td>2014-02-01</td>\n",
              "    </tr>\n",
              "    <tr>\n",
              "      <th>164</th>\n",
              "      <td>Hawaii</td>\n",
              "      <td>306.34</td>\n",
              "      <td>464</td>\n",
              "      <td>261.94</td>\n",
              "      <td>542</td>\n",
              "      <td>NaN</td>\n",
              "      <td>30</td>\n",
              "      <td>2015-02-01</td>\n",
              "    </tr>\n",
              "    <tr>\n",
              "      <th>215</th>\n",
              "      <td>Hawaii</td>\n",
              "      <td>307.96</td>\n",
              "      <td>353</td>\n",
              "      <td>274.35</td>\n",
              "      <td>382</td>\n",
              "      <td>167.62</td>\n",
              "      <td>27</td>\n",
              "      <td>2014-03-01</td>\n",
              "    </tr>\n",
              "    <tr>\n",
              "      <th>...</th>\n",
              "      <td>...</td>\n",
              "      <td>...</td>\n",
              "      <td>...</td>\n",
              "      <td>...</td>\n",
              "      <td>...</td>\n",
              "      <td>...</td>\n",
              "      <td>...</td>\n",
              "      <td>...</td>\n",
              "    </tr>\n",
              "    <tr>\n",
              "      <th>22655</th>\n",
              "      <td>Hawaii</td>\n",
              "      <td>309.64</td>\n",
              "      <td>408</td>\n",
              "      <td>265.58</td>\n",
              "      <td>455</td>\n",
              "      <td>174.23</td>\n",
              "      <td>29</td>\n",
              "      <td>2014-07-31</td>\n",
              "    </tr>\n",
              "    <tr>\n",
              "      <th>22706</th>\n",
              "      <td>Hawaii</td>\n",
              "      <td>310.00</td>\n",
              "      <td>417</td>\n",
              "      <td>267.17</td>\n",
              "      <td>467</td>\n",
              "      <td>NaN</td>\n",
              "      <td>29</td>\n",
              "      <td>2014-08-31</td>\n",
              "    </tr>\n",
              "    <tr>\n",
              "      <th>22757</th>\n",
              "      <td>Hawaii</td>\n",
              "      <td>310.97</td>\n",
              "      <td>426</td>\n",
              "      <td>267.10</td>\n",
              "      <td>482</td>\n",
              "      <td>NaN</td>\n",
              "      <td>29</td>\n",
              "      <td>2014-10-31</td>\n",
              "    </tr>\n",
              "    <tr>\n",
              "      <th>22808</th>\n",
              "      <td>Hawaii</td>\n",
              "      <td>310.96</td>\n",
              "      <td>328</td>\n",
              "      <td>270.38</td>\n",
              "      <td>350</td>\n",
              "      <td>160.46</td>\n",
              "      <td>25</td>\n",
              "      <td>2013-12-31</td>\n",
              "    </tr>\n",
              "    <tr>\n",
              "      <th>22859</th>\n",
              "      <td>Hawaii</td>\n",
              "      <td>307.64</td>\n",
              "      <td>452</td>\n",
              "      <td>263.45</td>\n",
              "      <td>522</td>\n",
              "      <td>NaN</td>\n",
              "      <td>30</td>\n",
              "      <td>2014-12-31</td>\n",
              "    </tr>\n",
              "  </tbody>\n",
              "</table>\n",
              "<p>449 rows × 8 columns</p>\n",
              "</div>\n",
              "      <button class=\"colab-df-convert\" onclick=\"convertToInteractive('df-2c91beec-d1f3-4b14-95d8-47e620db6ac6')\"\n",
              "              title=\"Convert this dataframe to an interactive table.\"\n",
              "              style=\"display:none;\">\n",
              "        \n",
              "  <svg xmlns=\"http://www.w3.org/2000/svg\" height=\"24px\"viewBox=\"0 0 24 24\"\n",
              "       width=\"24px\">\n",
              "    <path d=\"M0 0h24v24H0V0z\" fill=\"none\"/>\n",
              "    <path d=\"M18.56 5.44l.94 2.06.94-2.06 2.06-.94-2.06-.94-.94-2.06-.94 2.06-2.06.94zm-11 1L8.5 8.5l.94-2.06 2.06-.94-2.06-.94L8.5 2.5l-.94 2.06-2.06.94zm10 10l.94 2.06.94-2.06 2.06-.94-2.06-.94-.94-2.06-.94 2.06-2.06.94z\"/><path d=\"M17.41 7.96l-1.37-1.37c-.4-.4-.92-.59-1.43-.59-.52 0-1.04.2-1.43.59L10.3 9.45l-7.72 7.72c-.78.78-.78 2.05 0 2.83L4 21.41c.39.39.9.59 1.41.59.51 0 1.02-.2 1.41-.59l7.78-7.78 2.81-2.81c.8-.78.8-2.07 0-2.86zM5.41 20L4 18.59l7.72-7.72 1.47 1.35L5.41 20z\"/>\n",
              "  </svg>\n",
              "      </button>\n",
              "      \n",
              "  <style>\n",
              "    .colab-df-container {\n",
              "      display:flex;\n",
              "      flex-wrap:wrap;\n",
              "      gap: 12px;\n",
              "    }\n",
              "\n",
              "    .colab-df-convert {\n",
              "      background-color: #E8F0FE;\n",
              "      border: none;\n",
              "      border-radius: 50%;\n",
              "      cursor: pointer;\n",
              "      display: none;\n",
              "      fill: #1967D2;\n",
              "      height: 32px;\n",
              "      padding: 0 0 0 0;\n",
              "      width: 32px;\n",
              "    }\n",
              "\n",
              "    .colab-df-convert:hover {\n",
              "      background-color: #E2EBFA;\n",
              "      box-shadow: 0px 1px 2px rgba(60, 64, 67, 0.3), 0px 1px 3px 1px rgba(60, 64, 67, 0.15);\n",
              "      fill: #174EA6;\n",
              "    }\n",
              "\n",
              "    [theme=dark] .colab-df-convert {\n",
              "      background-color: #3B4455;\n",
              "      fill: #D2E3FC;\n",
              "    }\n",
              "\n",
              "    [theme=dark] .colab-df-convert:hover {\n",
              "      background-color: #434B5C;\n",
              "      box-shadow: 0px 1px 3px 1px rgba(0, 0, 0, 0.15);\n",
              "      filter: drop-shadow(0px 1px 2px rgba(0, 0, 0, 0.3));\n",
              "      fill: #FFFFFF;\n",
              "    }\n",
              "  </style>\n",
              "\n",
              "      <script>\n",
              "        const buttonEl =\n",
              "          document.querySelector('#df-2c91beec-d1f3-4b14-95d8-47e620db6ac6 button.colab-df-convert');\n",
              "        buttonEl.style.display =\n",
              "          google.colab.kernel.accessAllowed ? 'block' : 'none';\n",
              "\n",
              "        async function convertToInteractive(key) {\n",
              "          const element = document.querySelector('#df-2c91beec-d1f3-4b14-95d8-47e620db6ac6');\n",
              "          const dataTable =\n",
              "            await google.colab.kernel.invokeFunction('convertToInteractive',\n",
              "                                                     [key], {});\n",
              "          if (!dataTable) return;\n",
              "\n",
              "          const docLinkHtml = 'Like what you see? Visit the ' +\n",
              "            '<a target=\"_blank\" href=https://colab.research.google.com/notebooks/data_table.ipynb>data table notebook</a>'\n",
              "            + ' to learn more about interactive tables.';\n",
              "          element.innerHTML = '';\n",
              "          dataTable['output_type'] = 'display_data';\n",
              "          await google.colab.output.renderOutput(dataTable, element);\n",
              "          const docLink = document.createElement('div');\n",
              "          docLink.innerHTML = docLinkHtml;\n",
              "          element.appendChild(docLink);\n",
              "        }\n",
              "      </script>\n",
              "    </div>\n",
              "  </div>\n",
              "  "
            ]
          },
          "metadata": {},
          "execution_count": 16
        }
      ],
      "source": [
        "# Les lignes concernant l'état \"Hawaii\"\n",
        "prices_pd.loc[prices_pd['State'] == 'Hawaii']\n"
      ]
    },
    {
      "cell_type": "code",
      "execution_count": 17,
      "metadata": {
        "id": "SzmxpKrQq_KB",
        "outputId": "a1855914-c04b-4c66-a36d-db98ab1350b5",
        "colab": {
          "base_uri": "https://localhost:8080/",
          "height": 424
        }
      },
      "outputs": [
        {
          "output_type": "execute_result",
          "data": {
            "text/plain": [
              "            date   HighQ    MedQ\n",
              "11    2014-01-01  310.96  270.38\n",
              "62    2015-01-01  307.64  263.45\n",
              "113   2014-02-01  307.76  272.99\n",
              "164   2015-02-01  306.34  261.94\n",
              "215   2014-03-01  307.96  274.35\n",
              "...          ...     ...     ...\n",
              "22655 2014-07-31  309.64  265.58\n",
              "22706 2014-08-31  310.00  267.17\n",
              "22757 2014-10-31  310.97  267.10\n",
              "22808 2013-12-31  310.96  270.38\n",
              "22859 2014-12-31  307.64  263.45\n",
              "\n",
              "[449 rows x 3 columns]"
            ],
            "text/html": [
              "\n",
              "  <div id=\"df-626de614-2519-4db6-993f-59de689f13a6\">\n",
              "    <div class=\"colab-df-container\">\n",
              "      <div>\n",
              "<style scoped>\n",
              "    .dataframe tbody tr th:only-of-type {\n",
              "        vertical-align: middle;\n",
              "    }\n",
              "\n",
              "    .dataframe tbody tr th {\n",
              "        vertical-align: top;\n",
              "    }\n",
              "\n",
              "    .dataframe thead th {\n",
              "        text-align: right;\n",
              "    }\n",
              "</style>\n",
              "<table border=\"1\" class=\"dataframe\">\n",
              "  <thead>\n",
              "    <tr style=\"text-align: right;\">\n",
              "      <th></th>\n",
              "      <th>date</th>\n",
              "      <th>HighQ</th>\n",
              "      <th>MedQ</th>\n",
              "    </tr>\n",
              "  </thead>\n",
              "  <tbody>\n",
              "    <tr>\n",
              "      <th>11</th>\n",
              "      <td>2014-01-01</td>\n",
              "      <td>310.96</td>\n",
              "      <td>270.38</td>\n",
              "    </tr>\n",
              "    <tr>\n",
              "      <th>62</th>\n",
              "      <td>2015-01-01</td>\n",
              "      <td>307.64</td>\n",
              "      <td>263.45</td>\n",
              "    </tr>\n",
              "    <tr>\n",
              "      <th>113</th>\n",
              "      <td>2014-02-01</td>\n",
              "      <td>307.76</td>\n",
              "      <td>272.99</td>\n",
              "    </tr>\n",
              "    <tr>\n",
              "      <th>164</th>\n",
              "      <td>2015-02-01</td>\n",
              "      <td>306.34</td>\n",
              "      <td>261.94</td>\n",
              "    </tr>\n",
              "    <tr>\n",
              "      <th>215</th>\n",
              "      <td>2014-03-01</td>\n",
              "      <td>307.96</td>\n",
              "      <td>274.35</td>\n",
              "    </tr>\n",
              "    <tr>\n",
              "      <th>...</th>\n",
              "      <td>...</td>\n",
              "      <td>...</td>\n",
              "      <td>...</td>\n",
              "    </tr>\n",
              "    <tr>\n",
              "      <th>22655</th>\n",
              "      <td>2014-07-31</td>\n",
              "      <td>309.64</td>\n",
              "      <td>265.58</td>\n",
              "    </tr>\n",
              "    <tr>\n",
              "      <th>22706</th>\n",
              "      <td>2014-08-31</td>\n",
              "      <td>310.00</td>\n",
              "      <td>267.17</td>\n",
              "    </tr>\n",
              "    <tr>\n",
              "      <th>22757</th>\n",
              "      <td>2014-10-31</td>\n",
              "      <td>310.97</td>\n",
              "      <td>267.10</td>\n",
              "    </tr>\n",
              "    <tr>\n",
              "      <th>22808</th>\n",
              "      <td>2013-12-31</td>\n",
              "      <td>310.96</td>\n",
              "      <td>270.38</td>\n",
              "    </tr>\n",
              "    <tr>\n",
              "      <th>22859</th>\n",
              "      <td>2014-12-31</td>\n",
              "      <td>307.64</td>\n",
              "      <td>263.45</td>\n",
              "    </tr>\n",
              "  </tbody>\n",
              "</table>\n",
              "<p>449 rows × 3 columns</p>\n",
              "</div>\n",
              "      <button class=\"colab-df-convert\" onclick=\"convertToInteractive('df-626de614-2519-4db6-993f-59de689f13a6')\"\n",
              "              title=\"Convert this dataframe to an interactive table.\"\n",
              "              style=\"display:none;\">\n",
              "        \n",
              "  <svg xmlns=\"http://www.w3.org/2000/svg\" height=\"24px\"viewBox=\"0 0 24 24\"\n",
              "       width=\"24px\">\n",
              "    <path d=\"M0 0h24v24H0V0z\" fill=\"none\"/>\n",
              "    <path d=\"M18.56 5.44l.94 2.06.94-2.06 2.06-.94-2.06-.94-.94-2.06-.94 2.06-2.06.94zm-11 1L8.5 8.5l.94-2.06 2.06-.94-2.06-.94L8.5 2.5l-.94 2.06-2.06.94zm10 10l.94 2.06.94-2.06 2.06-.94-2.06-.94-.94-2.06-.94 2.06-2.06.94z\"/><path d=\"M17.41 7.96l-1.37-1.37c-.4-.4-.92-.59-1.43-.59-.52 0-1.04.2-1.43.59L10.3 9.45l-7.72 7.72c-.78.78-.78 2.05 0 2.83L4 21.41c.39.39.9.59 1.41.59.51 0 1.02-.2 1.41-.59l7.78-7.78 2.81-2.81c.8-.78.8-2.07 0-2.86zM5.41 20L4 18.59l7.72-7.72 1.47 1.35L5.41 20z\"/>\n",
              "  </svg>\n",
              "      </button>\n",
              "      \n",
              "  <style>\n",
              "    .colab-df-container {\n",
              "      display:flex;\n",
              "      flex-wrap:wrap;\n",
              "      gap: 12px;\n",
              "    }\n",
              "\n",
              "    .colab-df-convert {\n",
              "      background-color: #E8F0FE;\n",
              "      border: none;\n",
              "      border-radius: 50%;\n",
              "      cursor: pointer;\n",
              "      display: none;\n",
              "      fill: #1967D2;\n",
              "      height: 32px;\n",
              "      padding: 0 0 0 0;\n",
              "      width: 32px;\n",
              "    }\n",
              "\n",
              "    .colab-df-convert:hover {\n",
              "      background-color: #E2EBFA;\n",
              "      box-shadow: 0px 1px 2px rgba(60, 64, 67, 0.3), 0px 1px 3px 1px rgba(60, 64, 67, 0.15);\n",
              "      fill: #174EA6;\n",
              "    }\n",
              "\n",
              "    [theme=dark] .colab-df-convert {\n",
              "      background-color: #3B4455;\n",
              "      fill: #D2E3FC;\n",
              "    }\n",
              "\n",
              "    [theme=dark] .colab-df-convert:hover {\n",
              "      background-color: #434B5C;\n",
              "      box-shadow: 0px 1px 3px 1px rgba(0, 0, 0, 0.15);\n",
              "      filter: drop-shadow(0px 1px 2px rgba(0, 0, 0, 0.3));\n",
              "      fill: #FFFFFF;\n",
              "    }\n",
              "  </style>\n",
              "\n",
              "      <script>\n",
              "        const buttonEl =\n",
              "          document.querySelector('#df-626de614-2519-4db6-993f-59de689f13a6 button.colab-df-convert');\n",
              "        buttonEl.style.display =\n",
              "          google.colab.kernel.accessAllowed ? 'block' : 'none';\n",
              "\n",
              "        async function convertToInteractive(key) {\n",
              "          const element = document.querySelector('#df-626de614-2519-4db6-993f-59de689f13a6');\n",
              "          const dataTable =\n",
              "            await google.colab.kernel.invokeFunction('convertToInteractive',\n",
              "                                                     [key], {});\n",
              "          if (!dataTable) return;\n",
              "\n",
              "          const docLinkHtml = 'Like what you see? Visit the ' +\n",
              "            '<a target=\"_blank\" href=https://colab.research.google.com/notebooks/data_table.ipynb>data table notebook</a>'\n",
              "            + ' to learn more about interactive tables.';\n",
              "          element.innerHTML = '';\n",
              "          dataTable['output_type'] = 'display_data';\n",
              "          await google.colab.output.renderOutput(dataTable, element);\n",
              "          const docLink = document.createElement('div');\n",
              "          docLink.innerHTML = docLinkHtml;\n",
              "          element.appendChild(docLink);\n",
              "        }\n",
              "      </script>\n",
              "    </div>\n",
              "  </div>\n",
              "  "
            ]
          },
          "metadata": {},
          "execution_count": 17
        }
      ],
      "source": [
        "# Les valeurs des colonnes \"date\", \"HighQ\", et \"MedQ\" ne concernant que les lignes de l'état \"Hawaii\" \n",
        "prices_pd[[\"date\", \"HighQ\", \"MedQ\"]].loc[prices_pd['State'] == 'Hawaii']\n"
      ]
    },
    {
      "cell_type": "markdown",
      "metadata": {
        "id": "EJki51tXq_KB"
      },
      "source": [
        "Les types des données peuvent être récupérés à travers la méthode <tt>dtypes</tt>:"
      ]
    },
    {
      "cell_type": "code",
      "execution_count": 18,
      "metadata": {
        "id": "pyto57fEq_KC",
        "outputId": "9e5c6256-5b80-462e-9631-c5c577010b0d",
        "colab": {
          "base_uri": "https://localhost:8080/"
        }
      },
      "outputs": [
        {
          "output_type": "execute_result",
          "data": {
            "text/plain": [
              "State             object\n",
              "HighQ            float64\n",
              "HighQN             int64\n",
              "MedQ             float64\n",
              "MedQN              int64\n",
              "LowQ             float64\n",
              "LowQN              int64\n",
              "date      datetime64[ns]\n",
              "dtype: object"
            ]
          },
          "metadata": {},
          "execution_count": 18
        }
      ],
      "source": [
        "prices_pd.dtypes"
      ]
    },
    {
      "cell_type": "markdown",
      "metadata": {
        "id": "ViIOpUBtq_KC"
      },
      "source": [
        "Il y a beaucoup de fonction s à découvrir pour obtenir des informations utiles sur les DataFrames. Par exemple, la liste des états peut être obtenue ainsi:\n"
      ]
    },
    {
      "cell_type": "code",
      "execution_count": 19,
      "metadata": {
        "id": "yb--Mb81q_KC"
      },
      "outputs": [],
      "source": [
        "les_etats = np.unique(prices_pd[\"State\"].values)"
      ]
    },
    {
      "cell_type": "code",
      "execution_count": 20,
      "metadata": {
        "id": "2B43nye_q_KC",
        "outputId": "6e64da5d-8af4-4f39-bcd2-d6db28c0ba55",
        "colab": {
          "base_uri": "https://localhost:8080/"
        }
      },
      "outputs": [
        {
          "output_type": "execute_result",
          "data": {
            "text/plain": [
              "array(['Alabama', 'Alaska', 'Arizona', 'Arkansas', 'California',\n",
              "       'Colorado', 'Connecticut', 'Delaware', 'District of Columbia',\n",
              "       'Florida', 'Georgia', 'Hawaii', 'Idaho', 'Illinois', 'Indiana',\n",
              "       'Iowa', 'Kansas', 'Kentucky', 'Louisiana', 'Maine', 'Maryland',\n",
              "       'Massachusetts', 'Michigan', 'Minnesota', 'Mississippi',\n",
              "       'Missouri', 'Montana', 'Nebraska', 'Nevada', 'New Hampshire',\n",
              "       'New Jersey', 'New Mexico', 'New York', 'North Carolina',\n",
              "       'North Dakota', 'Ohio', 'Oklahoma', 'Oregon', 'Pennsylvania',\n",
              "       'Rhode Island', 'South Carolina', 'South Dakota', 'Tennessee',\n",
              "       'Texas', 'Utah', 'Vermont', 'Virginia', 'Washington',\n",
              "       'West Virginia', 'Wisconsin', 'Wyoming'], dtype=object)"
            ]
          },
          "metadata": {},
          "execution_count": 20
        }
      ],
      "source": [
        "# Afficher la liste des états :\n",
        "les_etats\n"
      ]
    },
    {
      "cell_type": "markdown",
      "metadata": {
        "id": "Unv_BQyzq_KD"
      },
      "source": [
        "Comparer le nombre de valeurs de :\n",
        "\n",
        "        prices_pd[\"MedQ\"].values\n",
        "\n",
        "et de \n",
        "\n",
        "        np.unique(prices_pd[\"MedQ\"].values\n",
        "\n",
        "Expliquer ce qui se passe.        "
      ]
    },
    {
      "cell_type": "code",
      "execution_count": 21,
      "metadata": {
        "id": "62ifaos4q_KD",
        "outputId": "850db402-7e18-4cb2-f0f9-42b3f772dd9a",
        "colab": {
          "base_uri": "https://localhost:8080/"
        }
      },
      "outputs": [
        {
          "output_type": "stream",
          "name": "stdout",
          "text": [
            "(22899,)\n",
            "(7776,)\n"
          ]
        },
        {
          "output_type": "execute_result",
          "data": {
            "text/plain": [
              "False"
            ]
          },
          "metadata": {},
          "execution_count": 21
        }
      ],
      "source": [
        "# Tester l'égalité :\n",
        "print(prices_pd[\"MedQ\"].values.shape)\n",
        "print(np.unique(prices_pd[\"MedQ\"].values).shape)\n",
        "prices_pd[\"MedQ\"].values.shape == np.unique(prices_pd[\"MedQ\"].values).shape"
      ]
    },
    {
      "cell_type": "markdown",
      "metadata": {
        "id": "dOOped20q_KD"
      },
      "source": [
        "La fonction : **np.unique** : retourne les elements unique dans un vecteur, or la fonction **values** toute seule elle ne filtre rien. \n",
        "\n",
        "Remarque : vu que 'MedQ' n'est pas une clé, donc, elle ne contient pas des valeurs uniques."
      ]
    },
    {
      "cell_type": "markdown",
      "metadata": {
        "id": "TtVTkg25q_KD"
      },
      "source": [
        "## Implémentation de mesures classiques ##\n"
      ]
    },
    {
      "cell_type": "markdown",
      "metadata": {
        "id": "gj_hFqCUq_KD"
      },
      "source": [
        "Nous allons maintenant écrire les fonctions permettant de calculer des mesures ''basiques'' sur des données unidimensionnelles. Pour cela, nous allons travailler avec la structure <tt>array</tt> de numpy. Pour convertir une colonne de DataFrame en '<tt>array</tt>, voici commment faire:"
      ]
    },
    {
      "cell_type": "markdown",
      "metadata": {
        "id": "b72OQpjpq_KD"
      },
      "source": [
        "### Moyenne"
      ]
    },
    {
      "cell_type": "markdown",
      "metadata": {
        "id": "fayenfDiq_KE"
      },
      "source": [
        "<font color=\"RED\" size=\"+1\">**[Q]**</font> **La moyenne**\n",
        "\n",
        "\n",
        "Ecrire la fonction moyenne(valeurs) qui calcule la moyenne des éléments d'un tableau (en utilisant la boucle ''for'', sans utiliser les fonctions déjà implémentées dans numpy)"
      ]
    },
    {
      "cell_type": "code",
      "execution_count": 22,
      "metadata": {
        "id": "xEIDZWM5q_KE"
      },
      "outputs": [],
      "source": [
        "def moyenne(valeur):\n",
        "    m = 0\n",
        "    for i in valeur: \n",
        "        m+= i\n",
        "    return m/len(valeur)"
      ]
    },
    {
      "cell_type": "code",
      "execution_count": 23,
      "metadata": {
        "id": "P8i73bszq_KE",
        "outputId": "90d8eb2f-104e-4a31-9296-f0e43ba43f26",
        "colab": {
          "base_uri": "https://localhost:8080/"
        }
      },
      "outputs": [
        {
          "output_type": "execute_result",
          "data": {
            "text/plain": [
              "0        198.64\n",
              "1        260.60\n",
              "2        209.35\n",
              "3        185.62\n",
              "4        193.56\n",
              "          ...  \n",
              "22894    293.12\n",
              "22895    189.92\n",
              "22896    224.03\n",
              "22897    272.71\n",
              "22898    351.86\n",
              "Name: MedQ, Length: 22899, dtype: float64"
            ]
          },
          "metadata": {},
          "execution_count": 23
        }
      ],
      "source": [
        "prices_pd[\"MedQ\"]"
      ]
    },
    {
      "cell_type": "markdown",
      "metadata": {
        "id": "XHbAmW9Dq_KE"
      },
      "source": [
        "Tester la fonction moyenne et comparer vos résultats avec l'implémentation de base de python donnée ci-dessous:"
      ]
    },
    {
      "cell_type": "code",
      "execution_count": 24,
      "metadata": {
        "id": "L79a_g6yq_KE",
        "outputId": "07d2900d-810b-4169-ea0a-d286cb1cd5b3",
        "colab": {
          "base_uri": "https://localhost:8080/"
        }
      },
      "outputs": [
        {
          "output_type": "stream",
          "name": "stdout",
          "text": [
            "La moyenne (MedQ) est avec ma fonction : 247.618306 dollars\n",
            "La moyenne (MedQ) est avec mean        : 247.618306 dollars\n"
          ]
        }
      ],
      "source": [
        "print(\"La moyenne (MedQ) est avec ma fonction : %f dollars\" % moyenne(prices_pd[\"MedQ\"]))\n",
        "print(\"La moyenne (MedQ) est avec mean        : %f dollars\" % prices_pd[\"MedQ\"].mean())"
      ]
    },
    {
      "cell_type": "markdown",
      "metadata": {
        "id": "jQ7ngZQAq_KF"
      },
      "source": [
        "<font color=\"RED\" size=\"+1\">**[Q]**</font> **Moyennes sur les qualités**\n",
        "\n",
        "Calculer:\n",
        "* La moyenne des prix pour les qualités medium et high\n",
        "* La moyenne des prix pour les qualités medium et high dans l'état de ''New York''\n",
        "\n",
        "Les calculs seront fait d'une part à l'aide de votre fonction, et d'autre part à l'aide des fonctions de python. "
      ]
    },
    {
      "cell_type": "code",
      "execution_count": 25,
      "metadata": {
        "id": "oD3Eebxsq_KF",
        "outputId": "a399767a-9877-4a99-8fc0-f44ab884e17b",
        "colab": {
          "base_uri": "https://localhost:8080/"
        }
      },
      "outputs": [
        {
          "output_type": "stream",
          "name": "stdout",
          "text": [
            "La moyenne (MedQ) avec ma fonction : 247.618306 dollars\n",
            "La moyenne (MedQ) avec mean : 247.618306 dollars\n",
            "\n",
            "La moyenne (HighQ) est avec ma fonction : 329.759854 dollars\n",
            "La moyenne (HighQ) est avec mean : 329.759854 dollars\n",
            "\n",
            "La moyenne (MedQ à NY) est avec ma fonction : 265.376949 dollars\n",
            "La moyenne (MedQ à NY) est avec mean : 265.376949 dollars\n",
            "\n",
            "La moyenne (HighQ à NY) est avec ma fonction : 346.912762 dollars\n",
            "La moyenne (HighQ à NY) est avec mean : 346.912762 dollars\n"
          ]
        }
      ],
      "source": [
        "print(\"La moyenne (MedQ) avec ma fonction : %f dollars\" % moyenne(prices_pd[\"MedQ\"]))\n",
        "print(\"La moyenne (MedQ) avec mean : %f dollars\" % prices_pd[\"MedQ\"].mean())\n",
        "print()\n",
        "print(\"La moyenne (HighQ) est avec ma fonction : %f dollars\" % moyenne(prices_pd[\"HighQ\"]))\n",
        "print(\"La moyenne (HighQ) est avec mean : %f dollars\" % prices_pd[\"HighQ\"].mean())\n",
        "print()\n",
        "print(\"La moyenne (MedQ à NY) est avec ma fonction : %f dollars\" % moyenne(prices_pd[\"MedQ\"].loc[prices_pd['State'] == 'New York']))\n",
        "print(\"La moyenne (MedQ à NY) est avec mean : %f dollars\" % prices_pd[\"MedQ\"].loc[prices_pd['State'] == 'New York'].mean())\n",
        "print()\n",
        "print(\"La moyenne (HighQ à NY) est avec ma fonction : %f dollars\" % moyenne(prices_pd[\"HighQ\"].loc[prices_pd['State'] == 'New York']))\n",
        "print(\"La moyenne (HighQ à NY) est avec mean : %f dollars\" % prices_pd[\"HighQ\"].loc[prices_pd['State'] == 'New York'].mean())"
      ]
    },
    {
      "cell_type": "markdown",
      "metadata": {
        "id": "rCvKN3Iaq_KF"
      },
      "source": [
        "<font color=\"RED\" size=\"+1\">**[Q]**</font> **Moyenne sur les états**\n",
        "\n",
        "Calculez la moyenne des prix qualités medium et high dans tous les états -- la liste des états est obtenues ainsi states=np.unique(prices_pd[\"State\"].values)\n",
        "\n",
        "Pour cela, vous pouvez (devez) le faire de deux manières:\n",
        "* Faire une boucle sur chacun des états\n",
        "* Utiliser la fonction groupby comme expliqué ici : http://pandas.pydata.org/pandas-docs/stable/groupby.html\n",
        " et ici : https://www.kaggle.com/crawford/python-groupby-tutorial\n"
      ]
    },
    {
      "cell_type": "code",
      "execution_count": 26,
      "metadata": {
        "id": "dTwTkEYzq_KF"
      },
      "outputs": [],
      "source": [
        "def fonction_avec_boucle_for(val):\n",
        "    states=np.unique(prices_pd[\"State\"].values)\n",
        "    m = 0\n",
        "    for s in states: \n",
        "        m = val.loc[prices_pd['State'] == s].mean()\n",
        "        print(f\"\\t {s} : %f\" % m)"
      ]
    },
    {
      "cell_type": "code",
      "execution_count": 27,
      "metadata": {
        "id": "2eekWwOVq_KG",
        "outputId": "a1972039-f73a-4f73-a227-4878a2315dac",
        "colab": {
          "base_uri": "https://localhost:8080/"
        }
      },
      "outputs": [
        {
          "output_type": "stream",
          "name": "stdout",
          "text": [
            "Prix moyen par état pour la qualité Medium (avec ma fonction)\n",
            "\n",
            "\t Alabama : 204.606169\n",
            "\t Alaska : 262.046392\n",
            "\t Arizona : 209.365345\n",
            "\t Arkansas : 190.414655\n",
            "\t California : 191.268909\n",
            "\t Colorado : 196.532517\n",
            "\t Connecticut : 271.323898\n",
            "\t Delaware : 231.230312\n",
            "\t District of Columbia : 288.251314\n",
            "\t Florida : 217.882561\n",
            "\t Georgia : 215.943630\n",
            "\t Hawaii : 268.738151\n",
            "\t Idaho : 249.822428\n",
            "\t Illinois : 284.180089\n",
            "\t Indiana : 211.989510\n",
            "\t Iowa : 289.945523\n",
            "\t Kansas : 261.243073\n",
            "\t Kentucky : 179.933764\n",
            "\t Louisiana : 243.117884\n",
            "\t Maine : 248.438174\n",
            "\t Maryland : 254.140445\n",
            "\t Massachusetts : 290.197884\n",
            "\t Michigan : 273.352339\n",
            "\t Minnesota : 275.850067\n",
            "\t Mississippi : 148.231604\n",
            "\t Missouri : 244.812205\n",
            "\t Montana : 248.398552\n",
            "\t Nebraska : 248.160646\n",
            "\t Nevada : 226.217416\n",
            "\t New Hampshire : 290.107751\n",
            "\t New Jersey : 288.727016\n",
            "\t New Mexico : 209.242249\n",
            "\t New York : 265.376949\n",
            "\t North Carolina : 245.699220\n",
            "\t North Dakota : 349.066682\n",
            "\t Ohio : 216.953163\n",
            "\t Oklahoma : 233.822004\n",
            "\t Oregon : 183.889866\n",
            "\t Pennsylvania : 267.891336\n",
            "\t Rhode Island : 258.172294\n",
            "\t South Carolina : 203.339777\n",
            "\t South Dakota : 351.944811\n",
            "\t Tennessee : 225.808864\n",
            "\t Texas : 233.536837\n",
            "\t Utah : 237.371893\n",
            "\t Vermont : 315.547550\n",
            "\t Virginia : 290.408085\n",
            "\t Washington : 189.924989\n",
            "\t West Virginia : 215.883808\n",
            "\t Wisconsin : 271.648174\n",
            "\t Wyoming : 358.534833\n",
            "\n",
            "Prix moyen par état pour la qualité Medium (avec Groupby)\n"
          ]
        },
        {
          "output_type": "execute_result",
          "data": {
            "text/plain": [
              "State\n",
              "Alabama                 204.606169\n",
              "Alaska                  262.046392\n",
              "Arizona                 209.365345\n",
              "Arkansas                190.414655\n",
              "California              191.268909\n",
              "Colorado                196.532517\n",
              "Connecticut             271.323898\n",
              "Delaware                231.230312\n",
              "District of Columbia    288.251314\n",
              "Florida                 217.882561\n",
              "Georgia                 215.943630\n",
              "Hawaii                  268.738151\n",
              "Idaho                   249.822428\n",
              "Illinois                284.180089\n",
              "Indiana                 211.989510\n",
              "Iowa                    289.945523\n",
              "Kansas                  261.243073\n",
              "Kentucky                179.933764\n",
              "Louisiana               243.117884\n",
              "Maine                   248.438174\n",
              "Maryland                254.140445\n",
              "Massachusetts           290.197884\n",
              "Michigan                273.352339\n",
              "Minnesota               275.850067\n",
              "Mississippi             148.231604\n",
              "Missouri                244.812205\n",
              "Montana                 248.398552\n",
              "Nebraska                248.160646\n",
              "Nevada                  226.217416\n",
              "New Hampshire           290.107751\n",
              "New Jersey              288.727016\n",
              "New Mexico              209.242249\n",
              "New York                265.376949\n",
              "North Carolina          245.699220\n",
              "North Dakota            349.066682\n",
              "Ohio                    216.953163\n",
              "Oklahoma                233.822004\n",
              "Oregon                  183.889866\n",
              "Pennsylvania            267.891336\n",
              "Rhode Island            258.172294\n",
              "South Carolina          203.339777\n",
              "South Dakota            351.944811\n",
              "Tennessee               225.808864\n",
              "Texas                   233.536837\n",
              "Utah                    237.371893\n",
              "Vermont                 315.547550\n",
              "Virginia                290.408085\n",
              "Washington              189.924989\n",
              "West Virginia           215.883808\n",
              "Wisconsin               271.648174\n",
              "Wyoming                 358.534833\n",
              "Name: MedQ, dtype: float64"
            ]
          },
          "metadata": {},
          "execution_count": 27
        }
      ],
      "source": [
        "# Tester avec MedQ\n",
        "\n",
        "print(\"Prix moyen par état pour la qualité Medium (avec ma fonction)\\n\")\n",
        "fonction_avec_boucle_for(prices_pd[\"MedQ\"])\n",
        "\n",
        "print(\"\\nPrix moyen par état pour la qualité Medium (avec Groupby)\")\n",
        "prices_pd.groupby(\"State\")[\"MedQ\"].mean()"
      ]
    },
    {
      "cell_type": "code",
      "execution_count": 28,
      "metadata": {
        "id": "yUeyeKaXq_KG",
        "outputId": "10165a57-7102-4663-d1bc-1b85285271c3",
        "colab": {
          "base_uri": "https://localhost:8080/"
        }
      },
      "outputs": [
        {
          "output_type": "stream",
          "name": "stdout",
          "text": [
            "Prix moyen par état pour la qualité High (avec ma fonction)\n",
            "\n",
            "\t Alabama : 339.561849\n",
            "\t Alaska : 291.482004\n",
            "\t Arizona : 300.667483\n",
            "\t Arkansas : 348.056147\n",
            "\t California : 245.376125\n",
            "\t Colorado : 238.918708\n",
            "\t Connecticut : 341.694076\n",
            "\t Delaware : 366.781849\n",
            "\t District of Columbia : 348.177416\n",
            "\t Florida : 302.570312\n",
            "\t Georgia : 326.659644\n",
            "\t Hawaii : 309.918931\n",
            "\t Idaho : 275.639376\n",
            "\t Illinois : 355.463341\n",
            "\t Indiana : 333.191114\n",
            "\t Iowa : 367.095791\n",
            "\t Kansas : 350.819198\n",
            "\t Kentucky : 338.855167\n",
            "\t Louisiana : 366.832539\n",
            "\t Maine : 315.390089\n",
            "\t Maryland : 370.985167\n",
            "\t Massachusetts : 349.011648\n",
            "\t Michigan : 292.090512\n",
            "\t Minnesota : 358.243274\n",
            "\t Mississippi : 337.559287\n",
            "\t Missouri : 359.276637\n",
            "\t Montana : 267.831737\n",
            "\t Nebraska : 341.559354\n",
            "\t Nevada : 267.820111\n",
            "\t New Hampshire : 359.476036\n",
            "\t New Jersey : 349.321693\n",
            "\t New Mexico : 289.562539\n",
            "\t New York : 346.912762\n",
            "\t North Carolina : 349.475033\n",
            "\t North Dakota : 398.668753\n",
            "\t Ohio : 334.554655\n",
            "\t Oklahoma : 361.573140\n",
            "\t Oregon : 208.496236\n",
            "\t Pennsylvania : 366.125679\n",
            "\t Rhode Island : 323.838352\n",
            "\t South Carolina : 341.692918\n",
            "\t South Dakota : 375.818486\n",
            "\t Tennessee : 352.753007\n",
            "\t Texas : 337.105212\n",
            "\t Utah : 289.596058\n",
            "\t Vermont : 374.250445\n",
            "\t Virginia : 368.146993\n",
            "\t Washington : 233.387817\n",
            "\t West Virginia : 357.394566\n",
            "\t Wisconsin : 353.052517\n",
            "\t Wyoming : 339.020780\n",
            "\n",
            "Prix moyen par état pour la qualité High (avec Groupby)\n"
          ]
        },
        {
          "output_type": "execute_result",
          "data": {
            "text/plain": [
              "State\n",
              "Alabama                 339.561849\n",
              "Alaska                  291.482004\n",
              "Arizona                 300.667483\n",
              "Arkansas                348.056147\n",
              "California              245.376125\n",
              "Colorado                238.918708\n",
              "Connecticut             341.694076\n",
              "Delaware                366.781849\n",
              "District of Columbia    348.177416\n",
              "Florida                 302.570312\n",
              "Georgia                 326.659644\n",
              "Hawaii                  309.918931\n",
              "Idaho                   275.639376\n",
              "Illinois                355.463341\n",
              "Indiana                 333.191114\n",
              "Iowa                    367.095791\n",
              "Kansas                  350.819198\n",
              "Kentucky                338.855167\n",
              "Louisiana               366.832539\n",
              "Maine                   315.390089\n",
              "Maryland                370.985167\n",
              "Massachusetts           349.011648\n",
              "Michigan                292.090512\n",
              "Minnesota               358.243274\n",
              "Mississippi             337.559287\n",
              "Missouri                359.276637\n",
              "Montana                 267.831737\n",
              "Nebraska                341.559354\n",
              "Nevada                  267.820111\n",
              "New Hampshire           359.476036\n",
              "New Jersey              349.321693\n",
              "New Mexico              289.562539\n",
              "New York                346.912762\n",
              "North Carolina          349.475033\n",
              "North Dakota            398.668753\n",
              "Ohio                    334.554655\n",
              "Oklahoma                361.573140\n",
              "Oregon                  208.496236\n",
              "Pennsylvania            366.125679\n",
              "Rhode Island            323.838352\n",
              "South Carolina          341.692918\n",
              "South Dakota            375.818486\n",
              "Tennessee               352.753007\n",
              "Texas                   337.105212\n",
              "Utah                    289.596058\n",
              "Vermont                 374.250445\n",
              "Virginia                368.146993\n",
              "Washington              233.387817\n",
              "West Virginia           357.394566\n",
              "Wisconsin               353.052517\n",
              "Wyoming                 339.020780\n",
              "Name: HighQ, dtype: float64"
            ]
          },
          "metadata": {},
          "execution_count": 28
        }
      ],
      "source": [
        "# Tester avec HighQ\n",
        "\n",
        "print(\"Prix moyen par état pour la qualité High (avec ma fonction)\\n\")\n",
        "fonction_avec_boucle_for(prices_pd[\"HighQ\"])\n",
        "\n",
        "print(\"\\nPrix moyen par état pour la qualité High (avec Groupby)\")\n",
        "prices_pd.groupby(\"State\")[\"HighQ\"].mean()"
      ]
    },
    {
      "cell_type": "markdown",
      "metadata": {
        "id": "eUWzXRqjq_KG"
      },
      "source": [
        "<font color=\"RED\" size=\"+1\">**[Q]**</font> **D'autres moyennes**\n",
        "\n",
        "Calculer la moyenne (avec les deux fonctions) sur le prix de la basse qualité. Que constatez vous ? Expliquez..."
      ]
    },
    {
      "cell_type": "code",
      "execution_count": 29,
      "metadata": {
        "id": "nGCcPwcDq_KG",
        "outputId": "c9185186-8fea-40ef-fefc-8c35e2b0ad56",
        "colab": {
          "base_uri": "https://localhost:8080/"
        }
      },
      "outputs": [
        {
          "output_type": "stream",
          "name": "stdout",
          "text": [
            "Prix moyen par état pour la basse qualité (avec ma fonction)\n",
            "\n",
            "\t Alabama : 146.832603\n",
            "\t Alaska : 387.232727\n",
            "\t Arizona : 190.826860\n",
            "\t Arkansas : 127.345455\n",
            "\t California : 190.795992\n",
            "\t Colorado : 226.790620\n",
            "\t Connecticut : 253.024876\n",
            "\t Delaware : 205.045992\n",
            "\t District of Columbia : 210.563554\n",
            "\t Florida : 153.205372\n",
            "\t Georgia : 150.264091\n",
            "\t Hawaii : 167.093843\n",
            "\t Idaho : 139.962851\n",
            "\t Illinois : 186.545165\n",
            "\t Indiana : 158.931653\n",
            "\t Iowa : 248.595537\n",
            "\t Kansas : 120.199256\n",
            "\t Kentucky : 124.156860\n",
            "\t Louisiana : 146.776983\n",
            "\t Maine : 244.951653\n",
            "\t Maryland : 190.185083\n",
            "\t Massachusetts : 220.070000\n",
            "\t Michigan : 252.644917\n",
            "\t Minnesota : 182.683306\n",
            "\t Mississippi : 142.751942\n",
            "\t Missouri : 147.508595\n",
            "\t Montana : 659.851074\n",
            "\t Nebraska : 137.895909\n",
            "\t Nevada : 241.792934\n",
            "\t New Hampshire : 639.807810\n",
            "\t New Jersey : 228.611777\n",
            "\t New Mexico : 80.890950\n",
            "\t New York : 201.340000\n",
            "\t North Carolina : 150.810620\n",
            "\t North Dakota : 333.968223\n",
            "\t Ohio : 165.169628\n",
            "\t Oklahoma : 119.893926\n",
            "\t Oregon : 170.173388\n",
            "\t Pennsylvania : 193.229752\n",
            "\t Rhode Island : 203.000661\n",
            "\t South Carolina : 184.467603\n",
            "\t South Dakota : 124.318017\n",
            "\t Tennessee : 190.121570\n",
            "\t Texas : 143.362893\n",
            "\t Utah : 193.844298\n",
            "\t Vermont : 189.600744\n",
            "\t Virginia : 224.239008\n",
            "\t Washington : 143.183388\n",
            "\t West Virginia : 155.715165\n",
            "\t Wisconsin : 239.565083\n",
            "\t Wyoming : 161.300000\n",
            "\n",
            "Prix moyen par état pour la basse qualité(avec Groupby)\n"
          ]
        },
        {
          "output_type": "execute_result",
          "data": {
            "text/plain": [
              "State\n",
              "Alabama                 146.832603\n",
              "Alaska                  387.232727\n",
              "Arizona                 190.826860\n",
              "Arkansas                127.345455\n",
              "California              190.795992\n",
              "Colorado                226.790620\n",
              "Connecticut             253.024876\n",
              "Delaware                205.045992\n",
              "District of Columbia    210.563554\n",
              "Florida                 153.205372\n",
              "Georgia                 150.264091\n",
              "Hawaii                  167.093843\n",
              "Idaho                   139.962851\n",
              "Illinois                186.545165\n",
              "Indiana                 158.931653\n",
              "Iowa                    248.595537\n",
              "Kansas                  120.199256\n",
              "Kentucky                124.156860\n",
              "Louisiana               146.776983\n",
              "Maine                   244.951653\n",
              "Maryland                190.185083\n",
              "Massachusetts           220.070000\n",
              "Michigan                252.644917\n",
              "Minnesota               182.683306\n",
              "Mississippi             142.751942\n",
              "Missouri                147.508595\n",
              "Montana                 659.851074\n",
              "Nebraska                137.895909\n",
              "Nevada                  241.792934\n",
              "New Hampshire           639.807810\n",
              "New Jersey              228.611777\n",
              "New Mexico               80.890950\n",
              "New York                201.340000\n",
              "North Carolina          150.810620\n",
              "North Dakota            333.968223\n",
              "Ohio                    165.169628\n",
              "Oklahoma                119.893926\n",
              "Oregon                  170.173388\n",
              "Pennsylvania            193.229752\n",
              "Rhode Island            203.000661\n",
              "South Carolina          184.467603\n",
              "South Dakota            124.318017\n",
              "Tennessee               190.121570\n",
              "Texas                   143.362893\n",
              "Utah                    193.844298\n",
              "Vermont                 189.600744\n",
              "Virginia                224.239008\n",
              "Washington              143.183388\n",
              "West Virginia           155.715165\n",
              "Wisconsin               239.565083\n",
              "Wyoming                 161.300000\n",
              "Name: LowQ, dtype: float64"
            ]
          },
          "metadata": {},
          "execution_count": 29
        }
      ],
      "source": [
        "print(\"Prix moyen par état pour la basse qualité (avec ma fonction)\\n\")\n",
        "fonction_avec_boucle_for(prices_pd[\"LowQ\"])\n",
        "\n",
        "print(\"\\nPrix moyen par état pour la basse qualité(avec Groupby)\")\n",
        "prices_pd.groupby(\"State\")[\"LowQ\"].mean()"
      ]
    },
    {
      "cell_type": "markdown",
      "metadata": {
        "id": "bpCr5evIq_KH"
      },
      "source": [
        "**On constate les deux fonctions génèrent les mêmes résultats pour chaque état.**"
      ]
    },
    {
      "cell_type": "markdown",
      "metadata": {
        "id": "9nc7cXgjq_KH"
      },
      "source": [
        "<font color=\"RED\" size=\"+1\">**[Q]**</font> **Modification de données**\n",
        "\n",
        "Remplacez le <tt>NAN</tt> de la colonne <tt>LowQ</tt> à l'aide de la fonction décrite ici: http://pandas.pydata.org/pandas-docs/version/0.17.1/generated/pandas.DataFrame.fillna.html. \n",
        "\n",
        "Nous souhaitons plus particulièrement utiliser la méthode <tt>fill</tt> après avoir trié par état et par date grâce à l'utilisation de la fonction <tt>sort</tt> : \n",
        "\n",
        "            prices_sorted = prices_pd.sort_values(by=['State', 'date'], inplace=False)\n",
        "\n",
        "Expliquer le résultat de cette commande.\n",
        "Que se passerait-il si on utilisait <tt>inplace=True</tt> ?"
      ]
    },
    {
      "cell_type": "markdown",
      "metadata": {
        "id": "bYyqLiWOq_KH"
      },
      "source": [
        "**Explication de la commande** : prices_sorted = prices_pd.sort_values(by=['State', 'date'], inplace=False) \n",
        "    \n",
        "    1- Elle trie les données du dataFrame prices_pd en utilisant les colonnes 'State' et 'date' comme clés de tri. \n",
        "    2- Le tri se fait par ordre alphabétique croissant, d'abord en fonction de la colonne 'State', puis en fonction de 'date'. \n",
        "    3- Le résultat est un nouveau dataFrame contenant les données triées. C'est ici ou l'argument inplace intervient\n",
        "    4- Si On utilise inplace=True, le dataFrame prices_pd sera trié directement et donc ce n'est pas la peine de stocker le résultat dans la variable prices_sorted."
      ]
    },
    {
      "cell_type": "code",
      "execution_count": 30,
      "metadata": {
        "id": "Ff3e40drq_KH"
      },
      "outputs": [],
      "source": [
        "prices_sorted = prices_pd.sort_values(by=['State', 'date'], inplace=False)"
      ]
    },
    {
      "cell_type": "code",
      "execution_count": 31,
      "metadata": {
        "id": "ELRyKCuAq_KI"
      },
      "outputs": [],
      "source": [
        "# maintenant, on utilise la fonction fillna pour remplacer le NAN par 0\n",
        "# Remarque on peut remplacer la valeur NaN de plusieurs façons, voir la documentation\n",
        "prices_sorted[\"LowQ\"].fillna(value=0, inplace=True)\n",
        "# dans ce cas, nous avons opté à mettre True dans inplace car ce n'est pas notre dataframe d'origine"
      ]
    },
    {
      "cell_type": "markdown",
      "metadata": {
        "id": "bH9M_4m8q_KI"
      },
      "source": [
        "<font color=\"RED\" size=\"+1\">**[Q]**</font> **Changements des résultats**\n",
        "\n",
        "\n",
        "Recalculer la moyenne des prix pour la qualité <tt>Low</tt>. Qu'en est-il maintenant ? "
      ]
    },
    {
      "cell_type": "code",
      "execution_count": 32,
      "metadata": {
        "id": "_vBxFSRyq_KI",
        "outputId": "5b492c5b-27fc-4e17-82af-c3a26f01e79e",
        "colab": {
          "base_uri": "https://localhost:8080/"
        }
      },
      "outputs": [
        {
          "output_type": "stream",
          "name": "stdout",
          "text": [
            "Prix moyen par état pour la basse qualité (avec ma fonction)\n",
            "\n",
            "\t Alabama : 79.139176\n",
            "\t Alaska : 208.708953\n",
            "\t Arizona : 102.851002\n",
            "\t Arkansas : 68.636080\n",
            "\t California : 102.834365\n",
            "\t Colorado : 122.234588\n",
            "\t Connecticut : 136.374209\n",
            "\t Delaware : 110.514766\n",
            "\t District of Columbia : 113.488597\n",
            "\t Florida : 82.573942\n",
            "\t Georgia : 80.988664\n",
            "\t Hawaii : 90.059488\n",
            "\t Idaho : 75.436548\n",
            "\t Illinois : 100.543274\n",
            "\t Indiana : 85.660267\n",
            "\t Iowa : 133.986904\n",
            "\t Kansas : 64.784454\n",
            "\t Kentucky : 66.917506\n",
            "\t Louisiana : 79.109198\n",
            "\t Maine : 132.022940\n",
            "\t Maryland : 102.505100\n",
            "\t Massachusetts : 118.612339\n",
            "\t Michigan : 136.169421\n",
            "\t Minnesota : 98.461826\n",
            "\t Mississippi : 76.939800\n",
            "\t Missouri : 79.503519\n",
            "\t Montana : 355.643563\n",
            "\t Nebraska : 74.322517\n",
            "\t Nevada : 130.320468\n",
            "\t New Hampshire : 344.840735\n",
            "\t New Jersey : 123.216147\n",
            "\t New Mexico : 43.598241\n",
            "\t New York : 108.517327\n",
            "\t North Carolina : 81.283229\n",
            "\t North Dakota : 180.000690\n",
            "\t Ohio : 89.022383\n",
            "\t Oklahoma : 64.619889\n",
            "\t Oregon : 91.719287\n",
            "\t Pennsylvania : 104.146102\n",
            "\t Rhode Island : 109.412383\n",
            "\t South Carolina : 99.423519\n",
            "\t South Dakota : 67.004365\n",
            "\t Tennessee : 102.470869\n",
            "\t Texas : 77.269087\n",
            "\t Utah : 104.477327\n",
            "\t Vermont : 102.190156\n",
            "\t Virginia : 120.859332\n",
            "\t Washington : 77.172339\n",
            "\t West Virginia : 83.926659\n",
            "\t Wisconsin : 129.119710\n",
            "\t Wyoming : 86.936748\n",
            "\n",
            "Prix moyen par état pour la basse qualité(avec Groupby)\n"
          ]
        },
        {
          "output_type": "execute_result",
          "data": {
            "text/plain": [
              "State\n",
              "Alabama                  79.139176\n",
              "Alaska                  208.708953\n",
              "Arizona                 102.851002\n",
              "Arkansas                 68.636080\n",
              "California              102.834365\n",
              "Colorado                122.234588\n",
              "Connecticut             136.374209\n",
              "Delaware                110.514766\n",
              "District of Columbia    113.488597\n",
              "Florida                  82.573942\n",
              "Georgia                  80.988664\n",
              "Hawaii                   90.059488\n",
              "Idaho                    75.436548\n",
              "Illinois                100.543274\n",
              "Indiana                  85.660267\n",
              "Iowa                    133.986904\n",
              "Kansas                   64.784454\n",
              "Kentucky                 66.917506\n",
              "Louisiana                79.109198\n",
              "Maine                   132.022940\n",
              "Maryland                102.505100\n",
              "Massachusetts           118.612339\n",
              "Michigan                136.169421\n",
              "Minnesota                98.461826\n",
              "Mississippi              76.939800\n",
              "Missouri                 79.503519\n",
              "Montana                 355.643563\n",
              "Nebraska                 74.322517\n",
              "Nevada                  130.320468\n",
              "New Hampshire           344.840735\n",
              "New Jersey              123.216147\n",
              "New Mexico               43.598241\n",
              "New York                108.517327\n",
              "North Carolina           81.283229\n",
              "North Dakota            180.000690\n",
              "Ohio                     89.022383\n",
              "Oklahoma                 64.619889\n",
              "Oregon                   91.719287\n",
              "Pennsylvania            104.146102\n",
              "Rhode Island            109.412383\n",
              "South Carolina           99.423519\n",
              "South Dakota             67.004365\n",
              "Tennessee               102.470869\n",
              "Texas                    77.269087\n",
              "Utah                    104.477327\n",
              "Vermont                 102.190156\n",
              "Virginia                120.859332\n",
              "Washington               77.172339\n",
              "West Virginia            83.926659\n",
              "Wisconsin               129.119710\n",
              "Wyoming                  86.936748\n",
              "Name: LowQ, dtype: float64"
            ]
          },
          "metadata": {},
          "execution_count": 32
        }
      ],
      "source": [
        "print(\"Prix moyen par état pour la basse qualité (avec ma fonction)\\n\")\n",
        "fonction_avec_boucle_for(prices_sorted[\"LowQ\"])\n",
        "\n",
        "print(\"\\nPrix moyen par état pour la basse qualité(avec Groupby)\")\n",
        "prices_sorted.groupby(\"State\")[\"LowQ\"].mean()"
      ]
    },
    {
      "cell_type": "markdown",
      "metadata": {
        "id": "TDv_E_VPq_KI"
      },
      "source": [
        "<font color=\"RED\" size=\"+1\">**[Q]**</font> **Tracé d'histogrammes**\n",
        "\n",
        "Donner les instructions Python pour tracer l'histogramme des moyennes des prix (<tt>LowQ</tt>) par état. \n",
        "\n",
        "Pour vous aider à construire un histogramme, vous pouvez étudier la page suivante:\n",
        "https://matplotlib.org/stable/api/_as_gen/matplotlib.pyplot.hist.html"
      ]
    },
    {
      "cell_type": "code",
      "execution_count": 33,
      "metadata": {
        "id": "E-ZI-kRlq_KI",
        "outputId": "85047dc0-5bd1-44fe-bc7a-8c5a3c5b1490",
        "colab": {
          "base_uri": "https://localhost:8080/",
          "height": 352
        }
      },
      "outputs": [
        {
          "output_type": "execute_result",
          "data": {
            "text/plain": [
              "(array([ 7., 26., 14.,  0.,  1.,  1.,  0.,  0.,  0.,  2.]),\n",
              " array([ 43.59824053,  74.80277283, 106.00730512, 137.21183742,\n",
              "        168.41636971, 199.620902  , 230.8254343 , 262.02996659,\n",
              "        293.23449889, 324.43903118, 355.64356347]),\n",
              " <a list of 10 Patch objects>)"
            ]
          },
          "metadata": {},
          "execution_count": 33
        },
        {
          "output_type": "display_data",
          "data": {
            "text/plain": [
              "<Figure size 432x288 with 1 Axes>"
            ],
            "image/png": "[encoded data removed]"
          },
          "metadata": {
            "needs_background": "light"
          }
        }
      ],
      "source": [
        "# Par exemple, tracé de l'histograme des valeurs \"LowQ\" sur l'ensemble des données:\n",
        "#plt.hist(prices_pd[\"LowQ\"])\n",
        "# tracé de l'histogramme des moyennes des prix (LowQ) par état\n",
        "plt.hist(prices_sorted.groupby(\"State\")[\"LowQ\"].mean())"
      ]
    },
    {
      "cell_type": "markdown",
      "metadata": {
        "id": "8RwGhZPNq_KJ"
      },
      "source": [
        "<font color=\"RED\" size=\"+1\">**[Q]**</font> **Estimation de densité**\n",
        "\n",
        "Nous allons maintenant nous intéresser au calcul du nombre d'états concernés par une fourchette de prix. Pour cela:\n",
        "* Calculer le tableau des prix moyens de la facon suivante\n",
        "    \n"
      ]
    },
    {
      "cell_type": "code",
      "execution_count": 34,
      "metadata": {
        "id": "7OInBAaLq_KJ",
        "outputId": "214e2194-ae02-4638-d878-91f903cd1659",
        "colab": {
          "base_uri": "https://localhost:8080/"
        }
      },
      "outputs": [
        {
          "output_type": "stream",
          "name": "stdout",
          "text": [
            "                            LowQ\n",
            "State                           \n",
            "Alabama               146.832603\n",
            "Alaska                387.232727\n",
            "Arizona               190.826860\n",
            "Arkansas              127.345455\n",
            "California            190.795992\n",
            "Colorado              226.790620\n",
            "Connecticut           253.024876\n",
            "Delaware              205.045992\n",
            "District of Columbia  210.563554\n",
            "Florida               153.205372\n",
            "Georgia               150.264091\n",
            "Hawaii                167.093843\n",
            "Idaho                 139.962851\n",
            "Illinois              186.545165\n",
            "Indiana               158.931653\n",
            "Iowa                  248.595537\n",
            "Kansas                120.199256\n",
            "Kentucky              124.156860\n",
            "Louisiana             146.776983\n",
            "Maine                 244.951653\n",
            "Maryland              190.185083\n",
            "Massachusetts         220.070000\n",
            "Michigan              252.644917\n",
            "Minnesota             182.683306\n",
            "Mississippi           142.751942\n",
            "Missouri              147.508595\n",
            "Montana               659.851074\n",
            "Nebraska              137.895909\n",
            "Nevada                241.792934\n",
            "New Hampshire         639.807810\n",
            "New Jersey            228.611777\n",
            "New Mexico             80.890950\n",
            "New York              201.340000\n",
            "North Carolina        150.810620\n",
            "North Dakota          333.968223\n",
            "Ohio                  165.169628\n",
            "Oklahoma              119.893926\n",
            "Oregon                170.173388\n",
            "Pennsylvania          193.229752\n",
            "Rhode Island          203.000661\n",
            "South Carolina        184.467603\n",
            "South Dakota          124.318017\n",
            "Tennessee             190.121570\n",
            "Texas                 143.362893\n",
            "Utah                  193.844298\n",
            "Vermont               189.600744\n",
            "Virginia              224.239008\n",
            "Washington            143.183388\n",
            "West Virginia         155.715165\n",
            "Wisconsin             239.565083\n",
            "Wyoming               161.300000\n",
            "===========\n"
          ]
        },
        {
          "output_type": "execute_result",
          "data": {
            "text/plain": [
              "array([146.83260331, 387.23272727, 190.8268595 , 127.34545455,\n",
              "       190.79599174, 226.79061983, 253.02487603, 205.04599174,\n",
              "       210.56355372, 153.2053719 , 150.26409091, 167.09384298,\n",
              "       139.96285124, 186.54516529, 158.93165289, 248.59553719,\n",
              "       120.1992562 , 124.1568595 , 146.77698347, 244.95165289,\n",
              "       190.18508264, 220.07      , 252.64491736, 182.68330579,\n",
              "       142.75194215, 147.50859504, 659.85107438, 137.89590909,\n",
              "       241.79293388, 639.80780992, 228.61177686,  80.89095041,\n",
              "       201.34      , 150.81061983, 333.96822314, 165.1696281 ,\n",
              "       119.89392562, 170.17338843, 193.22975207, 203.00066116,\n",
              "       184.46760331, 124.31801653, 190.12157025, 143.36289256,\n",
              "       193.84429752, 189.6007438 , 224.23900826, 143.18338843,\n",
              "       155.71516529, 239.56508264, 161.3       ])"
            ]
          },
          "metadata": {},
          "execution_count": 34
        }
      ],
      "source": [
        "prix_moyens=prices_pd[[\"State\",\"LowQ\"]].groupby([\"State\"]).mean()\n",
        "print(prix_moyens)\n",
        "print(\"===========\")\n",
        "prix_moyens=prix_moyens.values.ravel()\n",
        "\n",
        "prix_moyens"
      ]
    },
    {
      "cell_type": "code",
      "execution_count": 35,
      "metadata": {
        "id": "qlvR9RQSq_KJ",
        "outputId": "89954b22-d430-4433-a08b-914f3d2c588c",
        "colab": {
          "base_uri": "https://localhost:8080/",
          "height": 352
        }
      },
      "outputs": [
        {
          "output_type": "execute_result",
          "data": {
            "text/plain": [
              "(array([ 7., 26., 14.,  0.,  1.,  1.,  0.,  0.,  0.,  2.]),\n",
              " array([ 80.89095041, 138.78696281, 196.68297521, 254.5789876 ,\n",
              "        312.475     , 370.3710124 , 428.26702479, 486.16303719,\n",
              "        544.05904959, 601.95506198, 659.85107438]),\n",
              " <a list of 10 Patch objects>)"
            ]
          },
          "metadata": {},
          "execution_count": 35
        },
        {
          "output_type": "display_data",
          "data": {
            "text/plain": [
              "<Figure size 432x288 with 1 Axes>"
            ],
            "image/png": "[encoded data removed]"
          },
          "metadata": {
            "needs_background": "light"
          }
        }
      ],
      "source": [
        "# Histogramme:\n",
        "plt.hist(prix_moyens)"
      ]
    },
    {
      "cell_type": "markdown",
      "metadata": {
        "id": "2MmAtA9Eq_KJ"
      },
      "source": [
        "<font color=\"RED\" size=\"+1\">**[Q]**</font> **Bornes de variations**\n",
        "\n",
        "* Calculer les valeurs min et max des prix moyens"
      ]
    },
    {
      "cell_type": "code",
      "execution_count": 36,
      "metadata": {
        "id": "rXyJc6cCq_KK",
        "outputId": "2978dfca-10ed-43cd-b98d-53d0d2c3655b",
        "colab": {
          "base_uri": "https://localhost:8080/"
        }
      },
      "outputs": [
        {
          "output_type": "stream",
          "name": "stdout",
          "text": [
            "Le minimum des prix moyens est 80.890950 dollars\n",
            "Le maximum des prix moyens est 659.851074 dollars\n"
          ]
        }
      ],
      "source": [
        "\n",
        "print(\"Le minimum des prix moyens est %f dollars\" % prix_moyens.min())\n",
        "print(\"Le maximum des prix moyens est %f dollars\" % prix_moyens.max())\n"
      ]
    },
    {
      "cell_type": "markdown",
      "metadata": {
        "id": "Tj_jx5n7q_KK"
      },
      "source": [
        "<font color=\"RED\" size=\"+1\">**[Q]**</font> **Calcul d'un effectif**\n",
        "\n",
        "Pour mieux contrôler le tracé de l'histogramme, il est préférable de donner la taille de l'intervalle de discrétisation à utiliser pour calculer les effectifs.\n",
        "\n",
        "En utilisant l'option bins de la fonction de matplotlib `hist`, tracer l'histogramme avec un intervalle de discrétisation de taille 20."
      ]
    },
    {
      "cell_type": "code",
      "execution_count": 37,
      "metadata": {
        "id": "ZDRwN6Veq_KK",
        "outputId": "5d00b1ca-b805-4edb-f128-de5db5991174",
        "colab": {
          "base_uri": "https://localhost:8080/",
          "height": 421
        }
      },
      "outputs": [
        {
          "output_type": "execute_result",
          "data": {
            "text/plain": [
              "(array([ 1.,  6., 15., 11.,  6.,  8.,  0.,  0.,  1.,  0.,  1.,  0.,  0.,\n",
              "         0.,  0.,  0.,  0.,  0.,  0.,  2.]),\n",
              " array([ 80.89095041, 109.83895661, 138.78696281, 167.73496901,\n",
              "        196.68297521, 225.6309814 , 254.5789876 , 283.5269938 ,\n",
              "        312.475     , 341.4230062 , 370.3710124 , 399.3190186 ,\n",
              "        428.26702479, 457.21503099, 486.16303719, 515.11104339,\n",
              "        544.05904959, 573.00705579, 601.95506198, 630.90306818,\n",
              "        659.85107438]),\n",
              " <a list of 20 Patch objects>)"
            ]
          },
          "metadata": {},
          "execution_count": 37
        },
        {
          "output_type": "display_data",
          "data": {
            "text/plain": [
              "<Figure size 432x288 with 1 Axes>"
            ],
            "image/png": "[encoded data removed]"
          },
          "metadata": {
            "needs_background": "light"
          }
        }
      ],
      "source": [
        "plt.hist(prix_moyens, bins = 20)"
      ]
    },
    {
      "cell_type": "markdown",
      "metadata": {
        "id": "gCYqto5fq_KK"
      },
      "source": [
        "<font color=\"RED\" size=\"+1\">**[Q]**</font> **Changement d'échelle**\n",
        "\n",
        "Même chose mais avec maintenant un intervalle de taille 40."
      ]
    },
    {
      "cell_type": "code",
      "execution_count": 38,
      "metadata": {
        "id": "kXnDroacq_KK",
        "outputId": "cecadc8b-42e1-4f1b-d635-7ca8bed8db03",
        "colab": {
          "base_uri": "https://localhost:8080/",
          "height": 508
        }
      },
      "outputs": [
        {
          "output_type": "execute_result",
          "data": {
            "text/plain": [
              "(array([ 1.,  0.,  3.,  3., 10.,  5.,  1., 10.,  4.,  2.,  3.,  5.,  0.,\n",
              "         0.,  0.,  0.,  0.,  1.,  0.,  0.,  0.,  1.,  0.,  0.,  0.,  0.,\n",
              "         0.,  0.,  0.,  0.,  0.,  0.,  0.,  0.,  0.,  0.,  0.,  0.,  1.,\n",
              "         1.]), array([ 80.89095041,  95.36495351, 109.83895661, 124.31295971,\n",
              "        138.78696281, 153.26096591, 167.73496901, 182.20897211,\n",
              "        196.68297521, 211.15697831, 225.6309814 , 240.1049845 ,\n",
              "        254.5789876 , 269.0529907 , 283.5269938 , 298.0009969 ,\n",
              "        312.475     , 326.9490031 , 341.4230062 , 355.8970093 ,\n",
              "        370.3710124 , 384.8450155 , 399.3190186 , 413.79302169,\n",
              "        428.26702479, 442.74102789, 457.21503099, 471.68903409,\n",
              "        486.16303719, 500.63704029, 515.11104339, 529.58504649,\n",
              "        544.05904959, 558.53305269, 573.00705579, 587.48105888,\n",
              "        601.95506198, 616.42906508, 630.90306818, 645.37707128,\n",
              "        659.85107438]), <a list of 40 Patch objects>)"
            ]
          },
          "metadata": {},
          "execution_count": 38
        },
        {
          "output_type": "display_data",
          "data": {
            "text/plain": [
              "<Figure size 432x288 with 1 Axes>"
            ],
            "image/png": "[encoded data removed]"
          },
          "metadata": {
            "needs_background": "light"
          }
        }
      ],
      "source": [
        "plt.hist(prix_moyens, bins = 40)"
      ]
    },
    {
      "cell_type": "markdown",
      "metadata": {
        "id": "tCJyV7ORq_KK"
      },
      "source": [
        "### Variance\n",
        "\n",
        "<font color=\"RED\" size=\"+1\">**[Q]**</font> **Calcul de variances**\n",
        "\n",
        "On souhaite maintenant rajouter une colonne <tt>HighQ_var</tt> aux données originales contenant la variance des prix par état. Donner les intructions Python correspondantes.\n",
        "\n",
        "**ATTENTION**, cela suppose de traiter les états (State) les uns après les autres..."
      ]
    },
    {
      "cell_type": "code",
      "execution_count": 40,
      "metadata": {
        "id": "sXv5IK34q_KL",
        "outputId": "ace8469a-2fbe-4fed-99a3-1155f7d8f50b",
        "colab": {
          "base_uri": "https://localhost:8080/",
          "height": 424
        }
      },
      "outputs": [
        {
          "output_type": "execute_result",
          "data": {
            "text/plain": [
              "               State   HighQ  HighQN    MedQ  MedQN    LowQ  LowQN       date  \\\n",
              "0            Alabama  339.06    1042  198.64    933  149.49    123 2014-01-01   \n",
              "1             Alaska  288.75     252  260.60    297  388.58     26 2014-01-01   \n",
              "2            Arizona  303.31    1941  209.35   1625  189.45    222 2014-01-01   \n",
              "3           Arkansas  361.85     576  185.62    544  125.87    112 2014-01-01   \n",
              "4         California  248.78   12096  193.56  12812  192.92    778 2014-01-01   \n",
              "...              ...     ...     ...     ...    ...     ...    ...        ...   \n",
              "22894       Virginia  364.98    3513  293.12   3079     NaN    284 2014-12-31   \n",
              "22895     Washington  233.05    3337  189.92   3562     NaN    160 2014-12-31   \n",
              "22896  West Virginia  359.35     551  224.03    545     NaN     60 2014-12-31   \n",
              "22897      Wisconsin  350.52    2244  272.71   2221     NaN    167 2014-12-31   \n",
              "22898        Wyoming  322.27     131  351.86    197     NaN     12 2014-12-31   \n",
              "\n",
              "        HighQ_var  \n",
              "0        2.370749  \n",
              "1       31.137567  \n",
              "2        4.063247  \n",
              "3       47.141986  \n",
              "4        2.982686  \n",
              "...           ...  \n",
              "22894   11.862465  \n",
              "22895    1.347089  \n",
              "22896    8.248240  \n",
              "22897   11.744638  \n",
              "22898  219.612495  \n",
              "\n",
              "[22899 rows x 9 columns]"
            ],
            "text/html": [
              "\n",
              "  <div id=\"df-5eb59e9f-8500-4a56-b8e2-87f1e8e75103\">\n",
              "    <div class=\"colab-df-container\">\n",
              "      <div>\n",
              "<style scoped>\n",
              "    .dataframe tbody tr th:only-of-type {\n",
              "        vertical-align: middle;\n",
              "    }\n",
              "\n",
              "    .dataframe tbody tr th {\n",
              "        vertical-align: top;\n",
              "    }\n",
              "\n",
              "    .dataframe thead th {\n",
              "        text-align: right;\n",
              "    }\n",
              "</style>\n",
              "<table border=\"1\" class=\"dataframe\">\n",
              "  <thead>\n",
              "    <tr style=\"text-align: right;\">\n",
              "      <th></th>\n",
              "      <th>State</th>\n",
              "      <th>HighQ</th>\n",
              "      <th>HighQN</th>\n",
              "      <th>MedQ</th>\n",
              "      <th>MedQN</th>\n",
              "      <th>LowQ</th>\n",
              "      <th>LowQN</th>\n",
              "      <th>date</th>\n",
              "      <th>HighQ_var</th>\n",
              "    </tr>\n",
              "  </thead>\n",
              "  <tbody>\n",
              "    <tr>\n",
              "      <th>0</th>\n",
              "      <td>Alabama</td>\n",
              "      <td>339.06</td>\n",
              "      <td>1042</td>\n",
              "      <td>198.64</td>\n",
              "      <td>933</td>\n",
              "      <td>149.49</td>\n",
              "      <td>123</td>\n",
              "      <td>2014-01-01</td>\n",
              "      <td>2.370749</td>\n",
              "    </tr>\n",
              "    <tr>\n",
              "      <th>1</th>\n",
              "      <td>Alaska</td>\n",
              "      <td>288.75</td>\n",
              "      <td>252</td>\n",
              "      <td>260.60</td>\n",
              "      <td>297</td>\n",
              "      <td>388.58</td>\n",
              "      <td>26</td>\n",
              "      <td>2014-01-01</td>\n",
              "      <td>31.137567</td>\n",
              "    </tr>\n",
              "    <tr>\n",
              "      <th>2</th>\n",
              "      <td>Arizona</td>\n",
              "      <td>303.31</td>\n",
              "      <td>1941</td>\n",
              "      <td>209.35</td>\n",
              "      <td>1625</td>\n",
              "      <td>189.45</td>\n",
              "      <td>222</td>\n",
              "      <td>2014-01-01</td>\n",
              "      <td>4.063247</td>\n",
              "    </tr>\n",
              "    <tr>\n",
              "      <th>3</th>\n",
              "      <td>Arkansas</td>\n",
              "      <td>361.85</td>\n",
              "      <td>576</td>\n",
              "      <td>185.62</td>\n",
              "      <td>544</td>\n",
              "      <td>125.87</td>\n",
              "      <td>112</td>\n",
              "      <td>2014-01-01</td>\n",
              "      <td>47.141986</td>\n",
              "    </tr>\n",
              "    <tr>\n",
              "      <th>4</th>\n",
              "      <td>California</td>\n",
              "      <td>248.78</td>\n",
              "      <td>12096</td>\n",
              "      <td>193.56</td>\n",
              "      <td>12812</td>\n",
              "      <td>192.92</td>\n",
              "      <td>778</td>\n",
              "      <td>2014-01-01</td>\n",
              "      <td>2.982686</td>\n",
              "    </tr>\n",
              "    <tr>\n",
              "      <th>...</th>\n",
              "      <td>...</td>\n",
              "      <td>...</td>\n",
              "      <td>...</td>\n",
              "      <td>...</td>\n",
              "      <td>...</td>\n",
              "      <td>...</td>\n",
              "      <td>...</td>\n",
              "      <td>...</td>\n",
              "      <td>...</td>\n",
              "    </tr>\n",
              "    <tr>\n",
              "      <th>22894</th>\n",
              "      <td>Virginia</td>\n",
              "      <td>364.98</td>\n",
              "      <td>3513</td>\n",
              "      <td>293.12</td>\n",
              "      <td>3079</td>\n",
              "      <td>NaN</td>\n",
              "      <td>284</td>\n",
              "      <td>2014-12-31</td>\n",
              "      <td>11.862465</td>\n",
              "    </tr>\n",
              "    <tr>\n",
              "      <th>22895</th>\n",
              "      <td>Washington</td>\n",
              "      <td>233.05</td>\n",
              "      <td>3337</td>\n",
              "      <td>189.92</td>\n",
              "      <td>3562</td>\n",
              "      <td>NaN</td>\n",
              "      <td>160</td>\n",
              "      <td>2014-12-31</td>\n",
              "      <td>1.347089</td>\n",
              "    </tr>\n",
              "    <tr>\n",
              "      <th>22896</th>\n",
              "      <td>West Virginia</td>\n",
              "      <td>359.35</td>\n",
              "      <td>551</td>\n",
              "      <td>224.03</td>\n",
              "      <td>545</td>\n",
              "      <td>NaN</td>\n",
              "      <td>60</td>\n",
              "      <td>2014-12-31</td>\n",
              "      <td>8.248240</td>\n",
              "    </tr>\n",
              "    <tr>\n",
              "      <th>22897</th>\n",
              "      <td>Wisconsin</td>\n",
              "      <td>350.52</td>\n",
              "      <td>2244</td>\n",
              "      <td>272.71</td>\n",
              "      <td>2221</td>\n",
              "      <td>NaN</td>\n",
              "      <td>167</td>\n",
              "      <td>2014-12-31</td>\n",
              "      <td>11.744638</td>\n",
              "    </tr>\n",
              "    <tr>\n",
              "      <th>22898</th>\n",
              "      <td>Wyoming</td>\n",
              "      <td>322.27</td>\n",
              "      <td>131</td>\n",
              "      <td>351.86</td>\n",
              "      <td>197</td>\n",
              "      <td>NaN</td>\n",
              "      <td>12</td>\n",
              "      <td>2014-12-31</td>\n",
              "      <td>219.612495</td>\n",
              "    </tr>\n",
              "  </tbody>\n",
              "</table>\n",
              "<p>22899 rows × 9 columns</p>\n",
              "</div>\n",
              "      <button class=\"colab-df-convert\" onclick=\"convertToInteractive('df-5eb59e9f-8500-4a56-b8e2-87f1e8e75103')\"\n",
              "              title=\"Convert this dataframe to an interactive table.\"\n",
              "              style=\"display:none;\">\n",
              "        \n",
              "  <svg xmlns=\"http://www.w3.org/2000/svg\" height=\"24px\"viewBox=\"0 0 24 24\"\n",
              "       width=\"24px\">\n",
              "    <path d=\"M0 0h24v24H0V0z\" fill=\"none\"/>\n",
              "    <path d=\"M18.56 5.44l.94 2.06.94-2.06 2.06-.94-2.06-.94-.94-2.06-.94 2.06-2.06.94zm-11 1L8.5 8.5l.94-2.06 2.06-.94-2.06-.94L8.5 2.5l-.94 2.06-2.06.94zm10 10l.94 2.06.94-2.06 2.06-.94-2.06-.94-.94-2.06-.94 2.06-2.06.94z\"/><path d=\"M17.41 7.96l-1.37-1.37c-.4-.4-.92-.59-1.43-.59-.52 0-1.04.2-1.43.59L10.3 9.45l-7.72 7.72c-.78.78-.78 2.05 0 2.83L4 21.41c.39.39.9.59 1.41.59.51 0 1.02-.2 1.41-.59l7.78-7.78 2.81-2.81c.8-.78.8-2.07 0-2.86zM5.41 20L4 18.59l7.72-7.72 1.47 1.35L5.41 20z\"/>\n",
              "  </svg>\n",
              "      </button>\n",
              "      \n",
              "  <style>\n",
              "    .colab-df-container {\n",
              "      display:flex;\n",
              "      flex-wrap:wrap;\n",
              "      gap: 12px;\n",
              "    }\n",
              "\n",
              "    .colab-df-convert {\n",
              "      background-color: #E8F0FE;\n",
              "      border: none;\n",
              "      border-radius: 50%;\n",
              "      cursor: pointer;\n",
              "      display: none;\n",
              "      fill: #1967D2;\n",
              "      height: 32px;\n",
              "      padding: 0 0 0 0;\n",
              "      width: 32px;\n",
              "    }\n",
              "\n",
              "    .colab-df-convert:hover {\n",
              "      background-color: #E2EBFA;\n",
              "      box-shadow: 0px 1px 2px rgba(60, 64, 67, 0.3), 0px 1px 3px 1px rgba(60, 64, 67, 0.15);\n",
              "      fill: #174EA6;\n",
              "    }\n",
              "\n",
              "    [theme=dark] .colab-df-convert {\n",
              "      background-color: #3B4455;\n",
              "      fill: #D2E3FC;\n",
              "    }\n",
              "\n",
              "    [theme=dark] .colab-df-convert:hover {\n",
              "      background-color: #434B5C;\n",
              "      box-shadow: 0px 1px 3px 1px rgba(0, 0, 0, 0.15);\n",
              "      filter: drop-shadow(0px 1px 2px rgba(0, 0, 0, 0.3));\n",
              "      fill: #FFFFFF;\n",
              "    }\n",
              "  </style>\n",
              "\n",
              "      <script>\n",
              "        const buttonEl =\n",
              "          document.querySelector('#df-5eb59e9f-8500-4a56-b8e2-87f1e8e75103 button.colab-df-convert');\n",
              "        buttonEl.style.display =\n",
              "          google.colab.kernel.accessAllowed ? 'block' : 'none';\n",
              "\n",
              "        async function convertToInteractive(key) {\n",
              "          const element = document.querySelector('#df-5eb59e9f-8500-4a56-b8e2-87f1e8e75103');\n",
              "          const dataTable =\n",
              "            await google.colab.kernel.invokeFunction('convertToInteractive',\n",
              "                                                     [key], {});\n",
              "          if (!dataTable) return;\n",
              "\n",
              "          const docLinkHtml = 'Like what you see? Visit the ' +\n",
              "            '<a target=\"_blank\" href=https://colab.research.google.com/notebooks/data_table.ipynb>data table notebook</a>'\n",
              "            + ' to learn more about interactive tables.';\n",
              "          element.innerHTML = '';\n",
              "          dataTable['output_type'] = 'display_data';\n",
              "          await google.colab.output.renderOutput(dataTable, element);\n",
              "          const docLink = document.createElement('div');\n",
              "          docLink.innerHTML = docLinkHtml;\n",
              "          element.appendChild(docLink);\n",
              "        }\n",
              "      </script>\n",
              "    </div>\n",
              "  </div>\n",
              "  "
            ]
          },
          "metadata": {},
          "execution_count": 40
        }
      ],
      "source": [
        "prices_pd[\"HighQ_var\"] = prices_pd.groupby(\"State\")[\"HighQ\"].transform(\"var\")\n",
        "prices_pd"
      ]
    },
    {
      "cell_type": "markdown",
      "metadata": {
        "id": "hd67jJa4q_KL"
      },
      "source": [
        "# Travail de synthèse : La Californie\n",
        "\n",
        "Pandas permet de faire la synthèse de données de la manière suivante (pour le DataFrame de nom <tt>df</tt>): \n",
        "    \n",
        "    df.describe()\n",
        "    \n",
        "\n",
        "<font color=\"RED\" size=\"+1\">**[Q]**</font> Vérifier que les valeurs trouvées sur l'état de la Californie correspondent aux valeurs trouvées grâce à vos différentes fonctions. \n",
        "\n",
        "Pour cela, donner dans ce qui suit le code qui utilise vos fonctions (moyennes, variance, et quartiles) ainsi que le résutlats de la fonction <tt>describe</tt>.\n"
      ]
    },
    {
      "cell_type": "code",
      "execution_count": 44,
      "metadata": {
        "id": "dracaZtcq_KL",
        "colab": {
          "base_uri": "https://localhost:8080/"
        },
        "outputId": "33c2c268-5a76-4f28-cffd-b98a03bd938d"
      },
      "outputs": [
        {
          "output_type": "stream",
          "name": "stdout",
          "text": [
            "            HighQ\n",
            "count  449.000000\n",
            "mean   245.376125\n",
            "std      1.727046\n",
            "min    241.840000\n",
            "25%    244.480000\n",
            "50%    245.310000\n",
            "75%    246.220000\n",
            "max    248.820000\n",
            "Moyenne :  245.37612472160356\n",
            "Variance :  2.9826862879812275\n",
            "Ecart type :  1.727045537321245\n",
            "Quartile 25% :  244.48\n",
            "Quartile 50% :  245.31\n",
            "Quartile 75% :  246.22\n"
          ]
        }
      ],
      "source": [
        "print(prices_pd[prices_pd[\"State\"]==\"California\"].describe()[[\"HighQ\"]])\n",
        "moy=prices_pd.groupby(\"State\").mean().loc[\"California\"][\"HighQ\"]\n",
        "var=prices_pd.groupby(\"State\").var().loc[\"California\"][\"HighQ\"]\n",
        "q1=prices_pd.groupby(\"State\").quantile(0.25).loc[\"California\"][\"HighQ\"]\n",
        "q2=prices_pd.groupby(\"State\").quantile(0.5).loc[\"California\"][\"HighQ\"]\n",
        "q3=prices_pd.groupby(\"State\").quantile(0.75).loc[\"California\"][\"HighQ\"]\n",
        "print(\"Moyenne : \",moy)\n",
        "print(\"Variance : \",var)\n",
        "print(\"Ecart type : \",math.sqrt(var))\n",
        "print(\"Quartile 25% : \",q1)\n",
        "print(\"Quartile 50% : \",q2)\n",
        "print(\"Quartile 75% : \",q3)"
      ]
    },
    {
      "cell_type": "markdown",
      "metadata": {
        "id": "Xm42GNw8q_KL"
      },
      "source": [
        "<font color=\"RED\" size=\"+1\">**[Q]**</font> **Matrice de corrélation**\n",
        "\n",
        "\n",
        "Nous allons maintenant nous intéresser à calculer la corrélation entre les prix à New York et les prix en Californie.\n",
        "\n",
        "Commencer par représenter le nuage des points des prix (par date) en Californie (axe $X$) et à New York (axe $Y$) pour la bonne qualité.\n",
        "\n",
        "Pour cela,  on commence par créer un DataFrame avec ces informations:"
      ]
    },
    {
      "cell_type": "code",
      "execution_count": 45,
      "metadata": {
        "id": "4TQXj2Uqq_KL",
        "outputId": "bcd8ea0c-52ee-44ee-8432-0c0a9769e27f",
        "colab": {
          "base_uri": "https://localhost:8080/",
          "height": 357
        }
      },
      "outputs": [
        {
          "output_type": "execute_result",
          "data": {
            "text/plain": [
              "      State_x  HighQ_x  HighQN_x  MedQ_x  MedQN_x  LowQ_x  LowQN_x       date  \\\n",
              "0  California   248.78     12096  193.56    12812  192.92      778 2014-01-01   \n",
              "1  California   243.96     16512  189.35    19151     NaN     1096 2015-01-01   \n",
              "2  California   248.20     12571  192.80    13406  191.94      804 2014-02-01   \n",
              "3  California   243.30     16904  188.95    19764     NaN     1123 2015-02-01   \n",
              "4  California   247.60     12988  192.97    13906  191.40      839 2014-03-01   \n",
              "\n",
              "   HighQ_var_x   State_y  HighQ_y  HighQN_y  MedQ_y  MedQN_y  LowQ_y  LowQN_y  \\\n",
              "0     2.982686  New York   351.98      5800  268.88     5824  190.38      482   \n",
              "1     2.982686  New York   343.80      7840  263.56     8716     NaN      616   \n",
              "2     2.982686  New York   352.35      6051  268.50     6115  190.16      497   \n",
              "3     2.982686  New York   343.09      8058  262.93     9015     NaN      628   \n",
              "4     2.982686  New York   351.18      6209  267.69     6356  189.64      507   \n",
              "\n",
              "   HighQ_var_y  \n",
              "0    12.245147  \n",
              "1    12.245147  \n",
              "2    12.245147  \n",
              "3    12.245147  \n",
              "4    12.245147  "
            ],
            "text/html": [
              "\n",
              "  <div id=\"df-638717e8-c444-467b-9856-7592b473a0ec\">\n",
              "    <div class=\"colab-df-container\">\n",
              "      <div>\n",
              "<style scoped>\n",
              "    .dataframe tbody tr th:only-of-type {\n",
              "        vertical-align: middle;\n",
              "    }\n",
              "\n",
              "    .dataframe tbody tr th {\n",
              "        vertical-align: top;\n",
              "    }\n",
              "\n",
              "    .dataframe thead th {\n",
              "        text-align: right;\n",
              "    }\n",
              "</style>\n",
              "<table border=\"1\" class=\"dataframe\">\n",
              "  <thead>\n",
              "    <tr style=\"text-align: right;\">\n",
              "      <th></th>\n",
              "      <th>State_x</th>\n",
              "      <th>HighQ_x</th>\n",
              "      <th>HighQN_x</th>\n",
              "      <th>MedQ_x</th>\n",
              "      <th>MedQN_x</th>\n",
              "      <th>LowQ_x</th>\n",
              "      <th>LowQN_x</th>\n",
              "      <th>date</th>\n",
              "      <th>HighQ_var_x</th>\n",
              "      <th>State_y</th>\n",
              "      <th>HighQ_y</th>\n",
              "      <th>HighQN_y</th>\n",
              "      <th>MedQ_y</th>\n",
              "      <th>MedQN_y</th>\n",
              "      <th>LowQ_y</th>\n",
              "      <th>LowQN_y</th>\n",
              "      <th>HighQ_var_y</th>\n",
              "    </tr>\n",
              "  </thead>\n",
              "  <tbody>\n",
              "    <tr>\n",
              "      <th>0</th>\n",
              "      <td>California</td>\n",
              "      <td>248.78</td>\n",
              "      <td>12096</td>\n",
              "      <td>193.56</td>\n",
              "      <td>12812</td>\n",
              "      <td>192.92</td>\n",
              "      <td>778</td>\n",
              "      <td>2014-01-01</td>\n",
              "      <td>2.982686</td>\n",
              "      <td>New York</td>\n",
              "      <td>351.98</td>\n",
              "      <td>5800</td>\n",
              "      <td>268.88</td>\n",
              "      <td>5824</td>\n",
              "      <td>190.38</td>\n",
              "      <td>482</td>\n",
              "      <td>12.245147</td>\n",
              "    </tr>\n",
              "    <tr>\n",
              "      <th>1</th>\n",
              "      <td>California</td>\n",
              "      <td>243.96</td>\n",
              "      <td>16512</td>\n",
              "      <td>189.35</td>\n",
              "      <td>19151</td>\n",
              "      <td>NaN</td>\n",
              "      <td>1096</td>\n",
              "      <td>2015-01-01</td>\n",
              "      <td>2.982686</td>\n",
              "      <td>New York</td>\n",
              "      <td>343.80</td>\n",
              "      <td>7840</td>\n",
              "      <td>263.56</td>\n",
              "      <td>8716</td>\n",
              "      <td>NaN</td>\n",
              "      <td>616</td>\n",
              "      <td>12.245147</td>\n",
              "    </tr>\n",
              "    <tr>\n",
              "      <th>2</th>\n",
              "      <td>California</td>\n",
              "      <td>248.20</td>\n",
              "      <td>12571</td>\n",
              "      <td>192.80</td>\n",
              "      <td>13406</td>\n",
              "      <td>191.94</td>\n",
              "      <td>804</td>\n",
              "      <td>2014-02-01</td>\n",
              "      <td>2.982686</td>\n",
              "      <td>New York</td>\n",
              "      <td>352.35</td>\n",
              "      <td>6051</td>\n",
              "      <td>268.50</td>\n",
              "      <td>6115</td>\n",
              "      <td>190.16</td>\n",
              "      <td>497</td>\n",
              "      <td>12.245147</td>\n",
              "    </tr>\n",
              "    <tr>\n",
              "      <th>3</th>\n",
              "      <td>California</td>\n",
              "      <td>243.30</td>\n",
              "      <td>16904</td>\n",
              "      <td>188.95</td>\n",
              "      <td>19764</td>\n",
              "      <td>NaN</td>\n",
              "      <td>1123</td>\n",
              "      <td>2015-02-01</td>\n",
              "      <td>2.982686</td>\n",
              "      <td>New York</td>\n",
              "      <td>343.09</td>\n",
              "      <td>8058</td>\n",
              "      <td>262.93</td>\n",
              "      <td>9015</td>\n",
              "      <td>NaN</td>\n",
              "      <td>628</td>\n",
              "      <td>12.245147</td>\n",
              "    </tr>\n",
              "    <tr>\n",
              "      <th>4</th>\n",
              "      <td>California</td>\n",
              "      <td>247.60</td>\n",
              "      <td>12988</td>\n",
              "      <td>192.97</td>\n",
              "      <td>13906</td>\n",
              "      <td>191.40</td>\n",
              "      <td>839</td>\n",
              "      <td>2014-03-01</td>\n",
              "      <td>2.982686</td>\n",
              "      <td>New York</td>\n",
              "      <td>351.18</td>\n",
              "      <td>6209</td>\n",
              "      <td>267.69</td>\n",
              "      <td>6356</td>\n",
              "      <td>189.64</td>\n",
              "      <td>507</td>\n",
              "      <td>12.245147</td>\n",
              "    </tr>\n",
              "  </tbody>\n",
              "</table>\n",
              "</div>\n",
              "      <button class=\"colab-df-convert\" onclick=\"convertToInteractive('df-638717e8-c444-467b-9856-7592b473a0ec')\"\n",
              "              title=\"Convert this dataframe to an interactive table.\"\n",
              "              style=\"display:none;\">\n",
              "        \n",
              "  <svg xmlns=\"http://www.w3.org/2000/svg\" height=\"24px\"viewBox=\"0 0 24 24\"\n",
              "       width=\"24px\">\n",
              "    <path d=\"M0 0h24v24H0V0z\" fill=\"none\"/>\n",
              "    <path d=\"M18.56 5.44l.94 2.06.94-2.06 2.06-.94-2.06-.94-.94-2.06-.94 2.06-2.06.94zm-11 1L8.5 8.5l.94-2.06 2.06-.94-2.06-.94L8.5 2.5l-.94 2.06-2.06.94zm10 10l.94 2.06.94-2.06 2.06-.94-2.06-.94-.94-2.06-.94 2.06-2.06.94z\"/><path d=\"M17.41 7.96l-1.37-1.37c-.4-.4-.92-.59-1.43-.59-.52 0-1.04.2-1.43.59L10.3 9.45l-7.72 7.72c-.78.78-.78 2.05 0 2.83L4 21.41c.39.39.9.59 1.41.59.51 0 1.02-.2 1.41-.59l7.78-7.78 2.81-2.81c.8-.78.8-2.07 0-2.86zM5.41 20L4 18.59l7.72-7.72 1.47 1.35L5.41 20z\"/>\n",
              "  </svg>\n",
              "      </button>\n",
              "      \n",
              "  <style>\n",
              "    .colab-df-container {\n",
              "      display:flex;\n",
              "      flex-wrap:wrap;\n",
              "      gap: 12px;\n",
              "    }\n",
              "\n",
              "    .colab-df-convert {\n",
              "      background-color: #E8F0FE;\n",
              "      border: none;\n",
              "      border-radius: 50%;\n",
              "      cursor: pointer;\n",
              "      display: none;\n",
              "      fill: #1967D2;\n",
              "      height: 32px;\n",
              "      padding: 0 0 0 0;\n",
              "      width: 32px;\n",
              "    }\n",
              "\n",
              "    .colab-df-convert:hover {\n",
              "      background-color: #E2EBFA;\n",
              "      box-shadow: 0px 1px 2px rgba(60, 64, 67, 0.3), 0px 1px 3px 1px rgba(60, 64, 67, 0.15);\n",
              "      fill: #174EA6;\n",
              "    }\n",
              "\n",
              "    [theme=dark] .colab-df-convert {\n",
              "      background-color: #3B4455;\n",
              "      fill: #D2E3FC;\n",
              "    }\n",
              "\n",
              "    [theme=dark] .colab-df-convert:hover {\n",
              "      background-color: #434B5C;\n",
              "      box-shadow: 0px 1px 3px 1px rgba(0, 0, 0, 0.15);\n",
              "      filter: drop-shadow(0px 1px 2px rgba(0, 0, 0, 0.3));\n",
              "      fill: #FFFFFF;\n",
              "    }\n",
              "  </style>\n",
              "\n",
              "      <script>\n",
              "        const buttonEl =\n",
              "          document.querySelector('#df-638717e8-c444-467b-9856-7592b473a0ec button.colab-df-convert');\n",
              "        buttonEl.style.display =\n",
              "          google.colab.kernel.accessAllowed ? 'block' : 'none';\n",
              "\n",
              "        async function convertToInteractive(key) {\n",
              "          const element = document.querySelector('#df-638717e8-c444-467b-9856-7592b473a0ec');\n",
              "          const dataTable =\n",
              "            await google.colab.kernel.invokeFunction('convertToInteractive',\n",
              "                                                     [key], {});\n",
              "          if (!dataTable) return;\n",
              "\n",
              "          const docLinkHtml = 'Like what you see? Visit the ' +\n",
              "            '<a target=\"_blank\" href=https://colab.research.google.com/notebooks/data_table.ipynb>data table notebook</a>'\n",
              "            + ' to learn more about interactive tables.';\n",
              "          element.innerHTML = '';\n",
              "          dataTable['output_type'] = 'display_data';\n",
              "          await google.colab.output.renderOutput(dataTable, element);\n",
              "          const docLink = document.createElement('div');\n",
              "          docLink.innerHTML = docLinkHtml;\n",
              "          element.appendChild(docLink);\n",
              "        }\n",
              "      </script>\n",
              "    </div>\n",
              "  </div>\n",
              "  "
            ]
          },
          "metadata": {},
          "execution_count": 45
        }
      ],
      "source": [
        "prix_ny=prices_pd[prices_pd['State']=='New York']\n",
        "prix_ca=prices_pd[prices_pd['State']=='California']\n",
        "prix_ca_ny=prix_ca.merge(prix_ny,on='date')\n",
        "prix_ca_ny.head()\n",
        "\n",
        "# Exécuter cette boîte et commenter le résultat obtenu"
      ]
    },
    {
      "cell_type": "markdown",
      "metadata": {
        "id": "2EfKD6ynq_KM"
      },
      "source": [
        "<font color=\"RED\" size=\"+1\">**[Q]**</font> **Nuages de points**\n",
        "\n",
        "\n",
        "Représenter graphiquement le nuage des points : voir <http://matplotlib.org/examples/shapes_and_collections/scatter_demo.html>"
      ]
    },
    {
      "cell_type": "code",
      "execution_count": 46,
      "metadata": {
        "id": "ipVgaGRhq_KM",
        "colab": {
          "base_uri": "https://localhost:8080/",
          "height": 265
        },
        "outputId": "e0432e70-31c0-4f04-f69a-a2c66e497dfc"
      },
      "outputs": [
        {
          "output_type": "display_data",
          "data": {
            "text/plain": [
              "<Figure size 432x288 with 1 Axes>"
            ],
            "image/png": "[encoded data removed]"
          },
          "metadata": {
            "needs_background": "light"
          }
        }
      ],
      "source": [
        "plt.scatter(prix_ca_ny[\"HighQ_x\"], prix_ca_ny[\"HighQ_y\"], c =\"red\")\n",
        "# To show the plot\n",
        "plt.show()"
      ]
    },
    {
      "cell_type": "markdown",
      "metadata": {
        "id": "zf9m0Sxxq_KM"
      },
      "source": [
        "<font color=\"RED\" size=\"+1\">**[Q]**</font> **Corrélations**\n",
        "\n",
        "A l'aide de la fonction moyenne écrite précédemment, écrire une fonction <tt>correlation(x,y)</tt> qui calcule la corrélation lineaire entre deux tableaux Numpy."
      ]
    },
    {
      "cell_type": "code",
      "execution_count": 47,
      "metadata": {
        "id": "x5KKaQMEq_KM"
      },
      "outputs": [],
      "source": [
        "def correlation( x , y ):\n",
        "  moy_x = moyenne(x)\n",
        "  moy_y = moyenne(y)\n",
        "  P , Q , R= 0.0 , 0.0 , 0.0\n",
        "  for i in range(np.size(x)):\n",
        "    P += (x[i] - moy_x) * (y[i] - moy_y)\n",
        "    Q += ((x[i] - moy_x) ** 2)\n",
        "    R += ((y[i] - moy_y) ** 2)\n",
        "  return P / (math.sqrt(Q*R))\n",
        "\n"
      ]
    },
    {
      "cell_type": "code",
      "execution_count": 48,
      "metadata": {
        "id": "kyRQiyB2q_KM",
        "colab": {
          "base_uri": "https://localhost:8080/"
        },
        "outputId": "4c3d6c03-6b89-4510-d316-f9e05fec5003"
      },
      "outputs": [
        {
          "output_type": "stream",
          "name": "stdout",
          "text": [
            "La correlation est :0.979044\n"
          ]
        }
      ],
      "source": [
        "# Appliquer votre fonction avec l'instruction suivante:\n",
        "\n",
        "print(\"La correlation est :%f\"%correlation(prix_ca_ny[\"HighQ_x\"].values,prix_ca_ny[\"HighQ_y\"].values))"
      ]
    },
    {
      "cell_type": "markdown",
      "metadata": {
        "id": "8mw0bIM3q_KM"
      },
      "source": [
        "<font color=\"RED\" size=\"+1\">**[Q]**</font> **Matrice de corrélations**\n",
        "\n",
        "Calculer la matrice des corrélations pour toutes les combinaisons d'états."
      ]
    },
    {
      "cell_type": "code",
      "execution_count": 49,
      "metadata": {
        "id": "h3LHgPEQq_KM",
        "colab": {
          "base_uri": "https://localhost:8080/"
        },
        "outputId": "c89bb011-71de-4fa8-ee0b-ae552be25cc7"
      },
      "outputs": [
        {
          "output_type": "stream",
          "name": "stdout",
          "text": [
            "[[ 1.         -0.77737715  0.76366072 ... -0.18252555  0.67604259\n",
            "   0.74232819]\n",
            " [-0.77737715  1.         -0.75926388 ...  0.04837347 -0.63547145\n",
            "  -0.74759309]\n",
            " [ 0.76366072 -0.75926388  1.         ...  0.299015    0.95287529\n",
            "   0.8849269 ]\n",
            " ...\n",
            " [-0.18252555  0.04837347  0.299015   ...  1.          0.34885845\n",
            "   0.14178241]\n",
            " [ 0.67604259 -0.63547145  0.95287529 ...  0.34885845  1.\n",
            "   0.89437449]\n",
            " [ 0.74232819 -0.74759309  0.8849269  ...  0.14178241  0.89437449\n",
            "   1.        ]]\n"
          ]
        }
      ],
      "source": [
        "states = np.unique(prices_pd[\"State\"])\n",
        "N = len(states)\n",
        "correlation_mat = np.zeros((N,N))\n",
        "for i in range(N):\n",
        "    price_x=prices_pd[prices_pd['State']==states[i]]\n",
        "    for j in range(N):\n",
        "        price_y=prices_pd[prices_pd['State']==states[j]]\n",
        "        price_x_y=price_x.merge(price_y,on='date')\n",
        "        correlation_mat[i,j]=correlation(price_x_y[\"HighQ_x\"].values,price_x_y[\"HighQ_y\"].values)\n",
        "print(correlation_mat)"
      ]
    },
    {
      "cell_type": "markdown",
      "metadata": {
        "id": "NPeG0Z1Nq_KM"
      },
      "source": [
        "<font color=\"RED\" size=\"+1\">**[Q]**</font> **D'autres corrélations...**\n",
        "\n",
        "\n",
        "Calculer les correlations entre le prix (<tt>low</tt> et <tt>high</tt>) en fonction du revenu moyen par état disponible dans le tableau <tt>demography_pd</tt> chargé au début de cette feuille Jupyter. \n",
        "\n",
        "Que peut-on en conclure ?"
      ]
    },
    {
      "cell_type": "code",
      "execution_count": 50,
      "metadata": {
        "id": "ZciVnhypq_KN",
        "colab": {
          "base_uri": "https://localhost:8080/"
        },
        "outputId": "3ebf0928-a891-46fb-fcbe-1be967731f5f"
      },
      "outputs": [
        {
          "output_type": "stream",
          "name": "stdout",
          "text": [
            "La correlation entre HighQ et per_capita_income est :0.103727\n",
            "La correlation entre LowQ et per_capita_income est :0.330355\n"
          ]
        }
      ],
      "source": [
        "highQ=prices_sorted.groupby(\"State\").mean()[[\"HighQ\"]]\n",
        "lowQ=prices_sorted.groupby(\"State\").mean()[[\"LowQ\"]]\n",
        "demography_pd=demography_pd.rename(columns={'region':'State'})\n",
        "def tt(s):\n",
        "    return s.title()\n",
        "# la première lettre de state en majuscule et les autres lettres en minuscule.\n",
        "demography_pd[\"State\"]=demography_pd[\"State\"].apply(tt)\n",
        "highQ=highQ.merge(demography_pd,on=\"State\")[[\"HighQ\",\"per_capita_income\"]]\n",
        "lowQ=lowQ.merge(demography_pd,on=\"State\")[[\"LowQ\",\"per_capita_income\"]]\n",
        "print(\"La correlation entre HighQ et per_capita_income est :%f\"%correlation(highQ[\"HighQ\"].values,highQ[\"per_capita_income\"].values))\n",
        "print(\"La correlation entre LowQ et per_capita_income est :%f\"%correlation(lowQ[\"LowQ\"].values,lowQ[\"per_capita_income\"].values))"
      ]
    }
  ],
  "metadata": {
    "kernelspec": {
      "display_name": "Python 3",
      "language": "python",
      "name": "python3"
    },
    "language_info": {
      "codemirror_mode": {
        "name": "ipython",
        "version": 3
      },
      "file_extension": ".py",
      "mimetype": "text/x-python",
      "name": "python",
      "nbconvert_exporter": "python",
      "pygments_lexer": "ipython3",
      "version": "3.10.0 (tags/v3.10.0:b494f59, Oct  4 2021, 19:00:18) [MSC v.1929 64 bit (AMD64)]"
    },
    "vscode": {
      "interpreter": {
        "hash": "9af53353804afc09f90d8f022eaec6e99fffff96cfdda280d845f608b681a8ce"
      }
    },
    "colab": {
      "provenance": []
    }
  },
  "nbformat": 4,
  "nbformat_minor": 0
}